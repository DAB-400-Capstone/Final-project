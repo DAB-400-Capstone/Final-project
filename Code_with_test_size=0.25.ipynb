{
 "cells": [
  {
   "cell_type": "code",
   "execution_count": 1,
   "metadata": {},
   "outputs": [
    {
     "name": "stderr",
     "output_type": "stream",
     "text": [
      "Using TensorFlow backend.\n"
     ]
    }
   ],
   "source": [
    "# Import necessary libraries\n",
    "\n",
    "import pandas as pd\n",
    "import numpy as np\n",
    "import matplotlib.pyplot as plt\n",
    "import math\n",
    "from sklearn.metrics import mean_squared_error\n",
    "from sklearn.model_selection import train_test_split\n",
    "from sklearn.preprocessing import MinMaxScaler\n",
    "from sklearn.linear_model import LinearRegression  \n",
    "from sklearn.neighbors import KNeighborsRegressor\n",
    "from sklearn.tree import DecisionTreeRegressor\n",
    "from sklearn.ensemble import RandomForestRegressor\n",
    "from sklearn.ensemble import GradientBoostingRegressor\n",
    "from sklearn.linear_model import Ridge\n",
    "from sklearn.model_selection import RandomizedSearchCV\n",
    "from sklearn import linear_model\n",
    "from sklearn.metrics import r2_score\n",
    "import keras\n",
    "from keras.models import Sequential\n",
    "from keras.layers import Dense, Dropout\n",
    "import xgboost"
   ]
  },
  {
   "cell_type": "code",
   "execution_count": 2,
   "metadata": {},
   "outputs": [],
   "source": [
    "# Load the dataset \n",
    "\n",
    "cars_new= pd.read_csv(\"final data.csv\")"
   ]
  },
  {
   "cell_type": "code",
   "execution_count": 3,
   "metadata": {},
   "outputs": [
    {
     "data": {
      "text/html": [
       "<div>\n",
       "<style scoped>\n",
       "    .dataframe tbody tr th:only-of-type {\n",
       "        vertical-align: middle;\n",
       "    }\n",
       "\n",
       "    .dataframe tbody tr th {\n",
       "        vertical-align: top;\n",
       "    }\n",
       "\n",
       "    .dataframe thead th {\n",
       "        text-align: right;\n",
       "    }\n",
       "</style>\n",
       "<table border=\"1\" class=\"dataframe\">\n",
       "  <thead>\n",
       "    <tr style=\"text-align: right;\">\n",
       "      <th></th>\n",
       "      <th>Kilometers_Driven</th>\n",
       "      <th>Mileage</th>\n",
       "      <th>Engine</th>\n",
       "      <th>Power</th>\n",
       "      <th>Seats</th>\n",
       "      <th>Price</th>\n",
       "      <th>No_of_Years</th>\n",
       "      <th>CNG</th>\n",
       "      <th>Diesel</th>\n",
       "      <th>Electric</th>\n",
       "      <th>...</th>\n",
       "      <th>Volkswagen CrossPolo</th>\n",
       "      <th>Volkswagen Jetta</th>\n",
       "      <th>Volkswagen Passat</th>\n",
       "      <th>Volkswagen Polo</th>\n",
       "      <th>Volkswagen Tiguan</th>\n",
       "      <th>Volkswagen Vento</th>\n",
       "      <th>Volvo S60</th>\n",
       "      <th>Volvo S80</th>\n",
       "      <th>Volvo V40</th>\n",
       "      <th>Volvo XC60</th>\n",
       "    </tr>\n",
       "  </thead>\n",
       "  <tbody>\n",
       "    <tr>\n",
       "      <td>0</td>\n",
       "      <td>72000</td>\n",
       "      <td>26.60</td>\n",
       "      <td>998.0</td>\n",
       "      <td>58.16</td>\n",
       "      <td>5.0</td>\n",
       "      <td>3192.88</td>\n",
       "      <td>10</td>\n",
       "      <td>1</td>\n",
       "      <td>0</td>\n",
       "      <td>0</td>\n",
       "      <td>...</td>\n",
       "      <td>0</td>\n",
       "      <td>0</td>\n",
       "      <td>0</td>\n",
       "      <td>0</td>\n",
       "      <td>0</td>\n",
       "      <td>0</td>\n",
       "      <td>0</td>\n",
       "      <td>0</td>\n",
       "      <td>0</td>\n",
       "      <td>0</td>\n",
       "    </tr>\n",
       "    <tr>\n",
       "      <td>1</td>\n",
       "      <td>41000</td>\n",
       "      <td>19.67</td>\n",
       "      <td>1582.0</td>\n",
       "      <td>126.20</td>\n",
       "      <td>5.0</td>\n",
       "      <td>22806.30</td>\n",
       "      <td>5</td>\n",
       "      <td>0</td>\n",
       "      <td>1</td>\n",
       "      <td>0</td>\n",
       "      <td>...</td>\n",
       "      <td>0</td>\n",
       "      <td>0</td>\n",
       "      <td>0</td>\n",
       "      <td>0</td>\n",
       "      <td>0</td>\n",
       "      <td>0</td>\n",
       "      <td>0</td>\n",
       "      <td>0</td>\n",
       "      <td>0</td>\n",
       "      <td>0</td>\n",
       "    </tr>\n",
       "    <tr>\n",
       "      <td>2</td>\n",
       "      <td>46000</td>\n",
       "      <td>18.20</td>\n",
       "      <td>1199.0</td>\n",
       "      <td>88.70</td>\n",
       "      <td>5.0</td>\n",
       "      <td>8210.27</td>\n",
       "      <td>9</td>\n",
       "      <td>0</td>\n",
       "      <td>0</td>\n",
       "      <td>0</td>\n",
       "      <td>...</td>\n",
       "      <td>0</td>\n",
       "      <td>0</td>\n",
       "      <td>0</td>\n",
       "      <td>0</td>\n",
       "      <td>0</td>\n",
       "      <td>0</td>\n",
       "      <td>0</td>\n",
       "      <td>0</td>\n",
       "      <td>0</td>\n",
       "      <td>0</td>\n",
       "    </tr>\n",
       "    <tr>\n",
       "      <td>3</td>\n",
       "      <td>87000</td>\n",
       "      <td>20.77</td>\n",
       "      <td>1248.0</td>\n",
       "      <td>88.76</td>\n",
       "      <td>7.0</td>\n",
       "      <td>10947.02</td>\n",
       "      <td>8</td>\n",
       "      <td>0</td>\n",
       "      <td>1</td>\n",
       "      <td>0</td>\n",
       "      <td>...</td>\n",
       "      <td>0</td>\n",
       "      <td>0</td>\n",
       "      <td>0</td>\n",
       "      <td>0</td>\n",
       "      <td>0</td>\n",
       "      <td>0</td>\n",
       "      <td>0</td>\n",
       "      <td>0</td>\n",
       "      <td>0</td>\n",
       "      <td>0</td>\n",
       "    </tr>\n",
       "    <tr>\n",
       "      <td>4</td>\n",
       "      <td>40670</td>\n",
       "      <td>15.20</td>\n",
       "      <td>1968.0</td>\n",
       "      <td>140.80</td>\n",
       "      <td>5.0</td>\n",
       "      <td>32366.70</td>\n",
       "      <td>7</td>\n",
       "      <td>0</td>\n",
       "      <td>1</td>\n",
       "      <td>0</td>\n",
       "      <td>...</td>\n",
       "      <td>0</td>\n",
       "      <td>0</td>\n",
       "      <td>0</td>\n",
       "      <td>0</td>\n",
       "      <td>0</td>\n",
       "      <td>0</td>\n",
       "      <td>0</td>\n",
       "      <td>0</td>\n",
       "      <td>0</td>\n",
       "      <td>0</td>\n",
       "    </tr>\n",
       "  </tbody>\n",
       "</table>\n",
       "<p>5 rows × 232 columns</p>\n",
       "</div>"
      ],
      "text/plain": [
       "   Kilometers_Driven  Mileage  Engine   Power  Seats     Price  No_of_Years  \\\n",
       "0              72000    26.60   998.0   58.16    5.0   3192.88           10   \n",
       "1              41000    19.67  1582.0  126.20    5.0  22806.30            5   \n",
       "2              46000    18.20  1199.0   88.70    5.0   8210.27            9   \n",
       "3              87000    20.77  1248.0   88.76    7.0  10947.02            8   \n",
       "4              40670    15.20  1968.0  140.80    5.0  32366.70            7   \n",
       "\n",
       "   CNG  Diesel  Electric  ...  Volkswagen CrossPolo  Volkswagen Jetta  \\\n",
       "0    1       0         0  ...                     0                 0   \n",
       "1    0       1         0  ...                     0                 0   \n",
       "2    0       0         0  ...                     0                 0   \n",
       "3    0       1         0  ...                     0                 0   \n",
       "4    0       1         0  ...                     0                 0   \n",
       "\n",
       "   Volkswagen Passat  Volkswagen Polo  Volkswagen Tiguan  Volkswagen Vento  \\\n",
       "0                  0                0                  0                 0   \n",
       "1                  0                0                  0                 0   \n",
       "2                  0                0                  0                 0   \n",
       "3                  0                0                  0                 0   \n",
       "4                  0                0                  0                 0   \n",
       "\n",
       "   Volvo S60  Volvo S80  Volvo V40  Volvo XC60  \n",
       "0          0          0          0           0  \n",
       "1          0          0          0           0  \n",
       "2          0          0          0           0  \n",
       "3          0          0          0           0  \n",
       "4          0          0          0           0  \n",
       "\n",
       "[5 rows x 232 columns]"
      ]
     },
     "execution_count": 3,
     "metadata": {},
     "output_type": "execute_result"
    }
   ],
   "source": [
    "# Look at the first 5 rows\n",
    "\n",
    "cars_new.head()"
   ]
  },
  {
   "cell_type": "code",
   "execution_count": 4,
   "metadata": {},
   "outputs": [
    {
     "data": {
      "text/html": [
       "<div>\n",
       "<style scoped>\n",
       "    .dataframe tbody tr th:only-of-type {\n",
       "        vertical-align: middle;\n",
       "    }\n",
       "\n",
       "    .dataframe tbody tr th {\n",
       "        vertical-align: top;\n",
       "    }\n",
       "\n",
       "    .dataframe thead th {\n",
       "        text-align: right;\n",
       "    }\n",
       "</style>\n",
       "<table border=\"1\" class=\"dataframe\">\n",
       "  <thead>\n",
       "    <tr style=\"text-align: right;\">\n",
       "      <th></th>\n",
       "      <th>Kilometers_Driven</th>\n",
       "      <th>Mileage</th>\n",
       "      <th>Engine</th>\n",
       "      <th>Power</th>\n",
       "      <th>Seats</th>\n",
       "      <th>Price</th>\n",
       "      <th>No_of_Years</th>\n",
       "      <th>CNG</th>\n",
       "      <th>Diesel</th>\n",
       "      <th>Electric</th>\n",
       "      <th>...</th>\n",
       "      <th>Volkswagen CrossPolo</th>\n",
       "      <th>Volkswagen Jetta</th>\n",
       "      <th>Volkswagen Passat</th>\n",
       "      <th>Volkswagen Polo</th>\n",
       "      <th>Volkswagen Tiguan</th>\n",
       "      <th>Volkswagen Vento</th>\n",
       "      <th>Volvo S60</th>\n",
       "      <th>Volvo S80</th>\n",
       "      <th>Volvo V40</th>\n",
       "      <th>Volvo XC60</th>\n",
       "    </tr>\n",
       "  </thead>\n",
       "  <tbody>\n",
       "    <tr>\n",
       "      <td>6014</td>\n",
       "      <td>27365</td>\n",
       "      <td>28.40</td>\n",
       "      <td>1248.0</td>\n",
       "      <td>74.0</td>\n",
       "      <td>5.0</td>\n",
       "      <td>8666.39</td>\n",
       "      <td>6</td>\n",
       "      <td>0</td>\n",
       "      <td>1</td>\n",
       "      <td>0</td>\n",
       "      <td>...</td>\n",
       "      <td>0</td>\n",
       "      <td>0</td>\n",
       "      <td>0</td>\n",
       "      <td>0</td>\n",
       "      <td>0</td>\n",
       "      <td>0</td>\n",
       "      <td>0</td>\n",
       "      <td>0</td>\n",
       "      <td>0</td>\n",
       "      <td>0</td>\n",
       "    </tr>\n",
       "    <tr>\n",
       "      <td>6015</td>\n",
       "      <td>100000</td>\n",
       "      <td>24.40</td>\n",
       "      <td>1120.0</td>\n",
       "      <td>71.0</td>\n",
       "      <td>5.0</td>\n",
       "      <td>7298.02</td>\n",
       "      <td>5</td>\n",
       "      <td>0</td>\n",
       "      <td>1</td>\n",
       "      <td>0</td>\n",
       "      <td>...</td>\n",
       "      <td>0</td>\n",
       "      <td>0</td>\n",
       "      <td>0</td>\n",
       "      <td>0</td>\n",
       "      <td>0</td>\n",
       "      <td>0</td>\n",
       "      <td>0</td>\n",
       "      <td>0</td>\n",
       "      <td>0</td>\n",
       "      <td>0</td>\n",
       "    </tr>\n",
       "    <tr>\n",
       "      <td>6016</td>\n",
       "      <td>55000</td>\n",
       "      <td>14.00</td>\n",
       "      <td>2498.0</td>\n",
       "      <td>112.0</td>\n",
       "      <td>8.0</td>\n",
       "      <td>5291.06</td>\n",
       "      <td>8</td>\n",
       "      <td>0</td>\n",
       "      <td>1</td>\n",
       "      <td>0</td>\n",
       "      <td>...</td>\n",
       "      <td>0</td>\n",
       "      <td>0</td>\n",
       "      <td>0</td>\n",
       "      <td>0</td>\n",
       "      <td>0</td>\n",
       "      <td>0</td>\n",
       "      <td>0</td>\n",
       "      <td>0</td>\n",
       "      <td>0</td>\n",
       "      <td>0</td>\n",
       "    </tr>\n",
       "    <tr>\n",
       "      <td>6017</td>\n",
       "      <td>46000</td>\n",
       "      <td>18.90</td>\n",
       "      <td>998.0</td>\n",
       "      <td>67.1</td>\n",
       "      <td>5.0</td>\n",
       "      <td>4834.94</td>\n",
       "      <td>7</td>\n",
       "      <td>0</td>\n",
       "      <td>0</td>\n",
       "      <td>0</td>\n",
       "      <td>...</td>\n",
       "      <td>0</td>\n",
       "      <td>0</td>\n",
       "      <td>0</td>\n",
       "      <td>0</td>\n",
       "      <td>0</td>\n",
       "      <td>0</td>\n",
       "      <td>0</td>\n",
       "      <td>0</td>\n",
       "      <td>0</td>\n",
       "      <td>0</td>\n",
       "    </tr>\n",
       "    <tr>\n",
       "      <td>6018</td>\n",
       "      <td>47000</td>\n",
       "      <td>25.44</td>\n",
       "      <td>936.0</td>\n",
       "      <td>57.6</td>\n",
       "      <td>5.0</td>\n",
       "      <td>4561.26</td>\n",
       "      <td>9</td>\n",
       "      <td>0</td>\n",
       "      <td>1</td>\n",
       "      <td>0</td>\n",
       "      <td>...</td>\n",
       "      <td>0</td>\n",
       "      <td>0</td>\n",
       "      <td>0</td>\n",
       "      <td>0</td>\n",
       "      <td>0</td>\n",
       "      <td>0</td>\n",
       "      <td>0</td>\n",
       "      <td>0</td>\n",
       "      <td>0</td>\n",
       "      <td>0</td>\n",
       "    </tr>\n",
       "  </tbody>\n",
       "</table>\n",
       "<p>5 rows × 232 columns</p>\n",
       "</div>"
      ],
      "text/plain": [
       "      Kilometers_Driven  Mileage  Engine  Power  Seats    Price  No_of_Years  \\\n",
       "6014              27365    28.40  1248.0   74.0    5.0  8666.39            6   \n",
       "6015             100000    24.40  1120.0   71.0    5.0  7298.02            5   \n",
       "6016              55000    14.00  2498.0  112.0    8.0  5291.06            8   \n",
       "6017              46000    18.90   998.0   67.1    5.0  4834.94            7   \n",
       "6018              47000    25.44   936.0   57.6    5.0  4561.26            9   \n",
       "\n",
       "      CNG  Diesel  Electric  ...  Volkswagen CrossPolo  Volkswagen Jetta  \\\n",
       "6014    0       1         0  ...                     0                 0   \n",
       "6015    0       1         0  ...                     0                 0   \n",
       "6016    0       1         0  ...                     0                 0   \n",
       "6017    0       0         0  ...                     0                 0   \n",
       "6018    0       1         0  ...                     0                 0   \n",
       "\n",
       "      Volkswagen Passat  Volkswagen Polo  Volkswagen Tiguan  Volkswagen Vento  \\\n",
       "6014                  0                0                  0                 0   \n",
       "6015                  0                0                  0                 0   \n",
       "6016                  0                0                  0                 0   \n",
       "6017                  0                0                  0                 0   \n",
       "6018                  0                0                  0                 0   \n",
       "\n",
       "      Volvo S60  Volvo S80  Volvo V40  Volvo XC60  \n",
       "6014          0          0          0           0  \n",
       "6015          0          0          0           0  \n",
       "6016          0          0          0           0  \n",
       "6017          0          0          0           0  \n",
       "6018          0          0          0           0  \n",
       "\n",
       "[5 rows x 232 columns]"
      ]
     },
     "execution_count": 4,
     "metadata": {},
     "output_type": "execute_result"
    }
   ],
   "source": [
    "# Look at the last 5 rows\n",
    "\n",
    "cars_new.tail()"
   ]
  },
  {
   "cell_type": "markdown",
   "metadata": {},
   "source": [
    "# Model Building "
   ]
  },
  {
   "cell_type": "markdown",
   "metadata": {},
   "source": [
    "#### We will be making Y as the target variable by only passing the Price column from the original data"
   ]
  },
  {
   "cell_type": "code",
   "execution_count": 5,
   "metadata": {},
   "outputs": [],
   "source": [
    "X = cars_new.drop('Price',axis=1)\n",
    "Y = cars_new['Price']"
   ]
  },
  {
   "cell_type": "code",
   "execution_count": 6,
   "metadata": {},
   "outputs": [
    {
     "data": {
      "text/html": [
       "<div>\n",
       "<style scoped>\n",
       "    .dataframe tbody tr th:only-of-type {\n",
       "        vertical-align: middle;\n",
       "    }\n",
       "\n",
       "    .dataframe tbody tr th {\n",
       "        vertical-align: top;\n",
       "    }\n",
       "\n",
       "    .dataframe thead th {\n",
       "        text-align: right;\n",
       "    }\n",
       "</style>\n",
       "<table border=\"1\" class=\"dataframe\">\n",
       "  <thead>\n",
       "    <tr style=\"text-align: right;\">\n",
       "      <th></th>\n",
       "      <th>Kilometers_Driven</th>\n",
       "      <th>Mileage</th>\n",
       "      <th>Engine</th>\n",
       "      <th>Power</th>\n",
       "      <th>Seats</th>\n",
       "      <th>No_of_Years</th>\n",
       "      <th>CNG</th>\n",
       "      <th>Diesel</th>\n",
       "      <th>Electric</th>\n",
       "      <th>LPG</th>\n",
       "      <th>...</th>\n",
       "      <th>Volkswagen CrossPolo</th>\n",
       "      <th>Volkswagen Jetta</th>\n",
       "      <th>Volkswagen Passat</th>\n",
       "      <th>Volkswagen Polo</th>\n",
       "      <th>Volkswagen Tiguan</th>\n",
       "      <th>Volkswagen Vento</th>\n",
       "      <th>Volvo S60</th>\n",
       "      <th>Volvo S80</th>\n",
       "      <th>Volvo V40</th>\n",
       "      <th>Volvo XC60</th>\n",
       "    </tr>\n",
       "  </thead>\n",
       "  <tbody>\n",
       "    <tr>\n",
       "      <td>0</td>\n",
       "      <td>72000</td>\n",
       "      <td>26.60</td>\n",
       "      <td>998.0</td>\n",
       "      <td>58.16</td>\n",
       "      <td>5.0</td>\n",
       "      <td>10</td>\n",
       "      <td>1</td>\n",
       "      <td>0</td>\n",
       "      <td>0</td>\n",
       "      <td>0</td>\n",
       "      <td>...</td>\n",
       "      <td>0</td>\n",
       "      <td>0</td>\n",
       "      <td>0</td>\n",
       "      <td>0</td>\n",
       "      <td>0</td>\n",
       "      <td>0</td>\n",
       "      <td>0</td>\n",
       "      <td>0</td>\n",
       "      <td>0</td>\n",
       "      <td>0</td>\n",
       "    </tr>\n",
       "    <tr>\n",
       "      <td>1</td>\n",
       "      <td>41000</td>\n",
       "      <td>19.67</td>\n",
       "      <td>1582.0</td>\n",
       "      <td>126.20</td>\n",
       "      <td>5.0</td>\n",
       "      <td>5</td>\n",
       "      <td>0</td>\n",
       "      <td>1</td>\n",
       "      <td>0</td>\n",
       "      <td>0</td>\n",
       "      <td>...</td>\n",
       "      <td>0</td>\n",
       "      <td>0</td>\n",
       "      <td>0</td>\n",
       "      <td>0</td>\n",
       "      <td>0</td>\n",
       "      <td>0</td>\n",
       "      <td>0</td>\n",
       "      <td>0</td>\n",
       "      <td>0</td>\n",
       "      <td>0</td>\n",
       "    </tr>\n",
       "    <tr>\n",
       "      <td>2</td>\n",
       "      <td>46000</td>\n",
       "      <td>18.20</td>\n",
       "      <td>1199.0</td>\n",
       "      <td>88.70</td>\n",
       "      <td>5.0</td>\n",
       "      <td>9</td>\n",
       "      <td>0</td>\n",
       "      <td>0</td>\n",
       "      <td>0</td>\n",
       "      <td>0</td>\n",
       "      <td>...</td>\n",
       "      <td>0</td>\n",
       "      <td>0</td>\n",
       "      <td>0</td>\n",
       "      <td>0</td>\n",
       "      <td>0</td>\n",
       "      <td>0</td>\n",
       "      <td>0</td>\n",
       "      <td>0</td>\n",
       "      <td>0</td>\n",
       "      <td>0</td>\n",
       "    </tr>\n",
       "    <tr>\n",
       "      <td>3</td>\n",
       "      <td>87000</td>\n",
       "      <td>20.77</td>\n",
       "      <td>1248.0</td>\n",
       "      <td>88.76</td>\n",
       "      <td>7.0</td>\n",
       "      <td>8</td>\n",
       "      <td>0</td>\n",
       "      <td>1</td>\n",
       "      <td>0</td>\n",
       "      <td>0</td>\n",
       "      <td>...</td>\n",
       "      <td>0</td>\n",
       "      <td>0</td>\n",
       "      <td>0</td>\n",
       "      <td>0</td>\n",
       "      <td>0</td>\n",
       "      <td>0</td>\n",
       "      <td>0</td>\n",
       "      <td>0</td>\n",
       "      <td>0</td>\n",
       "      <td>0</td>\n",
       "    </tr>\n",
       "    <tr>\n",
       "      <td>4</td>\n",
       "      <td>40670</td>\n",
       "      <td>15.20</td>\n",
       "      <td>1968.0</td>\n",
       "      <td>140.80</td>\n",
       "      <td>5.0</td>\n",
       "      <td>7</td>\n",
       "      <td>0</td>\n",
       "      <td>1</td>\n",
       "      <td>0</td>\n",
       "      <td>0</td>\n",
       "      <td>...</td>\n",
       "      <td>0</td>\n",
       "      <td>0</td>\n",
       "      <td>0</td>\n",
       "      <td>0</td>\n",
       "      <td>0</td>\n",
       "      <td>0</td>\n",
       "      <td>0</td>\n",
       "      <td>0</td>\n",
       "      <td>0</td>\n",
       "      <td>0</td>\n",
       "    </tr>\n",
       "  </tbody>\n",
       "</table>\n",
       "<p>5 rows × 231 columns</p>\n",
       "</div>"
      ],
      "text/plain": [
       "   Kilometers_Driven  Mileage  Engine   Power  Seats  No_of_Years  CNG  \\\n",
       "0              72000    26.60   998.0   58.16    5.0           10    1   \n",
       "1              41000    19.67  1582.0  126.20    5.0            5    0   \n",
       "2              46000    18.20  1199.0   88.70    5.0            9    0   \n",
       "3              87000    20.77  1248.0   88.76    7.0            8    0   \n",
       "4              40670    15.20  1968.0  140.80    5.0            7    0   \n",
       "\n",
       "   Diesel  Electric  LPG  ...  Volkswagen CrossPolo  Volkswagen Jetta  \\\n",
       "0       0         0    0  ...                     0                 0   \n",
       "1       1         0    0  ...                     0                 0   \n",
       "2       0         0    0  ...                     0                 0   \n",
       "3       1         0    0  ...                     0                 0   \n",
       "4       1         0    0  ...                     0                 0   \n",
       "\n",
       "   Volkswagen Passat  Volkswagen Polo  Volkswagen Tiguan  Volkswagen Vento  \\\n",
       "0                  0                0                  0                 0   \n",
       "1                  0                0                  0                 0   \n",
       "2                  0                0                  0                 0   \n",
       "3                  0                0                  0                 0   \n",
       "4                  0                0                  0                 0   \n",
       "\n",
       "   Volvo S60  Volvo S80  Volvo V40  Volvo XC60  \n",
       "0          0          0          0           0  \n",
       "1          0          0          0           0  \n",
       "2          0          0          0           0  \n",
       "3          0          0          0           0  \n",
       "4          0          0          0           0  \n",
       "\n",
       "[5 rows x 231 columns]"
      ]
     },
     "execution_count": 6,
     "metadata": {},
     "output_type": "execute_result"
    }
   ],
   "source": [
    "X.head()"
   ]
  },
  {
   "cell_type": "code",
   "execution_count": 7,
   "metadata": {},
   "outputs": [
    {
     "data": {
      "text/plain": [
       "0     3192.88\n",
       "1    22806.30\n",
       "2     8210.27\n",
       "3    10947.02\n",
       "4    32366.70\n",
       "Name: Price, dtype: float64"
      ]
     },
     "execution_count": 7,
     "metadata": {},
     "output_type": "execute_result"
    }
   ],
   "source": [
    "Y.head()"
   ]
  },
  {
   "cell_type": "markdown",
   "metadata": {},
   "source": [
    "# Splitting data with a test size of 0.25"
   ]
  },
  {
   "cell_type": "code",
   "execution_count": 8,
   "metadata": {},
   "outputs": [],
   "source": [
    "X_train1,X_test1,y_train1,y_test1= train_test_split(X,Y,test_size=0.25, random_state = 0)"
   ]
  },
  {
   "cell_type": "code",
   "execution_count": 9,
   "metadata": {},
   "outputs": [],
   "source": [
    "# Scaling the Train and Test data using Minmax Scaler\n",
    "\n",
    "minma = MinMaxScaler()\n",
    "minma.fit(X_train1)\n",
    "X_train1 = minma.transform(X_train1)\n",
    "X_test1 = minma.transform(X_test1)"
   ]
  },
  {
   "cell_type": "markdown",
   "metadata": {},
   "source": [
    "# Linear Regression "
   ]
  },
  {
   "cell_type": "code",
   "execution_count": 93,
   "metadata": {},
   "outputs": [
    {
     "name": "stdout",
     "output_type": "stream",
     "text": [
      "Accuracy for Test set: -181465525571635740672.00\n",
      "Accuracy for Training set: 0.85\n"
     ]
    }
   ],
   "source": [
    "reg = LinearRegression()\n",
    "reg = reg.fit(X_train1,y_train1)\n",
    "train_pred1 = reg.predict(X_train1)\n",
    "test_pred1 = reg.predict(X_test1)\n",
    "print(\"Accuracy for Test set: \"+\"{:.2f}\".format(reg.score(X_test1,y_test1)))\n",
    "print(\"Accuracy for Training set: \"+\"{:.2f}\".format(reg.score(X_train1,y_train1)))"
   ]
  },
  {
   "cell_type": "code",
   "execution_count": 94,
   "metadata": {},
   "outputs": [
    {
     "data": {
      "text/plain": [
       "274771265431764.22"
      ]
     },
     "execution_count": 94,
     "metadata": {},
     "output_type": "execute_result"
    }
   ],
   "source": [
    "# Print the root mean square error value.\n",
    "\n",
    "math.sqrt(mean_squared_error(y_test1,test_pred1))"
   ]
  },
  {
   "cell_type": "code",
   "execution_count": 95,
   "metadata": {},
   "outputs": [
    {
     "name": "stdout",
     "output_type": "stream",
     "text": [
      "Tree on train set MAE%: 24.7\n",
      "Tree on test set MAE%: 47701943920.3\n"
     ]
    }
   ],
   "source": [
    "MAE_train=np.mean(abs(y_train1-train_pred1))/np.mean(y_train1)\n",
    "print(\"Tree on train set MAE%:\", round(MAE_train*100,1))\n",
    "\n",
    "MAE_test=np.mean(abs(y_test1-test_pred1))/np.mean(y_test1)\n",
    "print(\"Tree on test set MAE%:\", round(MAE_test*100,1))"
   ]
  },
  {
   "cell_type": "code",
   "execution_count": 96,
   "metadata": {},
   "outputs": [
    {
     "data": {
      "text/plain": [
       "5150    13227.65\n",
       "2164     7754.14\n",
       "1136     7115.57\n",
       "5641    15344.08\n",
       "1515    24594.31\n",
       "          ...   \n",
       "817      9578.65\n",
       "3325    12315.40\n",
       "1875    18427.49\n",
       "2861    11676.83\n",
       "2315     8483.94\n",
       "Name: Price, Length: 1505, dtype: float64"
      ]
     },
     "execution_count": 96,
     "metadata": {},
     "output_type": "execute_result"
    }
   ],
   "source": [
    "y_test1"
   ]
  },
  {
   "cell_type": "code",
   "execution_count": 97,
   "metadata": {},
   "outputs": [
    {
     "data": {
      "text/plain": [
       "array([17900.68271031,  6555.9309583 ,  5973.22780625, ...,\n",
       "       20767.69954589,  9310.22289391, 13850.54385899])"
      ]
     },
     "execution_count": 97,
     "metadata": {},
     "output_type": "execute_result"
    }
   ],
   "source": [
    "test_pred1"
   ]
  },
  {
   "cell_type": "code",
   "execution_count": 98,
   "metadata": {},
   "outputs": [
    {
     "data": {
      "image/png": "[encoded data removed]",
      "text/plain": [
       "<Figure size 432x288 with 1 Axes>"
      ]
     },
     "metadata": {
      "needs_background": "light"
     },
     "output_type": "display_data"
    }
   ],
   "source": [
    "# Create a scatter plot with train and test\n",
    "\n",
    "plt.scatter(y_train1, train_pred1, label='train')\n",
    "plt.scatter(y_test1, test_pred1, label='test')\n",
    "plt.legend()\n",
    "plt.show()"
   ]
  },
  {
   "cell_type": "markdown",
   "metadata": {},
   "source": [
    "# K Neighbor Regressor Model"
   ]
  },
  {
   "cell_type": "code",
   "execution_count": 100,
   "metadata": {},
   "outputs": [
    {
     "name": "stdout",
     "output_type": "stream",
     "text": [
      "Accuracy for Test set: 0.84\n",
      "Accuracy for Training set: 0.91\n"
     ]
    }
   ],
   "source": [
    "k_reg=KNeighborsRegressor()\n",
    "k_reg = k_reg.fit(X_train1,y_train1)\n",
    "train_pred1 = k_reg.predict(X_train1)\n",
    "test_pred1=k_reg.predict(X_test1)\n",
    "print(\"Accuracy for Test set: \"+\"{:.2f}\".format(k_reg.score(X_test1,y_test1)))\n",
    "print(\"Accuracy for Training set: \"+\"{:.2f}\".format(k_reg.score(X_train1,y_train1)))"
   ]
  },
  {
   "cell_type": "code",
   "execution_count": 101,
   "metadata": {},
   "outputs": [
    {
     "data": {
      "text/plain": [
       "8034.2664276561845"
      ]
     },
     "execution_count": 101,
     "metadata": {},
     "output_type": "execute_result"
    }
   ],
   "source": [
    "# Print the root mean square error value.\n",
    "\n",
    "math.sqrt(mean_squared_error(y_test1,test_pred1))"
   ]
  },
  {
   "cell_type": "code",
   "execution_count": 102,
   "metadata": {},
   "outputs": [
    {
     "name": "stdout",
     "output_type": "stream",
     "text": [
      "Tree on train set MAE%: 15.0\n",
      "Tree on test set MAE%: 19.2\n"
     ]
    }
   ],
   "source": [
    "MAE_train=np.mean(abs(y_train1-train_pred1))/np.mean(y_train1)\n",
    "print(\"Tree on train set MAE%:\", round(MAE_train*100,1))\n",
    "\n",
    "MAE_test=np.mean(abs(y_test1-test_pred1))/np.mean(y_test1)\n",
    "print(\"Tree on test set MAE%:\", round(MAE_test*100,1))"
   ]
  },
  {
   "cell_type": "code",
   "execution_count": 103,
   "metadata": {},
   "outputs": [
    {
     "data": {
      "text/plain": [
       "5150    13227.65\n",
       "2164     7754.14\n",
       "1136     7115.57\n",
       "5641    15344.08\n",
       "1515    24594.31\n",
       "          ...   \n",
       "817      9578.65\n",
       "3325    12315.40\n",
       "1875    18427.49\n",
       "2861    11676.83\n",
       "2315     8483.94\n",
       "Name: Price, Length: 1505, dtype: float64"
      ]
     },
     "execution_count": 103,
     "metadata": {},
     "output_type": "execute_result"
    }
   ],
   "source": [
    "y_test1"
   ]
  },
  {
   "cell_type": "code",
   "execution_count": 104,
   "metadata": {},
   "outputs": [
    {
     "data": {
      "text/plain": [
       "array([15387.868,  6199.664,  6104.792, ..., 22368.42 ,  9746.5  ,\n",
       "       10914.182])"
      ]
     },
     "execution_count": 104,
     "metadata": {},
     "output_type": "execute_result"
    }
   ],
   "source": [
    "test_pred1"
   ]
  },
  {
   "cell_type": "code",
   "execution_count": 105,
   "metadata": {},
   "outputs": [
    {
     "data": {
      "image/png": "[encoded data removed]",
      "text/plain": [
       "<Figure size 432x288 with 1 Axes>"
      ]
     },
     "metadata": {
      "needs_background": "light"
     },
     "output_type": "display_data"
    }
   ],
   "source": [
    "# Create a scatter plot with train and test\n",
    "\n",
    "plt.scatter(y_train1, train_pred1, label='train')\n",
    "plt.scatter(y_test1, test_pred1, label='test')\n",
    "plt.legend()\n",
    "plt.show()"
   ]
  },
  {
   "cell_type": "markdown",
   "metadata": {},
   "source": [
    "# Decision Tree Regressor Model "
   ]
  },
  {
   "cell_type": "code",
   "execution_count": 51,
   "metadata": {},
   "outputs": [
    {
     "name": "stdout",
     "output_type": "stream",
     "text": [
      "Accuracy for Test set: 0.81\n",
      "Accuracy for Training set: 1.00\n"
     ]
    }
   ],
   "source": [
    "dec_reg = DecisionTreeRegressor()\n",
    "dec_reg.fit(X_train1,y_train1)\n",
    "train_pred1 = dec_reg.predict(X_train1)\n",
    "test_pred1=dec_reg.predict(X_test1)\n",
    "print(\"Accuracy for Test set: \"+\"{:.2f}\".format(dec_reg.score(X_test1,y_test1)))\n",
    "print(\"Accuracy for Training set: \"+\"{:.2f}\".format(dec_reg.score(X_train1,y_train1)))"
   ]
  },
  {
   "cell_type": "code",
   "execution_count": 52,
   "metadata": {},
   "outputs": [
    {
     "data": {
      "text/plain": [
       "8953.435931313523"
      ]
     },
     "execution_count": 52,
     "metadata": {},
     "output_type": "execute_result"
    }
   ],
   "source": [
    "# Print the root mean square error value.\n",
    "\n",
    "math.sqrt(mean_squared_error(y_test1,test_pred1))"
   ]
  },
  {
   "cell_type": "code",
   "execution_count": 53,
   "metadata": {},
   "outputs": [
    {
     "name": "stdout",
     "output_type": "stream",
     "text": [
      "Tree on train set MAE%: 0.0\n",
      "Tree on test set MAE%: 20.1\n"
     ]
    }
   ],
   "source": [
    "MAE_train=np.mean(abs(y_train1-train_pred1))/np.mean(y_train1)\n",
    "print(\"Tree on train set MAE%:\", round(MAE_train*100,1))\n",
    "\n",
    "MAE_test=np.mean(abs(y_test1-test_pred1))/np.mean(y_test1)\n",
    "print(\"Tree on test set MAE%:\", round(MAE_test*100,1))"
   ]
  },
  {
   "cell_type": "code",
   "execution_count": 54,
   "metadata": {},
   "outputs": [
    {
     "data": {
      "text/plain": [
       "5150    13227.65\n",
       "2164     7754.14\n",
       "1136     7115.57\n",
       "5641    15344.08\n",
       "1515    24594.31\n",
       "          ...   \n",
       "817      9578.65\n",
       "3325    12315.40\n",
       "1875    18427.49\n",
       "2861    11676.83\n",
       "2315     8483.94\n",
       "Name: Price, Length: 1505, dtype: float64"
      ]
     },
     "execution_count": 54,
     "metadata": {},
     "output_type": "execute_result"
    }
   ],
   "source": [
    "y_test1"
   ]
  },
  {
   "cell_type": "code",
   "execution_count": 55,
   "metadata": {},
   "outputs": [
    {
     "data": {
      "text/plain": [
       "array([14176.4 ,  5382.29,  7827.12, ..., 19613.42, 10290.2 , 10126.  ])"
      ]
     },
     "execution_count": 55,
     "metadata": {},
     "output_type": "execute_result"
    }
   ],
   "source": [
    "test_pred1"
   ]
  },
  {
   "cell_type": "code",
   "execution_count": 56,
   "metadata": {},
   "outputs": [
    {
     "data": {
      "image/png": "[encoded data removed]",
      "text/plain": [
       "<Figure size 432x288 with 1 Axes>"
      ]
     },
     "metadata": {
      "needs_background": "light"
     },
     "output_type": "display_data"
    }
   ],
   "source": [
    "# Create a scatter plot with train and test\n",
    "\n",
    "plt.scatter(y_train1, train_pred1, label='train')\n",
    "plt.scatter(y_test1, test_pred1, label='test')\n",
    "plt.legend()\n",
    "plt.show()"
   ]
  },
  {
   "cell_type": "markdown",
   "metadata": {},
   "source": [
    "# Random Forest Regressor Model "
   ]
  },
  {
   "cell_type": "code",
   "execution_count": 113,
   "metadata": {},
   "outputs": [
    {
     "name": "stdout",
     "output_type": "stream",
     "text": [
      "Accuracy for Test set: 0.89\n",
      "Accuracy for Training set: 0.99\n"
     ]
    }
   ],
   "source": [
    "rf_reg = RandomForestRegressor(n_estimators=200)\n",
    "rf_reg.fit(X_train1,y_train1)\n",
    "train_pred1 = rf_reg.predict(X_train1)\n",
    "test_pred1=rf_reg.predict(X_test1)\n",
    "print(\"Accuracy for Test set: \"+\"{:.2f}\".format(rf_reg.score(X_test1,y_test1)))\n",
    "print(\"Accuracy for Training set: \"+\"{:.2f}\".format(rf_reg.score(X_train1,y_train1)))"
   ]
  },
  {
   "cell_type": "code",
   "execution_count": 114,
   "metadata": {},
   "outputs": [
    {
     "data": {
      "text/plain": [
       "6789.016632990228"
      ]
     },
     "execution_count": 114,
     "metadata": {},
     "output_type": "execute_result"
    }
   ],
   "source": [
    "# Print the root mean square error value.\n",
    "\n",
    "math.sqrt(mean_squared_error(y_test1,test_pred1))"
   ]
  },
  {
   "cell_type": "code",
   "execution_count": 115,
   "metadata": {},
   "outputs": [
    {
     "name": "stdout",
     "output_type": "stream",
     "text": [
      "Tree on train set MAE%: 6.1\n",
      "Tree on test set MAE%: 16.1\n"
     ]
    }
   ],
   "source": [
    "MAE_train=np.mean(abs(y_train1-train_pred1))/np.mean(y_train1)\n",
    "print(\"Tree on train set MAE%:\", round(MAE_train*100,1))\n",
    "\n",
    "MAE_test=np.mean(abs(y_test1-test_pred1))/np.mean(y_test1)\n",
    "print(\"Tree on test set MAE%:\", round(MAE_test*100,1))"
   ]
  },
  {
   "cell_type": "code",
   "execution_count": 116,
   "metadata": {},
   "outputs": [
    {
     "data": {
      "text/plain": [
       "5150    13227.65\n",
       "2164     7754.14\n",
       "1136     7115.57\n",
       "5641    15344.08\n",
       "1515    24594.31\n",
       "          ...   \n",
       "817      9578.65\n",
       "3325    12315.40\n",
       "1875    18427.49\n",
       "2861    11676.83\n",
       "2315     8483.94\n",
       "Name: Price, Length: 1505, dtype: float64"
      ]
     },
     "execution_count": 116,
     "metadata": {},
     "output_type": "execute_result"
    }
   ],
   "source": [
    "y_test1"
   ]
  },
  {
   "cell_type": "code",
   "execution_count": 117,
   "metadata": {},
   "outputs": [
    {
     "data": {
      "text/plain": [
       "array([14406.1947,  5702.1225,  7280.2295, ..., 20101.1098,  8593.5952,\n",
       "       10762.0181])"
      ]
     },
     "execution_count": 117,
     "metadata": {},
     "output_type": "execute_result"
    }
   ],
   "source": [
    "test_pred1"
   ]
  },
  {
   "cell_type": "code",
   "execution_count": 118,
   "metadata": {},
   "outputs": [
    {
     "data": {
      "image/png": "[encoded data removed]",
      "text/plain": [
       "<Figure size 432x288 with 1 Axes>"
      ]
     },
     "metadata": {
      "needs_background": "light"
     },
     "output_type": "display_data"
    }
   ],
   "source": [
    "# Create a scatter plot with train and test\n",
    "\n",
    "plt.scatter(y_train1, train_pred1, label='train')\n",
    "plt.scatter(y_test1, test_pred1, label='test')\n",
    "plt.legend()\n",
    "plt.show()"
   ]
  },
  {
   "cell_type": "markdown",
   "metadata": {},
   "source": [
    "# Gradient Boosting Regression Model  "
   ]
  },
  {
   "cell_type": "code",
   "execution_count": 119,
   "metadata": {},
   "outputs": [
    {
     "name": "stdout",
     "output_type": "stream",
     "text": [
      "Accuracy for Test set: 0.43\n",
      "Accuracy for Training set: 0.43\n"
     ]
    }
   ],
   "source": [
    "gb_reg = GradientBoostingRegressor(max_features=4,\n",
    "                                learning_rate=0.01,\n",
    "                                n_estimators=300,\n",
    "                                random_state=10)\n",
    "gb_reg.fit(X_train1,y_train1)\n",
    "train_pred1 = gb_reg.predict(X_train1)\n",
    "test_pred1=gb_reg.predict(X_test1)\n",
    "print(\"Accuracy for Test set: \"+\"{:.2f}\".format(gb_reg.score(X_test1,y_test1)))\n",
    "print(\"Accuracy for Training set: \"+\"{:.2f}\".format(gb_reg.score(X_train1,y_train1)))"
   ]
  },
  {
   "cell_type": "code",
   "execution_count": 120,
   "metadata": {},
   "outputs": [
    {
     "data": {
      "text/plain": [
       "15460.90949326265"
      ]
     },
     "execution_count": 120,
     "metadata": {},
     "output_type": "execute_result"
    }
   ],
   "source": [
    "# Print the root mean square error value.\n",
    "\n",
    "math.sqrt(mean_squared_error(y_test1,test_pred1))"
   ]
  },
  {
   "cell_type": "code",
   "execution_count": 121,
   "metadata": {},
   "outputs": [
    {
     "name": "stdout",
     "output_type": "stream",
     "text": [
      "Tree on train set MAE%: 52.5\n",
      "Tree on test set MAE%: 51.0\n"
     ]
    }
   ],
   "source": [
    "MAE_train=np.mean(abs(y_train1-train_pred1))/np.mean(y_train1)\n",
    "print(\"Tree on train set MAE%:\", round(MAE_train*100,1))\n",
    "\n",
    "MAE_test=np.mean(abs(y_test1-test_pred1))/np.mean(y_test1)\n",
    "print(\"Tree on test set MAE%:\", round(MAE_test*100,1))"
   ]
  },
  {
   "cell_type": "code",
   "execution_count": 122,
   "metadata": {},
   "outputs": [
    {
     "data": {
      "text/plain": [
       "5150    13227.65\n",
       "2164     7754.14\n",
       "1136     7115.57\n",
       "5641    15344.08\n",
       "1515    24594.31\n",
       "          ...   \n",
       "817      9578.65\n",
       "3325    12315.40\n",
       "1875    18427.49\n",
       "2861    11676.83\n",
       "2315     8483.94\n",
       "Name: Price, Length: 1505, dtype: float64"
      ]
     },
     "execution_count": 122,
     "metadata": {},
     "output_type": "execute_result"
    }
   ],
   "source": [
    "y_test1"
   ]
  },
  {
   "cell_type": "code",
   "execution_count": 123,
   "metadata": {},
   "outputs": [
    {
     "data": {
      "text/plain": [
       "array([18014.68792004, 13259.57625078, 12199.27799922, ...,\n",
       "       19396.96804337, 13386.4325481 , 13938.28627713])"
      ]
     },
     "execution_count": 123,
     "metadata": {},
     "output_type": "execute_result"
    }
   ],
   "source": [
    "test_pred1"
   ]
  },
  {
   "cell_type": "code",
   "execution_count": 124,
   "metadata": {},
   "outputs": [
    {
     "data": {
      "image/png": "[encoded data removed]",
      "text/plain": [
       "<Figure size 432x288 with 1 Axes>"
      ]
     },
     "metadata": {
      "needs_background": "light"
     },
     "output_type": "display_data"
    }
   ],
   "source": [
    "# Create a scatter plot with train and test\n",
    "\n",
    "plt.scatter(y_train1, train_pred1, label='train')\n",
    "plt.scatter(y_test1, test_pred1, label='test')\n",
    "plt.legend()\n",
    "plt.show()"
   ]
  },
  {
   "cell_type": "markdown",
   "metadata": {},
   "source": [
    "# Ridge Regression Model "
   ]
  },
  {
   "cell_type": "code",
   "execution_count": 125,
   "metadata": {},
   "outputs": [
    {
     "name": "stdout",
     "output_type": "stream",
     "text": [
      "Accuracy for Test set: 0.83\n",
      "Accuracy for Training set: 0.84\n"
     ]
    }
   ],
   "source": [
    "clf = Ridge(alpha=1.0)\n",
    "clf.fit(X_train1,y_train1)\n",
    "train_pred1 = clf.predict(X_train1)\n",
    "test_pred1=clf.predict(X_test1)\n",
    "print(\"Accuracy for Test set: \"+\"{:.2f}\".format(clf.score(X_test1,y_test1)))\n",
    "print(\"Accuracy for Training set: \"+\"{:.2f}\".format(clf.score(X_train1,y_train1)))"
   ]
  },
  {
   "cell_type": "code",
   "execution_count": 126,
   "metadata": {},
   "outputs": [
    {
     "data": {
      "text/plain": [
       "8492.179449119649"
      ]
     },
     "execution_count": 126,
     "metadata": {},
     "output_type": "execute_result"
    }
   ],
   "source": [
    "# Print the root mean square error value.\n",
    "\n",
    "math.sqrt(mean_squared_error(y_test1,test_pred1))"
   ]
  },
  {
   "cell_type": "code",
   "execution_count": 127,
   "metadata": {},
   "outputs": [
    {
     "name": "stdout",
     "output_type": "stream",
     "text": [
      "Tree on train set MAE%: 26.2\n",
      "Tree on test set MAE%: 25.8\n"
     ]
    }
   ],
   "source": [
    "MAE_train=np.mean(abs(y_train1-train_pred1))/np.mean(y_train1)\n",
    "print(\"Tree on train set MAE%:\", round(MAE_train*100,1))\n",
    "\n",
    "MAE_test=np.mean(abs(y_test1-test_pred1))/np.mean(y_test1)\n",
    "print(\"Tree on test set MAE%:\", round(MAE_test*100,1))"
   ]
  },
  {
   "cell_type": "code",
   "execution_count": 128,
   "metadata": {},
   "outputs": [
    {
     "data": {
      "text/plain": [
       "5150    13227.65\n",
       "2164     7754.14\n",
       "1136     7115.57\n",
       "5641    15344.08\n",
       "1515    24594.31\n",
       "          ...   \n",
       "817      9578.65\n",
       "3325    12315.40\n",
       "1875    18427.49\n",
       "2861    11676.83\n",
       "2315     8483.94\n",
       "Name: Price, Length: 1505, dtype: float64"
      ]
     },
     "execution_count": 128,
     "metadata": {},
     "output_type": "execute_result"
    }
   ],
   "source": [
    "y_test1"
   ]
  },
  {
   "cell_type": "code",
   "execution_count": 129,
   "metadata": {},
   "outputs": [
    {
     "data": {
      "text/plain": [
       "array([17965.36342422,  8448.04641118,  5765.82573329, ...,\n",
       "       21413.23778043,  9226.62022778, 13272.8856628 ])"
      ]
     },
     "execution_count": 129,
     "metadata": {},
     "output_type": "execute_result"
    }
   ],
   "source": [
    "test_pred1"
   ]
  },
  {
   "cell_type": "code",
   "execution_count": 130,
   "metadata": {},
   "outputs": [
    {
     "data": {
      "image/png": "[encoded data removed]",
      "text/plain": [
       "<Figure size 432x288 with 1 Axes>"
      ]
     },
     "metadata": {
      "needs_background": "light"
     },
     "output_type": "display_data"
    }
   ],
   "source": [
    "# Create a scatter plot with train and test\n",
    "\n",
    "plt.scatter(y_train1, train_pred1, label='train')\n",
    "plt.scatter(y_test1, test_pred1, label='test')\n",
    "plt.legend()\n",
    "plt.show()"
   ]
  },
  {
   "cell_type": "markdown",
   "metadata": {},
   "source": [
    "# Lasso Regression Model "
   ]
  },
  {
   "cell_type": "code",
   "execution_count": 131,
   "metadata": {},
   "outputs": [
    {
     "name": "stdout",
     "output_type": "stream",
     "text": [
      "Accuracy for Test set: 0.81\n",
      "Accuracy for Training set: 0.85\n"
     ]
    }
   ],
   "source": [
    "las = linear_model.Lasso(alpha=1)\n",
    "las.fit(X_train1,y_train1)\n",
    "train_pred1 = las.predict(X_train1)\n",
    "test_pred1=las.predict(X_test1)\n",
    "print(\"Accuracy for Test set: \"+\"{:.2f}\".format(las.score(X_test1,y_test1)))\n",
    "print(\"Accuracy for Training set: \"+\"{:.2f}\".format(las.score(X_train1,y_train1)))"
   ]
  },
  {
   "cell_type": "code",
   "execution_count": 132,
   "metadata": {},
   "outputs": [
    {
     "data": {
      "text/plain": [
       "8956.915858623011"
      ]
     },
     "execution_count": 132,
     "metadata": {},
     "output_type": "execute_result"
    }
   ],
   "source": [
    "# Print the root mean square error value.\n",
    "\n",
    "math.sqrt(mean_squared_error(y_test1,test_pred1))"
   ]
  },
  {
   "cell_type": "code",
   "execution_count": 133,
   "metadata": {},
   "outputs": [
    {
     "name": "stdout",
     "output_type": "stream",
     "text": [
      "Tree on train set MAE%: 25.0\n",
      "Tree on test set MAE%: 25.6\n"
     ]
    }
   ],
   "source": [
    "MAE_train=np.mean(abs(y_train1-train_pred1))/np.mean(y_train1)\n",
    "print(\"Tree on train set MAE%:\", round(MAE_train*100,1))\n",
    "\n",
    "MAE_test=np.mean(abs(y_test1-test_pred1))/np.mean(y_test1)\n",
    "print(\"Tree on test set MAE%:\", round(MAE_test*100,1))"
   ]
  },
  {
   "cell_type": "code",
   "execution_count": 134,
   "metadata": {},
   "outputs": [
    {
     "data": {
      "text/plain": [
       "5150    13227.65\n",
       "2164     7754.14\n",
       "1136     7115.57\n",
       "5641    15344.08\n",
       "1515    24594.31\n",
       "          ...   \n",
       "817      9578.65\n",
       "3325    12315.40\n",
       "1875    18427.49\n",
       "2861    11676.83\n",
       "2315     8483.94\n",
       "Name: Price, Length: 1505, dtype: float64"
      ]
     },
     "execution_count": 134,
     "metadata": {},
     "output_type": "execute_result"
    }
   ],
   "source": [
    "y_test1"
   ]
  },
  {
   "cell_type": "code",
   "execution_count": 135,
   "metadata": {},
   "outputs": [
    {
     "data": {
      "text/plain": [
       "array([17951.39108078,  7593.37086433,  5900.85708136, ...,\n",
       "       20993.04738921,  9270.30265887, 13551.27629861])"
      ]
     },
     "execution_count": 135,
     "metadata": {},
     "output_type": "execute_result"
    }
   ],
   "source": [
    "test_pred1"
   ]
  },
  {
   "cell_type": "code",
   "execution_count": 136,
   "metadata": {},
   "outputs": [
    {
     "data": {
      "image/png": "[encoded data removed]",
      "text/plain": [
       "<Figure size 432x288 with 1 Axes>"
      ]
     },
     "metadata": {
      "needs_background": "light"
     },
     "output_type": "display_data"
    }
   ],
   "source": [
    "# Create a scatter plot with train and test\n",
    "\n",
    "plt.scatter(y_train1, train_pred1, label='train')\n",
    "plt.scatter(y_test1, test_pred1, label='test')\n",
    "plt.legend()\n",
    "plt.show()"
   ]
  },
  {
   "cell_type": "markdown",
   "metadata": {},
   "source": [
    "# Artificial Neural Network Model (Keras)"
   ]
  },
  {
   "cell_type": "code",
   "execution_count": 29,
   "metadata": {},
   "outputs": [],
   "source": [
    "np.random.seed(1337)\n",
    "model = Sequential()\n",
    "model.add(Dense(200,activation='relu',input_dim=231))\n",
    "model.add(Dropout(0.2))\n",
    "model.add(Dense(100,activation='relu'))\n",
    "model.add(Dropout(0.2))\n",
    "model.add(Dense(1,activation='linear'))"
   ]
  },
  {
   "cell_type": "code",
   "execution_count": 30,
   "metadata": {},
   "outputs": [
    {
     "name": "stdout",
     "output_type": "stream",
     "text": [
      "Epoch 1/400\n",
      "4514/4514 [==============================] - 2s 452us/step - loss: 553777742.5547\n",
      "Epoch 2/400\n",
      "4514/4514 [==============================] - 2s 369us/step - loss: 314818268.2508\n",
      "Epoch 3/400\n",
      "4514/4514 [==============================] - 2s 344us/step - loss: 256547714.5751\n",
      "Epoch 4/400\n",
      "4514/4514 [==============================] - 2s 347us/step - loss: 213270106.0022\n",
      "Epoch 5/400\n",
      "4514/4514 [==============================] - 2s 354us/step - loss: 183270126.0425\n",
      "Epoch 6/400\n",
      "4514/4514 [==============================] - 2s 350us/step - loss: 169782096.5007\n",
      "Epoch 7/400\n",
      "4514/4514 [==============================] - 2s 376us/step - loss: 155759574.0656\n",
      "Epoch 8/400\n",
      "4514/4514 [==============================] - 2s 370us/step - loss: 144434558.2822\n",
      "Epoch 9/400\n",
      "4514/4514 [==============================] - 2s 386us/step - loss: 131350421.8883\n",
      "Epoch 10/400\n",
      "4514/4514 [==============================] - 2s 372us/step - loss: 123813232.7466\n",
      "Epoch 11/400\n",
      "4514/4514 [==============================] - 2s 369us/step - loss: 113685548.4812\n",
      "Epoch 12/400\n",
      "4514/4514 [==============================] - 2s 364us/step - loss: 103689941.9632\n",
      "Epoch 13/400\n",
      "4514/4514 [==============================] - 2s 370us/step - loss: 94883784.1772\n",
      "Epoch 14/400\n",
      "4514/4514 [==============================] - 2s 359us/step - loss: 87614245.7475\n",
      "Epoch 15/400\n",
      "4514/4514 [==============================] - 2s 370us/step - loss: 78412073.2510\n",
      "Epoch 16/400\n",
      "4514/4514 [==============================] - 2s 361us/step - loss: 76729643.7184\n",
      "Epoch 17/400\n",
      "4514/4514 [==============================] - 2s 370us/step - loss: 73239458.1757\n",
      "Epoch 18/400\n",
      "4514/4514 [==============================] - 2s 376us/step - loss: 65242353.3635\n",
      "Epoch 19/400\n",
      "4514/4514 [==============================] - 2s 381us/step - loss: 62682764.4620\n",
      "Epoch 20/400\n",
      "4514/4514 [==============================] - 2s 394us/step - loss: 58361282.8826\n",
      "Epoch 21/400\n",
      "4514/4514 [==============================] - 2s 351us/step - loss: 53860298.5395\n",
      "Epoch 22/400\n",
      "4514/4514 [==============================] - 1s 312us/step - loss: 54199423.9184\n",
      "Epoch 23/400\n",
      "4514/4514 [==============================] - 1s 303us/step - loss: 48959378.7895\n",
      "Epoch 24/400\n",
      "4514/4514 [==============================] - 1s 304us/step - loss: 48781486.4373\n",
      "Epoch 25/400\n",
      "4514/4514 [==============================] - 2s 354us/step - loss: 46125330.4395\n",
      "Epoch 26/400\n",
      "4514/4514 [==============================] - 2s 358us/step - loss: 49186235.6171\n",
      "Epoch 27/400\n",
      "4514/4514 [==============================] - 2s 374us/step - loss: 47381010.4015\n",
      "Epoch 28/400\n",
      "4514/4514 [==============================] - 2s 374us/step - loss: 47368399.1032\n",
      "Epoch 29/400\n",
      "4514/4514 [==============================] - 2s 377us/step - loss: 45824925.2050\n",
      "Epoch 30/400\n",
      "4514/4514 [==============================] - 2s 375us/step - loss: 45423125.2637\n",
      "Epoch 31/400\n",
      "4514/4514 [==============================] - 2s 365us/step - loss: 40897011.6116\n",
      "Epoch 32/400\n",
      "4514/4514 [==============================] - 2s 343us/step - loss: 43097723.4620\n",
      "Epoch 33/400\n",
      "4514/4514 [==============================] - 2s 379us/step - loss: 43260513.5338\n",
      "Epoch 34/400\n",
      "4514/4514 [==============================] - 2s 358us/step - loss: 38278716.6323\n",
      "Epoch 35/400\n",
      "4514/4514 [==============================] - 2s 360us/step - loss: 43552452.8793\n",
      "Epoch 36/400\n",
      "4514/4514 [==============================] - 2s 370us/step - loss: 40401205.4652\n",
      "Epoch 37/400\n",
      "4514/4514 [==============================] - 2s 370us/step - loss: 37765582.0020\n",
      "Epoch 38/400\n",
      "4514/4514 [==============================] - 2s 343us/step - loss: 37375117.7010\n",
      "Epoch 39/400\n",
      "4514/4514 [==============================] - 2s 371us/step - loss: 40144485.1580\n",
      "Epoch 40/400\n",
      "4514/4514 [==============================] - 2s 372us/step - loss: 40215250.7716\n",
      "Epoch 41/400\n",
      "4514/4514 [==============================] - 2s 358us/step - loss: 40098284.7088\n",
      "Epoch 42/400\n",
      "4514/4514 [==============================] - 2s 336us/step - loss: 42829204.6736\n",
      "Epoch 43/400\n",
      "4514/4514 [==============================] - 2s 359us/step - loss: 40217003.6023\n",
      "Epoch 44/400\n",
      "4514/4514 [==============================] - 2s 378us/step - loss: 37196969.5382\n",
      "Epoch 45/400\n",
      "4514/4514 [==============================] - 2s 365us/step - loss: 37402431.4332\n",
      "Epoch 46/400\n",
      "4514/4514 [==============================] - 2s 346us/step - loss: 36416111.1418\n",
      "Epoch 47/400\n",
      "4514/4514 [==============================] - 2s 358us/step - loss: 39155772.0010\n",
      "Epoch 48/400\n",
      "4514/4514 [==============================] - 2s 370us/step - loss: 37878546.5382\n",
      "Epoch 49/400\n",
      "4514/4514 [==============================] - 2s 381us/step - loss: 35278433.5122\n",
      "Epoch 50/400\n",
      "4514/4514 [==============================] - 2s 369us/step - loss: 37118807.9339\n",
      "Epoch 51/400\n",
      "4514/4514 [==============================] - 2s 371us/step - loss: 37184637.6660\n",
      "Epoch 52/400\n",
      "4514/4514 [==============================] - 2s 373us/step - loss: 36771354.8322\n",
      "Epoch 53/400\n",
      "4514/4514 [==============================] - 2s 347us/step - loss: 33908651.6665\n",
      "Epoch 54/400\n",
      "4514/4514 [==============================] - 2s 351us/step - loss: 36327058.0079\n",
      "Epoch 55/400\n",
      "4514/4514 [==============================] - 2s 381us/step - loss: 36303149.9364\n",
      "Epoch 56/400\n",
      "4514/4514 [==============================] - 2s 368us/step - loss: 36932058.6875\n",
      "Epoch 57/400\n",
      "4514/4514 [==============================] - 2s 375us/step - loss: 35234380.7693\n",
      "Epoch 58/400\n",
      "4514/4514 [==============================] - 2s 382us/step - loss: 35206270.8938\n",
      "Epoch 59/400\n",
      "4514/4514 [==============================] - 2s 390us/step - loss: 35517282.4925\n",
      "Epoch 60/400\n",
      "4514/4514 [==============================] - 2s 371us/step - loss: 35431179.3674\n",
      "Epoch 61/400\n",
      "4514/4514 [==============================] - 2s 389us/step - loss: 33552618.5437\n",
      "Epoch 62/400\n",
      "4514/4514 [==============================] - 2s 378us/step - loss: 35386403.1047\n",
      "Epoch 63/400\n",
      "4514/4514 [==============================] - 2s 370us/step - loss: 37163376.5261\n",
      "Epoch 64/400\n",
      "4514/4514 [==============================] - 2s 359us/step - loss: 34780654.3786\n",
      "Epoch 65/400\n",
      "4514/4514 [==============================] - 2s 379us/step - loss: 35582527.3780\n",
      "Epoch 66/400\n",
      "4514/4514 [==============================] - 2s 363us/step - loss: 34638516.7114\n",
      "Epoch 67/400\n",
      "4514/4514 [==============================] - 2s 371us/step - loss: 35645696.1989\n",
      "Epoch 68/400\n",
      "4514/4514 [==============================] - 2s 378us/step - loss: 34760552.8772\n",
      "Epoch 69/400\n",
      "4514/4514 [==============================] - 2s 384us/step - loss: 33768460.7934\n",
      "Epoch 70/400\n",
      "4514/4514 [==============================] - 2s 370us/step - loss: 34153775.1167\n",
      "Epoch 71/400\n",
      "4514/4514 [==============================] - 2s 377us/step - loss: 34039946.0458\n",
      "Epoch 72/400\n",
      "4514/4514 [==============================] - 2s 362us/step - loss: 35663633.1741\n",
      "Epoch 73/400\n",
      "4514/4514 [==============================] - 2s 374us/step - loss: 34566361.7487\n",
      "Epoch 74/400\n",
      "4514/4514 [==============================] - 2s 375us/step - loss: 34952361.3402\n",
      "Epoch 75/400\n",
      "4514/4514 [==============================] - 2s 370us/step - loss: 35922292.5390\n",
      "Epoch 76/400\n",
      "4514/4514 [==============================] - 2s 369us/step - loss: 34145857.5985\n",
      "Epoch 77/400\n",
      "4514/4514 [==============================] - 2s 381us/step - loss: 34417031.4008\n",
      "Epoch 78/400\n",
      "4514/4514 [==============================] - 2s 417us/step - loss: 35358414.3484\n",
      "Epoch 79/400\n",
      "4514/4514 [==============================] - 2s 421us/step - loss: 33442080.3547\n",
      "Epoch 80/400\n",
      "4514/4514 [==============================] - 2s 372us/step - loss: 33926312.7543\n",
      "Epoch 81/400\n",
      "4514/4514 [==============================] - 2s 373us/step - loss: 34196304.8795\n",
      "Epoch 82/400\n",
      "4514/4514 [==============================] - 2s 377us/step - loss: 39612701.3294\n",
      "Epoch 83/400\n",
      "4514/4514 [==============================] - 2s 368us/step - loss: 33107161.2342\n",
      "Epoch 84/400\n",
      "4514/4514 [==============================] - 2s 359us/step - loss: 32841267.0607\n",
      "Epoch 85/400\n",
      "4514/4514 [==============================] - 2s 350us/step - loss: 34161929.8771\n",
      "Epoch 86/400\n",
      "4514/4514 [==============================] - 2s 354us/step - loss: 34557067.4996\n",
      "Epoch 87/400\n",
      "4514/4514 [==============================] - 2s 376us/step - loss: 34249867.1057\n",
      "Epoch 88/400\n"
     ]
    },
    {
     "name": "stdout",
     "output_type": "stream",
     "text": [
      "4514/4514 [==============================] - 2s 382us/step - loss: 35505236.0409\n",
      "Epoch 89/400\n",
      "4514/4514 [==============================] - 2s 358us/step - loss: 33752579.4912\n",
      "Epoch 90/400\n",
      "4514/4514 [==============================] - 2s 369us/step - loss: 34133697.4053\n",
      "Epoch 91/400\n",
      "4514/4514 [==============================] - 2s 377us/step - loss: 35033765.8406\n",
      "Epoch 92/400\n",
      "4514/4514 [==============================] - 2s 372us/step - loss: 34550364.7916\n",
      "Epoch 93/400\n",
      "4514/4514 [==============================] - 2s 382us/step - loss: 34205921.4309\n",
      "Epoch 94/400\n",
      "4514/4514 [==============================] - 2s 368us/step - loss: 32484256.5733\n",
      "Epoch 95/400\n",
      "4514/4514 [==============================] - 2s 361us/step - loss: 37011073.0182\n",
      "Epoch 96/400\n",
      "4514/4514 [==============================] - 2s 359us/step - loss: 34017346.8509\n",
      "Epoch 97/400\n",
      "4514/4514 [==============================] - 2s 371us/step - loss: 32129907.6661\n",
      "Epoch 98/400\n",
      "4514/4514 [==============================] - 2s 367us/step - loss: 34291915.2524\n",
      "Epoch 99/400\n",
      "4514/4514 [==============================] - 2s 365us/step - loss: 32251716.3284\n",
      "Epoch 100/400\n",
      "4514/4514 [==============================] - 2s 380us/step - loss: 33059722.2116\n",
      "Epoch 101/400\n",
      "4514/4514 [==============================] - 2s 386us/step - loss: 32860312.2797\n",
      "Epoch 102/400\n",
      "4514/4514 [==============================] - 2s 379us/step - loss: 35692237.2296\n",
      "Epoch 103/400\n",
      "4514/4514 [==============================] - 2s 370us/step - loss: 33037403.7957\n",
      "Epoch 104/400\n",
      "4514/4514 [==============================] - 2s 379us/step - loss: 32630137.4616\n",
      "Epoch 105/400\n",
      "4514/4514 [==============================] - 2s 360us/step - loss: 34331928.86090s -\n",
      "Epoch 106/400\n",
      "4514/4514 [==============================] - 2s 371us/step - loss: 34552264.3372\n",
      "Epoch 107/400\n",
      "4514/4514 [==============================] - 2s 400us/step - loss: 33215302.0014\n",
      "Epoch 108/400\n",
      "4514/4514 [==============================] - 2s 384us/step - loss: 34053115.4072\n",
      "Epoch 109/400\n",
      "4514/4514 [==============================] - 2s 388us/step - loss: 34408268.3753\n",
      "Epoch 110/400\n",
      "4514/4514 [==============================] - 2s 382us/step - loss: 31813948.5452\n",
      "Epoch 111/400\n",
      "4514/4514 [==============================] - 2s 397us/step - loss: 32398589.1514\n",
      "Epoch 112/400\n",
      "4514/4514 [==============================] - 2s 378us/step - loss: 31779584.2199\n",
      "Epoch 113/400\n",
      "4514/4514 [==============================] - 2s 367us/step - loss: 33170877.7638\n",
      "Epoch 114/400\n",
      "4514/4514 [==============================] - 2s 365us/step - loss: 31291102.3073\n",
      "Epoch 115/400\n",
      "4514/4514 [==============================] - 2s 417us/step - loss: 33188048.0909\n",
      "Epoch 116/400\n",
      "4514/4514 [==============================] - 2s 370us/step - loss: 32231788.1484\n",
      "Epoch 117/400\n",
      "4514/4514 [==============================] - 2s 369us/step - loss: 33568412.9062\n",
      "Epoch 118/400\n",
      "4514/4514 [==============================] - 2s 370us/step - loss: 33166379.7566\n",
      "Epoch 119/400\n",
      "4514/4514 [==============================] - 2s 386us/step - loss: 33301737.0866\n",
      "Epoch 120/400\n",
      "4514/4514 [==============================] - 2s 374us/step - loss: 32860195.4452\n",
      "Epoch 121/400\n",
      "4514/4514 [==============================] - 2s 384us/step - loss: 32946918.3333\n",
      "Epoch 122/400\n",
      "4514/4514 [==============================] - 2s 360us/step - loss: 32677874.2959\n",
      "Epoch 123/400\n",
      "4514/4514 [==============================] - 2s 367us/step - loss: 33270254.8275\n",
      "Epoch 124/400\n",
      "4514/4514 [==============================] - 2s 361us/step - loss: 31232303.0440\n",
      "Epoch 125/400\n",
      "4514/4514 [==============================] - 2s 377us/step - loss: 31840776.6858\n",
      "Epoch 126/400\n",
      "4514/4514 [==============================] - 2s 388us/step - loss: 31624201.1372\n",
      "Epoch 127/400\n",
      "4514/4514 [==============================] - 2s 381us/step - loss: 32865603.0553\n",
      "Epoch 128/400\n",
      "4514/4514 [==============================] - 2s 380us/step - loss: 31985787.2343\n",
      "Epoch 129/400\n",
      "4514/4514 [==============================] - 2s 402us/step - loss: 30712131.8317\n",
      "Epoch 130/400\n",
      "4514/4514 [==============================] - 2s 385us/step - loss: 31848402.2473\n",
      "Epoch 131/400\n",
      "4514/4514 [==============================] - 2s 376us/step - loss: 31961843.1304\n",
      "Epoch 132/400\n",
      "4514/4514 [==============================] - 2s 361us/step - loss: 34191415.8634\n",
      "Epoch 133/400\n",
      "4514/4514 [==============================] - 2s 376us/step - loss: 33976126.0186\n",
      "Epoch 134/400\n",
      "4514/4514 [==============================] - 2s 386us/step - loss: 34300098.6442\n",
      "Epoch 135/400\n",
      "4514/4514 [==============================] - 2s 375us/step - loss: 32408650.3192\n",
      "Epoch 136/400\n",
      "4514/4514 [==============================] - 2s 371us/step - loss: 31126481.7542\n",
      "Epoch 137/400\n",
      "4514/4514 [==============================] - 2s 358us/step - loss: 31814080.0670\n",
      "Epoch 138/400\n",
      "4514/4514 [==============================] - 2s 379us/step - loss: 31565536.3115\n",
      "Epoch 139/400\n",
      "4514/4514 [==============================] - 2s 383us/step - loss: 32907602.5472\n",
      "Epoch 140/400\n",
      "4514/4514 [==============================] - 2s 380us/step - loss: 33058044.2476\n",
      "Epoch 141/400\n",
      "4514/4514 [==============================] - 2s 371us/step - loss: 30652385.3901\n",
      "Epoch 142/400\n",
      "4514/4514 [==============================] - 2s 369us/step - loss: 33045638.5898\n",
      "Epoch 143/400\n",
      "4514/4514 [==============================] - 2s 405us/step - loss: 32146960.6949\n",
      "Epoch 144/400\n",
      "4514/4514 [==============================] - 2s 407us/step - loss: 33554660.9531\n",
      "Epoch 145/400\n",
      "4514/4514 [==============================] - 2s 410us/step - loss: 33007420.2608\n",
      "Epoch 146/400\n",
      "4514/4514 [==============================] - 2s 368us/step - loss: 30479293.2015\n",
      "Epoch 147/400\n",
      "4514/4514 [==============================] - 2s 362us/step - loss: 32230163.5501\n",
      "Epoch 148/400\n",
      "4514/4514 [==============================] - 2s 365us/step - loss: 29797109.6909\n",
      "Epoch 149/400\n",
      "4514/4514 [==============================] - 2s 369us/step - loss: 32122443.2839\n",
      "Epoch 150/400\n",
      "4514/4514 [==============================] - 2s 362us/step - loss: 31297482.0587\n",
      "Epoch 151/400\n",
      "4514/4514 [==============================] - 2s 367us/step - loss: 30914626.7196\n",
      "Epoch 152/400\n",
      "4514/4514 [==============================] - 2s 366us/step - loss: 32974377.1093\n",
      "Epoch 153/400\n",
      "4514/4514 [==============================] - 2s 373us/step - loss: 31844805.8032\n",
      "Epoch 154/400\n",
      "4514/4514 [==============================] - 2s 369us/step - loss: 32382541.7488\n",
      "Epoch 155/400\n",
      "4514/4514 [==============================] - 2s 366us/step - loss: 32943254.5052\n",
      "Epoch 156/400\n",
      "4514/4514 [==============================] - 2s 366us/step - loss: 31254019.6833\n",
      "Epoch 157/400\n",
      "4514/4514 [==============================] - 2s 362us/step - loss: 30085515.0163\n",
      "Epoch 158/400\n",
      "4514/4514 [==============================] - 2s 363us/step - loss: 31743607.5328\n",
      "Epoch 159/400\n",
      "4514/4514 [==============================] - 2s 373us/step - loss: 30887148.5758\n",
      "Epoch 160/400\n",
      "4514/4514 [==============================] - 2s 378us/step - loss: 30936911.6124\n",
      "Epoch 161/400\n",
      "4514/4514 [==============================] - 2s 400us/step - loss: 31034036.4405\n",
      "Epoch 162/400\n",
      "4514/4514 [==============================] - 2s 386us/step - loss: 32398418.6740\n",
      "Epoch 163/400\n",
      "4514/4514 [==============================] - 2s 400us/step - loss: 31377227.2509\n",
      "Epoch 164/400\n",
      "4514/4514 [==============================] - 2s 362us/step - loss: 34747876.0982\n",
      "Epoch 165/400\n",
      "4514/4514 [==============================] - 2s 376us/step - loss: 32667248.4507\n",
      "Epoch 166/400\n",
      "4514/4514 [==============================] - 2s 361us/step - loss: 30880613.5057\n",
      "Epoch 167/400\n",
      "4514/4514 [==============================] - 2s 370us/step - loss: 31683613.3488\n",
      "Epoch 168/400\n",
      "4514/4514 [==============================] - 2s 355us/step - loss: 30974899.1426\n",
      "Epoch 169/400\n",
      "4514/4514 [==============================] - 2s 364us/step - loss: 30750187.2451\n",
      "Epoch 170/400\n",
      "4514/4514 [==============================] - 2s 364us/step - loss: 31836638.8165\n",
      "Epoch 171/400\n",
      "4514/4514 [==============================] - 2s 362us/step - loss: 33944885.1626\n",
      "Epoch 172/400\n",
      "4514/4514 [==============================] - 2s 373us/step - loss: 32305393.4232\n",
      "Epoch 173/400\n",
      "4514/4514 [==============================] - 2s 384us/step - loss: 34053599.4894\n",
      "Epoch 174/400\n"
     ]
    },
    {
     "name": "stdout",
     "output_type": "stream",
     "text": [
      "4514/4514 [==============================] - 2s 382us/step - loss: 29418274.1128\n",
      "Epoch 175/400\n",
      "4514/4514 [==============================] - 2s 367us/step - loss: 31729684.2017\n",
      "Epoch 176/400\n",
      "4514/4514 [==============================] - 2s 379us/step - loss: 30966568.1376\n",
      "Epoch 177/400\n",
      "4514/4514 [==============================] - 2s 381us/step - loss: 31192103.4599\n",
      "Epoch 178/400\n",
      "4514/4514 [==============================] - 2s 392us/step - loss: 31424374.8800\n",
      "Epoch 179/400\n",
      "4514/4514 [==============================] - 2s 383us/step - loss: 32857293.6286\n",
      "Epoch 180/400\n",
      "4514/4514 [==============================] - 2s 382us/step - loss: 33469497.3211\n",
      "Epoch 181/400\n",
      "4514/4514 [==============================] - 2s 368us/step - loss: 32847079.6727\n",
      "Epoch 182/400\n",
      "4514/4514 [==============================] - 2s 400us/step - loss: 30172320.7869\n",
      "Epoch 183/400\n",
      "4514/4514 [==============================] - 2s 368us/step - loss: 32220192.2638\n",
      "Epoch 184/400\n",
      "4514/4514 [==============================] - 2s 376us/step - loss: 30520533.7960\n",
      "Epoch 185/400\n",
      "4514/4514 [==============================] - 2s 372us/step - loss: 29849768.3571\n",
      "Epoch 186/400\n",
      "4514/4514 [==============================] - 2s 362us/step - loss: 32690015.3769\n",
      "Epoch 187/400\n",
      "4514/4514 [==============================] - 2s 361us/step - loss: 31607279.0506\n",
      "Epoch 188/400\n",
      "4514/4514 [==============================] - 1s 299us/step - loss: 29298964.7089\n",
      "Epoch 189/400\n",
      "4514/4514 [==============================] - 1s 299us/step - loss: 32087576.4152\n",
      "Epoch 190/400\n",
      "4514/4514 [==============================] - 1s 295us/step - loss: 30859828.1693\n",
      "Epoch 191/400\n",
      "4514/4514 [==============================] - 2s 376us/step - loss: 31279420.38750s -\n",
      "Epoch 192/400\n",
      "4514/4514 [==============================] - 2s 371us/step - loss: 28834908.1045\n",
      "Epoch 193/400\n",
      "4514/4514 [==============================] - 2s 369us/step - loss: 30235499.1417\n",
      "Epoch 194/400\n",
      "4514/4514 [==============================] - 2s 362us/step - loss: 30695073.0752\n",
      "Epoch 195/400\n",
      "4514/4514 [==============================] - 2s 352us/step - loss: 31387436.0450\n",
      "Epoch 196/400\n",
      "4514/4514 [==============================] - 2s 346us/step - loss: 32567484.1622\n",
      "Epoch 197/400\n",
      "4514/4514 [==============================] - 2s 374us/step - loss: 30504676.9722\n",
      "Epoch 198/400\n",
      "4514/4514 [==============================] - 2s 363us/step - loss: 29975453.7577\n",
      "Epoch 199/400\n",
      "4514/4514 [==============================] - 2s 353us/step - loss: 31356555.2973\n",
      "Epoch 200/400\n",
      "4514/4514 [==============================] - 2s 371us/step - loss: 29202733.0419\n",
      "Epoch 201/400\n",
      "4514/4514 [==============================] - 2s 356us/step - loss: 30234189.8879\n",
      "Epoch 202/400\n",
      "4514/4514 [==============================] - 2s 357us/step - loss: 32696189.7899\n",
      "Epoch 203/400\n",
      "4514/4514 [==============================] - 2s 368us/step - loss: 31539671.7697\n",
      "Epoch 204/400\n",
      "4514/4514 [==============================] - 2s 360us/step - loss: 30817845.1858\n",
      "Epoch 205/400\n",
      "4514/4514 [==============================] - 2s 362us/step - loss: 29667028.3745\n",
      "Epoch 206/400\n",
      "4514/4514 [==============================] - 2s 358us/step - loss: 30360006.2663\n",
      "Epoch 207/400\n",
      "4514/4514 [==============================] - 2s 344us/step - loss: 33105634.5879\n",
      "Epoch 208/400\n",
      "4514/4514 [==============================] - 2s 388us/step - loss: 31622907.7948\n",
      "Epoch 209/400\n",
      "4514/4514 [==============================] - 2s 368us/step - loss: 31501632.5966\n",
      "Epoch 210/400\n",
      "4514/4514 [==============================] - 2s 360us/step - loss: 32587230.8929\n",
      "Epoch 211/400\n",
      "4514/4514 [==============================] - 2s 375us/step - loss: 32391949.9441\n",
      "Epoch 212/400\n",
      "4514/4514 [==============================] - 2s 384us/step - loss: 30905649.8127\n",
      "Epoch 213/400\n",
      "4514/4514 [==============================] - 2s 379us/step - loss: 28336164.7544\n",
      "Epoch 214/400\n",
      "4514/4514 [==============================] - 2s 364us/step - loss: 29763917.6336\n",
      "Epoch 215/400\n",
      "4514/4514 [==============================] - 2s 360us/step - loss: 31914689.1371\n",
      "Epoch 216/400\n",
      "4514/4514 [==============================] - 2s 366us/step - loss: 30985322.7595\n",
      "Epoch 217/400\n",
      "4514/4514 [==============================] - 2s 377us/step - loss: 32241106.6983\n",
      "Epoch 218/400\n",
      "4514/4514 [==============================] - 2s 375us/step - loss: 31022049.2533\n",
      "Epoch 219/400\n",
      "4514/4514 [==============================] - 2s 369us/step - loss: 32514555.8517\n",
      "Epoch 220/400\n",
      "4514/4514 [==============================] - 2s 366us/step - loss: 31169353.2845\n",
      "Epoch 221/400\n",
      "4514/4514 [==============================] - 2s 374us/step - loss: 30425611.0113\n",
      "Epoch 222/400\n",
      "4514/4514 [==============================] - 2s 360us/step - loss: 31884185.5053\n",
      "Epoch 223/400\n",
      "4514/4514 [==============================] - 2s 374us/step - loss: 31011990.6298\n",
      "Epoch 224/400\n",
      "4514/4514 [==============================] - 2s 363us/step - loss: 33493799.4425\n",
      "Epoch 225/400\n",
      "4514/4514 [==============================] - 2s 374us/step - loss: 31251063.5982\n",
      "Epoch 226/400\n",
      "4514/4514 [==============================] - 2s 387us/step - loss: 30389056.1520\n",
      "Epoch 227/400\n",
      "4514/4514 [==============================] - 2s 377us/step - loss: 32580149.7059\n",
      "Epoch 228/400\n",
      "4514/4514 [==============================] - 2s 368us/step - loss: 31971075.3342\n",
      "Epoch 229/400\n",
      "4514/4514 [==============================] - 2s 381us/step - loss: 31599044.6900\n",
      "Epoch 230/400\n",
      "4514/4514 [==============================] - 2s 374us/step - loss: 29742359.7308\n",
      "Epoch 231/400\n",
      "4514/4514 [==============================] - 2s 368us/step - loss: 31202976.4528\n",
      "Epoch 232/400\n",
      "4514/4514 [==============================] - 2s 365us/step - loss: 30823055.9292\n",
      "Epoch 233/400\n",
      "4514/4514 [==============================] - 2s 354us/step - loss: 30588907.9327\n",
      "Epoch 234/400\n",
      "4514/4514 [==============================] - 2s 369us/step - loss: 29829544.6463\n",
      "Epoch 235/400\n",
      "4514/4514 [==============================] - 2s 366us/step - loss: 31404612.2646\n",
      "Epoch 236/400\n",
      "4514/4514 [==============================] - 2s 371us/step - loss: 33131642.2732\n",
      "Epoch 237/400\n",
      "4514/4514 [==============================] - 2s 370us/step - loss: 27215332.6479\n",
      "Epoch 238/400\n",
      "4514/4514 [==============================] - 2s 374us/step - loss: 28562689.7283\n",
      "Epoch 239/400\n",
      "4514/4514 [==============================] - 2s 363us/step - loss: 29872749.8088\n",
      "Epoch 240/400\n",
      "4514/4514 [==============================] - 2s 373us/step - loss: 30203021.6480\n",
      "Epoch 241/400\n",
      "4514/4514 [==============================] - 2s 374us/step - loss: 32900846.0385\n",
      "Epoch 242/400\n",
      "4514/4514 [==============================] - 2s 364us/step - loss: 30121616.2516\n",
      "Epoch 243/400\n",
      "4514/4514 [==============================] - 2s 361us/step - loss: 30912902.0138\n",
      "Epoch 244/400\n",
      "4514/4514 [==============================] - 2s 362us/step - loss: 30394179.1594\n",
      "Epoch 245/400\n",
      "4514/4514 [==============================] - 2s 357us/step - loss: 29672886.4106\n",
      "Epoch 246/400\n",
      "4514/4514 [==============================] - 2s 372us/step - loss: 28746202.6697\n",
      "Epoch 247/400\n",
      "4514/4514 [==============================] - 2s 367us/step - loss: 32377592.7197\n",
      "Epoch 248/400\n",
      "4514/4514 [==============================] - 2s 373us/step - loss: 29566496.5428\n",
      "Epoch 249/400\n",
      "4514/4514 [==============================] - 2s 368us/step - loss: 29689784.5469\n",
      "Epoch 250/400\n",
      "4514/4514 [==============================] - 2s 376us/step - loss: 32179114.5242\n",
      "Epoch 251/400\n",
      "4514/4514 [==============================] - 2s 366us/step - loss: 29139774.0918\n",
      "Epoch 252/400\n",
      "4514/4514 [==============================] - 2s 372us/step - loss: 30048264.6378\n",
      "Epoch 253/400\n",
      "4514/4514 [==============================] - 2s 362us/step - loss: 30836480.9184\n",
      "Epoch 254/400\n",
      "4514/4514 [==============================] - 2s 375us/step - loss: 29802372.8869\n",
      "Epoch 255/400\n",
      "4514/4514 [==============================] - 2s 372us/step - loss: 28623944.6299\n",
      "Epoch 256/400\n",
      "4514/4514 [==============================] - 2s 377us/step - loss: 30689402.3922\n",
      "Epoch 257/400\n",
      "4514/4514 [==============================] - 2s 374us/step - loss: 29216111.9284\n",
      "Epoch 258/400\n",
      "4514/4514 [==============================] - 2s 371us/step - loss: 31495630.5849\n",
      "Epoch 259/400\n",
      "4514/4514 [==============================] - 2s 383us/step - loss: 29170050.7591\n",
      "Epoch 260/400\n"
     ]
    },
    {
     "name": "stdout",
     "output_type": "stream",
     "text": [
      "4514/4514 [==============================] - 2s 388us/step - loss: 29103415.2637\n",
      "Epoch 261/400\n",
      "4514/4514 [==============================] - 2s 377us/step - loss: 29423648.8609\n",
      "Epoch 262/400\n",
      "4514/4514 [==============================] - 2s 378us/step - loss: 29267470.5797\n",
      "Epoch 263/400\n",
      "4514/4514 [==============================] - 2s 368us/step - loss: 32407165.7378\n",
      "Epoch 264/400\n",
      "4514/4514 [==============================] - 2s 370us/step - loss: 31684984.0371\n",
      "Epoch 265/400\n",
      "4514/4514 [==============================] - 2s 378us/step - loss: 31525615.7121\n",
      "Epoch 266/400\n",
      "4514/4514 [==============================] - 2s 368us/step - loss: 29467629.6213\n",
      "Epoch 267/400\n",
      "4514/4514 [==============================] - 2s 365us/step - loss: 30574321.6298\n",
      "Epoch 268/400\n",
      "4514/4514 [==============================] - 2s 381us/step - loss: 30957047.3225\n",
      "Epoch 269/400\n",
      "4514/4514 [==============================] - 2s 365us/step - loss: 31834754.5811\n",
      "Epoch 270/400\n",
      "4514/4514 [==============================] - 2s 366us/step - loss: 31106514.1481\n",
      "Epoch 271/400\n",
      "4514/4514 [==============================] - 2s 368us/step - loss: 31013345.6160\n",
      "Epoch 272/400\n",
      "4514/4514 [==============================] - 2s 365us/step - loss: 29681303.9372\n",
      "Epoch 273/400\n",
      "4514/4514 [==============================] - 2s 362us/step - loss: 29225868.7548\n",
      "Epoch 274/400\n",
      "4514/4514 [==============================] - 2s 369us/step - loss: 30403826.0718\n",
      "Epoch 275/400\n",
      "4514/4514 [==============================] - 2s 368us/step - loss: 29115291.9375\n",
      "Epoch 276/400\n",
      "4514/4514 [==============================] - 2s 368us/step - loss: 30054140.5388\n",
      "Epoch 277/400\n",
      "4514/4514 [==============================] - 2s 361us/step - loss: 30139133.2146\n",
      "Epoch 278/400\n",
      "4514/4514 [==============================] - 2s 366us/step - loss: 30148670.4043\n",
      "Epoch 279/400\n",
      "4514/4514 [==============================] - 2s 372us/step - loss: 30931261.6320\n",
      "Epoch 280/400\n",
      "4514/4514 [==============================] - 2s 361us/step - loss: 30942391.5814\n",
      "Epoch 281/400\n",
      "4514/4514 [==============================] - 2s 369us/step - loss: 29305744.0347\n",
      "Epoch 282/400\n",
      "4514/4514 [==============================] - 2s 364us/step - loss: 28868419.7335\n",
      "Epoch 283/400\n",
      "4514/4514 [==============================] - 2s 369us/step - loss: 32509292.6889\n",
      "Epoch 284/400\n",
      "4514/4514 [==============================] - 2s 367us/step - loss: 32269864.7951\n",
      "Epoch 285/400\n",
      "4514/4514 [==============================] - 2s 356us/step - loss: 31158495.1079\n",
      "Epoch 286/400\n",
      "4514/4514 [==============================] - 2s 348us/step - loss: 30143767.4510\n",
      "Epoch 287/400\n",
      "4514/4514 [==============================] - 2s 369us/step - loss: 27848795.1334\n",
      "Epoch 288/400\n",
      "4514/4514 [==============================] - 2s 377us/step - loss: 31616442.9496\n",
      "Epoch 289/400\n",
      "4514/4514 [==============================] - 2s 362us/step - loss: 27521375.3518\n",
      "Epoch 290/400\n",
      "4514/4514 [==============================] - 2s 365us/step - loss: 28153824.6855\n",
      "Epoch 291/400\n",
      "4514/4514 [==============================] - 2s 366us/step - loss: 30841173.3666\n",
      "Epoch 292/400\n",
      "4514/4514 [==============================] - 2s 355us/step - loss: 30181937.6912\n",
      "Epoch 293/400\n",
      "4514/4514 [==============================] - 2s 366us/step - loss: 27531200.2026\n",
      "Epoch 294/400\n",
      "4514/4514 [==============================] - 2s 360us/step - loss: 30493675.2741\n",
      "Epoch 295/400\n",
      "4514/4514 [==============================] - 2s 375us/step - loss: 30656319.8877\n",
      "Epoch 296/400\n",
      "4514/4514 [==============================] - 2s 375us/step - loss: 29164807.3704\n",
      "Epoch 297/400\n",
      "4514/4514 [==============================] - 2s 383us/step - loss: 30889740.9183\n",
      "Epoch 298/400\n",
      "4514/4514 [==============================] - 2s 366us/step - loss: 30820798.5681\n",
      "Epoch 299/400\n",
      "4514/4514 [==============================] - 2s 367us/step - loss: 29844450.5836\n",
      "Epoch 300/400\n",
      "4514/4514 [==============================] - 2s 362us/step - loss: 30431849.1272\n",
      "Epoch 301/400\n",
      "4514/4514 [==============================] - 2s 361us/step - loss: 30185796.2056\n",
      "Epoch 302/400\n",
      "4514/4514 [==============================] - 2s 358us/step - loss: 29464752.2079\n",
      "Epoch 303/400\n",
      "4514/4514 [==============================] - 2s 356us/step - loss: 30233228.3558\n",
      "Epoch 304/400\n",
      "4514/4514 [==============================] - 2s 360us/step - loss: 29939185.5777\n",
      "Epoch 305/400\n",
      "4514/4514 [==============================] - 2s 371us/step - loss: 29580827.3114\n",
      "Epoch 306/400\n",
      "4514/4514 [==============================] - 2s 368us/step - loss: 29937829.8589\n",
      "Epoch 307/400\n",
      "4514/4514 [==============================] - 2s 379us/step - loss: 28959237.1741\n",
      "Epoch 308/400\n",
      "4514/4514 [==============================] - 2s 373us/step - loss: 28003996.1604\n",
      "Epoch 309/400\n",
      "4514/4514 [==============================] - 2s 359us/step - loss: 31832274.1117\n",
      "Epoch 310/400\n",
      "4514/4514 [==============================] - 2s 370us/step - loss: 28837620.5310\n",
      "Epoch 311/400\n",
      "4514/4514 [==============================] - 2s 373us/step - loss: 29246558.1021\n",
      "Epoch 312/400\n",
      "4514/4514 [==============================] - 2s 363us/step - loss: 27338237.2900\n",
      "Epoch 313/400\n",
      "4514/4514 [==============================] - 2s 362us/step - loss: 29803826.37040s - loss: 30313369.\n",
      "Epoch 314/400\n",
      "4514/4514 [==============================] - 2s 369us/step - loss: 29516023.5286\n",
      "Epoch 315/400\n",
      "4514/4514 [==============================] - 2s 364us/step - loss: 29118533.5170\n",
      "Epoch 316/400\n",
      "4514/4514 [==============================] - 2s 368us/step - loss: 28761094.0997\n",
      "Epoch 317/400\n",
      "4514/4514 [==============================] - 1s 327us/step - loss: 29757814.4133\n",
      "Epoch 318/400\n",
      "4514/4514 [==============================] - 2s 368us/step - loss: 29451917.4770\n",
      "Epoch 319/400\n",
      "4514/4514 [==============================] - 2s 365us/step - loss: 27342424.9140\n",
      "Epoch 320/400\n",
      "4514/4514 [==============================] - 2s 376us/step - loss: 29175585.3623\n",
      "Epoch 321/400\n",
      "4514/4514 [==============================] - 2s 370us/step - loss: 30138648.6020\n",
      "Epoch 322/400\n",
      "4514/4514 [==============================] - 2s 362us/step - loss: 28344134.8887\n",
      "Epoch 323/400\n",
      "4514/4514 [==============================] - 2s 382us/step - loss: 29635098.2435\n",
      "Epoch 324/400\n",
      "4514/4514 [==============================] - 2s 373us/step - loss: 30923049.0871\n",
      "Epoch 325/400\n",
      "4514/4514 [==============================] - 2s 358us/step - loss: 29252955.6986\n",
      "Epoch 326/400\n",
      "4514/4514 [==============================] - 2s 374us/step - loss: 29708378.1941\n",
      "Epoch 327/400\n",
      "4514/4514 [==============================] - 2s 437us/step - loss: 30175645.7719\n",
      "Epoch 328/400\n",
      "4514/4514 [==============================] - 2s 360us/step - loss: 28794592.8091\n",
      "Epoch 329/400\n",
      "4514/4514 [==============================] - 2s 367us/step - loss: 28849850.0619\n",
      "Epoch 330/400\n",
      "4514/4514 [==============================] - 2s 369us/step - loss: 28154115.0944\n",
      "Epoch 331/400\n",
      "4514/4514 [==============================] - 2s 363us/step - loss: 31025663.7445\n",
      "Epoch 332/400\n",
      "4514/4514 [==============================] - 2s 362us/step - loss: 28833968.2713\n",
      "Epoch 333/400\n",
      "4514/4514 [==============================] - 2s 366us/step - loss: 30786785.9476\n",
      "Epoch 334/400\n",
      "4514/4514 [==============================] - 2s 380us/step - loss: 28740200.4665\n",
      "Epoch 335/400\n",
      "4514/4514 [==============================] - 2s 370us/step - loss: 29865635.1911\n",
      "Epoch 336/400\n",
      "4514/4514 [==============================] - 2s 388us/step - loss: 29242068.2926\n",
      "Epoch 337/400\n",
      "4514/4514 [==============================] - 2s 381us/step - loss: 26454511.9186\n",
      "Epoch 338/400\n",
      "4514/4514 [==============================] - 2s 362us/step - loss: 29747996.3507\n",
      "Epoch 339/400\n",
      "4514/4514 [==============================] - 2s 366us/step - loss: 29100466.9481\n",
      "Epoch 340/400\n",
      "4514/4514 [==============================] - 2s 364us/step - loss: 29675257.1668\n",
      "Epoch 341/400\n",
      "4514/4514 [==============================] - 2s 371us/step - loss: 30308011.0881\n",
      "Epoch 342/400\n",
      "4514/4514 [==============================] - 2s 365us/step - loss: 30635490.6619\n",
      "Epoch 343/400\n",
      "4514/4514 [==============================] - 2s 364us/step - loss: 27782151.1088\n",
      "Epoch 344/400\n",
      "4514/4514 [==============================] - 2s 367us/step - loss: 29787902.3301\n",
      "Epoch 345/400\n",
      "4514/4514 [==============================] - 2s 372us/step - loss: 29182628.2025\n",
      "Epoch 346/400\n"
     ]
    },
    {
     "name": "stdout",
     "output_type": "stream",
     "text": [
      "4514/4514 [==============================] - 2s 381us/step - loss: 27943172.99860s - loss: 28719\n",
      "Epoch 347/400\n",
      "4514/4514 [==============================] - 2s 367us/step - loss: 28499869.3584\n",
      "Epoch 348/400\n",
      "4514/4514 [==============================] - 2s 364us/step - loss: 29692585.9025\n",
      "Epoch 349/400\n",
      "4514/4514 [==============================] - 2s 365us/step - loss: 29970074.1527\n",
      "Epoch 350/400\n",
      "4514/4514 [==============================] - 2s 362us/step - loss: 28314515.1003\n",
      "Epoch 351/400\n",
      "4514/4514 [==============================] - 2s 369us/step - loss: 28906868.8779\n",
      "Epoch 352/400\n",
      "4514/4514 [==============================] - 2s 364us/step - loss: 29247249.4374\n",
      "Epoch 353/400\n",
      "4514/4514 [==============================] - 2s 365us/step - loss: 29241214.4425\n",
      "Epoch 354/400\n",
      "4514/4514 [==============================] - 2s 366us/step - loss: 29192150.4304\n",
      "Epoch 355/400\n",
      "4514/4514 [==============================] - 2s 384us/step - loss: 27937010.5423\n",
      "Epoch 356/400\n",
      "4514/4514 [==============================] - 2s 372us/step - loss: 27592289.1192\n",
      "Epoch 357/400\n",
      "4514/4514 [==============================] - 2s 364us/step - loss: 30840121.2180\n",
      "Epoch 358/400\n",
      "4514/4514 [==============================] - 2s 369us/step - loss: 28486944.8538\n",
      "Epoch 359/400\n",
      "4514/4514 [==============================] - 2s 368us/step - loss: 29603046.4696\n",
      "Epoch 360/400\n",
      "4514/4514 [==============================] - 2s 368us/step - loss: 28933606.94020s - loss:\n",
      "Epoch 361/400\n",
      "4514/4514 [==============================] - 2s 365us/step - loss: 27833807.3432\n",
      "Epoch 362/400\n",
      "4514/4514 [==============================] - 2s 365us/step - loss: 27488555.9162\n",
      "Epoch 363/400\n",
      "4514/4514 [==============================] - 2s 372us/step - loss: 27058747.3812\n",
      "Epoch 364/400\n",
      "4514/4514 [==============================] - 2s 366us/step - loss: 28935982.7984\n",
      "Epoch 365/400\n",
      "4514/4514 [==============================] - 2s 389us/step - loss: 29746679.6721\n",
      "Epoch 366/400\n",
      "4514/4514 [==============================] - 2s 366us/step - loss: 30156424.2160\n",
      "Epoch 367/400\n",
      "4514/4514 [==============================] - 2s 377us/step - loss: 30588803.2019\n",
      "Epoch 368/400\n",
      "4514/4514 [==============================] - 2s 372us/step - loss: 28147503.6412\n",
      "Epoch 369/400\n",
      "4514/4514 [==============================] - 2s 370us/step - loss: 28938135.8953\n",
      "Epoch 370/400\n",
      "4514/4514 [==============================] - 2s 381us/step - loss: 28074523.0079\n",
      "Epoch 371/400\n",
      "4514/4514 [==============================] - 2s 389us/step - loss: 27811685.3995\n",
      "Epoch 372/400\n",
      "4514/4514 [==============================] - 2s 413us/step - loss: 29675325.1801\n",
      "Epoch 373/400\n",
      "4514/4514 [==============================] - 2s 389us/step - loss: 27802105.5218\n",
      "Epoch 374/400\n",
      "4514/4514 [==============================] - 2s 399us/step - loss: 28680498.6831\n",
      "Epoch 375/400\n",
      "4514/4514 [==============================] - 2s 387us/step - loss: 28759538.6538\n",
      "Epoch 376/400\n",
      "4514/4514 [==============================] - 2s 419us/step - loss: 29946960.2426\n",
      "Epoch 377/400\n",
      "4514/4514 [==============================] - 2s 419us/step - loss: 26510355.1797\n",
      "Epoch 378/400\n",
      "4514/4514 [==============================] - 2s 372us/step - loss: 28933963.2575\n",
      "Epoch 379/400\n",
      "4514/4514 [==============================] - 2s 365us/step - loss: 27432555.1633\n",
      "Epoch 380/400\n",
      "4514/4514 [==============================] - 2s 375us/step - loss: 29362457.0721\n",
      "Epoch 381/400\n",
      "4514/4514 [==============================] - 2s 372us/step - loss: 28629858.1874\n",
      "Epoch 382/400\n",
      "4514/4514 [==============================] - 2s 377us/step - loss: 29999093.8489\n",
      "Epoch 383/400\n",
      "4514/4514 [==============================] - 2s 385us/step - loss: 29107531.4671\n",
      "Epoch 384/400\n",
      "4514/4514 [==============================] - 2s 375us/step - loss: 30500940.3368\n",
      "Epoch 385/400\n",
      "4514/4514 [==============================] - 2s 364us/step - loss: 28008893.4741\n",
      "Epoch 386/400\n",
      "4514/4514 [==============================] - 2s 365us/step - loss: 27331686.2205\n",
      "Epoch 387/400\n",
      "4514/4514 [==============================] - 2s 371us/step - loss: 28349774.0346\n",
      "Epoch 388/400\n",
      "4514/4514 [==============================] - 2s 389us/step - loss: 30013631.8026\n",
      "Epoch 389/400\n",
      "4514/4514 [==============================] - 2s 365us/step - loss: 27960334.0270\n",
      "Epoch 390/400\n",
      "4514/4514 [==============================] - 2s 370us/step - loss: 29875589.5181\n",
      "Epoch 391/400\n",
      "4514/4514 [==============================] - 2s 370us/step - loss: 27553211.3581\n",
      "Epoch 392/400\n",
      "4514/4514 [==============================] - 2s 374us/step - loss: 26790388.7478\n",
      "Epoch 393/400\n",
      "4514/4514 [==============================] - 2s 370us/step - loss: 29692940.5154\n",
      "Epoch 394/400\n",
      "4514/4514 [==============================] - 2s 371us/step - loss: 30161263.6013\n",
      "Epoch 395/400\n",
      "4514/4514 [==============================] - 2s 391us/step - loss: 27742027.0065\n",
      "Epoch 396/400\n",
      "4514/4514 [==============================] - 2s 383us/step - loss: 30457431.6176\n",
      "Epoch 397/400\n",
      "4514/4514 [==============================] - 2s 379us/step - loss: 28656037.5742\n",
      "Epoch 398/400\n",
      "4514/4514 [==============================] - 2s 367us/step - loss: 29068866.5224\n",
      "Epoch 399/400\n",
      "4514/4514 [==============================] - 2s 363us/step - loss: 27428134.5259\n",
      "Epoch 400/400\n",
      "4514/4514 [==============================] - 2s 364us/step - loss: 29424587.2892\n"
     ]
    },
    {
     "data": {
      "text/plain": [
       "<keras.callbacks.callbacks.History at 0x21a01d81b08>"
      ]
     },
     "execution_count": 30,
     "metadata": {},
     "output_type": "execute_result"
    }
   ],
   "source": [
    "\n",
    "model.compile(optimizer ='adam', loss='mse')\n",
    "model.fit(X_train1, y_train1, epochs=400,batch_size=8,shuffle=False)"
   ]
  },
  {
   "cell_type": "code",
   "execution_count": 39,
   "metadata": {},
   "outputs": [],
   "source": [
    "test_pred1 = model.predict(X_test1)\n",
    "train_pred1= model.predict(X_train1)"
   ]
  },
  {
   "cell_type": "code",
   "execution_count": 40,
   "metadata": {},
   "outputs": [],
   "source": [
    "yu =test_pred1.flatten()\n",
    "yu\n",
    "train_u = train_pred1.flatten()"
   ]
  },
  {
   "cell_type": "code",
   "execution_count": 42,
   "metadata": {},
   "outputs": [
    {
     "data": {
      "text/plain": [
       "5150    13227.65\n",
       "2164     7754.14\n",
       "1136     7115.57\n",
       "5641    15344.08\n",
       "1515    24594.31\n",
       "          ...   \n",
       "817      9578.65\n",
       "3325    12315.40\n",
       "1875    18427.49\n",
       "2861    11676.83\n",
       "2315     8483.94\n",
       "Name: Price, Length: 1505, dtype: float64"
      ]
     },
     "execution_count": 42,
     "metadata": {},
     "output_type": "execute_result"
    }
   ],
   "source": [
    "y_test1"
   ]
  },
  {
   "cell_type": "code",
   "execution_count": 43,
   "metadata": {},
   "outputs": [
    {
     "data": {
      "text/plain": [
       "array([[15987.034 ],\n",
       "       [ 6418.4272],\n",
       "       [ 6527.1367],\n",
       "       ...,\n",
       "       [20329.512 ],\n",
       "       [ 8645.916 ],\n",
       "       [10101.072 ]], dtype=float32)"
      ]
     },
     "execution_count": 43,
     "metadata": {},
     "output_type": "execute_result"
    }
   ],
   "source": [
    "test_pred1"
   ]
  },
  {
   "cell_type": "code",
   "execution_count": 44,
   "metadata": {},
   "outputs": [
    {
     "name": "stdout",
     "output_type": "stream",
     "text": [
      "Accuracy for Test set: 0.89\n",
      "Accuracy for Training set: 0.94\n"
     ]
    }
   ],
   "source": [
    "print(\"Accuracy for Test set: \"+\"{:.2f}\".format(r2_score(y_test1,yu)))\n",
    "print(\"Accuracy for Training set: \"+\"{:.2f}\".format(r2_score(y_train1,train_u)))"
   ]
  },
  {
   "cell_type": "code",
   "execution_count": 45,
   "metadata": {},
   "outputs": [
    {
     "name": "stdout",
     "output_type": "stream",
     "text": [
      "Tree on train set MAE%: 12.2\n",
      "Tree on test set MAE%: 15.6\n"
     ]
    }
   ],
   "source": [
    "MAE_train=np.mean(abs(y_train1-train_u))/np.mean(y_train1)\n",
    "print(\"Tree on train set MAE%:\", round(MAE_train*100,1))\n",
    "MAE_test=np.mean(abs(y_test1-yu))/np.mean(y_test1)\n",
    "print(\"Tree on test set MAE%:\", round(MAE_test*100,1))"
   ]
  },
  {
   "cell_type": "code",
   "execution_count": 46,
   "metadata": {},
   "outputs": [
    {
     "data": {
      "text/plain": [
       "6903.904975204826"
      ]
     },
     "execution_count": 46,
     "metadata": {},
     "output_type": "execute_result"
    }
   ],
   "source": [
    "# Print the root mean square error value.\n",
    "\n",
    "math.sqrt(mean_squared_error(y_test1,yu))"
   ]
  },
  {
   "cell_type": "code",
   "execution_count": 47,
   "metadata": {},
   "outputs": [
    {
     "data": {
      "image/png": "[encoded data removed]",
      "text/plain": [
       "<Figure size 432x288 with 1 Axes>"
      ]
     },
     "metadata": {
      "needs_background": "light"
     },
     "output_type": "display_data"
    }
   ],
   "source": [
    "# Create a scatter plot with train and test\n",
    "\n",
    "plt.scatter(y_train1, train_u, label='train')\n",
    "plt.scatter(y_test1, yu, label='test')\n",
    "plt.legend()\n",
    "plt.show()"
   ]
  },
  {
   "cell_type": "markdown",
   "metadata": {},
   "source": [
    "# XGBoost Regressor with K=5"
   ]
  },
  {
   "cell_type": "code",
   "execution_count": 149,
   "metadata": {},
   "outputs": [],
   "source": [
    "# Parameter Tuning \n",
    "base_score=[0.25,0.5,0.75,1]\n",
    "booster=['gbtree','gblinear']\n",
    "n_estimators = [100, 500, 700, 1000, 1500]\n",
    "max_depth = [2, 3, 5, 9]\n",
    "learning_rate=[0.05,0.1,0.15,0.20]\n",
    "min_child_weight=[1,2,3,4]\n",
    "\n",
    "# Define the grid of hyperparameters to search\n",
    "parameter_grid = {\n",
    "    'base_score':base_score,\n",
    "    'n_estimators': n_estimators,\n",
    "    'max_depth':max_depth,\n",
    "    'learning_rate':learning_rate,\n",
    "    'min_child_weight':min_child_weight,\n",
    "    'booster':booster,\n",
    "    }"
   ]
  },
  {
   "cell_type": "code",
   "execution_count": 150,
   "metadata": {},
   "outputs": [],
   "source": [
    "regressor=xgboost.XGBRegressor()\n",
    "ran_cv = RandomizedSearchCV(estimator=regressor,\n",
    "            param_distributions=parameter_grid,cv=5, n_iter=50,\n",
    "            scoring = 'neg_mean_absolute_error',n_jobs = 4,\n",
    "            verbose = 5,\n",
    "            return_train_score = True,\n",
    "            random_state=35)"
   ]
  },
  {
   "cell_type": "code",
   "execution_count": 151,
   "metadata": {},
   "outputs": [
    {
     "name": "stdout",
     "output_type": "stream",
     "text": [
      "Fitting 5 folds for each of 50 candidates, totalling 250 fits\n"
     ]
    },
    {
     "name": "stderr",
     "output_type": "stream",
     "text": [
      "[Parallel(n_jobs=4)]: Using backend LokyBackend with 4 concurrent workers.\n",
      "[Parallel(n_jobs=4)]: Done  10 tasks      | elapsed:  1.0min\n",
      "[Parallel(n_jobs=4)]: Done  64 tasks      | elapsed:  4.1min\n",
      "[Parallel(n_jobs=4)]: Done 154 tasks      | elapsed:  7.3min\n",
      "[Parallel(n_jobs=4)]: Done 250 out of 250 | elapsed: 17.1min finished\n",
      "C:\\Users\\amith\\Anaconda3\\lib\\site-packages\\xgboost\\core.py:587: FutureWarning: Series.base is deprecated and will be removed in a future version\n",
      "  if getattr(data, 'base', None) is not None and \\\n"
     ]
    },
    {
     "name": "stdout",
     "output_type": "stream",
     "text": [
      "[22:59:40] WARNING: src/objective/regression_obj.cu:152: reg:linear is now deprecated in favor of reg:squarederror.\n"
     ]
    },
    {
     "data": {
      "text/plain": [
       "RandomizedSearchCV(cv=5, error_score='raise-deprecating',\n",
       "                   estimator=XGBRegressor(base_score=0.5, booster='gbtree',\n",
       "                                          colsample_bylevel=1,\n",
       "                                          colsample_bynode=1,\n",
       "                                          colsample_bytree=1, gamma=0,\n",
       "                                          importance_type='gain',\n",
       "                                          learning_rate=0.1, max_delta_step=0,\n",
       "                                          max_depth=3, min_child_weight=1,\n",
       "                                          missing=None, n_estimators=100,\n",
       "                                          n_jobs=1, nthread=None,\n",
       "                                          objective='reg:linear',\n",
       "                                          random_st...\n",
       "                   iid='warn', n_iter=50, n_jobs=4,\n",
       "                   param_distributions={'base_score': [0.25, 0.5, 0.75, 1],\n",
       "                                        'booster': ['gbtree', 'gblinear'],\n",
       "                                        'learning_rate': [0.05, 0.1, 0.15, 0.2],\n",
       "                                        'max_depth': [2, 3, 5, 9],\n",
       "                                        'min_child_weight': [1, 2, 3, 4],\n",
       "                                        'n_estimators': [100, 500, 700, 1000,\n",
       "                                                         1500]},\n",
       "                   pre_dispatch='2*n_jobs', random_state=35, refit=True,\n",
       "                   return_train_score=True, scoring='neg_mean_absolute_error',\n",
       "                   verbose=5)"
      ]
     },
     "execution_count": 151,
     "metadata": {},
     "output_type": "execute_result"
    }
   ],
   "source": [
    "ran_cv.fit(X_train1,y_train1)"
   ]
  },
  {
   "cell_type": "code",
   "execution_count": 152,
   "metadata": {},
   "outputs": [
    {
     "data": {
      "text/plain": [
       "XGBRegressor(base_score=0.5, booster='gbtree', colsample_bylevel=1,\n",
       "             colsample_bynode=1, colsample_bytree=1, gamma=0,\n",
       "             importance_type='gain', learning_rate=0.05, max_delta_step=0,\n",
       "             max_depth=5, min_child_weight=2, missing=None, n_estimators=1500,\n",
       "             n_jobs=1, nthread=None, objective='reg:linear', random_state=0,\n",
       "             reg_alpha=0, reg_lambda=1, scale_pos_weight=1, seed=None,\n",
       "             silent=None, subsample=1, verbosity=1)"
      ]
     },
     "execution_count": 152,
     "metadata": {},
     "output_type": "execute_result"
    }
   ],
   "source": [
    "ran_cv.best_estimator_"
   ]
  },
  {
   "cell_type": "code",
   "execution_count": 57,
   "metadata": {},
   "outputs": [],
   "source": [
    "# Run the model by passing the best estimator from the GridSearchCV method.\n",
    "\n",
    "regressor=xgboost.XGBRegressor(base_score=0.5, booster='gbtree', colsample_bylevel=1,\n",
    "             colsample_bynode=1, colsample_bytree=1, gamma=0,\n",
    "             importance_type='gain', learning_rate=0.05, max_delta_step=0,\n",
    "             max_depth=5, min_child_weight=2, missing=None, n_estimators=1500,\n",
    "             n_jobs=1, nthread=None, objective='reg:linear', random_state=0,\n",
    "             reg_alpha=0, reg_lambda=1, scale_pos_weight=1, seed=None,\n",
    "             silent=None, subsample=1, verbosity=1)"
   ]
  },
  {
   "cell_type": "code",
   "execution_count": 58,
   "metadata": {},
   "outputs": [
    {
     "name": "stderr",
     "output_type": "stream",
     "text": [
      "C:\\Users\\amith\\Anaconda3\\lib\\site-packages\\xgboost\\core.py:587: FutureWarning: Series.base is deprecated and will be removed in a future version\n",
      "  if getattr(data, 'base', None) is not None and \\\n"
     ]
    },
    {
     "name": "stdout",
     "output_type": "stream",
     "text": [
      "[01:05:18] WARNING: src/objective/regression_obj.cu:152: reg:linear is now deprecated in favor of reg:squarederror.\n"
     ]
    },
    {
     "data": {
      "text/plain": [
       "XGBRegressor(base_score=0.5, booster='gbtree', colsample_bylevel=1,\n",
       "             colsample_bynode=1, colsample_bytree=1, gamma=0,\n",
       "             importance_type='gain', learning_rate=0.05, max_delta_step=0,\n",
       "             max_depth=5, min_child_weight=2, missing=None, n_estimators=1500,\n",
       "             n_jobs=1, nthread=None, objective='reg:linear', random_state=0,\n",
       "             reg_alpha=0, reg_lambda=1, scale_pos_weight=1, seed=None,\n",
       "             silent=None, subsample=1, verbosity=1)"
      ]
     },
     "execution_count": 58,
     "metadata": {},
     "output_type": "execute_result"
    }
   ],
   "source": [
    "regressor.fit(X_train1,y_train1)"
   ]
  },
  {
   "cell_type": "code",
   "execution_count": 59,
   "metadata": {},
   "outputs": [],
   "source": [
    "train_pred = regressor.predict(X_train1)\n",
    "test_pred=regressor.predict(X_test1)"
   ]
  },
  {
   "cell_type": "code",
   "execution_count": 60,
   "metadata": {},
   "outputs": [
    {
     "data": {
      "text/plain": [
       "5150    13227.65\n",
       "2164     7754.14\n",
       "1136     7115.57\n",
       "5641    15344.08\n",
       "1515    24594.31\n",
       "Name: Price, dtype: float64"
      ]
     },
     "execution_count": 60,
     "metadata": {},
     "output_type": "execute_result"
    }
   ],
   "source": [
    "y_test1.head()"
   ]
  },
  {
   "cell_type": "code",
   "execution_count": 61,
   "metadata": {},
   "outputs": [
    {
     "name": "stdout",
     "output_type": "stream",
     "text": [
      "Accuracy for Test set: 0.90\n",
      "Accuracy for Training set: 0.99\n"
     ]
    }
   ],
   "source": [
    "print(\"Accuracy for Test set: \"+\"{:.2f}\".format(regressor.score(X_test1,y_test1)))\n",
    "print(\"Accuracy for Training set: \"+\"{:.2f}\".format(regressor.score(X_train1,y_train1)))"
   ]
  },
  {
   "cell_type": "code",
   "execution_count": 62,
   "metadata": {},
   "outputs": [
    {
     "name": "stdout",
     "output_type": "stream",
     "text": [
      "Tree on train set MAE%: 8.2\n",
      "Tree on test set MAE%: 15.2\n"
     ]
    }
   ],
   "source": [
    "MAE_train=np.mean(abs(y_train1-train_pred))/np.mean(y_train1)\n",
    "print(\"Tree on train set MAE%:\", round(MAE_train*100,1))\n",
    "\n",
    "MAE_test=np.mean(abs(y_test1-test_pred))/np.mean(y_test1)\n",
    "print(\"Tree on test set MAE%:\", round(MAE_test*100,1))"
   ]
  },
  {
   "cell_type": "code",
   "execution_count": 63,
   "metadata": {},
   "outputs": [
    {
     "data": {
      "text/plain": [
       "6424.2295739203455"
      ]
     },
     "execution_count": 63,
     "metadata": {},
     "output_type": "execute_result"
    }
   ],
   "source": [
    "# Print the root mean square error value.\n",
    "\n",
    "math.sqrt(mean_squared_error(y_test1,test_pred))"
   ]
  },
  {
   "cell_type": "code",
   "execution_count": 64,
   "metadata": {},
   "outputs": [
    {
     "data": {
      "image/png": "[encoded data removed]",
      "text/plain": [
       "<Figure size 432x288 with 1 Axes>"
      ]
     },
     "metadata": {
      "needs_background": "light"
     },
     "output_type": "display_data"
    }
   ],
   "source": [
    "# Create a scatter plot with train and test\n",
    "\n",
    "plt.scatter(y_train1, train_pred, label='train')\n",
    "plt.scatter(y_test1, test_pred, label='test')\n",
    "plt.legend()\n",
    "plt.show()"
   ]
  },
  {
   "cell_type": "code",
   "execution_count": null,
   "metadata": {},
   "outputs": [],
   "source": []
  }
 ],
 "metadata": {
  "kernelspec": {
   "display_name": "Python 3",
   "language": "python",
   "name": "python3"
  },
  "language_info": {
   "codemirror_mode": {
    "name": "ipython",
    "version": 3
   },
   "file_extension": ".py",
   "mimetype": "text/x-python",
   "name": "python",
   "nbconvert_exporter": "python",
   "pygments_lexer": "ipython3",
   "version": "3.7.4"
  }
 },
 "nbformat": 4,
 "nbformat_minor": 2
}
