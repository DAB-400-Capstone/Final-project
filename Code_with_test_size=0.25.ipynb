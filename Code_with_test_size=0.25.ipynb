{
 "cells": [
  {
   "cell_type": "code",
   "execution_count": 144,
   "metadata": {},
   "outputs": [],
   "source": [
    "# Import necessary libraries\n",
    "\n",
    "import pandas as pd\n",
    "import numpy as np\n",
    "import matplotlib.pyplot as plt\n",
    "import math\n",
    "from sklearn.metrics import mean_squared_error\n",
    "from sklearn.model_selection import train_test_split\n",
    "from sklearn.preprocessing import MinMaxScaler\n",
    "from sklearn.linear_model import LinearRegression  \n",
    "from sklearn.neighbors import KNeighborsRegressor\n",
    "from sklearn.tree import DecisionTreeRegressor\n",
    "from sklearn.ensemble import RandomForestRegressor\n",
    "from sklearn.ensemble import GradientBoostingRegressor\n",
    "from sklearn.linear_model import Ridge\n",
    "from sklearn.model_selection import RandomizedSearchCV\n",
    "from sklearn import linear_model\n",
    "from sklearn.metrics import r2_score\n",
    "import keras\n",
    "from keras.models import Sequential\n",
    "from keras.layers import Dense, Dropout\n",
    "import xgboost"
   ]
  },
  {
   "cell_type": "code",
   "execution_count": 78,
   "metadata": {},
   "outputs": [],
   "source": [
    "# Load the dataset \n",
    "\n",
    "cars_new= pd.read_csv(\"final data.csv\")"
   ]
  },
  {
   "cell_type": "code",
   "execution_count": 79,
   "metadata": {},
   "outputs": [
    {
     "data": {
      "text/html": [
       "<div>\n",
       "<style scoped>\n",
       "    .dataframe tbody tr th:only-of-type {\n",
       "        vertical-align: middle;\n",
       "    }\n",
       "\n",
       "    .dataframe tbody tr th {\n",
       "        vertical-align: top;\n",
       "    }\n",
       "\n",
       "    .dataframe thead th {\n",
       "        text-align: right;\n",
       "    }\n",
       "</style>\n",
       "<table border=\"1\" class=\"dataframe\">\n",
       "  <thead>\n",
       "    <tr style=\"text-align: right;\">\n",
       "      <th></th>\n",
       "      <th>Kilometers_Driven</th>\n",
       "      <th>Mileage</th>\n",
       "      <th>Engine</th>\n",
       "      <th>Power</th>\n",
       "      <th>Seats</th>\n",
       "      <th>Price</th>\n",
       "      <th>No_of_Years</th>\n",
       "      <th>CNG</th>\n",
       "      <th>Diesel</th>\n",
       "      <th>Electric</th>\n",
       "      <th>...</th>\n",
       "      <th>Volkswagen CrossPolo</th>\n",
       "      <th>Volkswagen Jetta</th>\n",
       "      <th>Volkswagen Passat</th>\n",
       "      <th>Volkswagen Polo</th>\n",
       "      <th>Volkswagen Tiguan</th>\n",
       "      <th>Volkswagen Vento</th>\n",
       "      <th>Volvo S60</th>\n",
       "      <th>Volvo S80</th>\n",
       "      <th>Volvo V40</th>\n",
       "      <th>Volvo XC60</th>\n",
       "    </tr>\n",
       "  </thead>\n",
       "  <tbody>\n",
       "    <tr>\n",
       "      <td>0</td>\n",
       "      <td>72000</td>\n",
       "      <td>26.60</td>\n",
       "      <td>998.0</td>\n",
       "      <td>58.16</td>\n",
       "      <td>5.0</td>\n",
       "      <td>3192.88</td>\n",
       "      <td>10</td>\n",
       "      <td>1</td>\n",
       "      <td>0</td>\n",
       "      <td>0</td>\n",
       "      <td>...</td>\n",
       "      <td>0</td>\n",
       "      <td>0</td>\n",
       "      <td>0</td>\n",
       "      <td>0</td>\n",
       "      <td>0</td>\n",
       "      <td>0</td>\n",
       "      <td>0</td>\n",
       "      <td>0</td>\n",
       "      <td>0</td>\n",
       "      <td>0</td>\n",
       "    </tr>\n",
       "    <tr>\n",
       "      <td>1</td>\n",
       "      <td>41000</td>\n",
       "      <td>19.67</td>\n",
       "      <td>1582.0</td>\n",
       "      <td>126.20</td>\n",
       "      <td>5.0</td>\n",
       "      <td>22806.30</td>\n",
       "      <td>5</td>\n",
       "      <td>0</td>\n",
       "      <td>1</td>\n",
       "      <td>0</td>\n",
       "      <td>...</td>\n",
       "      <td>0</td>\n",
       "      <td>0</td>\n",
       "      <td>0</td>\n",
       "      <td>0</td>\n",
       "      <td>0</td>\n",
       "      <td>0</td>\n",
       "      <td>0</td>\n",
       "      <td>0</td>\n",
       "      <td>0</td>\n",
       "      <td>0</td>\n",
       "    </tr>\n",
       "    <tr>\n",
       "      <td>2</td>\n",
       "      <td>46000</td>\n",
       "      <td>18.20</td>\n",
       "      <td>1199.0</td>\n",
       "      <td>88.70</td>\n",
       "      <td>5.0</td>\n",
       "      <td>8210.27</td>\n",
       "      <td>9</td>\n",
       "      <td>0</td>\n",
       "      <td>0</td>\n",
       "      <td>0</td>\n",
       "      <td>...</td>\n",
       "      <td>0</td>\n",
       "      <td>0</td>\n",
       "      <td>0</td>\n",
       "      <td>0</td>\n",
       "      <td>0</td>\n",
       "      <td>0</td>\n",
       "      <td>0</td>\n",
       "      <td>0</td>\n",
       "      <td>0</td>\n",
       "      <td>0</td>\n",
       "    </tr>\n",
       "    <tr>\n",
       "      <td>3</td>\n",
       "      <td>87000</td>\n",
       "      <td>20.77</td>\n",
       "      <td>1248.0</td>\n",
       "      <td>88.76</td>\n",
       "      <td>7.0</td>\n",
       "      <td>10947.02</td>\n",
       "      <td>8</td>\n",
       "      <td>0</td>\n",
       "      <td>1</td>\n",
       "      <td>0</td>\n",
       "      <td>...</td>\n",
       "      <td>0</td>\n",
       "      <td>0</td>\n",
       "      <td>0</td>\n",
       "      <td>0</td>\n",
       "      <td>0</td>\n",
       "      <td>0</td>\n",
       "      <td>0</td>\n",
       "      <td>0</td>\n",
       "      <td>0</td>\n",
       "      <td>0</td>\n",
       "    </tr>\n",
       "    <tr>\n",
       "      <td>4</td>\n",
       "      <td>40670</td>\n",
       "      <td>15.20</td>\n",
       "      <td>1968.0</td>\n",
       "      <td>140.80</td>\n",
       "      <td>5.0</td>\n",
       "      <td>32366.70</td>\n",
       "      <td>7</td>\n",
       "      <td>0</td>\n",
       "      <td>1</td>\n",
       "      <td>0</td>\n",
       "      <td>...</td>\n",
       "      <td>0</td>\n",
       "      <td>0</td>\n",
       "      <td>0</td>\n",
       "      <td>0</td>\n",
       "      <td>0</td>\n",
       "      <td>0</td>\n",
       "      <td>0</td>\n",
       "      <td>0</td>\n",
       "      <td>0</td>\n",
       "      <td>0</td>\n",
       "    </tr>\n",
       "  </tbody>\n",
       "</table>\n",
       "<p>5 rows × 232 columns</p>\n",
       "</div>"
      ],
      "text/plain": [
       "   Kilometers_Driven  Mileage  Engine   Power  Seats     Price  No_of_Years  \\\n",
       "0              72000    26.60   998.0   58.16    5.0   3192.88           10   \n",
       "1              41000    19.67  1582.0  126.20    5.0  22806.30            5   \n",
       "2              46000    18.20  1199.0   88.70    5.0   8210.27            9   \n",
       "3              87000    20.77  1248.0   88.76    7.0  10947.02            8   \n",
       "4              40670    15.20  1968.0  140.80    5.0  32366.70            7   \n",
       "\n",
       "   CNG  Diesel  Electric  ...  Volkswagen CrossPolo  Volkswagen Jetta  \\\n",
       "0    1       0         0  ...                     0                 0   \n",
       "1    0       1         0  ...                     0                 0   \n",
       "2    0       0         0  ...                     0                 0   \n",
       "3    0       1         0  ...                     0                 0   \n",
       "4    0       1         0  ...                     0                 0   \n",
       "\n",
       "   Volkswagen Passat  Volkswagen Polo  Volkswagen Tiguan  Volkswagen Vento  \\\n",
       "0                  0                0                  0                 0   \n",
       "1                  0                0                  0                 0   \n",
       "2                  0                0                  0                 0   \n",
       "3                  0                0                  0                 0   \n",
       "4                  0                0                  0                 0   \n",
       "\n",
       "   Volvo S60  Volvo S80  Volvo V40  Volvo XC60  \n",
       "0          0          0          0           0  \n",
       "1          0          0          0           0  \n",
       "2          0          0          0           0  \n",
       "3          0          0          0           0  \n",
       "4          0          0          0           0  \n",
       "\n",
       "[5 rows x 232 columns]"
      ]
     },
     "execution_count": 79,
     "metadata": {},
     "output_type": "execute_result"
    }
   ],
   "source": [
    "# Look at the first 5 rows\n",
    "\n",
    "cars_new.head()"
   ]
  },
  {
   "cell_type": "code",
   "execution_count": 80,
   "metadata": {},
   "outputs": [
    {
     "data": {
      "text/html": [
       "<div>\n",
       "<style scoped>\n",
       "    .dataframe tbody tr th:only-of-type {\n",
       "        vertical-align: middle;\n",
       "    }\n",
       "\n",
       "    .dataframe tbody tr th {\n",
       "        vertical-align: top;\n",
       "    }\n",
       "\n",
       "    .dataframe thead th {\n",
       "        text-align: right;\n",
       "    }\n",
       "</style>\n",
       "<table border=\"1\" class=\"dataframe\">\n",
       "  <thead>\n",
       "    <tr style=\"text-align: right;\">\n",
       "      <th></th>\n",
       "      <th>Kilometers_Driven</th>\n",
       "      <th>Mileage</th>\n",
       "      <th>Engine</th>\n",
       "      <th>Power</th>\n",
       "      <th>Seats</th>\n",
       "      <th>Price</th>\n",
       "      <th>No_of_Years</th>\n",
       "      <th>CNG</th>\n",
       "      <th>Diesel</th>\n",
       "      <th>Electric</th>\n",
       "      <th>...</th>\n",
       "      <th>Volkswagen CrossPolo</th>\n",
       "      <th>Volkswagen Jetta</th>\n",
       "      <th>Volkswagen Passat</th>\n",
       "      <th>Volkswagen Polo</th>\n",
       "      <th>Volkswagen Tiguan</th>\n",
       "      <th>Volkswagen Vento</th>\n",
       "      <th>Volvo S60</th>\n",
       "      <th>Volvo S80</th>\n",
       "      <th>Volvo V40</th>\n",
       "      <th>Volvo XC60</th>\n",
       "    </tr>\n",
       "  </thead>\n",
       "  <tbody>\n",
       "    <tr>\n",
       "      <td>6014</td>\n",
       "      <td>27365</td>\n",
       "      <td>28.40</td>\n",
       "      <td>1248.0</td>\n",
       "      <td>74.0</td>\n",
       "      <td>5.0</td>\n",
       "      <td>8666.39</td>\n",
       "      <td>6</td>\n",
       "      <td>0</td>\n",
       "      <td>1</td>\n",
       "      <td>0</td>\n",
       "      <td>...</td>\n",
       "      <td>0</td>\n",
       "      <td>0</td>\n",
       "      <td>0</td>\n",
       "      <td>0</td>\n",
       "      <td>0</td>\n",
       "      <td>0</td>\n",
       "      <td>0</td>\n",
       "      <td>0</td>\n",
       "      <td>0</td>\n",
       "      <td>0</td>\n",
       "    </tr>\n",
       "    <tr>\n",
       "      <td>6015</td>\n",
       "      <td>100000</td>\n",
       "      <td>24.40</td>\n",
       "      <td>1120.0</td>\n",
       "      <td>71.0</td>\n",
       "      <td>5.0</td>\n",
       "      <td>7298.02</td>\n",
       "      <td>5</td>\n",
       "      <td>0</td>\n",
       "      <td>1</td>\n",
       "      <td>0</td>\n",
       "      <td>...</td>\n",
       "      <td>0</td>\n",
       "      <td>0</td>\n",
       "      <td>0</td>\n",
       "      <td>0</td>\n",
       "      <td>0</td>\n",
       "      <td>0</td>\n",
       "      <td>0</td>\n",
       "      <td>0</td>\n",
       "      <td>0</td>\n",
       "      <td>0</td>\n",
       "    </tr>\n",
       "    <tr>\n",
       "      <td>6016</td>\n",
       "      <td>55000</td>\n",
       "      <td>14.00</td>\n",
       "      <td>2498.0</td>\n",
       "      <td>112.0</td>\n",
       "      <td>8.0</td>\n",
       "      <td>5291.06</td>\n",
       "      <td>8</td>\n",
       "      <td>0</td>\n",
       "      <td>1</td>\n",
       "      <td>0</td>\n",
       "      <td>...</td>\n",
       "      <td>0</td>\n",
       "      <td>0</td>\n",
       "      <td>0</td>\n",
       "      <td>0</td>\n",
       "      <td>0</td>\n",
       "      <td>0</td>\n",
       "      <td>0</td>\n",
       "      <td>0</td>\n",
       "      <td>0</td>\n",
       "      <td>0</td>\n",
       "    </tr>\n",
       "    <tr>\n",
       "      <td>6017</td>\n",
       "      <td>46000</td>\n",
       "      <td>18.90</td>\n",
       "      <td>998.0</td>\n",
       "      <td>67.1</td>\n",
       "      <td>5.0</td>\n",
       "      <td>4834.94</td>\n",
       "      <td>7</td>\n",
       "      <td>0</td>\n",
       "      <td>0</td>\n",
       "      <td>0</td>\n",
       "      <td>...</td>\n",
       "      <td>0</td>\n",
       "      <td>0</td>\n",
       "      <td>0</td>\n",
       "      <td>0</td>\n",
       "      <td>0</td>\n",
       "      <td>0</td>\n",
       "      <td>0</td>\n",
       "      <td>0</td>\n",
       "      <td>0</td>\n",
       "      <td>0</td>\n",
       "    </tr>\n",
       "    <tr>\n",
       "      <td>6018</td>\n",
       "      <td>47000</td>\n",
       "      <td>25.44</td>\n",
       "      <td>936.0</td>\n",
       "      <td>57.6</td>\n",
       "      <td>5.0</td>\n",
       "      <td>4561.26</td>\n",
       "      <td>9</td>\n",
       "      <td>0</td>\n",
       "      <td>1</td>\n",
       "      <td>0</td>\n",
       "      <td>...</td>\n",
       "      <td>0</td>\n",
       "      <td>0</td>\n",
       "      <td>0</td>\n",
       "      <td>0</td>\n",
       "      <td>0</td>\n",
       "      <td>0</td>\n",
       "      <td>0</td>\n",
       "      <td>0</td>\n",
       "      <td>0</td>\n",
       "      <td>0</td>\n",
       "    </tr>\n",
       "  </tbody>\n",
       "</table>\n",
       "<p>5 rows × 232 columns</p>\n",
       "</div>"
      ],
      "text/plain": [
       "      Kilometers_Driven  Mileage  Engine  Power  Seats    Price  No_of_Years  \\\n",
       "6014              27365    28.40  1248.0   74.0    5.0  8666.39            6   \n",
       "6015             100000    24.40  1120.0   71.0    5.0  7298.02            5   \n",
       "6016              55000    14.00  2498.0  112.0    8.0  5291.06            8   \n",
       "6017              46000    18.90   998.0   67.1    5.0  4834.94            7   \n",
       "6018              47000    25.44   936.0   57.6    5.0  4561.26            9   \n",
       "\n",
       "      CNG  Diesel  Electric  ...  Volkswagen CrossPolo  Volkswagen Jetta  \\\n",
       "6014    0       1         0  ...                     0                 0   \n",
       "6015    0       1         0  ...                     0                 0   \n",
       "6016    0       1         0  ...                     0                 0   \n",
       "6017    0       0         0  ...                     0                 0   \n",
       "6018    0       1         0  ...                     0                 0   \n",
       "\n",
       "      Volkswagen Passat  Volkswagen Polo  Volkswagen Tiguan  Volkswagen Vento  \\\n",
       "6014                  0                0                  0                 0   \n",
       "6015                  0                0                  0                 0   \n",
       "6016                  0                0                  0                 0   \n",
       "6017                  0                0                  0                 0   \n",
       "6018                  0                0                  0                 0   \n",
       "\n",
       "      Volvo S60  Volvo S80  Volvo V40  Volvo XC60  \n",
       "6014          0          0          0           0  \n",
       "6015          0          0          0           0  \n",
       "6016          0          0          0           0  \n",
       "6017          0          0          0           0  \n",
       "6018          0          0          0           0  \n",
       "\n",
       "[5 rows x 232 columns]"
      ]
     },
     "execution_count": 80,
     "metadata": {},
     "output_type": "execute_result"
    }
   ],
   "source": [
    "# Look at the last 5 rows\n",
    "\n",
    "cars_new.tail()"
   ]
  },
  {
   "cell_type": "markdown",
   "metadata": {},
   "source": [
    "# Model Building "
   ]
  },
  {
   "cell_type": "code",
   "execution_count": 88,
   "metadata": {},
   "outputs": [],
   "source": [
    "X = cars_new.drop('Price',axis=1)\n",
    "Y = cars_new['Price']"
   ]
  },
  {
   "cell_type": "code",
   "execution_count": 89,
   "metadata": {},
   "outputs": [
    {
     "data": {
      "text/html": [
       "<div>\n",
       "<style scoped>\n",
       "    .dataframe tbody tr th:only-of-type {\n",
       "        vertical-align: middle;\n",
       "    }\n",
       "\n",
       "    .dataframe tbody tr th {\n",
       "        vertical-align: top;\n",
       "    }\n",
       "\n",
       "    .dataframe thead th {\n",
       "        text-align: right;\n",
       "    }\n",
       "</style>\n",
       "<table border=\"1\" class=\"dataframe\">\n",
       "  <thead>\n",
       "    <tr style=\"text-align: right;\">\n",
       "      <th></th>\n",
       "      <th>Kilometers_Driven</th>\n",
       "      <th>Mileage</th>\n",
       "      <th>Engine</th>\n",
       "      <th>Power</th>\n",
       "      <th>Seats</th>\n",
       "      <th>No_of_Years</th>\n",
       "      <th>CNG</th>\n",
       "      <th>Diesel</th>\n",
       "      <th>Electric</th>\n",
       "      <th>LPG</th>\n",
       "      <th>...</th>\n",
       "      <th>Volkswagen CrossPolo</th>\n",
       "      <th>Volkswagen Jetta</th>\n",
       "      <th>Volkswagen Passat</th>\n",
       "      <th>Volkswagen Polo</th>\n",
       "      <th>Volkswagen Tiguan</th>\n",
       "      <th>Volkswagen Vento</th>\n",
       "      <th>Volvo S60</th>\n",
       "      <th>Volvo S80</th>\n",
       "      <th>Volvo V40</th>\n",
       "      <th>Volvo XC60</th>\n",
       "    </tr>\n",
       "  </thead>\n",
       "  <tbody>\n",
       "    <tr>\n",
       "      <td>0</td>\n",
       "      <td>72000</td>\n",
       "      <td>26.60</td>\n",
       "      <td>998.0</td>\n",
       "      <td>58.16</td>\n",
       "      <td>5.0</td>\n",
       "      <td>10</td>\n",
       "      <td>1</td>\n",
       "      <td>0</td>\n",
       "      <td>0</td>\n",
       "      <td>0</td>\n",
       "      <td>...</td>\n",
       "      <td>0</td>\n",
       "      <td>0</td>\n",
       "      <td>0</td>\n",
       "      <td>0</td>\n",
       "      <td>0</td>\n",
       "      <td>0</td>\n",
       "      <td>0</td>\n",
       "      <td>0</td>\n",
       "      <td>0</td>\n",
       "      <td>0</td>\n",
       "    </tr>\n",
       "    <tr>\n",
       "      <td>1</td>\n",
       "      <td>41000</td>\n",
       "      <td>19.67</td>\n",
       "      <td>1582.0</td>\n",
       "      <td>126.20</td>\n",
       "      <td>5.0</td>\n",
       "      <td>5</td>\n",
       "      <td>0</td>\n",
       "      <td>1</td>\n",
       "      <td>0</td>\n",
       "      <td>0</td>\n",
       "      <td>...</td>\n",
       "      <td>0</td>\n",
       "      <td>0</td>\n",
       "      <td>0</td>\n",
       "      <td>0</td>\n",
       "      <td>0</td>\n",
       "      <td>0</td>\n",
       "      <td>0</td>\n",
       "      <td>0</td>\n",
       "      <td>0</td>\n",
       "      <td>0</td>\n",
       "    </tr>\n",
       "    <tr>\n",
       "      <td>2</td>\n",
       "      <td>46000</td>\n",
       "      <td>18.20</td>\n",
       "      <td>1199.0</td>\n",
       "      <td>88.70</td>\n",
       "      <td>5.0</td>\n",
       "      <td>9</td>\n",
       "      <td>0</td>\n",
       "      <td>0</td>\n",
       "      <td>0</td>\n",
       "      <td>0</td>\n",
       "      <td>...</td>\n",
       "      <td>0</td>\n",
       "      <td>0</td>\n",
       "      <td>0</td>\n",
       "      <td>0</td>\n",
       "      <td>0</td>\n",
       "      <td>0</td>\n",
       "      <td>0</td>\n",
       "      <td>0</td>\n",
       "      <td>0</td>\n",
       "      <td>0</td>\n",
       "    </tr>\n",
       "    <tr>\n",
       "      <td>3</td>\n",
       "      <td>87000</td>\n",
       "      <td>20.77</td>\n",
       "      <td>1248.0</td>\n",
       "      <td>88.76</td>\n",
       "      <td>7.0</td>\n",
       "      <td>8</td>\n",
       "      <td>0</td>\n",
       "      <td>1</td>\n",
       "      <td>0</td>\n",
       "      <td>0</td>\n",
       "      <td>...</td>\n",
       "      <td>0</td>\n",
       "      <td>0</td>\n",
       "      <td>0</td>\n",
       "      <td>0</td>\n",
       "      <td>0</td>\n",
       "      <td>0</td>\n",
       "      <td>0</td>\n",
       "      <td>0</td>\n",
       "      <td>0</td>\n",
       "      <td>0</td>\n",
       "    </tr>\n",
       "    <tr>\n",
       "      <td>4</td>\n",
       "      <td>40670</td>\n",
       "      <td>15.20</td>\n",
       "      <td>1968.0</td>\n",
       "      <td>140.80</td>\n",
       "      <td>5.0</td>\n",
       "      <td>7</td>\n",
       "      <td>0</td>\n",
       "      <td>1</td>\n",
       "      <td>0</td>\n",
       "      <td>0</td>\n",
       "      <td>...</td>\n",
       "      <td>0</td>\n",
       "      <td>0</td>\n",
       "      <td>0</td>\n",
       "      <td>0</td>\n",
       "      <td>0</td>\n",
       "      <td>0</td>\n",
       "      <td>0</td>\n",
       "      <td>0</td>\n",
       "      <td>0</td>\n",
       "      <td>0</td>\n",
       "    </tr>\n",
       "  </tbody>\n",
       "</table>\n",
       "<p>5 rows × 231 columns</p>\n",
       "</div>"
      ],
      "text/plain": [
       "   Kilometers_Driven  Mileage  Engine   Power  Seats  No_of_Years  CNG  \\\n",
       "0              72000    26.60   998.0   58.16    5.0           10    1   \n",
       "1              41000    19.67  1582.0  126.20    5.0            5    0   \n",
       "2              46000    18.20  1199.0   88.70    5.0            9    0   \n",
       "3              87000    20.77  1248.0   88.76    7.0            8    0   \n",
       "4              40670    15.20  1968.0  140.80    5.0            7    0   \n",
       "\n",
       "   Diesel  Electric  LPG  ...  Volkswagen CrossPolo  Volkswagen Jetta  \\\n",
       "0       0         0    0  ...                     0                 0   \n",
       "1       1         0    0  ...                     0                 0   \n",
       "2       0         0    0  ...                     0                 0   \n",
       "3       1         0    0  ...                     0                 0   \n",
       "4       1         0    0  ...                     0                 0   \n",
       "\n",
       "   Volkswagen Passat  Volkswagen Polo  Volkswagen Tiguan  Volkswagen Vento  \\\n",
       "0                  0                0                  0                 0   \n",
       "1                  0                0                  0                 0   \n",
       "2                  0                0                  0                 0   \n",
       "3                  0                0                  0                 0   \n",
       "4                  0                0                  0                 0   \n",
       "\n",
       "   Volvo S60  Volvo S80  Volvo V40  Volvo XC60  \n",
       "0          0          0          0           0  \n",
       "1          0          0          0           0  \n",
       "2          0          0          0           0  \n",
       "3          0          0          0           0  \n",
       "4          0          0          0           0  \n",
       "\n",
       "[5 rows x 231 columns]"
      ]
     },
     "execution_count": 89,
     "metadata": {},
     "output_type": "execute_result"
    }
   ],
   "source": [
    "X.head()"
   ]
  },
  {
   "cell_type": "code",
   "execution_count": 90,
   "metadata": {},
   "outputs": [
    {
     "data": {
      "text/plain": [
       "0     3192.88\n",
       "1    22806.30\n",
       "2     8210.27\n",
       "3    10947.02\n",
       "4    32366.70\n",
       "Name: Price, dtype: float64"
      ]
     },
     "execution_count": 90,
     "metadata": {},
     "output_type": "execute_result"
    }
   ],
   "source": [
    "Y.head()"
   ]
  },
  {
   "cell_type": "markdown",
   "metadata": {},
   "source": [
    "# Splitting data with a test size of 0.25"
   ]
  },
  {
   "cell_type": "code",
   "execution_count": 91,
   "metadata": {},
   "outputs": [],
   "source": [
    "X_train1,X_test1,y_train1,y_test1= train_test_split(X,Y,test_size=0.25, random_state = 0)"
   ]
  },
  {
   "cell_type": "code",
   "execution_count": 92,
   "metadata": {},
   "outputs": [],
   "source": [
    "minma = MinMaxScaler()\n",
    "minma.fit(X_train1)\n",
    "X_train1 = minma.transform(X_train1)\n",
    "X_test1 = minma.transform(X_test1)"
   ]
  },
  {
   "cell_type": "markdown",
   "metadata": {},
   "source": [
    "# Linear Regression "
   ]
  },
  {
   "cell_type": "code",
   "execution_count": 93,
   "metadata": {},
   "outputs": [
    {
     "name": "stdout",
     "output_type": "stream",
     "text": [
      "Accuracy for Test set: -181465525571635740672.00\n",
      "Accuracy for Training set: 0.85\n"
     ]
    }
   ],
   "source": [
    "reg = LinearRegression()\n",
    "reg = reg.fit(X_train1,y_train1)\n",
    "train_pred1 = reg.predict(X_train1)\n",
    "test_pred1 = reg.predict(X_test1)\n",
    "print(\"Accuracy for Test set: \"+\"{:.2f}\".format(reg.score(X_test1,y_test1)))\n",
    "print(\"Accuracy for Training set: \"+\"{:.2f}\".format(reg.score(X_train1,y_train1)))"
   ]
  },
  {
   "cell_type": "code",
   "execution_count": 94,
   "metadata": {},
   "outputs": [
    {
     "data": {
      "text/plain": [
       "274771265431764.22"
      ]
     },
     "execution_count": 94,
     "metadata": {},
     "output_type": "execute_result"
    }
   ],
   "source": [
    "math.sqrt(mean_squared_error(y_test1,test_pred1))"
   ]
  },
  {
   "cell_type": "code",
   "execution_count": 95,
   "metadata": {},
   "outputs": [
    {
     "name": "stdout",
     "output_type": "stream",
     "text": [
      "Tree on train set MAE%: 24.7\n",
      "Tree on test set MAE%: 47701943920.3\n"
     ]
    }
   ],
   "source": [
    "MAE_train=np.mean(abs(y_train1-train_pred1))/np.mean(y_train1)\n",
    "print(\"Tree on train set MAE%:\", round(MAE_train*100,1))\n",
    "\n",
    "MAE_test=np.mean(abs(y_test1-test_pred1))/np.mean(y_test1)\n",
    "print(\"Tree on test set MAE%:\", round(MAE_test*100,1))"
   ]
  },
  {
   "cell_type": "code",
   "execution_count": 96,
   "metadata": {},
   "outputs": [
    {
     "data": {
      "text/plain": [
       "5150    13227.65\n",
       "2164     7754.14\n",
       "1136     7115.57\n",
       "5641    15344.08\n",
       "1515    24594.31\n",
       "          ...   \n",
       "817      9578.65\n",
       "3325    12315.40\n",
       "1875    18427.49\n",
       "2861    11676.83\n",
       "2315     8483.94\n",
       "Name: Price, Length: 1505, dtype: float64"
      ]
     },
     "execution_count": 96,
     "metadata": {},
     "output_type": "execute_result"
    }
   ],
   "source": [
    "y_test1"
   ]
  },
  {
   "cell_type": "code",
   "execution_count": 97,
   "metadata": {},
   "outputs": [
    {
     "data": {
      "text/plain": [
       "array([17900.68271031,  6555.9309583 ,  5973.22780625, ...,\n",
       "       20767.69954589,  9310.22289391, 13850.54385899])"
      ]
     },
     "execution_count": 97,
     "metadata": {},
     "output_type": "execute_result"
    }
   ],
   "source": [
    "test_pred1"
   ]
  },
  {
   "cell_type": "code",
   "execution_count": 98,
   "metadata": {},
   "outputs": [
    {
     "data": {
      "image/png": "[encoded data removed]",
      "text/plain": [
       "<Figure size 432x288 with 1 Axes>"
      ]
     },
     "metadata": {
      "needs_background": "light"
     },
     "output_type": "display_data"
    }
   ],
   "source": [
    "# Create a scatter plot with train and test\n",
    "\n",
    "plt.scatter(y_train1, train_pred1, label='train')\n",
    "plt.scatter(y_test1, test_pred1, label='test')\n",
    "plt.legend()\n",
    "plt.show()"
   ]
  },
  {
   "cell_type": "markdown",
   "metadata": {},
   "source": [
    "# K Neighbor Regressor Model"
   ]
  },
  {
   "cell_type": "code",
   "execution_count": 100,
   "metadata": {},
   "outputs": [
    {
     "name": "stdout",
     "output_type": "stream",
     "text": [
      "Accuracy for Test set: 0.84\n",
      "Accuracy for Training set: 0.91\n"
     ]
    }
   ],
   "source": [
    "k_reg=KNeighborsRegressor()\n",
    "k_reg = k_reg.fit(X_train1,y_train1)\n",
    "train_pred1 = k_reg.predict(X_train1)\n",
    "test_pred1=k_reg.predict(X_test1)\n",
    "print(\"Accuracy for Test set: \"+\"{:.2f}\".format(k_reg.score(X_test1,y_test1)))\n",
    "print(\"Accuracy for Training set: \"+\"{:.2f}\".format(k_reg.score(X_train1,y_train1)))"
   ]
  },
  {
   "cell_type": "code",
   "execution_count": 101,
   "metadata": {},
   "outputs": [
    {
     "data": {
      "text/plain": [
       "8034.2664276561845"
      ]
     },
     "execution_count": 101,
     "metadata": {},
     "output_type": "execute_result"
    }
   ],
   "source": [
    "math.sqrt(mean_squared_error(y_test1,test_pred1))"
   ]
  },
  {
   "cell_type": "code",
   "execution_count": 102,
   "metadata": {},
   "outputs": [
    {
     "name": "stdout",
     "output_type": "stream",
     "text": [
      "Tree on train set MAE%: 15.0\n",
      "Tree on test set MAE%: 19.2\n"
     ]
    }
   ],
   "source": [
    "MAE_train=np.mean(abs(y_train1-train_pred1))/np.mean(y_train1)\n",
    "print(\"Tree on train set MAE%:\", round(MAE_train*100,1))\n",
    "\n",
    "MAE_test=np.mean(abs(y_test1-test_pred1))/np.mean(y_test1)\n",
    "print(\"Tree on test set MAE%:\", round(MAE_test*100,1))"
   ]
  },
  {
   "cell_type": "code",
   "execution_count": 103,
   "metadata": {},
   "outputs": [
    {
     "data": {
      "text/plain": [
       "5150    13227.65\n",
       "2164     7754.14\n",
       "1136     7115.57\n",
       "5641    15344.08\n",
       "1515    24594.31\n",
       "          ...   \n",
       "817      9578.65\n",
       "3325    12315.40\n",
       "1875    18427.49\n",
       "2861    11676.83\n",
       "2315     8483.94\n",
       "Name: Price, Length: 1505, dtype: float64"
      ]
     },
     "execution_count": 103,
     "metadata": {},
     "output_type": "execute_result"
    }
   ],
   "source": [
    "y_test1"
   ]
  },
  {
   "cell_type": "code",
   "execution_count": 104,
   "metadata": {},
   "outputs": [
    {
     "data": {
      "text/plain": [
       "array([15387.868,  6199.664,  6104.792, ..., 22368.42 ,  9746.5  ,\n",
       "       10914.182])"
      ]
     },
     "execution_count": 104,
     "metadata": {},
     "output_type": "execute_result"
    }
   ],
   "source": [
    "test_pred1"
   ]
  },
  {
   "cell_type": "code",
   "execution_count": 105,
   "metadata": {},
   "outputs": [
    {
     "data": {
      "image/png": "[encoded data removed]",
      "text/plain": [
       "<Figure size 432x288 with 1 Axes>"
      ]
     },
     "metadata": {
      "needs_background": "light"
     },
     "output_type": "display_data"
    }
   ],
   "source": [
    "# Create a scatter plot with train and test\n",
    "\n",
    "plt.scatter(y_train1, train_pred1, label='train')\n",
    "plt.scatter(y_test1, test_pred1, label='test')\n",
    "plt.legend()\n",
    "plt.show()"
   ]
  },
  {
   "cell_type": "markdown",
   "metadata": {},
   "source": [
    "# Decision Tree Regressor Model "
   ]
  },
  {
   "cell_type": "code",
   "execution_count": 107,
   "metadata": {},
   "outputs": [
    {
     "name": "stdout",
     "output_type": "stream",
     "text": [
      "Accuracy for Test set: 0.82\n",
      "Accuracy for Training set: 1.00\n"
     ]
    }
   ],
   "source": [
    "dec_reg = DecisionTreeRegressor()\n",
    "dec_reg.fit(X_train1,y_train1)\n",
    "train_pred1 = dec_reg.predict(X_train1)\n",
    "test_pred1=dec_reg.predict(X_test1)\n",
    "print(\"Accuracy for Test set: \"+\"{:.2f}\".format(dec_reg.score(X_test1,y_test1)))\n",
    "print(\"Accuracy for Training set: \"+\"{:.2f}\".format(dec_reg.score(X_train1,y_train1)))"
   ]
  },
  {
   "cell_type": "code",
   "execution_count": 108,
   "metadata": {},
   "outputs": [
    {
     "data": {
      "text/plain": [
       "8695.132059090663"
      ]
     },
     "execution_count": 108,
     "metadata": {},
     "output_type": "execute_result"
    }
   ],
   "source": [
    "math.sqrt(mean_squared_error(y_test1,test_pred1))"
   ]
  },
  {
   "cell_type": "code",
   "execution_count": 109,
   "metadata": {},
   "outputs": [
    {
     "name": "stdout",
     "output_type": "stream",
     "text": [
      "Tree on train set MAE%: 0.0\n",
      "Tree on test set MAE%: 20.3\n"
     ]
    }
   ],
   "source": [
    "MAE_train=np.mean(abs(y_train1-train_pred1))/np.mean(y_train1)\n",
    "print(\"Tree on train set MAE%:\", round(MAE_train*100,1))\n",
    "\n",
    "MAE_test=np.mean(abs(y_test1-test_pred1))/np.mean(y_test1)\n",
    "print(\"Tree on test set MAE%:\", round(MAE_test*100,1))"
   ]
  },
  {
   "cell_type": "code",
   "execution_count": 110,
   "metadata": {},
   "outputs": [
    {
     "data": {
      "text/plain": [
       "5150    13227.65\n",
       "2164     7754.14\n",
       "1136     7115.57\n",
       "5641    15344.08\n",
       "1515    24594.31\n",
       "          ...   \n",
       "817      9578.65\n",
       "3325    12315.40\n",
       "1875    18427.49\n",
       "2861    11676.83\n",
       "2315     8483.94\n",
       "Name: Price, Length: 1505, dtype: float64"
      ]
     },
     "execution_count": 110,
     "metadata": {},
     "output_type": "execute_result"
    }
   ],
   "source": [
    "y_test1"
   ]
  },
  {
   "cell_type": "code",
   "execution_count": 111,
   "metadata": {},
   "outputs": [
    {
     "data": {
      "text/plain": [
       "array([14176.4 ,  5382.29,  6933.12, ..., 19613.42, 10290.2 , 10126.  ])"
      ]
     },
     "execution_count": 111,
     "metadata": {},
     "output_type": "execute_result"
    }
   ],
   "source": [
    "test_pred1"
   ]
  },
  {
   "cell_type": "code",
   "execution_count": 112,
   "metadata": {},
   "outputs": [
    {
     "data": {
      "image/png": "[encoded data removed]",
      "text/plain": [
       "<Figure size 432x288 with 1 Axes>"
      ]
     },
     "metadata": {
      "needs_background": "light"
     },
     "output_type": "display_data"
    }
   ],
   "source": [
    "# Create a scatter plot with train and test\n",
    "\n",
    "plt.scatter(y_train1, train_pred1, label='train')\n",
    "plt.scatter(y_test1, test_pred1, label='test')\n",
    "plt.legend()\n",
    "plt.show()"
   ]
  },
  {
   "cell_type": "markdown",
   "metadata": {},
   "source": [
    "# Random Forest Regressor Model "
   ]
  },
  {
   "cell_type": "code",
   "execution_count": 113,
   "metadata": {},
   "outputs": [
    {
     "name": "stdout",
     "output_type": "stream",
     "text": [
      "Accuracy for Test set: 0.89\n",
      "Accuracy for Training set: 0.99\n"
     ]
    }
   ],
   "source": [
    "rf_reg = RandomForestRegressor(n_estimators=200)\n",
    "rf_reg.fit(X_train1,y_train1)\n",
    "train_pred1 = rf_reg.predict(X_train1)\n",
    "test_pred1=rf_reg.predict(X_test1)\n",
    "print(\"Accuracy for Test set: \"+\"{:.2f}\".format(rf_reg.score(X_test1,y_test1)))\n",
    "print(\"Accuracy for Training set: \"+\"{:.2f}\".format(rf_reg.score(X_train1,y_train1)))"
   ]
  },
  {
   "cell_type": "code",
   "execution_count": 114,
   "metadata": {},
   "outputs": [
    {
     "data": {
      "text/plain": [
       "6789.016632990228"
      ]
     },
     "execution_count": 114,
     "metadata": {},
     "output_type": "execute_result"
    }
   ],
   "source": [
    "math.sqrt(mean_squared_error(y_test1,test_pred1))"
   ]
  },
  {
   "cell_type": "code",
   "execution_count": 115,
   "metadata": {},
   "outputs": [
    {
     "name": "stdout",
     "output_type": "stream",
     "text": [
      "Tree on train set MAE%: 6.1\n",
      "Tree on test set MAE%: 16.1\n"
     ]
    }
   ],
   "source": [
    "MAE_train=np.mean(abs(y_train1-train_pred1))/np.mean(y_train1)\n",
    "print(\"Tree on train set MAE%:\", round(MAE_train*100,1))\n",
    "\n",
    "MAE_test=np.mean(abs(y_test1-test_pred1))/np.mean(y_test1)\n",
    "print(\"Tree on test set MAE%:\", round(MAE_test*100,1))"
   ]
  },
  {
   "cell_type": "code",
   "execution_count": 116,
   "metadata": {},
   "outputs": [
    {
     "data": {
      "text/plain": [
       "5150    13227.65\n",
       "2164     7754.14\n",
       "1136     7115.57\n",
       "5641    15344.08\n",
       "1515    24594.31\n",
       "          ...   \n",
       "817      9578.65\n",
       "3325    12315.40\n",
       "1875    18427.49\n",
       "2861    11676.83\n",
       "2315     8483.94\n",
       "Name: Price, Length: 1505, dtype: float64"
      ]
     },
     "execution_count": 116,
     "metadata": {},
     "output_type": "execute_result"
    }
   ],
   "source": [
    "y_test1"
   ]
  },
  {
   "cell_type": "code",
   "execution_count": 117,
   "metadata": {},
   "outputs": [
    {
     "data": {
      "text/plain": [
       "array([14406.1947,  5702.1225,  7280.2295, ..., 20101.1098,  8593.5952,\n",
       "       10762.0181])"
      ]
     },
     "execution_count": 117,
     "metadata": {},
     "output_type": "execute_result"
    }
   ],
   "source": [
    "test_pred1"
   ]
  },
  {
   "cell_type": "code",
   "execution_count": 118,
   "metadata": {},
   "outputs": [
    {
     "data": {
      "image/png": "[encoded data removed]",
      "text/plain": [
       "<Figure size 432x288 with 1 Axes>"
      ]
     },
     "metadata": {
      "needs_background": "light"
     },
     "output_type": "display_data"
    }
   ],
   "source": [
    "# Create a scatter plot with train and test\n",
    "\n",
    "plt.scatter(y_train1, train_pred1, label='train')\n",
    "plt.scatter(y_test1, test_pred1, label='test')\n",
    "plt.legend()\n",
    "plt.show()"
   ]
  },
  {
   "cell_type": "markdown",
   "metadata": {},
   "source": [
    "# Gradient Boosting Regression Model  "
   ]
  },
  {
   "cell_type": "code",
   "execution_count": 119,
   "metadata": {},
   "outputs": [
    {
     "name": "stdout",
     "output_type": "stream",
     "text": [
      "Accuracy for Test set: 0.43\n",
      "Accuracy for Training set: 0.43\n"
     ]
    }
   ],
   "source": [
    "gb_reg = GradientBoostingRegressor(max_features=4,\n",
    "                                learning_rate=0.01,\n",
    "                                n_estimators=300,\n",
    "                                random_state=10)\n",
    "gb_reg.fit(X_train1,y_train1)\n",
    "train_pred1 = gb_reg.predict(X_train1)\n",
    "test_pred1=gb_reg.predict(X_test1)\n",
    "print(\"Accuracy for Test set: \"+\"{:.2f}\".format(gb_reg.score(X_test1,y_test1)))\n",
    "print(\"Accuracy for Training set: \"+\"{:.2f}\".format(gb_reg.score(X_train1,y_train1)))"
   ]
  },
  {
   "cell_type": "code",
   "execution_count": 120,
   "metadata": {},
   "outputs": [
    {
     "data": {
      "text/plain": [
       "15460.90949326265"
      ]
     },
     "execution_count": 120,
     "metadata": {},
     "output_type": "execute_result"
    }
   ],
   "source": [
    "math.sqrt(mean_squared_error(y_test1,test_pred1))"
   ]
  },
  {
   "cell_type": "code",
   "execution_count": 121,
   "metadata": {},
   "outputs": [
    {
     "name": "stdout",
     "output_type": "stream",
     "text": [
      "Tree on train set MAE%: 52.5\n",
      "Tree on test set MAE%: 51.0\n"
     ]
    }
   ],
   "source": [
    "MAE_train=np.mean(abs(y_train1-train_pred1))/np.mean(y_train1)\n",
    "print(\"Tree on train set MAE%:\", round(MAE_train*100,1))\n",
    "\n",
    "MAE_test=np.mean(abs(y_test1-test_pred1))/np.mean(y_test1)\n",
    "print(\"Tree on test set MAE%:\", round(MAE_test*100,1))"
   ]
  },
  {
   "cell_type": "code",
   "execution_count": 122,
   "metadata": {},
   "outputs": [
    {
     "data": {
      "text/plain": [
       "5150    13227.65\n",
       "2164     7754.14\n",
       "1136     7115.57\n",
       "5641    15344.08\n",
       "1515    24594.31\n",
       "          ...   \n",
       "817      9578.65\n",
       "3325    12315.40\n",
       "1875    18427.49\n",
       "2861    11676.83\n",
       "2315     8483.94\n",
       "Name: Price, Length: 1505, dtype: float64"
      ]
     },
     "execution_count": 122,
     "metadata": {},
     "output_type": "execute_result"
    }
   ],
   "source": [
    "y_test1"
   ]
  },
  {
   "cell_type": "code",
   "execution_count": 123,
   "metadata": {},
   "outputs": [
    {
     "data": {
      "text/plain": [
       "array([18014.68792004, 13259.57625078, 12199.27799922, ...,\n",
       "       19396.96804337, 13386.4325481 , 13938.28627713])"
      ]
     },
     "execution_count": 123,
     "metadata": {},
     "output_type": "execute_result"
    }
   ],
   "source": [
    "test_pred1"
   ]
  },
  {
   "cell_type": "code",
   "execution_count": 124,
   "metadata": {},
   "outputs": [
    {
     "data": {
      "image/png": "[encoded data removed]",
      "text/plain": [
       "<Figure size 432x288 with 1 Axes>"
      ]
     },
     "metadata": {
      "needs_background": "light"
     },
     "output_type": "display_data"
    }
   ],
   "source": [
    "# Create a scatter plot with train and test\n",
    "\n",
    "plt.scatter(y_train1, train_pred1, label='train')\n",
    "plt.scatter(y_test1, test_pred1, label='test')\n",
    "plt.legend()\n",
    "plt.show()"
   ]
  },
  {
   "cell_type": "markdown",
   "metadata": {},
   "source": [
    "# Ridge Regression Model "
   ]
  },
  {
   "cell_type": "code",
   "execution_count": 125,
   "metadata": {},
   "outputs": [
    {
     "name": "stdout",
     "output_type": "stream",
     "text": [
      "Accuracy for Test set: 0.83\n",
      "Accuracy for Training set: 0.84\n"
     ]
    }
   ],
   "source": [
    "clf = Ridge(alpha=1.0)\n",
    "clf.fit(X_train1,y_train1)\n",
    "train_pred1 = clf.predict(X_train1)\n",
    "test_pred1=clf.predict(X_test1)\n",
    "print(\"Accuracy for Test set: \"+\"{:.2f}\".format(clf.score(X_test1,y_test1)))\n",
    "print(\"Accuracy for Training set: \"+\"{:.2f}\".format(clf.score(X_train1,y_train1)))"
   ]
  },
  {
   "cell_type": "code",
   "execution_count": 126,
   "metadata": {},
   "outputs": [
    {
     "data": {
      "text/plain": [
       "8492.179449119649"
      ]
     },
     "execution_count": 126,
     "metadata": {},
     "output_type": "execute_result"
    }
   ],
   "source": [
    "math.sqrt(mean_squared_error(y_test1,test_pred1))"
   ]
  },
  {
   "cell_type": "code",
   "execution_count": 127,
   "metadata": {},
   "outputs": [
    {
     "name": "stdout",
     "output_type": "stream",
     "text": [
      "Tree on train set MAE%: 26.2\n",
      "Tree on test set MAE%: 25.8\n"
     ]
    }
   ],
   "source": [
    "MAE_train=np.mean(abs(y_train1-train_pred1))/np.mean(y_train1)\n",
    "print(\"Tree on train set MAE%:\", round(MAE_train*100,1))\n",
    "\n",
    "MAE_test=np.mean(abs(y_test1-test_pred1))/np.mean(y_test1)\n",
    "print(\"Tree on test set MAE%:\", round(MAE_test*100,1))"
   ]
  },
  {
   "cell_type": "code",
   "execution_count": 128,
   "metadata": {},
   "outputs": [
    {
     "data": {
      "text/plain": [
       "5150    13227.65\n",
       "2164     7754.14\n",
       "1136     7115.57\n",
       "5641    15344.08\n",
       "1515    24594.31\n",
       "          ...   \n",
       "817      9578.65\n",
       "3325    12315.40\n",
       "1875    18427.49\n",
       "2861    11676.83\n",
       "2315     8483.94\n",
       "Name: Price, Length: 1505, dtype: float64"
      ]
     },
     "execution_count": 128,
     "metadata": {},
     "output_type": "execute_result"
    }
   ],
   "source": [
    "y_test1"
   ]
  },
  {
   "cell_type": "code",
   "execution_count": 129,
   "metadata": {},
   "outputs": [
    {
     "data": {
      "text/plain": [
       "array([17965.36342422,  8448.04641118,  5765.82573329, ...,\n",
       "       21413.23778043,  9226.62022778, 13272.8856628 ])"
      ]
     },
     "execution_count": 129,
     "metadata": {},
     "output_type": "execute_result"
    }
   ],
   "source": [
    "test_pred1"
   ]
  },
  {
   "cell_type": "code",
   "execution_count": 130,
   "metadata": {},
   "outputs": [
    {
     "data": {
      "image/png": "[encoded data removed]",
      "text/plain": [
       "<Figure size 432x288 with 1 Axes>"
      ]
     },
     "metadata": {
      "needs_background": "light"
     },
     "output_type": "display_data"
    }
   ],
   "source": [
    "# Create a scatter plot with train and test\n",
    "\n",
    "plt.scatter(y_train1, train_pred1, label='train')\n",
    "plt.scatter(y_test1, test_pred1, label='test')\n",
    "plt.legend()\n",
    "plt.show()"
   ]
  },
  {
   "cell_type": "markdown",
   "metadata": {},
   "source": [
    "# Lasso Regression Model "
   ]
  },
  {
   "cell_type": "code",
   "execution_count": 131,
   "metadata": {},
   "outputs": [
    {
     "name": "stdout",
     "output_type": "stream",
     "text": [
      "Accuracy for Test set: 0.81\n",
      "Accuracy for Training set: 0.85\n"
     ]
    }
   ],
   "source": [
    "las = linear_model.Lasso(alpha=1)\n",
    "las.fit(X_train1,y_train1)\n",
    "train_pred1 = las.predict(X_train1)\n",
    "test_pred1=las.predict(X_test1)\n",
    "print(\"Accuracy for Test set: \"+\"{:.2f}\".format(las.score(X_test1,y_test1)))\n",
    "print(\"Accuracy for Training set: \"+\"{:.2f}\".format(las.score(X_train1,y_train1)))"
   ]
  },
  {
   "cell_type": "code",
   "execution_count": 132,
   "metadata": {},
   "outputs": [
    {
     "data": {
      "text/plain": [
       "8956.915858623011"
      ]
     },
     "execution_count": 132,
     "metadata": {},
     "output_type": "execute_result"
    }
   ],
   "source": [
    "math.sqrt(mean_squared_error(y_test1,test_pred1))"
   ]
  },
  {
   "cell_type": "code",
   "execution_count": 133,
   "metadata": {},
   "outputs": [
    {
     "name": "stdout",
     "output_type": "stream",
     "text": [
      "Tree on train set MAE%: 25.0\n",
      "Tree on test set MAE%: 25.6\n"
     ]
    }
   ],
   "source": [
    "MAE_train=np.mean(abs(y_train1-train_pred1))/np.mean(y_train1)\n",
    "print(\"Tree on train set MAE%:\", round(MAE_train*100,1))\n",
    "\n",
    "MAE_test=np.mean(abs(y_test1-test_pred1))/np.mean(y_test1)\n",
    "print(\"Tree on test set MAE%:\", round(MAE_test*100,1))"
   ]
  },
  {
   "cell_type": "code",
   "execution_count": 134,
   "metadata": {},
   "outputs": [
    {
     "data": {
      "text/plain": [
       "5150    13227.65\n",
       "2164     7754.14\n",
       "1136     7115.57\n",
       "5641    15344.08\n",
       "1515    24594.31\n",
       "          ...   \n",
       "817      9578.65\n",
       "3325    12315.40\n",
       "1875    18427.49\n",
       "2861    11676.83\n",
       "2315     8483.94\n",
       "Name: Price, Length: 1505, dtype: float64"
      ]
     },
     "execution_count": 134,
     "metadata": {},
     "output_type": "execute_result"
    }
   ],
   "source": [
    "y_test1"
   ]
  },
  {
   "cell_type": "code",
   "execution_count": 135,
   "metadata": {},
   "outputs": [
    {
     "data": {
      "text/plain": [
       "array([17951.39108078,  7593.37086433,  5900.85708136, ...,\n",
       "       20993.04738921,  9270.30265887, 13551.27629861])"
      ]
     },
     "execution_count": 135,
     "metadata": {},
     "output_type": "execute_result"
    }
   ],
   "source": [
    "test_pred1"
   ]
  },
  {
   "cell_type": "code",
   "execution_count": 136,
   "metadata": {},
   "outputs": [
    {
     "data": {
      "image/png": "[encoded data removed]",
      "text/plain": [
       "<Figure size 432x288 with 1 Axes>"
      ]
     },
     "metadata": {
      "needs_background": "light"
     },
     "output_type": "display_data"
    }
   ],
   "source": [
    "# Create a scatter plot with train and test\n",
    "\n",
    "plt.scatter(y_train1, train_pred1, label='train')\n",
    "plt.scatter(y_test1, test_pred1, label='test')\n",
    "plt.legend()\n",
    "plt.show()"
   ]
  },
  {
   "cell_type": "markdown",
   "metadata": {},
   "source": [
    "# Artificial Neural Network Model (Keras)"
   ]
  },
  {
   "cell_type": "code",
   "execution_count": 162,
   "metadata": {},
   "outputs": [],
   "source": [
    "np.random.seed(1337)\n",
    "model = Sequential()\n",
    "model.add(Dense(200,activation='relu',input_dim=231))\n",
    "model.add(Dropout(0.2))\n",
    "model.add(Dense(100,activation='relu'))\n",
    "model.add(Dropout(0.2))\n",
    "model.add(Dense(1,activation='linear'))"
   ]
  },
  {
   "cell_type": "code",
   "execution_count": 163,
   "metadata": {},
   "outputs": [
    {
     "name": "stdout",
     "output_type": "stream",
     "text": [
      "Epoch 1/400\n",
      "4514/4514 [==============================] - 1s 254us/step - loss: 548329204.2880\n",
      "Epoch 2/400\n",
      "4514/4514 [==============================] - 1s 224us/step - loss: 313243032.5902\n",
      "Epoch 3/400\n",
      "4514/4514 [==============================] - 1s 218us/step - loss: 254975012.2960\n",
      "Epoch 4/400\n",
      "4514/4514 [==============================] - 1s 223us/step - loss: 211811558.3358\n",
      "Epoch 5/400\n",
      "4514/4514 [==============================] - 1s 232us/step - loss: 182980949.6588\n",
      "Epoch 6/400\n",
      "4514/4514 [==============================] - 1s 221us/step - loss: 166806823.7829\n",
      "Epoch 7/400\n",
      "4514/4514 [==============================] - 1s 218us/step - loss: 154745184.9304\n",
      "Epoch 8/400\n",
      "4514/4514 [==============================] - 1s 206us/step - loss: 140864134.0160\n",
      "Epoch 9/400\n",
      "4514/4514 [==============================] - 1s 195us/step - loss: 129213318.2997\n",
      "Epoch 10/400\n",
      "4514/4514 [==============================] - 1s 216us/step - loss: 117486767.5064\n",
      "Epoch 11/400\n",
      "4514/4514 [==============================] - 1s 225us/step - loss: 107412357.1351\n",
      "Epoch 12/400\n",
      "4514/4514 [==============================] - 1s 197us/step - loss: 96390128.6467\n",
      "Epoch 13/400\n",
      "4514/4514 [==============================] - 1s 204us/step - loss: 88153468.3203\n",
      "Epoch 14/400\n",
      "4514/4514 [==============================] - 1s 193us/step - loss: 81254040.8086\n",
      "Epoch 15/400\n",
      "4514/4514 [==============================] - 1s 203us/step - loss: 75628961.8237\n",
      "Epoch 16/400\n",
      "4514/4514 [==============================] - 1s 200us/step - loss: 69016542.1941\n",
      "Epoch 17/400\n",
      "4514/4514 [==============================] - 1s 192us/step - loss: 67982632.8946\n",
      "Epoch 18/400\n",
      "4514/4514 [==============================] - 1s 232us/step - loss: 61806783.5383\n",
      "Epoch 19/400\n",
      "4514/4514 [==============================] - 1s 245us/step - loss: 58913832.6241\n",
      "Epoch 20/400\n",
      "4514/4514 [==============================] - 1s 212us/step - loss: 55126254.3479\n",
      "Epoch 21/400\n",
      "4514/4514 [==============================] - 1s 236us/step - loss: 51525862.2626\n",
      "Epoch 22/400\n",
      "4514/4514 [==============================] - 1s 269us/step - loss: 50740109.5168\n",
      "Epoch 23/400\n",
      "4514/4514 [==============================] - 1s 238us/step - loss: 47037727.6621\n",
      "Epoch 24/400\n",
      "4514/4514 [==============================] - 1s 245us/step - loss: 47422850.2364\n",
      "Epoch 25/400\n",
      "4514/4514 [==============================] - 1s 238us/step - loss: 44478605.4454\n",
      "Epoch 26/400\n",
      "4514/4514 [==============================] - 1s 216us/step - loss: 46343012.5908\n",
      "Epoch 27/400\n",
      "4514/4514 [==============================] - 1s 232us/step - loss: 44241173.3329\n",
      "Epoch 28/400\n",
      "4514/4514 [==============================] - 1s 187us/step - loss: 45467582.9391\n",
      "Epoch 29/400\n",
      "4514/4514 [==============================] - 1s 184us/step - loss: 42999027.4116\n",
      "Epoch 30/400\n",
      "4514/4514 [==============================] - 1s 264us/step - loss: 42220499.0908\n",
      "Epoch 31/400\n",
      "4514/4514 [==============================] - 1s 250us/step - loss: 42071508.6244\n",
      "Epoch 32/400\n",
      "4514/4514 [==============================] - 1s 276us/step - loss: 41847390.1413\n",
      "Epoch 33/400\n",
      "4514/4514 [==============================] - 1s 228us/step - loss: 40786376.3680\n",
      "Epoch 34/400\n",
      "4514/4514 [==============================] - 1s 239us/step - loss: 37693934.5609\n",
      "Epoch 35/400\n",
      "4514/4514 [==============================] - 1s 174us/step - loss: 41508245.3589\n",
      "Epoch 36/400\n",
      "4514/4514 [==============================] - 1s 208us/step - loss: 39385074.8336\n",
      "Epoch 37/400\n",
      "4514/4514 [==============================] - 1s 227us/step - loss: 38539705.6070\n",
      "Epoch 38/400\n",
      "4514/4514 [==============================] - 1s 177us/step - loss: 38506393.0154\n",
      "Epoch 39/400\n",
      "4514/4514 [==============================] - 1s 175us/step - loss: 40155493.2169\n",
      "Epoch 40/400\n",
      "4514/4514 [==============================] - 1s 174us/step - loss: 39517040.5315\n",
      "Epoch 41/400\n",
      "4514/4514 [==============================] - 1s 177us/step - loss: 39903038.1296\n",
      "Epoch 42/400\n",
      "4514/4514 [==============================] - 1s 179us/step - loss: 38930049.8622\n",
      "Epoch 43/400\n",
      "4514/4514 [==============================] - 1s 219us/step - loss: 39419206.8866\n",
      "Epoch 44/400\n",
      "4514/4514 [==============================] - 1s 200us/step - loss: 38576714.6439\n",
      "Epoch 45/400\n",
      "4514/4514 [==============================] - 1s 171us/step - loss: 37308381.8001\n",
      "Epoch 46/400\n",
      "4514/4514 [==============================] - 1s 174us/step - loss: 36331336.7768\n",
      "Epoch 47/400\n",
      "4514/4514 [==============================] - 1s 176us/step - loss: 37749120.8163\n",
      "Epoch 48/400\n",
      "4514/4514 [==============================] - 1s 185us/step - loss: 36995051.4459\n",
      "Epoch 49/400\n",
      "4514/4514 [==============================] - 1s 180us/step - loss: 35332012.2542\n",
      "Epoch 50/400\n",
      "4514/4514 [==============================] - 1s 177us/step - loss: 35760087.3631\n",
      "Epoch 51/400\n",
      "4514/4514 [==============================] - 1s 176us/step - loss: 37270475.3959\n",
      "Epoch 52/400\n",
      "4514/4514 [==============================] - 1s 177us/step - loss: 34993271.6812\n",
      "Epoch 53/400\n",
      "4514/4514 [==============================] - 1s 174us/step - loss: 36489598.3620\n",
      "Epoch 54/400\n",
      "4514/4514 [==============================] - 1s 180us/step - loss: 37468352.3766\n",
      "Epoch 55/400\n",
      "4514/4514 [==============================] - 1s 174us/step - loss: 34471824.7407\n",
      "Epoch 56/400\n",
      "4514/4514 [==============================] - 1s 181us/step - loss: 36798873.0652\n",
      "Epoch 57/400\n",
      "4514/4514 [==============================] - 1s 177us/step - loss: 34931869.3220\n",
      "Epoch 58/400\n",
      "4514/4514 [==============================] - 1s 175us/step - loss: 34465328.4076\n",
      "Epoch 59/400\n",
      "4514/4514 [==============================] - 1s 174us/step - loss: 36030053.5616\n",
      "Epoch 60/400\n",
      "4514/4514 [==============================] - 1s 177us/step - loss: 35232969.1277\n",
      "Epoch 61/400\n",
      "4514/4514 [==============================] - 1s 172us/step - loss: 35127748.1433\n",
      "Epoch 62/400\n",
      "4514/4514 [==============================] - 1s 180us/step - loss: 35115733.5969\n",
      "Epoch 63/400\n",
      "4514/4514 [==============================] - 1s 213us/step - loss: 34812177.8996\n",
      "Epoch 64/400\n",
      "4514/4514 [==============================] - 1s 185us/step - loss: 35928518.1649\n",
      "Epoch 65/400\n",
      "4514/4514 [==============================] - 1s 177us/step - loss: 33404582.1264\n",
      "Epoch 66/400\n",
      "4514/4514 [==============================] - 1s 175us/step - loss: 34137122.6614\n",
      "Epoch 67/400\n",
      "4514/4514 [==============================] - 1s 179us/step - loss: 35526516.5762\n",
      "Epoch 68/400\n",
      "4514/4514 [==============================] - 1s 184us/step - loss: 33278583.2264\n",
      "Epoch 69/400\n",
      "4514/4514 [==============================] - 1s 179us/step - loss: 35197122.0711\n",
      "Epoch 70/400\n",
      "4514/4514 [==============================] - 1s 178us/step - loss: 33802475.0912\n",
      "Epoch 71/400\n",
      "4514/4514 [==============================] - 1s 177us/step - loss: 33526287.4130\n",
      "Epoch 72/400\n",
      "4514/4514 [==============================] - 1s 198us/step - loss: 34138376.8698\n",
      "Epoch 73/400\n",
      "4514/4514 [==============================] - 1s 238us/step - loss: 34829909.0111\n",
      "Epoch 74/400\n",
      "4514/4514 [==============================] - 1s 208us/step - loss: 33953626.0903\n",
      "Epoch 75/400\n",
      "4514/4514 [==============================] - 1s 194us/step - loss: 33542284.3461\n",
      "Epoch 76/400\n",
      "4514/4514 [==============================] - 1s 190us/step - loss: 33430817.0144\n",
      "Epoch 77/400\n",
      "4514/4514 [==============================] - 1s 218us/step - loss: 33702897.0241\n",
      "Epoch 78/400\n",
      "4514/4514 [==============================] - 1s 211us/step - loss: 34439508.7223\n",
      "Epoch 79/400\n",
      "4514/4514 [==============================] - 1s 194us/step - loss: 31606713.6565\n",
      "Epoch 80/400\n",
      "4514/4514 [==============================] - 1s 177us/step - loss: 33282896.3793\n",
      "Epoch 81/400\n",
      "4514/4514 [==============================] - 1s 222us/step - loss: 35386482.3008\n",
      "Epoch 82/400\n",
      "4514/4514 [==============================] - 1s 234us/step - loss: 35991484.2807\n",
      "Epoch 83/400\n",
      "4514/4514 [==============================] - 1s 184us/step - loss: 32452401.4140\n",
      "Epoch 84/400\n",
      "4514/4514 [==============================] - 1s 207us/step - loss: 33227469.2036\n",
      "Epoch 85/400\n",
      "4514/4514 [==============================] - 1s 229us/step - loss: 33694364.1080\n",
      "Epoch 86/400\n",
      "4514/4514 [==============================] - 1s 276us/step - loss: 33306161.9860\n",
      "Epoch 87/400\n",
      "4514/4514 [==============================] - 1s 298us/step - loss: 34446952.1534\n",
      "Epoch 88/400\n"
     ]
    },
    {
     "name": "stdout",
     "output_type": "stream",
     "text": [
      "4514/4514 [==============================] - 1s 319us/step - loss: 35833694.1711\n",
      "Epoch 89/400\n",
      "4514/4514 [==============================] - 1s 202us/step - loss: 33157707.4508\n",
      "Epoch 90/400\n",
      "4514/4514 [==============================] - 1s 185us/step - loss: 32594042.3813\n",
      "Epoch 91/400\n",
      "4514/4514 [==============================] - 1s 188us/step - loss: 32045528.3561\n",
      "Epoch 92/400\n",
      "4514/4514 [==============================] - 1s 225us/step - loss: 33711849.1788\n",
      "Epoch 93/400\n",
      "4514/4514 [==============================] - 1s 227us/step - loss: 32445372.2709\n",
      "Epoch 94/400\n",
      "4514/4514 [==============================] - 1s 205us/step - loss: 32321892.1465\n",
      "Epoch 95/400\n",
      "4514/4514 [==============================] - 1s 194us/step - loss: 35432945.7482\n",
      "Epoch 96/400\n",
      "4514/4514 [==============================] - 1s 187us/step - loss: 32842339.3030\n",
      "Epoch 97/400\n",
      "4514/4514 [==============================] - 1s 223us/step - loss: 31313810.74500s - loss:\n",
      "Epoch 98/400\n",
      "4514/4514 [==============================] - 1s 203us/step - loss: 32703227.9145\n",
      "Epoch 99/400\n",
      "4514/4514 [==============================] - 1s 184us/step - loss: 33211606.5855\n",
      "Epoch 100/400\n",
      "4514/4514 [==============================] - 1s 174us/step - loss: 33377144.0893\n",
      "Epoch 101/400\n",
      "4514/4514 [==============================] - 1s 187us/step - loss: 30845433.8568\n",
      "Epoch 102/400\n",
      "4514/4514 [==============================] - 1s 196us/step - loss: 33152299.2655\n",
      "Epoch 103/400\n",
      "4514/4514 [==============================] - 1s 183us/step - loss: 30453247.3730\n",
      "Epoch 104/400\n",
      "4514/4514 [==============================] - 1s 193us/step - loss: 33280911.1558\n",
      "Epoch 105/400\n",
      "4514/4514 [==============================] - 1s 197us/step - loss: 33129742.1241\n",
      "Epoch 106/400\n",
      "4514/4514 [==============================] - 1s 193us/step - loss: 32751722.6565\n",
      "Epoch 107/400\n",
      "4514/4514 [==============================] - 1s 181us/step - loss: 31235080.1362\n",
      "Epoch 108/400\n",
      "4514/4514 [==============================] - 1s 189us/step - loss: 35178362.2532\n",
      "Epoch 109/400\n",
      "4514/4514 [==============================] - 1s 184us/step - loss: 33257094.3540\n",
      "Epoch 110/400\n",
      "4514/4514 [==============================] - 1s 188us/step - loss: 32489026.9523\n",
      "Epoch 111/400\n",
      "4514/4514 [==============================] - 1s 182us/step - loss: 33323893.8828\n",
      "Epoch 112/400\n",
      "4514/4514 [==============================] - 1s 182us/step - loss: 32163810.8271\n",
      "Epoch 113/400\n",
      "4514/4514 [==============================] - 1s 176us/step - loss: 34070047.1787\n",
      "Epoch 114/400\n",
      "4514/4514 [==============================] - 1s 184us/step - loss: 30797441.0203\n",
      "Epoch 115/400\n",
      "4514/4514 [==============================] - 1s 184us/step - loss: 33165741.6606\n",
      "Epoch 116/400\n",
      "4514/4514 [==============================] - 1s 233us/step - loss: 30426357.3816\n",
      "Epoch 117/400\n",
      "4514/4514 [==============================] - 1s 192us/step - loss: 33669020.8396\n",
      "Epoch 118/400\n",
      "4514/4514 [==============================] - 1s 189us/step - loss: 31678927.9105\n",
      "Epoch 119/400\n",
      "4514/4514 [==============================] - 1s 180us/step - loss: 31346205.7508\n",
      "Epoch 120/400\n",
      "4514/4514 [==============================] - 1s 180us/step - loss: 33084202.2141\n",
      "Epoch 121/400\n",
      "4514/4514 [==============================] - 1s 187us/step - loss: 30966359.1062\n",
      "Epoch 122/400\n",
      "4514/4514 [==============================] - 1s 187us/step - loss: 30338109.3895\n",
      "Epoch 123/400\n",
      "4514/4514 [==============================] - 1s 191us/step - loss: 32007297.3590\n",
      "Epoch 124/400\n",
      "4514/4514 [==============================] - 1s 196us/step - loss: 31635701.1064\n",
      "Epoch 125/400\n",
      "4514/4514 [==============================] - 1s 197us/step - loss: 31803549.2479\n",
      "Epoch 126/400\n",
      "4514/4514 [==============================] - 1s 194us/step - loss: 31285240.1454\n",
      "Epoch 127/400\n",
      "4514/4514 [==============================] - 1s 193us/step - loss: 31255517.8434\n",
      "Epoch 128/400\n",
      "4514/4514 [==============================] - 1s 268us/step - loss: 33928453.9078\n",
      "Epoch 129/400\n",
      "4514/4514 [==============================] - 1s 257us/step - loss: 31396235.2323\n",
      "Epoch 130/400\n",
      "4514/4514 [==============================] - 1s 250us/step - loss: 30227284.4613\n",
      "Epoch 131/400\n",
      "4514/4514 [==============================] - 1s 242us/step - loss: 32288641.8878\n",
      "Epoch 132/400\n",
      "4514/4514 [==============================] - 1s 234us/step - loss: 32573764.6732\n",
      "Epoch 133/400\n",
      "4514/4514 [==============================] - 1s 221us/step - loss: 32137165.5033\n",
      "Epoch 134/400\n",
      "4514/4514 [==============================] - 1s 187us/step - loss: 33582181.0920\n",
      "Epoch 135/400\n",
      "4514/4514 [==============================] - 1s 190us/step - loss: 30951855.4249\n",
      "Epoch 136/400\n",
      "4514/4514 [==============================] - 1s 186us/step - loss: 31040211.1252\n",
      "Epoch 137/400\n",
      "4514/4514 [==============================] - 1s 188us/step - loss: 30844646.3042\n",
      "Epoch 138/400\n",
      "4514/4514 [==============================] - 1s 192us/step - loss: 32182331.9380\n",
      "Epoch 139/400\n",
      "4514/4514 [==============================] - 1s 189us/step - loss: 31060046.4547\n",
      "Epoch 140/400\n",
      "4514/4514 [==============================] - 1s 192us/step - loss: 31907106.7543\n",
      "Epoch 141/400\n",
      "4514/4514 [==============================] - 1s 192us/step - loss: 29321264.7614\n",
      "Epoch 142/400\n",
      "4514/4514 [==============================] - 1s 209us/step - loss: 30855817.3446\n",
      "Epoch 143/400\n",
      "4514/4514 [==============================] - 1s 182us/step - loss: 30936324.0240\n",
      "Epoch 144/400\n",
      "4514/4514 [==============================] - 1s 194us/step - loss: 34221468.5878\n",
      "Epoch 145/400\n",
      "4514/4514 [==============================] - 1s 206us/step - loss: 30696578.4634\n",
      "Epoch 146/400\n",
      "4514/4514 [==============================] - 1s 229us/step - loss: 29251467.9402\n",
      "Epoch 147/400\n",
      "4514/4514 [==============================] - 1s 198us/step - loss: 31437969.1046\n",
      "Epoch 148/400\n",
      "4514/4514 [==============================] - 1s 194us/step - loss: 30686380.2747\n",
      "Epoch 149/400\n",
      "4514/4514 [==============================] - 1s 209us/step - loss: 32221532.5399\n",
      "Epoch 150/400\n",
      "4514/4514 [==============================] - 1s 196us/step - loss: 31348562.8913\n",
      "Epoch 151/400\n",
      "4514/4514 [==============================] - 1s 229us/step - loss: 31527627.1002\n",
      "Epoch 152/400\n",
      "4514/4514 [==============================] - 1s 182us/step - loss: 32211544.5337\n",
      "Epoch 153/400\n",
      "4514/4514 [==============================] - 1s 175us/step - loss: 31360742.4731\n",
      "Epoch 154/400\n",
      "4514/4514 [==============================] - 1s 180us/step - loss: 30761936.8839\n",
      "Epoch 155/400\n",
      "4514/4514 [==============================] - 1s 198us/step - loss: 32450007.2784\n",
      "Epoch 156/400\n",
      "4514/4514 [==============================] - 1s 220us/step - loss: 30451238.9616\n",
      "Epoch 157/400\n",
      "4514/4514 [==============================] - 1s 242us/step - loss: 30867912.8656\n",
      "Epoch 158/400\n",
      "4514/4514 [==============================] - 1s 244us/step - loss: 31174891.1899\n",
      "Epoch 159/400\n",
      "4514/4514 [==============================] - 1s 232us/step - loss: 30345514.7362\n",
      "Epoch 160/400\n",
      "4514/4514 [==============================] - 1s 219us/step - loss: 31000984.6543\n",
      "Epoch 161/400\n",
      "4514/4514 [==============================] - 1s 259us/step - loss: 30163572.0211\n",
      "Epoch 162/400\n",
      "4514/4514 [==============================] - 1s 270us/step - loss: 31775988.5456\n",
      "Epoch 163/400\n",
      "4514/4514 [==============================] - 1s 294us/step - loss: 30962263.2188\n",
      "Epoch 164/400\n",
      "4514/4514 [==============================] - 1s 272us/step - loss: 32088196.3492\n",
      "Epoch 165/400\n",
      "4514/4514 [==============================] - 1s 263us/step - loss: 32112069.3991\n",
      "Epoch 166/400\n",
      "4514/4514 [==============================] - 1s 227us/step - loss: 32403235.4688\n",
      "Epoch 167/400\n",
      "4514/4514 [==============================] - 1s 247us/step - loss: 30243739.4608\n",
      "Epoch 168/400\n",
      "4514/4514 [==============================] - 1s 293us/step - loss: 29455058.4755\n",
      "Epoch 169/400\n",
      "4514/4514 [==============================] - 1s 260us/step - loss: 31502722.9342\n",
      "Epoch 170/400\n",
      "4514/4514 [==============================] - 1s 175us/step - loss: 30502978.5073\n",
      "Epoch 171/400\n",
      "4514/4514 [==============================] - 1s 272us/step - loss: 33881965.5331\n",
      "Epoch 172/400\n",
      "4514/4514 [==============================] - 1s 267us/step - loss: 32284588.5215\n",
      "Epoch 173/400\n",
      "4514/4514 [==============================] - 1s 185us/step - loss: 32435948.6441\n",
      "Epoch 174/400\n",
      "4514/4514 [==============================] - 1s 158us/step - loss: 30957189.0756\n",
      "Epoch 175/400\n",
      "4514/4514 [==============================] - 1s 193us/step - loss: 30894887.2386\n",
      "Epoch 176/400\n",
      "4514/4514 [==============================] - 1s 228us/step - loss: 28731418.9600\n",
      "Epoch 177/400\n",
      "4514/4514 [==============================] - 1s 239us/step - loss: 30885143.8393\n",
      "Epoch 178/400\n",
      "4514/4514 [==============================] - 1s 280us/step - loss: 30690994.5045\n",
      "Epoch 179/400\n",
      "4514/4514 [==============================] - 1s 279us/step - loss: 32819790.6686\n",
      "Epoch 180/400\n",
      "4514/4514 [==============================] - 1s 254us/step - loss: 31868148.1819\n",
      "Epoch 181/400\n",
      "4514/4514 [==============================] - 2s 337us/step - loss: 30940194.9906\n",
      "Epoch 182/400\n",
      "4514/4514 [==============================] - 1s 287us/step - loss: 29729654.1345\n",
      "Epoch 183/400\n",
      "4514/4514 [==============================] - 1s 221us/step - loss: 30823849.5497\n",
      "Epoch 184/400\n",
      "4514/4514 [==============================] - 1s 329us/step - loss: 31585182.2257\n",
      "Epoch 185/400\n",
      "4514/4514 [==============================] - 1s 268us/step - loss: 30947495.9251\n",
      "Epoch 186/400\n",
      "4514/4514 [==============================] - 1s 253us/step - loss: 31018533.8946\n",
      "Epoch 187/400\n",
      "4514/4514 [==============================] - 1s 257us/step - loss: 29729871.4509\n",
      "Epoch 188/400\n",
      "4514/4514 [==============================] - 1s 320us/step - loss: 30440159.1613\n",
      "Epoch 189/400\n",
      "4514/4514 [==============================] - 2s 338us/step - loss: 30449903.5915\n",
      "Epoch 190/400\n",
      "4514/4514 [==============================] - 1s 218us/step - loss: 30403039.5093\n",
      "Epoch 191/400\n",
      "4514/4514 [==============================] - 1s 216us/step - loss: 30790516.1937\n",
      "Epoch 192/400\n",
      "4514/4514 [==============================] - 1s 216us/step - loss: 28230581.8653\n",
      "Epoch 193/400\n",
      "4514/4514 [==============================] - 1s 215us/step - loss: 29345795.9905\n",
      "Epoch 194/400\n",
      "4514/4514 [==============================] - 1s 258us/step - loss: 30937056.7313\n",
      "Epoch 195/400\n",
      "4514/4514 [==============================] - 1s 258us/step - loss: 30348602.0264\n",
      "Epoch 196/400\n",
      "4514/4514 [==============================] - 1s 329us/step - loss: 28897448.1803\n",
      "Epoch 197/400\n",
      "4514/4514 [==============================] - 1s 225us/step - loss: 29933835.1107\n",
      "Epoch 198/400\n",
      "4514/4514 [==============================] - 1s 217us/step - loss: 29364180.0619\n",
      "Epoch 199/400\n",
      "4514/4514 [==============================] - 1s 212us/step - loss: 30541905.7962\n",
      "Epoch 200/400\n",
      "4514/4514 [==============================] - 1s 216us/step - loss: 29987175.9258\n",
      "Epoch 201/400\n",
      "4514/4514 [==============================] - 1s 216us/step - loss: 29897150.3127\n",
      "Epoch 202/400\n",
      "4514/4514 [==============================] - 1s 216us/step - loss: 31527942.3808\n",
      "Epoch 203/400\n",
      "4514/4514 [==============================] - 1s 213us/step - loss: 30658062.7321\n",
      "Epoch 204/400\n",
      "4514/4514 [==============================] - 1s 217us/step - loss: 31111805.8531\n",
      "Epoch 205/400\n",
      "4514/4514 [==============================] - 1s 302us/step - loss: 30415759.6289\n",
      "Epoch 206/400\n",
      "4514/4514 [==============================] - 1s 319us/step - loss: 30715302.2199\n",
      "Epoch 207/400\n",
      "4514/4514 [==============================] - 1s 259us/step - loss: 32956288.5903\n",
      "Epoch 208/400\n",
      "4514/4514 [==============================] - 2s 345us/step - loss: 30621291.7068\n",
      "Epoch 209/400\n",
      "4514/4514 [==============================] - 2s 394us/step - loss: 31294486.8174\n",
      "Epoch 210/400\n",
      "4514/4514 [==============================] - 2s 378us/step - loss: 31744814.0913\n",
      "Epoch 211/400\n",
      "4514/4514 [==============================] - 2s 347us/step - loss: 32054824.7040\n",
      "Epoch 212/400\n",
      "4514/4514 [==============================] - 1s 229us/step - loss: 30294532.8769\n",
      "Epoch 213/400\n",
      "4514/4514 [==============================] - 1s 240us/step - loss: 30930130.2539\n",
      "Epoch 214/400\n",
      "4514/4514 [==============================] - 1s 231us/step - loss: 29948892.4205\n",
      "Epoch 215/400\n",
      "4514/4514 [==============================] - 1s 255us/step - loss: 30113095.5624\n",
      "Epoch 216/400\n",
      "4514/4514 [==============================] - 1s 217us/step - loss: 29438846.0826\n",
      "Epoch 217/400\n",
      "4514/4514 [==============================] - 1s 215us/step - loss: 31356754.4989\n",
      "Epoch 218/400\n",
      "4514/4514 [==============================] - 1s 214us/step - loss: 30597545.6401\n",
      "Epoch 219/400\n",
      "4514/4514 [==============================] - 1s 216us/step - loss: 30829239.7033\n",
      "Epoch 220/400\n",
      "4514/4514 [==============================] - 1s 227us/step - loss: 31949791.5124\n",
      "Epoch 221/400\n",
      "4514/4514 [==============================] - 1s 228us/step - loss: 28396312.9543\n",
      "Epoch 222/400\n",
      "4514/4514 [==============================] - 1s 275us/step - loss: 30850879.7824\n",
      "Epoch 223/400\n",
      "4514/4514 [==============================] - 1s 227us/step - loss: 29216700.5677\n",
      "Epoch 224/400\n",
      "4514/4514 [==============================] - 1s 216us/step - loss: 32954130.5950\n",
      "Epoch 225/400\n",
      "4514/4514 [==============================] - 1s 312us/step - loss: 29465655.2454\n",
      "Epoch 226/400\n",
      "4514/4514 [==============================] - 1s 248us/step - loss: 27945793.4501\n",
      "Epoch 227/400\n",
      "4514/4514 [==============================] - 1s 218us/step - loss: 29309481.0269\n",
      "Epoch 228/400\n",
      "4514/4514 [==============================] - 1s 217us/step - loss: 32081614.9379\n",
      "Epoch 229/400\n",
      "4514/4514 [==============================] - 1s 257us/step - loss: 29946744.8757\n",
      "Epoch 230/400\n",
      "4514/4514 [==============================] - 1s 259us/step - loss: 29668240.1662\n",
      "Epoch 231/400\n",
      "4514/4514 [==============================] - 1s 232us/step - loss: 31509703.0188\n",
      "Epoch 232/400\n",
      "4514/4514 [==============================] - 1s 231us/step - loss: 29273117.8633\n",
      "Epoch 233/400\n",
      "4514/4514 [==============================] - 1s 258us/step - loss: 29835782.2664\n",
      "Epoch 234/400\n",
      "4514/4514 [==============================] - 2s 366us/step - loss: 28950899.6983\n",
      "Epoch 235/400\n",
      "4514/4514 [==============================] - 1s 282us/step - loss: 30606515.9676\n",
      "Epoch 236/400\n",
      "4514/4514 [==============================] - 1s 296us/step - loss: 31609670.3627\n",
      "Epoch 237/400\n",
      "4514/4514 [==============================] - 1s 224us/step - loss: 27625084.0462\n",
      "Epoch 238/400\n",
      "4514/4514 [==============================] - 1s 245us/step - loss: 27494882.0422\n",
      "Epoch 239/400\n",
      "4514/4514 [==============================] - 1s 235us/step - loss: 27773836.5297\n",
      "Epoch 240/400\n",
      "4514/4514 [==============================] - 1s 237us/step - loss: 28526891.7976\n",
      "Epoch 241/400\n",
      "4514/4514 [==============================] - 1s 245us/step - loss: 31042457.2390\n",
      "Epoch 242/400\n",
      "4514/4514 [==============================] - 1s 222us/step - loss: 29941376.0628\n",
      "Epoch 243/400\n",
      "4514/4514 [==============================] - 1s 263us/step - loss: 29164587.1176\n",
      "Epoch 244/400\n",
      "4514/4514 [==============================] - 1s 280us/step - loss: 30697983.5448\n",
      "Epoch 245/400\n",
      "4514/4514 [==============================] - 1s 228us/step - loss: 28206268.9486\n",
      "Epoch 246/400\n",
      "4514/4514 [==============================] - 1s 230us/step - loss: 28078359.8727\n",
      "Epoch 247/400\n",
      "4514/4514 [==============================] - 1s 234us/step - loss: 29682404.3788\n",
      "Epoch 248/400\n",
      "4514/4514 [==============================] - 1s 268us/step - loss: 29036255.8298\n",
      "Epoch 249/400\n",
      "4514/4514 [==============================] - 2s 356us/step - loss: 27799752.0460\n",
      "Epoch 250/400\n",
      "4514/4514 [==============================] - 2s 390us/step - loss: 29964050.1656\n",
      "Epoch 251/400\n",
      "4514/4514 [==============================] - 2s 414us/step - loss: 29375911.9406\n",
      "Epoch 252/400\n",
      "4514/4514 [==============================] - 1s 285us/step - loss: 28714808.6753\n",
      "Epoch 253/400\n",
      "4514/4514 [==============================] - 1s 281us/step - loss: 30365208.7453\n",
      "Epoch 254/400\n",
      "4514/4514 [==============================] - 1s 232us/step - loss: 29982388.3293\n",
      "Epoch 255/400\n",
      "4514/4514 [==============================] - 1s 302us/step - loss: 27652680.4940\n",
      "Epoch 256/400\n",
      "4514/4514 [==============================] - 2s 365us/step - loss: 30535099.2722\n",
      "Epoch 257/400\n",
      "4514/4514 [==============================] - 1s 317us/step - loss: 28004518.6727\n",
      "Epoch 258/400\n",
      "4514/4514 [==============================] - 1s 275us/step - loss: 29042509.7128\n",
      "Epoch 259/400\n",
      "4514/4514 [==============================] - 1s 327us/step - loss: 27629175.5763\n",
      "Epoch 260/400\n"
     ]
    },
    {
     "name": "stdout",
     "output_type": "stream",
     "text": [
      "4514/4514 [==============================] - 1s 269us/step - loss: 30453467.6471\n",
      "Epoch 261/400\n",
      "4514/4514 [==============================] - 1s 296us/step - loss: 28015957.5019\n",
      "Epoch 262/400\n",
      "4514/4514 [==============================] - 1s 294us/step - loss: 29392503.8302\n",
      "Epoch 263/400\n",
      "4514/4514 [==============================] - 1s 226us/step - loss: 30940301.0538\n",
      "Epoch 264/400\n",
      "4514/4514 [==============================] - 1s 218us/step - loss: 29131724.5567\n",
      "Epoch 265/400\n",
      "4514/4514 [==============================] - 1s 218us/step - loss: 29926575.8717\n",
      "Epoch 266/400\n",
      "4514/4514 [==============================] - 1s 249us/step - loss: 28403232.5140\n",
      "Epoch 267/400\n",
      "4514/4514 [==============================] - 1s 223us/step - loss: 32072713.9770\n",
      "Epoch 268/400\n",
      "4514/4514 [==============================] - 1s 216us/step - loss: 30087591.7424\n",
      "Epoch 269/400\n",
      "4514/4514 [==============================] - 1s 226us/step - loss: 30654707.9505\n",
      "Epoch 270/400\n",
      "4514/4514 [==============================] - 1s 234us/step - loss: 31849067.1920\n",
      "Epoch 271/400\n",
      "4514/4514 [==============================] - 1s 228us/step - loss: 30996443.0008\n",
      "Epoch 272/400\n",
      "4514/4514 [==============================] - 1s 270us/step - loss: 29911967.8863\n",
      "Epoch 273/400\n",
      "4514/4514 [==============================] - 1s 252us/step - loss: 29892015.5717\n",
      "Epoch 274/400\n",
      "4514/4514 [==============================] - 1s 233us/step - loss: 28914626.8886\n",
      "Epoch 275/400\n",
      "4514/4514 [==============================] - 1s 308us/step - loss: 29500592.0093\n",
      "Epoch 276/400\n",
      "4514/4514 [==============================] - 1s 330us/step - loss: 29637148.2698\n",
      "Epoch 277/400\n",
      "4514/4514 [==============================] - 1s 231us/step - loss: 30753510.1777\n",
      "Epoch 278/400\n",
      "4514/4514 [==============================] - 1s 230us/step - loss: 28987100.8213\n",
      "Epoch 279/400\n",
      "4514/4514 [==============================] - 1s 220us/step - loss: 28635671.6368\n",
      "Epoch 280/400\n",
      "4514/4514 [==============================] - 1s 218us/step - loss: 29842541.3140\n",
      "Epoch 281/400\n",
      "4514/4514 [==============================] - 1s 219us/step - loss: 27755354.9136\n",
      "Epoch 282/400\n",
      "4514/4514 [==============================] - 1s 219us/step - loss: 29182620.2843\n",
      "Epoch 283/400\n",
      "4514/4514 [==============================] - 1s 215us/step - loss: 31733251.8798\n",
      "Epoch 284/400\n",
      "4514/4514 [==============================] - 1s 217us/step - loss: 29997266.7057\n",
      "Epoch 285/400\n",
      "4514/4514 [==============================] - 1s 216us/step - loss: 31710249.2010\n",
      "Epoch 286/400\n",
      "4514/4514 [==============================] - 1s 227us/step - loss: 28307376.0975\n",
      "Epoch 287/400\n",
      "4514/4514 [==============================] - 1s 226us/step - loss: 28385356.1190\n",
      "Epoch 288/400\n",
      "4514/4514 [==============================] - 1s 222us/step - loss: 31096765.4083\n",
      "Epoch 289/400\n",
      "4514/4514 [==============================] - 1s 215us/step - loss: 27772871.7298\n",
      "Epoch 290/400\n",
      "4514/4514 [==============================] - 1s 252us/step - loss: 28570457.9039\n",
      "Epoch 291/400\n",
      "4514/4514 [==============================] - 1s 251us/step - loss: 29886071.5447\n",
      "Epoch 292/400\n",
      "4514/4514 [==============================] - 1s 218us/step - loss: 29591172.0774\n",
      "Epoch 293/400\n",
      "4514/4514 [==============================] - 1s 217us/step - loss: 26707399.5337\n",
      "Epoch 294/400\n",
      "4514/4514 [==============================] - 1s 218us/step - loss: 29394812.1104\n",
      "Epoch 295/400\n",
      "4514/4514 [==============================] - 1s 213us/step - loss: 30462684.5400\n",
      "Epoch 296/400\n",
      "4514/4514 [==============================] - 1s 244us/step - loss: 28897596.0561\n",
      "Epoch 297/400\n",
      "4514/4514 [==============================] - 1s 276us/step - loss: 29048494.9315\n",
      "Epoch 298/400\n",
      "4514/4514 [==============================] - 1s 275us/step - loss: 30692751.3269\n",
      "Epoch 299/400\n",
      "4514/4514 [==============================] - 1s 269us/step - loss: 28443587.6386\n",
      "Epoch 300/400\n",
      "4514/4514 [==============================] - 1s 272us/step - loss: 29389794.4922\n",
      "Epoch 301/400\n",
      "4514/4514 [==============================] - 1s 247us/step - loss: 28767711.4560\n",
      "Epoch 302/400\n",
      "4514/4514 [==============================] - 1s 274us/step - loss: 29576001.3199\n",
      "Epoch 303/400\n",
      "4514/4514 [==============================] - 1s 272us/step - loss: 29023811.0816\n",
      "Epoch 304/400\n",
      "4514/4514 [==============================] - 1s 284us/step - loss: 28245457.4043\n",
      "Epoch 305/400\n",
      "4514/4514 [==============================] - 1s 278us/step - loss: 28098276.3911\n",
      "Epoch 306/400\n",
      "4514/4514 [==============================] - 1s 253us/step - loss: 29425856.0560\n",
      "Epoch 307/400\n",
      "4514/4514 [==============================] - 1s 230us/step - loss: 27821784.2386\n",
      "Epoch 308/400\n",
      "4514/4514 [==============================] - 1s 248us/step - loss: 27722630.2342\n",
      "Epoch 309/400\n",
      "4514/4514 [==============================] - 1s 225us/step - loss: 29109269.7760\n",
      "Epoch 310/400\n",
      "4514/4514 [==============================] - 1s 228us/step - loss: 29101509.1234\n",
      "Epoch 311/400\n",
      "4514/4514 [==============================] - 1s 240us/step - loss: 29035622.4197\n",
      "Epoch 312/400\n",
      "4514/4514 [==============================] - 1s 246us/step - loss: 27063740.8661\n",
      "Epoch 313/400\n",
      "4514/4514 [==============================] - 1s 247us/step - loss: 29357769.8961\n",
      "Epoch 314/400\n",
      "4514/4514 [==============================] - 1s 224us/step - loss: 27956378.6347\n",
      "Epoch 315/400\n",
      "4514/4514 [==============================] - 1s 242us/step - loss: 27743995.3835\n",
      "Epoch 316/400\n",
      "4514/4514 [==============================] - 1s 259us/step - loss: 28721516.7492\n",
      "Epoch 317/400\n",
      "4514/4514 [==============================] - 2s 335us/step - loss: 27624467.3360\n",
      "Epoch 318/400\n",
      "4514/4514 [==============================] - 1s 316us/step - loss: 28852263.4418\n",
      "Epoch 319/400\n",
      "4514/4514 [==============================] - 1s 298us/step - loss: 27670975.0636\n",
      "Epoch 320/400\n",
      "4514/4514 [==============================] - 1s 290us/step - loss: 29012581.8603\n",
      "Epoch 321/400\n",
      "4514/4514 [==============================] - 1s 319us/step - loss: 28864895.9530\n",
      "Epoch 322/400\n",
      "4514/4514 [==============================] - 1s 299us/step - loss: 29938359.6690\n",
      "Epoch 323/400\n",
      "4514/4514 [==============================] - 1s 280us/step - loss: 28910978.9904\n",
      "Epoch 324/400\n",
      "4514/4514 [==============================] - 2s 356us/step - loss: 30602850.7951\n",
      "Epoch 325/400\n",
      "4514/4514 [==============================] - 2s 367us/step - loss: 27320863.7691\n",
      "Epoch 326/400\n",
      "4514/4514 [==============================] - 2s 355us/step - loss: 28423262.7268\n",
      "Epoch 327/400\n",
      "4514/4514 [==============================] - 1s 223us/step - loss: 30049575.0310\n",
      "Epoch 328/400\n",
      "4514/4514 [==============================] - 1s 215us/step - loss: 28702844.1897\n",
      "Epoch 329/400\n",
      "4514/4514 [==============================] - 1s 217us/step - loss: 27095344.9137\n",
      "Epoch 330/400\n",
      "4514/4514 [==============================] - 1s 246us/step - loss: 27635469.2850\n",
      "Epoch 331/400\n",
      "4514/4514 [==============================] - 2s 361us/step - loss: 29228888.0658\n",
      "Epoch 332/400\n",
      "4514/4514 [==============================] - 1s 249us/step - loss: 29436444.4675\n",
      "Epoch 333/400\n",
      "4514/4514 [==============================] - 1s 220us/step - loss: 30253116.9065\n",
      "Epoch 334/400\n",
      "4514/4514 [==============================] - 1s 223us/step - loss: 27402707.5667\n",
      "Epoch 335/400\n",
      "4514/4514 [==============================] - 1s 246us/step - loss: 27936298.5302\n",
      "Epoch 336/400\n",
      "4514/4514 [==============================] - 1s 253us/step - loss: 27609719.9119\n",
      "Epoch 337/400\n",
      "4514/4514 [==============================] - 1s 227us/step - loss: 26159937.3440\n",
      "Epoch 338/400\n",
      "4514/4514 [==============================] - 1s 248us/step - loss: 27493520.8263\n",
      "Epoch 339/400\n",
      "4514/4514 [==============================] - 1s 247us/step - loss: 28230225.8682\n",
      "Epoch 340/400\n",
      "4514/4514 [==============================] - 1s 216us/step - loss: 29578944.1623\n",
      "Epoch 341/400\n",
      "4514/4514 [==============================] - 1s 252us/step - loss: 29554888.3989\n",
      "Epoch 342/400\n",
      "4514/4514 [==============================] - 1s 291us/step - loss: 28562659.3260\n",
      "Epoch 343/400\n",
      "4514/4514 [==============================] - 1s 243us/step - loss: 27462907.7081\n",
      "Epoch 344/400\n",
      "4514/4514 [==============================] - 1s 237us/step - loss: 28951958.2567\n",
      "Epoch 345/400\n",
      "4514/4514 [==============================] - 1s 307us/step - loss: 29564323.6807\n",
      "Epoch 346/400\n",
      "4514/4514 [==============================] - 2s 360us/step - loss: 30457021.7647\n",
      "Epoch 347/400\n",
      "4514/4514 [==============================] - 2s 346us/step - loss: 29107241.4639\n",
      "Epoch 348/400\n",
      "4514/4514 [==============================] - 2s 370us/step - loss: 27658520.6545\n",
      "Epoch 349/400\n",
      "4514/4514 [==============================] - 2s 360us/step - loss: 27946712.4709\n",
      "Epoch 350/400\n",
      "4514/4514 [==============================] - 2s 378us/step - loss: 28635890.6406\n",
      "Epoch 351/400\n",
      "4514/4514 [==============================] - 1s 325us/step - loss: 28170338.4551\n",
      "Epoch 352/400\n",
      "4514/4514 [==============================] - 1s 330us/step - loss: 28293570.5902\n",
      "Epoch 353/400\n",
      "4514/4514 [==============================] - 1s 268us/step - loss: 28497071.7510\n",
      "Epoch 354/400\n",
      "4514/4514 [==============================] - 1s 229us/step - loss: 29077169.6406\n",
      "Epoch 355/400\n",
      "4514/4514 [==============================] - 1s 231us/step - loss: 27149905.2146\n",
      "Epoch 356/400\n",
      "4514/4514 [==============================] - 1s 268us/step - loss: 28938897.4067\n",
      "Epoch 357/400\n",
      "4514/4514 [==============================] - 1s 273us/step - loss: 29804375.0587\n",
      "Epoch 358/400\n",
      "4514/4514 [==============================] - 1s 316us/step - loss: 25679547.9094\n",
      "Epoch 359/400\n",
      "4514/4514 [==============================] - 1s 270us/step - loss: 28980388.5274\n",
      "Epoch 360/400\n",
      "4514/4514 [==============================] - 1s 290us/step - loss: 27062139.6202\n",
      "Epoch 361/400\n",
      "4514/4514 [==============================] - 1s 302us/step - loss: 26040935.2584\n",
      "Epoch 362/400\n",
      "4514/4514 [==============================] - 1s 250us/step - loss: 28305018.3982\n",
      "Epoch 363/400\n",
      "4514/4514 [==============================] - 1s 303us/step - loss: 26555865.7168\n",
      "Epoch 364/400\n",
      "4514/4514 [==============================] - 1s 269us/step - loss: 27846861.4933\n",
      "Epoch 365/400\n",
      "4514/4514 [==============================] - 1s 251us/step - loss: 29738954.3147\n",
      "Epoch 366/400\n",
      "4514/4514 [==============================] - 1s 309us/step - loss: 28881573.5902\n",
      "Epoch 367/400\n",
      "4514/4514 [==============================] - 1s 254us/step - loss: 28875407.5301\n",
      "Epoch 368/400\n",
      "4514/4514 [==============================] - 1s 299us/step - loss: 28613088.3775\n",
      "Epoch 369/400\n",
      "4514/4514 [==============================] - 1s 318us/step - loss: 27027933.2113\n",
      "Epoch 370/400\n",
      "4514/4514 [==============================] - 1s 237us/step - loss: 27270107.2491\n",
      "Epoch 371/400\n",
      "4514/4514 [==============================] - 1s 310us/step - loss: 27933335.7892\n",
      "Epoch 372/400\n",
      "4514/4514 [==============================] - 1s 303us/step - loss: 28381242.7129\n",
      "Epoch 373/400\n",
      "4514/4514 [==============================] - 1s 280us/step - loss: 28158153.0208\n",
      "Epoch 374/400\n",
      "4514/4514 [==============================] - 1s 313us/step - loss: 28682675.8906\n",
      "Epoch 375/400\n",
      "4514/4514 [==============================] - 1s 260us/step - loss: 26540076.9555\n",
      "Epoch 376/400\n",
      "4514/4514 [==============================] - 1s 259us/step - loss: 28009268.9934\n",
      "Epoch 377/400\n",
      "4514/4514 [==============================] - 1s 239us/step - loss: 26103062.6612\n",
      "Epoch 378/400\n",
      "4514/4514 [==============================] - 1s 243us/step - loss: 28335182.3923\n",
      "Epoch 379/400\n",
      "4514/4514 [==============================] - 1s 289us/step - loss: 26797193.7241\n",
      "Epoch 380/400\n",
      "4514/4514 [==============================] - 1s 258us/step - loss: 26740694.6823\n",
      "Epoch 381/400\n",
      "4514/4514 [==============================] - 1s 260us/step - loss: 27591528.4150\n",
      "Epoch 382/400\n",
      "4514/4514 [==============================] - 1s 268us/step - loss: 29317848.2424\n",
      "Epoch 383/400\n",
      "4514/4514 [==============================] - 1s 271us/step - loss: 27365480.4088\n",
      "Epoch 384/400\n",
      "4514/4514 [==============================] - 1s 222us/step - loss: 28336523.1540\n",
      "Epoch 385/400\n",
      "4514/4514 [==============================] - 1s 244us/step - loss: 27277220.8041\n",
      "Epoch 386/400\n",
      "4514/4514 [==============================] - 1s 258us/step - loss: 28342415.5742\n",
      "Epoch 387/400\n",
      "4514/4514 [==============================] - 1s 242us/step - loss: 26780715.2026\n",
      "Epoch 388/400\n",
      "4514/4514 [==============================] - 1s 292us/step - loss: 26610423.0436\n",
      "Epoch 389/400\n",
      "4514/4514 [==============================] - 2s 359us/step - loss: 26895682.0733\n",
      "Epoch 390/400\n",
      "4514/4514 [==============================] - 2s 357us/step - loss: 28368985.0801\n",
      "Epoch 391/400\n",
      "4514/4514 [==============================] - 1s 319us/step - loss: 27439924.4806\n",
      "Epoch 392/400\n",
      "4514/4514 [==============================] - 1s 304us/step - loss: 26538781.3990\n",
      "Epoch 393/400\n",
      "4514/4514 [==============================] - 1s 270us/step - loss: 27376962.3644\n",
      "Epoch 394/400\n",
      "4514/4514 [==============================] - 2s 334us/step - loss: 27599054.7358\n",
      "Epoch 395/400\n",
      "4514/4514 [==============================] - 1s 326us/step - loss: 27145251.2890\n",
      "Epoch 396/400\n",
      "4514/4514 [==============================] - 1s 312us/step - loss: 29220457.1026\n",
      "Epoch 397/400\n",
      "4514/4514 [==============================] - 1s 314us/step - loss: 27916062.0712\n",
      "Epoch 398/400\n",
      "4514/4514 [==============================] - 1s 292us/step - loss: 28371777.1433\n",
      "Epoch 399/400\n",
      "4514/4514 [==============================] - 1s 279us/step - loss: 25665653.6823\n",
      "Epoch 400/400\n",
      "4514/4514 [==============================] - 1s 307us/step - loss: 28094971.6700\n"
     ]
    },
    {
     "data": {
      "text/plain": [
       "<keras.callbacks.callbacks.History at 0x282b9b87088>"
      ]
     },
     "execution_count": 163,
     "metadata": {},
     "output_type": "execute_result"
    }
   ],
   "source": [
    "\n",
    "model.compile(optimizer ='adam', loss='mse')\n",
    "model.fit(X_train1, y_train1, epochs=400,batch_size=8,shuffle=False)"
   ]
  },
  {
   "cell_type": "code",
   "execution_count": 164,
   "metadata": {},
   "outputs": [],
   "source": [
    "test_pred1 = model.predict(X_test1)\n",
    "train_pred1= model.predict(X_train1)"
   ]
  },
  {
   "cell_type": "code",
   "execution_count": 165,
   "metadata": {},
   "outputs": [],
   "source": [
    "yu =test_pred1.flatten()\n",
    "yu\n",
    "train_u = train_pred1.flatten()"
   ]
  },
  {
   "cell_type": "code",
   "execution_count": 166,
   "metadata": {},
   "outputs": [
    {
     "data": {
      "text/plain": [
       "array([[0.0095124 , 0.45020871, 0.32148026, ..., 0.        , 0.        ,\n",
       "        0.        ],\n",
       "       [0.01328389, 0.5307096 , 0.12900558, ..., 0.        , 0.        ,\n",
       "        0.        ],\n",
       "       [0.01031243, 0.4484198 , 0.20136448, ..., 0.        , 0.        ,\n",
       "        0.        ],\n",
       "       ...,\n",
       "       [0.01573072, 0.38729875, 0.38660327, ..., 0.        , 0.        ,\n",
       "        0.        ],\n",
       "       [0.00944748, 0.56350626, 0.11846186, ..., 0.        , 0.        ,\n",
       "        0.        ],\n",
       "       [0.00197374, 0.60822898, 0.11846186, ..., 0.        , 0.        ,\n",
       "        0.        ]])"
      ]
     },
     "execution_count": 166,
     "metadata": {},
     "output_type": "execute_result"
    }
   ],
   "source": [
    "X_test1"
   ]
  },
  {
   "cell_type": "code",
   "execution_count": 167,
   "metadata": {},
   "outputs": [
    {
     "data": {
      "text/plain": [
       "array([[16281.268],\n",
       "       [ 6328.39 ],\n",
       "       [ 6534.064],\n",
       "       ...,\n",
       "       [20682.006],\n",
       "       [ 8708.2  ],\n",
       "       [10187.067]], dtype=float32)"
      ]
     },
     "execution_count": 167,
     "metadata": {},
     "output_type": "execute_result"
    }
   ],
   "source": [
    "test_pred1"
   ]
  },
  {
   "cell_type": "code",
   "execution_count": 168,
   "metadata": {},
   "outputs": [
    {
     "name": "stdout",
     "output_type": "stream",
     "text": [
      "Accuracy for Test set: 0.89\n",
      "Accuracy for Training set: 0.95\n"
     ]
    }
   ],
   "source": [
    "print(\"Accuracy for Test set: \"+\"{:.2f}\".format(r2_score(y_test1,yu)))\n",
    "print(\"Accuracy for Training set: \"+\"{:.2f}\".format(r2_score(y_train1,train_u)))"
   ]
  },
  {
   "cell_type": "code",
   "execution_count": 169,
   "metadata": {},
   "outputs": [
    {
     "name": "stdout",
     "output_type": "stream",
     "text": [
      "Tree on train set MAE%: 12.0\n",
      "Tree on test set MAE%: 15.6\n"
     ]
    }
   ],
   "source": [
    "MAE_train=np.mean(abs(y_train1-train_u))/np.mean(y_train1)\n",
    "print(\"Tree on train set MAE%:\", round(MAE_train*100,1))\n",
    "MAE_test=np.mean(abs(y_test1-yu))/np.mean(y_test1)\n",
    "print(\"Tree on test set MAE%:\", round(MAE_test*100,1))"
   ]
  },
  {
   "cell_type": "code",
   "execution_count": 147,
   "metadata": {},
   "outputs": [
    {
     "data": {
      "text/plain": [
       "6818.39247702789"
      ]
     },
     "execution_count": 147,
     "metadata": {},
     "output_type": "execute_result"
    }
   ],
   "source": [
    "math.sqrt(mean_squared_error(y_test,yu))"
   ]
  },
  {
   "cell_type": "code",
   "execution_count": 148,
   "metadata": {},
   "outputs": [
    {
     "data": {
      "image/png": "[encoded data removed]",
      "text/plain": [
       "<Figure size 432x288 with 1 Axes>"
      ]
     },
     "metadata": {
      "needs_background": "light"
     },
     "output_type": "display_data"
    }
   ],
   "source": [
    "# Create a scatter plot with train and test\n",
    "\n",
    "plt.scatter(y_train1, train_u, label='train')\n",
    "plt.scatter(y_test1, yu, label='test')\n",
    "plt.legend()\n",
    "plt.show()"
   ]
  },
  {
   "cell_type": "markdown",
   "metadata": {},
   "source": [
    "# XGBoost Regressor with K=5"
   ]
  },
  {
   "cell_type": "code",
   "execution_count": 149,
   "metadata": {},
   "outputs": [],
   "source": [
    "# Parameter Tuning \n",
    "base_score=[0.25,0.5,0.75,1]\n",
    "booster=['gbtree','gblinear']\n",
    "n_estimators = [100, 500, 700, 1000, 1500]\n",
    "max_depth = [2, 3, 5, 9]\n",
    "learning_rate=[0.05,0.1,0.15,0.20]\n",
    "min_child_weight=[1,2,3,4]\n",
    "\n",
    "# Define the grid of hyperparameters to search\n",
    "parameter_grid = {\n",
    "    'base_score':base_score,\n",
    "    'n_estimators': n_estimators,\n",
    "    'max_depth':max_depth,\n",
    "    'learning_rate':learning_rate,\n",
    "    'min_child_weight':min_child_weight,\n",
    "    'booster':booster,\n",
    "    }"
   ]
  },
  {
   "cell_type": "code",
   "execution_count": 150,
   "metadata": {},
   "outputs": [],
   "source": [
    "regressor=xgboost.XGBRegressor()\n",
    "ran_cv = RandomizedSearchCV(estimator=regressor,\n",
    "            param_distributions=parameter_grid,cv=5, n_iter=50,\n",
    "            scoring = 'neg_mean_absolute_error',n_jobs = 4,\n",
    "            verbose = 5,\n",
    "            return_train_score = True,\n",
    "            random_state=35)"
   ]
  },
  {
   "cell_type": "code",
   "execution_count": 151,
   "metadata": {},
   "outputs": [
    {
     "name": "stdout",
     "output_type": "stream",
     "text": [
      "Fitting 5 folds for each of 50 candidates, totalling 250 fits\n"
     ]
    },
    {
     "name": "stderr",
     "output_type": "stream",
     "text": [
      "[Parallel(n_jobs=4)]: Using backend LokyBackend with 4 concurrent workers.\n",
      "[Parallel(n_jobs=4)]: Done  10 tasks      | elapsed:  1.0min\n",
      "[Parallel(n_jobs=4)]: Done  64 tasks      | elapsed:  4.1min\n",
      "[Parallel(n_jobs=4)]: Done 154 tasks      | elapsed:  7.3min\n",
      "[Parallel(n_jobs=4)]: Done 250 out of 250 | elapsed: 17.1min finished\n",
      "C:\\Users\\amith\\Anaconda3\\lib\\site-packages\\xgboost\\core.py:587: FutureWarning: Series.base is deprecated and will be removed in a future version\n",
      "  if getattr(data, 'base', None) is not None and \\\n"
     ]
    },
    {
     "name": "stdout",
     "output_type": "stream",
     "text": [
      "[22:59:40] WARNING: src/objective/regression_obj.cu:152: reg:linear is now deprecated in favor of reg:squarederror.\n"
     ]
    },
    {
     "data": {
      "text/plain": [
       "RandomizedSearchCV(cv=5, error_score='raise-deprecating',\n",
       "                   estimator=XGBRegressor(base_score=0.5, booster='gbtree',\n",
       "                                          colsample_bylevel=1,\n",
       "                                          colsample_bynode=1,\n",
       "                                          colsample_bytree=1, gamma=0,\n",
       "                                          importance_type='gain',\n",
       "                                          learning_rate=0.1, max_delta_step=0,\n",
       "                                          max_depth=3, min_child_weight=1,\n",
       "                                          missing=None, n_estimators=100,\n",
       "                                          n_jobs=1, nthread=None,\n",
       "                                          objective='reg:linear',\n",
       "                                          random_st...\n",
       "                   iid='warn', n_iter=50, n_jobs=4,\n",
       "                   param_distributions={'base_score': [0.25, 0.5, 0.75, 1],\n",
       "                                        'booster': ['gbtree', 'gblinear'],\n",
       "                                        'learning_rate': [0.05, 0.1, 0.15, 0.2],\n",
       "                                        'max_depth': [2, 3, 5, 9],\n",
       "                                        'min_child_weight': [1, 2, 3, 4],\n",
       "                                        'n_estimators': [100, 500, 700, 1000,\n",
       "                                                         1500]},\n",
       "                   pre_dispatch='2*n_jobs', random_state=35, refit=True,\n",
       "                   return_train_score=True, scoring='neg_mean_absolute_error',\n",
       "                   verbose=5)"
      ]
     },
     "execution_count": 151,
     "metadata": {},
     "output_type": "execute_result"
    }
   ],
   "source": [
    "ran_cv.fit(X_train1,y_train1)"
   ]
  },
  {
   "cell_type": "code",
   "execution_count": 152,
   "metadata": {},
   "outputs": [
    {
     "data": {
      "text/plain": [
       "XGBRegressor(base_score=0.5, booster='gbtree', colsample_bylevel=1,\n",
       "             colsample_bynode=1, colsample_bytree=1, gamma=0,\n",
       "             importance_type='gain', learning_rate=0.05, max_delta_step=0,\n",
       "             max_depth=5, min_child_weight=2, missing=None, n_estimators=1500,\n",
       "             n_jobs=1, nthread=None, objective='reg:linear', random_state=0,\n",
       "             reg_alpha=0, reg_lambda=1, scale_pos_weight=1, seed=None,\n",
       "             silent=None, subsample=1, verbosity=1)"
      ]
     },
     "execution_count": 152,
     "metadata": {},
     "output_type": "execute_result"
    }
   ],
   "source": [
    "ran_cv.best_estimator_"
   ]
  },
  {
   "cell_type": "code",
   "execution_count": 153,
   "metadata": {},
   "outputs": [],
   "source": [
    "regressor=xgboost.XGBRegressor(base_score=0.5, booster='gbtree', colsample_bylevel=1,\n",
    "             colsample_bynode=1, colsample_bytree=1, gamma=0,\n",
    "             importance_type='gain', learning_rate=0.05, max_delta_step=0,\n",
    "             max_depth=5, min_child_weight=2, missing=None, n_estimators=1500,\n",
    "             n_jobs=1, nthread=None, objective='reg:linear', random_state=0,\n",
    "             reg_alpha=0, reg_lambda=1, scale_pos_weight=1, seed=None,\n",
    "             silent=None, subsample=1, verbosity=1)"
   ]
  },
  {
   "cell_type": "code",
   "execution_count": 155,
   "metadata": {},
   "outputs": [
    {
     "name": "stdout",
     "output_type": "stream",
     "text": [
      "[23:08:45] WARNING: src/objective/regression_obj.cu:152: reg:linear is now deprecated in favor of reg:squarederror.\n"
     ]
    },
    {
     "data": {
      "text/plain": [
       "XGBRegressor(base_score=0.5, booster='gbtree', colsample_bylevel=1,\n",
       "             colsample_bynode=1, colsample_bytree=1, gamma=0,\n",
       "             importance_type='gain', learning_rate=0.05, max_delta_step=0,\n",
       "             max_depth=5, min_child_weight=2, missing=None, n_estimators=1500,\n",
       "             n_jobs=1, nthread=None, objective='reg:linear', random_state=0,\n",
       "             reg_alpha=0, reg_lambda=1, scale_pos_weight=1, seed=None,\n",
       "             silent=None, subsample=1, verbosity=1)"
      ]
     },
     "execution_count": 155,
     "metadata": {},
     "output_type": "execute_result"
    }
   ],
   "source": [
    "regressor.fit(X_train1,y_train1)"
   ]
  },
  {
   "cell_type": "code",
   "execution_count": 156,
   "metadata": {},
   "outputs": [],
   "source": [
    "train_pred = regressor.predict(X_train1)\n",
    "test_pred=regressor.predict(X_test1)"
   ]
  },
  {
   "cell_type": "code",
   "execution_count": 157,
   "metadata": {},
   "outputs": [
    {
     "data": {
      "text/plain": [
       "5150    13227.65\n",
       "2164     7754.14\n",
       "1136     7115.57\n",
       "5641    15344.08\n",
       "1515    24594.31\n",
       "Name: Price, dtype: float64"
      ]
     },
     "execution_count": 157,
     "metadata": {},
     "output_type": "execute_result"
    }
   ],
   "source": [
    "y_test1.head()"
   ]
  },
  {
   "cell_type": "code",
   "execution_count": 158,
   "metadata": {},
   "outputs": [
    {
     "name": "stdout",
     "output_type": "stream",
     "text": [
      "Accuracy for Test set: 0.90\n",
      "Accuracy for Training set: 0.99\n"
     ]
    }
   ],
   "source": [
    "print(\"Accuracy for Test set: \"+\"{:.2f}\".format(regressor.score(X_test1,y_test1)))\n",
    "print(\"Accuracy for Training set: \"+\"{:.2f}\".format(regressor.score(X_train1,y_train1)))"
   ]
  },
  {
   "cell_type": "code",
   "execution_count": 159,
   "metadata": {},
   "outputs": [
    {
     "name": "stdout",
     "output_type": "stream",
     "text": [
      "Tree on train set MAE%: 8.2\n",
      "Tree on test set MAE%: 15.2\n"
     ]
    }
   ],
   "source": [
    "MAE_train=np.mean(abs(y_train1-train_pred))/np.mean(y_train1)\n",
    "print(\"Tree on train set MAE%:\", round(MAE_train*100,1))\n",
    "\n",
    "MAE_test=np.mean(abs(y_test1-test_pred))/np.mean(y_test1)\n",
    "print(\"Tree on test set MAE%:\", round(MAE_test*100,1))"
   ]
  },
  {
   "cell_type": "code",
   "execution_count": 160,
   "metadata": {},
   "outputs": [
    {
     "data": {
      "text/plain": [
       "6424.2295739203455"
      ]
     },
     "execution_count": 160,
     "metadata": {},
     "output_type": "execute_result"
    }
   ],
   "source": [
    "math.sqrt(mean_squared_error(y_test,test_pred))"
   ]
  },
  {
   "cell_type": "code",
   "execution_count": 161,
   "metadata": {},
   "outputs": [
    {
     "data": {
      "image/png": "[encoded data removed]",
      "text/plain": [
       "<Figure size 432x288 with 1 Axes>"
      ]
     },
     "metadata": {
      "needs_background": "light"
     },
     "output_type": "display_data"
    }
   ],
   "source": [
    "# Create a scatter plot with train and test\n",
    "\n",
    "plt.scatter(y_train1, train_pred, label='train')\n",
    "plt.scatter(y_test1, test_pred, label='test')\n",
    "plt.legend()\n",
    "plt.show()"
   ]
  },
  {
   "cell_type": "code",
   "execution_count": null,
   "metadata": {},
   "outputs": [],
   "source": []
  }
 ],
 "metadata": {
  "kernelspec": {
   "display_name": "Python 3",
   "language": "python",
   "name": "python3"
  },
  "language_info": {
   "codemirror_mode": {
    "name": "ipython",
    "version": 3
   },
   "file_extension": ".py",
   "mimetype": "text/x-python",
   "name": "python",
   "nbconvert_exporter": "python",
   "pygments_lexer": "ipython3",
   "version": "3.7.4"
  }
 },
 "nbformat": 4,
 "nbformat_minor": 2
}
