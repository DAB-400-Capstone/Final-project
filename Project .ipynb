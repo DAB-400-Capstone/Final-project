{
 "cells": [
  {
   "cell_type": "code",
   "execution_count": 136,
   "metadata": {
    "scrolled": true
   },
   "outputs": [],
   "source": [
    "# Import necessary libraries\n",
    "\n",
    "import pandas as pd\n",
    "import matplotlib.pyplot as plt\n",
    "import math\n",
    "from sklearn.metrics import mean_squared_error\n",
    "from sklearn.model_selection import train_test_split\n",
    "from sklearn.preprocessing import MinMaxScaler\n",
    "from sklearn.linear_model import LinearRegression  \n",
    "from sklearn.neighbors import KNeighborsRegressor\n",
    "from sklearn.tree import DecisionTreeRegressor\n",
    "from sklearn.ensemble import RandomForestRegressor\n",
    "from sklearn.ensemble import GradientBoostingRegressor\n",
    "from sklearn.linear_model import Ridge\n",
    "from sklearn.model_selection import RandomizedSearchCV\n",
    "from sklearn import linear_model\n",
    "import numpy as np\n",
    "import keras\n",
    "from keras.models import Sequential\n",
    "from keras.layers import Dense, Dropout\n",
    "import xgboost\n",
    "from sklearn.metrics import r2_score"
   ]
  },
  {
   "cell_type": "code",
   "execution_count": 64,
   "metadata": {
    "scrolled": true
   },
   "outputs": [],
   "source": [
    "# Load the dataset \n",
    "\n",
    "cars_new= pd.read_csv(\"final data.csv\")"
   ]
  },
  {
   "cell_type": "code",
   "execution_count": 65,
   "metadata": {
    "scrolled": true
   },
   "outputs": [
    {
     "data": {
      "text/html": [
       "<div>\n",
       "<style scoped>\n",
       "    .dataframe tbody tr th:only-of-type {\n",
       "        vertical-align: middle;\n",
       "    }\n",
       "\n",
       "    .dataframe tbody tr th {\n",
       "        vertical-align: top;\n",
       "    }\n",
       "\n",
       "    .dataframe thead th {\n",
       "        text-align: right;\n",
       "    }\n",
       "</style>\n",
       "<table border=\"1\" class=\"dataframe\">\n",
       "  <thead>\n",
       "    <tr style=\"text-align: right;\">\n",
       "      <th></th>\n",
       "      <th>Kilometers_Driven</th>\n",
       "      <th>Mileage</th>\n",
       "      <th>Engine</th>\n",
       "      <th>Power</th>\n",
       "      <th>Seats</th>\n",
       "      <th>Price</th>\n",
       "      <th>No_of_Years</th>\n",
       "      <th>CNG</th>\n",
       "      <th>Diesel</th>\n",
       "      <th>Electric</th>\n",
       "      <th>...</th>\n",
       "      <th>Volkswagen CrossPolo</th>\n",
       "      <th>Volkswagen Jetta</th>\n",
       "      <th>Volkswagen Passat</th>\n",
       "      <th>Volkswagen Polo</th>\n",
       "      <th>Volkswagen Tiguan</th>\n",
       "      <th>Volkswagen Vento</th>\n",
       "      <th>Volvo S60</th>\n",
       "      <th>Volvo S80</th>\n",
       "      <th>Volvo V40</th>\n",
       "      <th>Volvo XC60</th>\n",
       "    </tr>\n",
       "  </thead>\n",
       "  <tbody>\n",
       "    <tr>\n",
       "      <td>0</td>\n",
       "      <td>72000</td>\n",
       "      <td>26.60</td>\n",
       "      <td>998.0</td>\n",
       "      <td>58.16</td>\n",
       "      <td>5.0</td>\n",
       "      <td>3192.88</td>\n",
       "      <td>10</td>\n",
       "      <td>1</td>\n",
       "      <td>0</td>\n",
       "      <td>0</td>\n",
       "      <td>...</td>\n",
       "      <td>0</td>\n",
       "      <td>0</td>\n",
       "      <td>0</td>\n",
       "      <td>0</td>\n",
       "      <td>0</td>\n",
       "      <td>0</td>\n",
       "      <td>0</td>\n",
       "      <td>0</td>\n",
       "      <td>0</td>\n",
       "      <td>0</td>\n",
       "    </tr>\n",
       "    <tr>\n",
       "      <td>1</td>\n",
       "      <td>41000</td>\n",
       "      <td>19.67</td>\n",
       "      <td>1582.0</td>\n",
       "      <td>126.20</td>\n",
       "      <td>5.0</td>\n",
       "      <td>22806.30</td>\n",
       "      <td>5</td>\n",
       "      <td>0</td>\n",
       "      <td>1</td>\n",
       "      <td>0</td>\n",
       "      <td>...</td>\n",
       "      <td>0</td>\n",
       "      <td>0</td>\n",
       "      <td>0</td>\n",
       "      <td>0</td>\n",
       "      <td>0</td>\n",
       "      <td>0</td>\n",
       "      <td>0</td>\n",
       "      <td>0</td>\n",
       "      <td>0</td>\n",
       "      <td>0</td>\n",
       "    </tr>\n",
       "    <tr>\n",
       "      <td>2</td>\n",
       "      <td>46000</td>\n",
       "      <td>18.20</td>\n",
       "      <td>1199.0</td>\n",
       "      <td>88.70</td>\n",
       "      <td>5.0</td>\n",
       "      <td>8210.27</td>\n",
       "      <td>9</td>\n",
       "      <td>0</td>\n",
       "      <td>0</td>\n",
       "      <td>0</td>\n",
       "      <td>...</td>\n",
       "      <td>0</td>\n",
       "      <td>0</td>\n",
       "      <td>0</td>\n",
       "      <td>0</td>\n",
       "      <td>0</td>\n",
       "      <td>0</td>\n",
       "      <td>0</td>\n",
       "      <td>0</td>\n",
       "      <td>0</td>\n",
       "      <td>0</td>\n",
       "    </tr>\n",
       "    <tr>\n",
       "      <td>3</td>\n",
       "      <td>87000</td>\n",
       "      <td>20.77</td>\n",
       "      <td>1248.0</td>\n",
       "      <td>88.76</td>\n",
       "      <td>7.0</td>\n",
       "      <td>10947.02</td>\n",
       "      <td>8</td>\n",
       "      <td>0</td>\n",
       "      <td>1</td>\n",
       "      <td>0</td>\n",
       "      <td>...</td>\n",
       "      <td>0</td>\n",
       "      <td>0</td>\n",
       "      <td>0</td>\n",
       "      <td>0</td>\n",
       "      <td>0</td>\n",
       "      <td>0</td>\n",
       "      <td>0</td>\n",
       "      <td>0</td>\n",
       "      <td>0</td>\n",
       "      <td>0</td>\n",
       "    </tr>\n",
       "    <tr>\n",
       "      <td>4</td>\n",
       "      <td>40670</td>\n",
       "      <td>15.20</td>\n",
       "      <td>1968.0</td>\n",
       "      <td>140.80</td>\n",
       "      <td>5.0</td>\n",
       "      <td>32366.70</td>\n",
       "      <td>7</td>\n",
       "      <td>0</td>\n",
       "      <td>1</td>\n",
       "      <td>0</td>\n",
       "      <td>...</td>\n",
       "      <td>0</td>\n",
       "      <td>0</td>\n",
       "      <td>0</td>\n",
       "      <td>0</td>\n",
       "      <td>0</td>\n",
       "      <td>0</td>\n",
       "      <td>0</td>\n",
       "      <td>0</td>\n",
       "      <td>0</td>\n",
       "      <td>0</td>\n",
       "    </tr>\n",
       "  </tbody>\n",
       "</table>\n",
       "<p>5 rows × 232 columns</p>\n",
       "</div>"
      ],
      "text/plain": [
       "   Kilometers_Driven  Mileage  Engine   Power  Seats     Price  No_of_Years  \\\n",
       "0              72000    26.60   998.0   58.16    5.0   3192.88           10   \n",
       "1              41000    19.67  1582.0  126.20    5.0  22806.30            5   \n",
       "2              46000    18.20  1199.0   88.70    5.0   8210.27            9   \n",
       "3              87000    20.77  1248.0   88.76    7.0  10947.02            8   \n",
       "4              40670    15.20  1968.0  140.80    5.0  32366.70            7   \n",
       "\n",
       "   CNG  Diesel  Electric  ...  Volkswagen CrossPolo  Volkswagen Jetta  \\\n",
       "0    1       0         0  ...                     0                 0   \n",
       "1    0       1         0  ...                     0                 0   \n",
       "2    0       0         0  ...                     0                 0   \n",
       "3    0       1         0  ...                     0                 0   \n",
       "4    0       1         0  ...                     0                 0   \n",
       "\n",
       "   Volkswagen Passat  Volkswagen Polo  Volkswagen Tiguan  Volkswagen Vento  \\\n",
       "0                  0                0                  0                 0   \n",
       "1                  0                0                  0                 0   \n",
       "2                  0                0                  0                 0   \n",
       "3                  0                0                  0                 0   \n",
       "4                  0                0                  0                 0   \n",
       "\n",
       "   Volvo S60  Volvo S80  Volvo V40  Volvo XC60  \n",
       "0          0          0          0           0  \n",
       "1          0          0          0           0  \n",
       "2          0          0          0           0  \n",
       "3          0          0          0           0  \n",
       "4          0          0          0           0  \n",
       "\n",
       "[5 rows x 232 columns]"
      ]
     },
     "execution_count": 65,
     "metadata": {},
     "output_type": "execute_result"
    }
   ],
   "source": [
    "# Look at the first 5 rows\n",
    "\n",
    "cars_new.head()"
   ]
  },
  {
   "cell_type": "code",
   "execution_count": 66,
   "metadata": {
    "scrolled": true
   },
   "outputs": [
    {
     "data": {
      "text/html": [
       "<div>\n",
       "<style scoped>\n",
       "    .dataframe tbody tr th:only-of-type {\n",
       "        vertical-align: middle;\n",
       "    }\n",
       "\n",
       "    .dataframe tbody tr th {\n",
       "        vertical-align: top;\n",
       "    }\n",
       "\n",
       "    .dataframe thead th {\n",
       "        text-align: right;\n",
       "    }\n",
       "</style>\n",
       "<table border=\"1\" class=\"dataframe\">\n",
       "  <thead>\n",
       "    <tr style=\"text-align: right;\">\n",
       "      <th></th>\n",
       "      <th>Kilometers_Driven</th>\n",
       "      <th>Mileage</th>\n",
       "      <th>Engine</th>\n",
       "      <th>Power</th>\n",
       "      <th>Seats</th>\n",
       "      <th>Price</th>\n",
       "      <th>No_of_Years</th>\n",
       "      <th>CNG</th>\n",
       "      <th>Diesel</th>\n",
       "      <th>Electric</th>\n",
       "      <th>...</th>\n",
       "      <th>Volkswagen CrossPolo</th>\n",
       "      <th>Volkswagen Jetta</th>\n",
       "      <th>Volkswagen Passat</th>\n",
       "      <th>Volkswagen Polo</th>\n",
       "      <th>Volkswagen Tiguan</th>\n",
       "      <th>Volkswagen Vento</th>\n",
       "      <th>Volvo S60</th>\n",
       "      <th>Volvo S80</th>\n",
       "      <th>Volvo V40</th>\n",
       "      <th>Volvo XC60</th>\n",
       "    </tr>\n",
       "  </thead>\n",
       "  <tbody>\n",
       "    <tr>\n",
       "      <td>6014</td>\n",
       "      <td>27365</td>\n",
       "      <td>28.40</td>\n",
       "      <td>1248.0</td>\n",
       "      <td>74.0</td>\n",
       "      <td>5.0</td>\n",
       "      <td>8666.39</td>\n",
       "      <td>6</td>\n",
       "      <td>0</td>\n",
       "      <td>1</td>\n",
       "      <td>0</td>\n",
       "      <td>...</td>\n",
       "      <td>0</td>\n",
       "      <td>0</td>\n",
       "      <td>0</td>\n",
       "      <td>0</td>\n",
       "      <td>0</td>\n",
       "      <td>0</td>\n",
       "      <td>0</td>\n",
       "      <td>0</td>\n",
       "      <td>0</td>\n",
       "      <td>0</td>\n",
       "    </tr>\n",
       "    <tr>\n",
       "      <td>6015</td>\n",
       "      <td>100000</td>\n",
       "      <td>24.40</td>\n",
       "      <td>1120.0</td>\n",
       "      <td>71.0</td>\n",
       "      <td>5.0</td>\n",
       "      <td>7298.02</td>\n",
       "      <td>5</td>\n",
       "      <td>0</td>\n",
       "      <td>1</td>\n",
       "      <td>0</td>\n",
       "      <td>...</td>\n",
       "      <td>0</td>\n",
       "      <td>0</td>\n",
       "      <td>0</td>\n",
       "      <td>0</td>\n",
       "      <td>0</td>\n",
       "      <td>0</td>\n",
       "      <td>0</td>\n",
       "      <td>0</td>\n",
       "      <td>0</td>\n",
       "      <td>0</td>\n",
       "    </tr>\n",
       "    <tr>\n",
       "      <td>6016</td>\n",
       "      <td>55000</td>\n",
       "      <td>14.00</td>\n",
       "      <td>2498.0</td>\n",
       "      <td>112.0</td>\n",
       "      <td>8.0</td>\n",
       "      <td>5291.06</td>\n",
       "      <td>8</td>\n",
       "      <td>0</td>\n",
       "      <td>1</td>\n",
       "      <td>0</td>\n",
       "      <td>...</td>\n",
       "      <td>0</td>\n",
       "      <td>0</td>\n",
       "      <td>0</td>\n",
       "      <td>0</td>\n",
       "      <td>0</td>\n",
       "      <td>0</td>\n",
       "      <td>0</td>\n",
       "      <td>0</td>\n",
       "      <td>0</td>\n",
       "      <td>0</td>\n",
       "    </tr>\n",
       "    <tr>\n",
       "      <td>6017</td>\n",
       "      <td>46000</td>\n",
       "      <td>18.90</td>\n",
       "      <td>998.0</td>\n",
       "      <td>67.1</td>\n",
       "      <td>5.0</td>\n",
       "      <td>4834.94</td>\n",
       "      <td>7</td>\n",
       "      <td>0</td>\n",
       "      <td>0</td>\n",
       "      <td>0</td>\n",
       "      <td>...</td>\n",
       "      <td>0</td>\n",
       "      <td>0</td>\n",
       "      <td>0</td>\n",
       "      <td>0</td>\n",
       "      <td>0</td>\n",
       "      <td>0</td>\n",
       "      <td>0</td>\n",
       "      <td>0</td>\n",
       "      <td>0</td>\n",
       "      <td>0</td>\n",
       "    </tr>\n",
       "    <tr>\n",
       "      <td>6018</td>\n",
       "      <td>47000</td>\n",
       "      <td>25.44</td>\n",
       "      <td>936.0</td>\n",
       "      <td>57.6</td>\n",
       "      <td>5.0</td>\n",
       "      <td>4561.26</td>\n",
       "      <td>9</td>\n",
       "      <td>0</td>\n",
       "      <td>1</td>\n",
       "      <td>0</td>\n",
       "      <td>...</td>\n",
       "      <td>0</td>\n",
       "      <td>0</td>\n",
       "      <td>0</td>\n",
       "      <td>0</td>\n",
       "      <td>0</td>\n",
       "      <td>0</td>\n",
       "      <td>0</td>\n",
       "      <td>0</td>\n",
       "      <td>0</td>\n",
       "      <td>0</td>\n",
       "    </tr>\n",
       "  </tbody>\n",
       "</table>\n",
       "<p>5 rows × 232 columns</p>\n",
       "</div>"
      ],
      "text/plain": [
       "      Kilometers_Driven  Mileage  Engine  Power  Seats    Price  No_of_Years  \\\n",
       "6014              27365    28.40  1248.0   74.0    5.0  8666.39            6   \n",
       "6015             100000    24.40  1120.0   71.0    5.0  7298.02            5   \n",
       "6016              55000    14.00  2498.0  112.0    8.0  5291.06            8   \n",
       "6017              46000    18.90   998.0   67.1    5.0  4834.94            7   \n",
       "6018              47000    25.44   936.0   57.6    5.0  4561.26            9   \n",
       "\n",
       "      CNG  Diesel  Electric  ...  Volkswagen CrossPolo  Volkswagen Jetta  \\\n",
       "6014    0       1         0  ...                     0                 0   \n",
       "6015    0       1         0  ...                     0                 0   \n",
       "6016    0       1         0  ...                     0                 0   \n",
       "6017    0       0         0  ...                     0                 0   \n",
       "6018    0       1         0  ...                     0                 0   \n",
       "\n",
       "      Volkswagen Passat  Volkswagen Polo  Volkswagen Tiguan  Volkswagen Vento  \\\n",
       "6014                  0                0                  0                 0   \n",
       "6015                  0                0                  0                 0   \n",
       "6016                  0                0                  0                 0   \n",
       "6017                  0                0                  0                 0   \n",
       "6018                  0                0                  0                 0   \n",
       "\n",
       "      Volvo S60  Volvo S80  Volvo V40  Volvo XC60  \n",
       "6014          0          0          0           0  \n",
       "6015          0          0          0           0  \n",
       "6016          0          0          0           0  \n",
       "6017          0          0          0           0  \n",
       "6018          0          0          0           0  \n",
       "\n",
       "[5 rows x 232 columns]"
      ]
     },
     "execution_count": 66,
     "metadata": {},
     "output_type": "execute_result"
    }
   ],
   "source": [
    "# Look at the last 5 rows\n",
    "\n",
    "cars_new.tail()"
   ]
  },
  {
   "cell_type": "markdown",
   "metadata": {},
   "source": [
    "# Model Building \n"
   ]
  },
  {
   "cell_type": "code",
   "execution_count": 67,
   "metadata": {
    "scrolled": true
   },
   "outputs": [
    {
     "data": {
      "text/plain": [
       "Index(['Kilometers_Driven', 'Mileage', 'Engine', 'Power', 'Seats', 'Price',\n",
       "       'No_of_Years', 'CNG', 'Diesel', 'Electric',\n",
       "       ...\n",
       "       'Volkswagen CrossPolo', 'Volkswagen Jetta', 'Volkswagen Passat',\n",
       "       'Volkswagen Polo', 'Volkswagen Tiguan', 'Volkswagen Vento', 'Volvo S60',\n",
       "       'Volvo S80', 'Volvo V40', 'Volvo XC60'],\n",
       "      dtype='object', length=232)"
      ]
     },
     "execution_count": 67,
     "metadata": {},
     "output_type": "execute_result"
    }
   ],
   "source": [
    "cars_new.columns"
   ]
  },
  {
   "cell_type": "code",
   "execution_count": 68,
   "metadata": {
    "scrolled": true
   },
   "outputs": [],
   "source": [
    "X = cars_new.drop('Price',axis=1)\n",
    "Y = cars_new['Price']\n"
   ]
  },
  {
   "cell_type": "code",
   "execution_count": 69,
   "metadata": {
    "scrolled": true
   },
   "outputs": [
    {
     "data": {
      "text/html": [
       "<div>\n",
       "<style scoped>\n",
       "    .dataframe tbody tr th:only-of-type {\n",
       "        vertical-align: middle;\n",
       "    }\n",
       "\n",
       "    .dataframe tbody tr th {\n",
       "        vertical-align: top;\n",
       "    }\n",
       "\n",
       "    .dataframe thead th {\n",
       "        text-align: right;\n",
       "    }\n",
       "</style>\n",
       "<table border=\"1\" class=\"dataframe\">\n",
       "  <thead>\n",
       "    <tr style=\"text-align: right;\">\n",
       "      <th></th>\n",
       "      <th>Kilometers_Driven</th>\n",
       "      <th>Mileage</th>\n",
       "      <th>Engine</th>\n",
       "      <th>Power</th>\n",
       "      <th>Seats</th>\n",
       "      <th>No_of_Years</th>\n",
       "      <th>CNG</th>\n",
       "      <th>Diesel</th>\n",
       "      <th>Electric</th>\n",
       "      <th>LPG</th>\n",
       "      <th>...</th>\n",
       "      <th>Volkswagen CrossPolo</th>\n",
       "      <th>Volkswagen Jetta</th>\n",
       "      <th>Volkswagen Passat</th>\n",
       "      <th>Volkswagen Polo</th>\n",
       "      <th>Volkswagen Tiguan</th>\n",
       "      <th>Volkswagen Vento</th>\n",
       "      <th>Volvo S60</th>\n",
       "      <th>Volvo S80</th>\n",
       "      <th>Volvo V40</th>\n",
       "      <th>Volvo XC60</th>\n",
       "    </tr>\n",
       "  </thead>\n",
       "  <tbody>\n",
       "    <tr>\n",
       "      <td>0</td>\n",
       "      <td>72000</td>\n",
       "      <td>26.60</td>\n",
       "      <td>998.0</td>\n",
       "      <td>58.16</td>\n",
       "      <td>5.0</td>\n",
       "      <td>10</td>\n",
       "      <td>1</td>\n",
       "      <td>0</td>\n",
       "      <td>0</td>\n",
       "      <td>0</td>\n",
       "      <td>...</td>\n",
       "      <td>0</td>\n",
       "      <td>0</td>\n",
       "      <td>0</td>\n",
       "      <td>0</td>\n",
       "      <td>0</td>\n",
       "      <td>0</td>\n",
       "      <td>0</td>\n",
       "      <td>0</td>\n",
       "      <td>0</td>\n",
       "      <td>0</td>\n",
       "    </tr>\n",
       "    <tr>\n",
       "      <td>1</td>\n",
       "      <td>41000</td>\n",
       "      <td>19.67</td>\n",
       "      <td>1582.0</td>\n",
       "      <td>126.20</td>\n",
       "      <td>5.0</td>\n",
       "      <td>5</td>\n",
       "      <td>0</td>\n",
       "      <td>1</td>\n",
       "      <td>0</td>\n",
       "      <td>0</td>\n",
       "      <td>...</td>\n",
       "      <td>0</td>\n",
       "      <td>0</td>\n",
       "      <td>0</td>\n",
       "      <td>0</td>\n",
       "      <td>0</td>\n",
       "      <td>0</td>\n",
       "      <td>0</td>\n",
       "      <td>0</td>\n",
       "      <td>0</td>\n",
       "      <td>0</td>\n",
       "    </tr>\n",
       "    <tr>\n",
       "      <td>2</td>\n",
       "      <td>46000</td>\n",
       "      <td>18.20</td>\n",
       "      <td>1199.0</td>\n",
       "      <td>88.70</td>\n",
       "      <td>5.0</td>\n",
       "      <td>9</td>\n",
       "      <td>0</td>\n",
       "      <td>0</td>\n",
       "      <td>0</td>\n",
       "      <td>0</td>\n",
       "      <td>...</td>\n",
       "      <td>0</td>\n",
       "      <td>0</td>\n",
       "      <td>0</td>\n",
       "      <td>0</td>\n",
       "      <td>0</td>\n",
       "      <td>0</td>\n",
       "      <td>0</td>\n",
       "      <td>0</td>\n",
       "      <td>0</td>\n",
       "      <td>0</td>\n",
       "    </tr>\n",
       "    <tr>\n",
       "      <td>3</td>\n",
       "      <td>87000</td>\n",
       "      <td>20.77</td>\n",
       "      <td>1248.0</td>\n",
       "      <td>88.76</td>\n",
       "      <td>7.0</td>\n",
       "      <td>8</td>\n",
       "      <td>0</td>\n",
       "      <td>1</td>\n",
       "      <td>0</td>\n",
       "      <td>0</td>\n",
       "      <td>...</td>\n",
       "      <td>0</td>\n",
       "      <td>0</td>\n",
       "      <td>0</td>\n",
       "      <td>0</td>\n",
       "      <td>0</td>\n",
       "      <td>0</td>\n",
       "      <td>0</td>\n",
       "      <td>0</td>\n",
       "      <td>0</td>\n",
       "      <td>0</td>\n",
       "    </tr>\n",
       "    <tr>\n",
       "      <td>4</td>\n",
       "      <td>40670</td>\n",
       "      <td>15.20</td>\n",
       "      <td>1968.0</td>\n",
       "      <td>140.80</td>\n",
       "      <td>5.0</td>\n",
       "      <td>7</td>\n",
       "      <td>0</td>\n",
       "      <td>1</td>\n",
       "      <td>0</td>\n",
       "      <td>0</td>\n",
       "      <td>...</td>\n",
       "      <td>0</td>\n",
       "      <td>0</td>\n",
       "      <td>0</td>\n",
       "      <td>0</td>\n",
       "      <td>0</td>\n",
       "      <td>0</td>\n",
       "      <td>0</td>\n",
       "      <td>0</td>\n",
       "      <td>0</td>\n",
       "      <td>0</td>\n",
       "    </tr>\n",
       "  </tbody>\n",
       "</table>\n",
       "<p>5 rows × 231 columns</p>\n",
       "</div>"
      ],
      "text/plain": [
       "   Kilometers_Driven  Mileage  Engine   Power  Seats  No_of_Years  CNG  \\\n",
       "0              72000    26.60   998.0   58.16    5.0           10    1   \n",
       "1              41000    19.67  1582.0  126.20    5.0            5    0   \n",
       "2              46000    18.20  1199.0   88.70    5.0            9    0   \n",
       "3              87000    20.77  1248.0   88.76    7.0            8    0   \n",
       "4              40670    15.20  1968.0  140.80    5.0            7    0   \n",
       "\n",
       "   Diesel  Electric  LPG  ...  Volkswagen CrossPolo  Volkswagen Jetta  \\\n",
       "0       0         0    0  ...                     0                 0   \n",
       "1       1         0    0  ...                     0                 0   \n",
       "2       0         0    0  ...                     0                 0   \n",
       "3       1         0    0  ...                     0                 0   \n",
       "4       1         0    0  ...                     0                 0   \n",
       "\n",
       "   Volkswagen Passat  Volkswagen Polo  Volkswagen Tiguan  Volkswagen Vento  \\\n",
       "0                  0                0                  0                 0   \n",
       "1                  0                0                  0                 0   \n",
       "2                  0                0                  0                 0   \n",
       "3                  0                0                  0                 0   \n",
       "4                  0                0                  0                 0   \n",
       "\n",
       "   Volvo S60  Volvo S80  Volvo V40  Volvo XC60  \n",
       "0          0          0          0           0  \n",
       "1          0          0          0           0  \n",
       "2          0          0          0           0  \n",
       "3          0          0          0           0  \n",
       "4          0          0          0           0  \n",
       "\n",
       "[5 rows x 231 columns]"
      ]
     },
     "execution_count": 69,
     "metadata": {},
     "output_type": "execute_result"
    }
   ],
   "source": [
    "X.head()"
   ]
  },
  {
   "cell_type": "code",
   "execution_count": 70,
   "metadata": {
    "scrolled": true
   },
   "outputs": [
    {
     "data": {
      "text/plain": [
       "0     3192.88\n",
       "1    22806.30\n",
       "2     8210.27\n",
       "3    10947.02\n",
       "4    32366.70\n",
       "Name: Price, dtype: float64"
      ]
     },
     "execution_count": 70,
     "metadata": {},
     "output_type": "execute_result"
    }
   ],
   "source": [
    "Y.head()"
   ]
  },
  {
   "cell_type": "markdown",
   "metadata": {},
   "source": [
    "# Splitting the data with a test size of 0.2"
   ]
  },
  {
   "cell_type": "code",
   "execution_count": 71,
   "metadata": {
    "scrolled": true
   },
   "outputs": [],
   "source": [
    "X_train,X_test,y_train,y_test = train_test_split(X,Y,test_size=0.2, random_state = 0)"
   ]
  },
  {
   "cell_type": "code",
   "execution_count": 72,
   "metadata": {
    "scrolled": true
   },
   "outputs": [],
   "source": [
    "minma = MinMaxScaler()\n",
    "minma.fit(X_train)\n",
    "X_train = minma.transform(X_train)\n",
    "X_test = minma.transform(X_test)"
   ]
  },
  {
   "cell_type": "code",
   "execution_count": 73,
   "metadata": {
    "scrolled": true
   },
   "outputs": [
    {
     "data": {
      "text/plain": [
       "array([[0.00368964, 0.67203339, 0.15960306, ..., 0.        , 0.        ,\n",
       "        0.        ],\n",
       "       [0.00535845, 0.51311866, 0.17965681, ..., 0.        , 0.        ,\n",
       "        0.        ],\n",
       "       [0.01412791, 0.48002385, 0.16146372, ..., 0.        , 0.        ,\n",
       "        0.        ],\n",
       "       ...,\n",
       "       [0.0095124 , 0.35927251, 0.32148026, ..., 0.        , 0.        ,\n",
       "        0.        ],\n",
       "       [0.0076662 , 0.65593321, 0.19805665, ..., 0.        , 0.        ,\n",
       "        0.        ],\n",
       "       [0.01274326, 0.69767442, 0.12900558, ..., 0.        , 0.        ,\n",
       "        0.        ]])"
      ]
     },
     "execution_count": 73,
     "metadata": {},
     "output_type": "execute_result"
    }
   ],
   "source": [
    "X_train"
   ]
  },
  {
   "cell_type": "code",
   "execution_count": 74,
   "metadata": {
    "scrolled": true
   },
   "outputs": [
    {
     "data": {
      "text/plain": [
       "3509    16748.95\n",
       "3332     6367.52\n",
       "5383     2006.95\n",
       "1891     6841.89\n",
       "5757    30925.34\n",
       "          ...   \n",
       "4931    11494.38\n",
       "3264     9031.29\n",
       "1653    11403.15\n",
       "2607    20981.80\n",
       "2732     7845.37\n",
       "Name: Price, Length: 4815, dtype: float64"
      ]
     },
     "execution_count": 74,
     "metadata": {},
     "output_type": "execute_result"
    }
   ],
   "source": [
    "y_train"
   ]
  },
  {
   "cell_type": "code",
   "execution_count": 75,
   "metadata": {
    "scrolled": true
   },
   "outputs": [
    {
     "data": {
      "text/plain": [
       "array([[0.0095124 , 0.45020871, 0.32148026, ..., 0.        , 0.        ,\n",
       "        0.        ],\n",
       "       [0.01328389, 0.5307096 , 0.12900558, ..., 0.        , 0.        ,\n",
       "        0.        ],\n",
       "       [0.01031243, 0.4484198 , 0.20136448, ..., 0.        , 0.        ,\n",
       "        0.        ],\n",
       "       ...,\n",
       "       [0.0048969 , 0.44722719, 0.12900558, ..., 0.        , 0.        ,\n",
       "        0.        ],\n",
       "       [0.00832114, 0.51878354, 0.18048377, ..., 0.        , 0.        ,\n",
       "        0.        ],\n",
       "       [0.00770159, 0.56350626, 0.07732065, ..., 0.        , 0.        ,\n",
       "        0.        ]])"
      ]
     },
     "execution_count": 75,
     "metadata": {},
     "output_type": "execute_result"
    }
   ],
   "source": [
    "X_test"
   ]
  },
  {
   "cell_type": "code",
   "execution_count": 76,
   "metadata": {
    "scrolled": true
   },
   "outputs": [
    {
     "data": {
      "text/plain": [
       "5150    13227.65\n",
       "2164     7754.14\n",
       "1136     7115.57\n",
       "5641    15344.08\n",
       "1515    24594.31\n",
       "          ...   \n",
       "5899     9104.27\n",
       "4139    69604.83\n",
       "728     15508.28\n",
       "3619    11403.15\n",
       "3828     7060.83\n",
       "Name: Price, Length: 1204, dtype: float64"
      ]
     },
     "execution_count": 76,
     "metadata": {},
     "output_type": "execute_result"
    }
   ],
   "source": [
    "y_test"
   ]
  },
  {
   "cell_type": "markdown",
   "metadata": {},
   "source": [
    "# Linear Regression Model "
   ]
  },
  {
   "cell_type": "code",
   "execution_count": 77,
   "metadata": {
    "scrolled": true
   },
   "outputs": [],
   "source": [
    "reg = LinearRegression()\n",
    "reg = reg.fit(X_train,y_train)\n",
    "train_pred = reg.predict(X_train)\n",
    "test_pred = reg.predict(X_test)"
   ]
  },
  {
   "cell_type": "code",
   "execution_count": 78,
   "metadata": {
    "scrolled": true
   },
   "outputs": [
    {
     "name": "stdout",
     "output_type": "stream",
     "text": [
      "Accuracy for Test set: -50376581375905767424.00\n",
      "Accuracy for Training set: 0.86\n"
     ]
    }
   ],
   "source": [
    "print(\"Accuracy for Test set: \"+\"{:.2f}\".format(reg.score(X_test,y_test)))\n",
    "print(\"Accuracy for Training set: \"+\"{:.2f}\".format(reg.score(X_train,y_train)))"
   ]
  },
  {
   "cell_type": "code",
   "execution_count": 79,
   "metadata": {
    "scrolled": true
   },
   "outputs": [
    {
     "data": {
      "text/plain": [
       "141785128332229.9"
      ]
     },
     "execution_count": 79,
     "metadata": {},
     "output_type": "execute_result"
    }
   ],
   "source": [
    "math.sqrt(mean_squared_error(y_test,test_pred))"
   ]
  },
  {
   "cell_type": "code",
   "execution_count": 80,
   "metadata": {
    "scrolled": true
   },
   "outputs": [
    {
     "name": "stdout",
     "output_type": "stream",
     "text": [
      "Tree on train set MAE%: 24.6\n",
      "Tree on test set MAE%: 46026261912.8\n"
     ]
    }
   ],
   "source": [
    "MAE_train=np.mean(abs(y_train-train_pred))/np.mean(y_train)\n",
    "print(\"Tree on train set MAE%:\", round(MAE_train*100,1))\n",
    "\n",
    "MAE_test=np.mean(abs(y_test-test_pred))/np.mean(y_test)\n",
    "print(\"Tree on test set MAE%:\", round(MAE_test*100,1))"
   ]
  },
  {
   "cell_type": "code",
   "execution_count": 81,
   "metadata": {
    "scrolled": true
   },
   "outputs": [
    {
     "data": {
      "text/plain": [
       "5150    13227.65\n",
       "2164     7754.14\n",
       "1136     7115.57\n",
       "5641    15344.08\n",
       "1515    24594.31\n",
       "          ...   \n",
       "5899     9104.27\n",
       "4139    69604.83\n",
       "728     15508.28\n",
       "3619    11403.15\n",
       "3828     7060.83\n",
       "Name: Price, Length: 1204, dtype: float64"
      ]
     },
     "execution_count": 81,
     "metadata": {},
     "output_type": "execute_result"
    }
   ],
   "source": [
    "y_test"
   ]
  },
  {
   "cell_type": "code",
   "execution_count": 82,
   "metadata": {
    "scrolled": true
   },
   "outputs": [
    {
     "data": {
      "text/plain": [
       "array([17751.87675993,  6578.20949494,  5784.16139487, ...,\n",
       "       17233.70502748, 13339.74556781, 12285.09381914])"
      ]
     },
     "execution_count": 82,
     "metadata": {},
     "output_type": "execute_result"
    }
   ],
   "source": [
    "test_pred"
   ]
  },
  {
   "cell_type": "code",
   "execution_count": 83,
   "metadata": {
    "scrolled": true
   },
   "outputs": [
    {
     "data": {
      "image/png": "[encoded data removed]",
      "text/plain": [
       "<Figure size 432x288 with 1 Axes>"
      ]
     },
     "metadata": {
      "needs_background": "light"
     },
     "output_type": "display_data"
    }
   ],
   "source": [
    "# Create a scatter plot with train and test\n",
    "\n",
    "plt.scatter(y_train, train_pred, label='train')\n",
    "plt.scatter(y_test, test_pred, label='test')\n",
    "plt.legend()\n",
    "plt.show()"
   ]
  },
  {
   "cell_type": "markdown",
   "metadata": {},
   "source": [
    "# K-Neighbors Regression Model"
   ]
  },
  {
   "cell_type": "code",
   "execution_count": 84,
   "metadata": {
    "scrolled": true
   },
   "outputs": [
    {
     "name": "stdout",
     "output_type": "stream",
     "text": [
      "Accuracy for Test set: 0.87\n",
      "Accuracy for Training set: 0.91\n"
     ]
    }
   ],
   "source": [
    "k_reg=KNeighborsRegressor()\n",
    "k_reg = k_reg.fit(X_train,y_train)\n",
    "train_pred = k_reg.predict(X_train)\n",
    "test_pred=k_reg.predict(X_test)\n",
    "print(\"Accuracy for Test set: \"+\"{:.2f}\".format(k_reg.score(X_test,y_test)))\n",
    "print(\"Accuracy for Training set: \"+\"{:.2f}\".format(k_reg.score(X_train,y_train)))"
   ]
  },
  {
   "cell_type": "code",
   "execution_count": 85,
   "metadata": {
    "scrolled": true
   },
   "outputs": [
    {
     "data": {
      "text/plain": [
       "7295.2654144263915"
      ]
     },
     "execution_count": 85,
     "metadata": {},
     "output_type": "execute_result"
    }
   ],
   "source": [
    "math.sqrt(mean_squared_error(y_test,test_pred))"
   ]
  },
  {
   "cell_type": "code",
   "execution_count": 86,
   "metadata": {
    "scrolled": true
   },
   "outputs": [
    {
     "name": "stdout",
     "output_type": "stream",
     "text": [
      "Tree on train set MAE%: 14.9\n",
      "Tree on test set MAE%: 18.7\n"
     ]
    }
   ],
   "source": [
    "MAE_train=np.mean(abs(y_train-train_pred))/np.mean(y_train)\n",
    "print(\"Tree on train set MAE%:\", round(MAE_train*100,1))\n",
    "\n",
    "MAE_test=np.mean(abs(y_test-test_pred))/np.mean(y_test)\n",
    "print(\"Tree on test set MAE%:\", round(MAE_test*100,1))"
   ]
  },
  {
   "cell_type": "code",
   "execution_count": 87,
   "metadata": {
    "scrolled": true
   },
   "outputs": [
    {
     "data": {
      "text/plain": [
       "5150    13227.65\n",
       "2164     7754.14\n",
       "1136     7115.57\n",
       "5641    15344.08\n",
       "1515    24594.31\n",
       "          ...   \n",
       "5899     9104.27\n",
       "4139    69604.83\n",
       "728     15508.28\n",
       "3619    11403.15\n",
       "3828     7060.83\n",
       "Name: Price, Length: 1204, dtype: float64"
      ]
     },
     "execution_count": 87,
     "metadata": {},
     "output_type": "execute_result"
    }
   ],
   "source": [
    "y_test"
   ]
  },
  {
   "cell_type": "code",
   "execution_count": 88,
   "metadata": {
    "scrolled": true
   },
   "outputs": [
    {
     "data": {
      "text/plain": [
       "array([15387.868,  6294.538,  6104.792, ..., 13410.106, 10731.732,\n",
       "        7006.094])"
      ]
     },
     "execution_count": 88,
     "metadata": {},
     "output_type": "execute_result"
    }
   ],
   "source": [
    "test_pred"
   ]
  },
  {
   "cell_type": "code",
   "execution_count": 89,
   "metadata": {
    "scrolled": true
   },
   "outputs": [
    {
     "data": {
      "image/png": "[encoded data removed]",
      "text/plain": [
       "<Figure size 432x288 with 1 Axes>"
      ]
     },
     "metadata": {
      "needs_background": "light"
     },
     "output_type": "display_data"
    }
   ],
   "source": [
    "# Create a scatter plot with train and test \n",
    "\n",
    "plt.scatter(y_train, train_pred, label='train')\n",
    "plt.scatter(y_test, test_pred, label='test')\n",
    "plt.legend()\n",
    "plt.show()"
   ]
  },
  {
   "cell_type": "markdown",
   "metadata": {},
   "source": [
    "# Decision Tree Regression Model"
   ]
  },
  {
   "cell_type": "code",
   "execution_count": 90,
   "metadata": {
    "scrolled": true
   },
   "outputs": [
    {
     "name": "stdout",
     "output_type": "stream",
     "text": [
      "Accuracy for Test set: 0.84\n",
      "Accuracy for Training set: 1.00\n"
     ]
    }
   ],
   "source": [
    "dec_reg = DecisionTreeRegressor()\n",
    "dec_reg.fit(X_train,y_train)\n",
    "train_pred = dec_reg.predict(X_train)\n",
    "test_pred=dec_reg.predict(X_test)\n",
    "print(\"Accuracy for Test set: \"+\"{:.2f}\".format(dec_reg.score(X_test,y_test)))\n",
    "print(\"Accuracy for Training set: \"+\"{:.2f}\".format(dec_reg.score(X_train,y_train)))"
   ]
  },
  {
   "cell_type": "code",
   "execution_count": 91,
   "metadata": {
    "scrolled": true
   },
   "outputs": [
    {
     "data": {
      "text/plain": [
       "7869.86161758352"
      ]
     },
     "execution_count": 91,
     "metadata": {},
     "output_type": "execute_result"
    }
   ],
   "source": [
    "math.sqrt(mean_squared_error(y_test,test_pred))"
   ]
  },
  {
   "cell_type": "code",
   "execution_count": 92,
   "metadata": {
    "scrolled": true
   },
   "outputs": [
    {
     "name": "stdout",
     "output_type": "stream",
     "text": [
      "Tree on train set MAE%: 0.0\n",
      "Tree on test set MAE%: 20.4\n"
     ]
    }
   ],
   "source": [
    "MAE_train=np.mean(abs(y_train-train_pred))/np.mean(y_train)\n",
    "print(\"Tree on train set MAE%:\", round(MAE_train*100,1))\n",
    "\n",
    "MAE_test=np.mean(abs(y_test-test_pred))/np.mean(y_test)\n",
    "print(\"Tree on test set MAE%:\", round(MAE_test*100,1))"
   ]
  },
  {
   "cell_type": "code",
   "execution_count": 93,
   "metadata": {
    "scrolled": true
   },
   "outputs": [
    {
     "data": {
      "text/plain": [
       "5150    13227.65\n",
       "2164     7754.14\n",
       "1136     7115.57\n",
       "5641    15344.08\n",
       "1515    24594.31\n",
       "          ...   \n",
       "5899     9104.27\n",
       "4139    69604.83\n",
       "728     15508.28\n",
       "3619    11403.15\n",
       "3828     7060.83\n",
       "Name: Price, Length: 1204, dtype: float64"
      ]
     },
     "execution_count": 93,
     "metadata": {},
     "output_type": "execute_result"
    }
   ],
   "source": [
    "y_test"
   ]
  },
  {
   "cell_type": "code",
   "execution_count": 94,
   "metadata": {
    "scrolled": true
   },
   "outputs": [
    {
     "data": {
      "text/plain": [
       "array([14176.4  ,  6294.54 ,  6933.12 , ..., 15052.16 , 10627.735,\n",
       "        7845.37 ])"
      ]
     },
     "execution_count": 94,
     "metadata": {},
     "output_type": "execute_result"
    }
   ],
   "source": [
    "test_pred"
   ]
  },
  {
   "cell_type": "code",
   "execution_count": 95,
   "metadata": {
    "scrolled": true
   },
   "outputs": [
    {
     "data": {
      "image/png": "[encoded data removed]",
      "text/plain": [
       "<Figure size 432x288 with 1 Axes>"
      ]
     },
     "metadata": {
      "needs_background": "light"
     },
     "output_type": "display_data"
    }
   ],
   "source": [
    "# Create a scatter plot with train and test \n",
    "plt.scatter(y_train, train_pred, label='train')\n",
    "plt.scatter(y_test, test_pred, label='test')\n",
    "plt.legend()\n",
    "plt.show()"
   ]
  },
  {
   "cell_type": "markdown",
   "metadata": {},
   "source": [
    "# Random Forest Model"
   ]
  },
  {
   "cell_type": "code",
   "execution_count": 96,
   "metadata": {
    "scrolled": true
   },
   "outputs": [
    {
     "name": "stdout",
     "output_type": "stream",
     "text": [
      "Accuracy for Test set: 0.92\n",
      "Accuracy for Training set: 0.99\n"
     ]
    }
   ],
   "source": [
    "rf_reg = RandomForestRegressor(n_estimators=200)\n",
    "rf_reg.fit(X_train,y_train)\n",
    "train_pred = rf_reg.predict(X_train)\n",
    "test_pred=rf_reg.predict(X_test)\n",
    "print(\"Accuracy for Test set: \"+\"{:.2f}\".format(rf_reg.score(X_test,y_test)))\n",
    "print(\"Accuracy for Training set: \"+\"{:.2f}\".format(rf_reg.score(X_train,y_train)))"
   ]
  },
  {
   "cell_type": "code",
   "execution_count": 97,
   "metadata": {
    "scrolled": true
   },
   "outputs": [],
   "source": [
    "from sklearn.model_selection import cross_val_score, cross_val_predict\n",
    "acc = cross_val_score(RandomForestRegressor(n_estimators=200),X,Y,cv=6)"
   ]
  },
  {
   "cell_type": "code",
   "execution_count": 98,
   "metadata": {
    "scrolled": true
   },
   "outputs": [
    {
     "data": {
      "text/plain": [
       "<matplotlib.collections.PathCollection at 0x1c1d2160948>"
      ]
     },
     "execution_count": 98,
     "metadata": {},
     "output_type": "execute_result"
    },
    {
     "data": {
      "image/png": "[encoded data removed]",
      "text/plain": [
       "<Figure size 432x288 with 1 Axes>"
      ]
     },
     "metadata": {
      "needs_background": "light"
     },
     "output_type": "display_data"
    }
   ],
   "source": [
    "predictions = cross_val_predict(RandomForestRegressor(n_estimators=200),X,Y,cv=6)\n",
    "plt.scatter(Y, predictions)"
   ]
  },
  {
   "cell_type": "code",
   "execution_count": 99,
   "metadata": {
    "scrolled": true
   },
   "outputs": [
    {
     "data": {
      "text/plain": [
       "0.8931717174931809"
      ]
     },
     "execution_count": 99,
     "metadata": {},
     "output_type": "execute_result"
    }
   ],
   "source": [
    "np.average(acc)"
   ]
  },
  {
   "cell_type": "code",
   "execution_count": 100,
   "metadata": {
    "scrolled": true
   },
   "outputs": [
    {
     "name": "stdout",
     "output_type": "stream",
     "text": [
      "Cross-Predicted Accuracy: 0.8935595094676718\n"
     ]
    }
   ],
   "source": [
    "from sklearn import metrics\n",
    "accuracy = metrics.r2_score(Y, predictions)\n",
    "print ('Cross-Predicted Accuracy:', accuracy)\n"
   ]
  },
  {
   "cell_type": "code",
   "execution_count": 101,
   "metadata": {
    "scrolled": true
   },
   "outputs": [
    {
     "data": {
      "text/plain": [
       "5778.689652214539"
      ]
     },
     "execution_count": 101,
     "metadata": {},
     "output_type": "execute_result"
    }
   ],
   "source": [
    "math.sqrt(mean_squared_error(y_test,test_pred))"
   ]
  },
  {
   "cell_type": "code",
   "execution_count": 102,
   "metadata": {
    "scrolled": true
   },
   "outputs": [
    {
     "name": "stdout",
     "output_type": "stream",
     "text": [
      "Tree on train set MAE%: 6.0\n",
      "Tree on test set MAE%: 15.8\n"
     ]
    }
   ],
   "source": [
    "MAE_train=np.mean(abs(y_train-train_pred))/np.mean(y_train)\n",
    "print(\"Tree on train set MAE%:\", round(MAE_train*100,1))\n",
    "\n",
    "MAE_test=np.mean(abs(y_test-test_pred))/np.mean(y_test)\n",
    "print(\"Tree on test set MAE%:\", round(MAE_test*100,1))"
   ]
  },
  {
   "cell_type": "code",
   "execution_count": 103,
   "metadata": {
    "scrolled": true
   },
   "outputs": [
    {
     "data": {
      "text/plain": [
       "5150    13227.65\n",
       "2164     7754.14\n",
       "1136     7115.57\n",
       "5641    15344.08\n",
       "1515    24594.31\n",
       "          ...   \n",
       "5899     9104.27\n",
       "4139    69604.83\n",
       "728     15508.28\n",
       "3619    11403.15\n",
       "3828     7060.83\n",
       "Name: Price, Length: 1204, dtype: float64"
      ]
     },
     "execution_count": 103,
     "metadata": {},
     "output_type": "execute_result"
    }
   ],
   "source": [
    "y_test"
   ]
  },
  {
   "cell_type": "code",
   "execution_count": 104,
   "metadata": {
    "scrolled": true
   },
   "outputs": [
    {
     "data": {
      "text/plain": [
       "array([14420.882025  ,  5926.1714    ,  7305.13345   , ...,\n",
       "       14282.21805   , 10514.22631512,  6884.12675   ])"
      ]
     },
     "execution_count": 104,
     "metadata": {},
     "output_type": "execute_result"
    }
   ],
   "source": [
    "test_pred"
   ]
  },
  {
   "cell_type": "code",
   "execution_count": 105,
   "metadata": {
    "scrolled": true
   },
   "outputs": [
    {
     "data": {
      "image/png": "[encoded data removed]",
      "text/plain": [
       "<Figure size 432x288 with 1 Axes>"
      ]
     },
     "metadata": {
      "needs_background": "light"
     },
     "output_type": "display_data"
    }
   ],
   "source": [
    "# Create a scatter plot with train and test \n",
    "plt.scatter(y_train, train_pred, label='train')\n",
    "plt.scatter(y_test, test_pred, label='test')\n",
    "plt.legend()\n",
    "plt.show()"
   ]
  },
  {
   "cell_type": "markdown",
   "metadata": {},
   "source": [
    "#  Gradient Boosted Regression Model "
   ]
  },
  {
   "cell_type": "code",
   "execution_count": 106,
   "metadata": {
    "scrolled": true
   },
   "outputs": [
    {
     "name": "stdout",
     "output_type": "stream",
     "text": [
      "Accuracy for Test set: 0.38\n",
      "Accuracy for Training set: 0.38\n"
     ]
    }
   ],
   "source": [
    "gb_reg = GradientBoostingRegressor(max_features=5,\n",
    "                                learning_rate=0.01,\n",
    "                                n_estimators=200,\n",
    "                                random_state=99)\n",
    "gb_reg.fit(X_train,y_train)\n",
    "train_pred = gb_reg.predict(X_train)\n",
    "test_pred=gb_reg.predict(X_test)\n",
    "print(\"Accuracy for Test set: \"+\"{:.2f}\".format(gb_reg.score(X_test,y_test)))\n",
    "print(\"Accuracy for Training set: \"+\"{:.2f}\".format(gb_reg.score(X_train,y_train)))"
   ]
  },
  {
   "cell_type": "code",
   "execution_count": 107,
   "metadata": {
    "scrolled": true
   },
   "outputs": [
    {
     "data": {
      "text/plain": [
       "15675.958106964998"
      ]
     },
     "execution_count": 107,
     "metadata": {},
     "output_type": "execute_result"
    }
   ],
   "source": [
    "math.sqrt(mean_squared_error(y_test,test_pred))"
   ]
  },
  {
   "cell_type": "code",
   "execution_count": 108,
   "metadata": {
    "scrolled": true
   },
   "outputs": [
    {
     "name": "stdout",
     "output_type": "stream",
     "text": [
      "Tree on train set MAE%: 55.7\n",
      "Tree on test set MAE%: 54.4\n"
     ]
    }
   ],
   "source": [
    "MAE_train=np.mean(abs(y_train-train_pred))/np.mean(y_train)\n",
    "print(\"Tree on train set MAE%:\", round(MAE_train*100,1))\n",
    "\n",
    "MAE_test=np.mean(abs(y_test-test_pred))/np.mean(y_test)\n",
    "print(\"Tree on test set MAE%:\", round(MAE_test*100,1))"
   ]
  },
  {
   "cell_type": "code",
   "execution_count": 109,
   "metadata": {
    "scrolled": true
   },
   "outputs": [
    {
     "data": {
      "text/plain": [
       "5150    13227.65\n",
       "2164     7754.14\n",
       "1136     7115.57\n",
       "5641    15344.08\n",
       "1515    24594.31\n",
       "          ...   \n",
       "5899     9104.27\n",
       "4139    69604.83\n",
       "728     15508.28\n",
       "3619    11403.15\n",
       "3828     7060.83\n",
       "Name: Price, Length: 1204, dtype: float64"
      ]
     },
     "execution_count": 109,
     "metadata": {},
     "output_type": "execute_result"
    }
   ],
   "source": [
    "y_test"
   ]
  },
  {
   "cell_type": "code",
   "execution_count": 110,
   "metadata": {
    "scrolled": true
   },
   "outputs": [
    {
     "data": {
      "text/plain": [
       "array([16957.14505282, 13278.78612378, 13147.91290171, ...,\n",
       "       15939.59320993, 13671.87287961, 14182.36209387])"
      ]
     },
     "execution_count": 110,
     "metadata": {},
     "output_type": "execute_result"
    }
   ],
   "source": [
    "test_pred"
   ]
  },
  {
   "cell_type": "code",
   "execution_count": 111,
   "metadata": {
    "scrolled": true
   },
   "outputs": [
    {
     "data": {
      "image/png": "[encoded data removed]",
      "text/plain": [
       "<Figure size 432x288 with 1 Axes>"
      ]
     },
     "metadata": {
      "needs_background": "light"
     },
     "output_type": "display_data"
    }
   ],
   "source": [
    "# Create a scatter plot with train and test\n",
    "plt.scatter(y_train, train_pred, label='train')\n",
    "plt.scatter(y_test, test_pred, label='test')\n",
    "plt.legend()\n",
    "plt.show()"
   ]
  },
  {
   "cell_type": "markdown",
   "metadata": {},
   "source": [
    "# Ridge Regression Model"
   ]
  },
  {
   "cell_type": "code",
   "execution_count": 112,
   "metadata": {
    "scrolled": true
   },
   "outputs": [
    {
     "name": "stdout",
     "output_type": "stream",
     "text": [
      "Accuracy for Test set: 0.83\n",
      "Accuracy for Training set: 0.84\n"
     ]
    }
   ],
   "source": [
    "clf = Ridge(alpha=1.0)\n",
    "clf.fit(X_train,y_train)\n",
    "train_pred = clf.predict(X_train)\n",
    "test_pred=clf.predict(X_test)\n",
    "print(\"Accuracy for Test set: \"+\"{:.2f}\".format(clf.score(X_test,y_test)))\n",
    "print(\"Accuracy for Training set: \"+\"{:.2f}\".format(clf.score(X_train,y_train)))"
   ]
  },
  {
   "cell_type": "code",
   "execution_count": 113,
   "metadata": {
    "scrolled": true
   },
   "outputs": [
    {
     "data": {
      "text/plain": [
       "8250.511003902315"
      ]
     },
     "execution_count": 113,
     "metadata": {},
     "output_type": "execute_result"
    }
   ],
   "source": [
    "math.sqrt(mean_squared_error(y_test,test_pred))"
   ]
  },
  {
   "cell_type": "code",
   "execution_count": 114,
   "metadata": {
    "scrolled": true
   },
   "outputs": [
    {
     "name": "stdout",
     "output_type": "stream",
     "text": [
      "Tree on train set MAE%: 26.1\n",
      "Tree on test set MAE%: 26.1\n"
     ]
    }
   ],
   "source": [
    "MAE_train=np.mean(abs(y_train-train_pred))/np.mean(y_train)\n",
    "print(\"Tree on train set MAE%:\", round(MAE_train*100,1))\n",
    "\n",
    "MAE_test=np.mean(abs(y_test-test_pred))/np.mean(y_test)\n",
    "print(\"Tree on test set MAE%:\", round(MAE_test*100,1))"
   ]
  },
  {
   "cell_type": "code",
   "execution_count": 115,
   "metadata": {
    "scrolled": true
   },
   "outputs": [
    {
     "data": {
      "text/plain": [
       "5150    13227.65\n",
       "2164     7754.14\n",
       "1136     7115.57\n",
       "5641    15344.08\n",
       "1515    24594.31\n",
       "          ...   \n",
       "5899     9104.27\n",
       "4139    69604.83\n",
       "728     15508.28\n",
       "3619    11403.15\n",
       "3828     7060.83\n",
       "Name: Price, Length: 1204, dtype: float64"
      ]
     },
     "execution_count": 115,
     "metadata": {},
     "output_type": "execute_result"
    }
   ],
   "source": [
    "y_test"
   ]
  },
  {
   "cell_type": "code",
   "execution_count": 116,
   "metadata": {
    "scrolled": true
   },
   "outputs": [
    {
     "data": {
      "text/plain": [
       "array([17801.92300731,  8440.1940262 ,  5613.61653214, ...,\n",
       "       17357.98601701, 13338.76955837, 12084.83524673])"
      ]
     },
     "execution_count": 116,
     "metadata": {},
     "output_type": "execute_result"
    }
   ],
   "source": [
    "test_pred"
   ]
  },
  {
   "cell_type": "code",
   "execution_count": 117,
   "metadata": {
    "scrolled": true
   },
   "outputs": [
    {
     "data": {
      "image/png": "[encoded data removed]",
      "text/plain": [
       "<Figure size 432x288 with 1 Axes>"
      ]
     },
     "metadata": {
      "needs_background": "light"
     },
     "output_type": "display_data"
    }
   ],
   "source": [
    "# Create a scatter plot with train and test \n",
    "plt.scatter(y_train, train_pred, label='train')\n",
    "plt.scatter(y_test, test_pred, label='test')\n",
    "plt.legend()\n",
    "plt.show()"
   ]
  },
  {
   "cell_type": "markdown",
   "metadata": {},
   "source": [
    "# Lasso Regression Model"
   ]
  },
  {
   "cell_type": "code",
   "execution_count": 118,
   "metadata": {
    "scrolled": true
   },
   "outputs": [
    {
     "name": "stdout",
     "output_type": "stream",
     "text": [
      "Accuracy for Test set: 0.82\n",
      "Accuracy for Training set: 0.85\n"
     ]
    }
   ],
   "source": [
    "las = linear_model.Lasso(alpha=1)\n",
    "las.fit(X_train,y_train)\n",
    "train_pred = las.predict(X_train)\n",
    "test_pred=las.predict(X_test)\n",
    "print(\"Accuracy for Test set: \"+\"{:.2f}\".format(las.score(X_test,y_test)))\n",
    "print(\"Accuracy for Training set: \"+\"{:.2f}\".format(las.score(X_train,y_train)))"
   ]
  },
  {
   "cell_type": "code",
   "execution_count": 119,
   "metadata": {
    "scrolled": true
   },
   "outputs": [
    {
     "data": {
      "text/plain": [
       "8441.845637898112"
      ]
     },
     "execution_count": 119,
     "metadata": {},
     "output_type": "execute_result"
    }
   ],
   "source": [
    "math.sqrt(mean_squared_error(y_test,test_pred))"
   ]
  },
  {
   "cell_type": "code",
   "execution_count": 120,
   "metadata": {
    "scrolled": true
   },
   "outputs": [
    {
     "name": "stdout",
     "output_type": "stream",
     "text": [
      "Tree on train set MAE%: 24.8\n",
      "Tree on test set MAE%: 25.9\n"
     ]
    }
   ],
   "source": [
    "MAE_train=np.mean(abs(y_train-train_pred))/np.mean(y_train)\n",
    "print(\"Tree on train set MAE%:\", round(MAE_train*100,1))\n",
    "\n",
    "MAE_test=np.mean(abs(y_test-test_pred))/np.mean(y_test)\n",
    "print(\"Tree on test set MAE%:\", round(MAE_test*100,1))"
   ]
  },
  {
   "cell_type": "code",
   "execution_count": 121,
   "metadata": {
    "scrolled": true
   },
   "outputs": [
    {
     "data": {
      "text/plain": [
       "5150    13227.65\n",
       "2164     7754.14\n",
       "1136     7115.57\n",
       "5641    15344.08\n",
       "1515    24594.31\n",
       "          ...   \n",
       "5899     9104.27\n",
       "4139    69604.83\n",
       "728     15508.28\n",
       "3619    11403.15\n",
       "3828     7060.83\n",
       "Name: Price, Length: 1204, dtype: float64"
      ]
     },
     "execution_count": 121,
     "metadata": {},
     "output_type": "execute_result"
    }
   ],
   "source": [
    "y_test"
   ]
  },
  {
   "cell_type": "code",
   "execution_count": 122,
   "metadata": {
    "scrolled": true
   },
   "outputs": [
    {
     "data": {
      "text/plain": [
       "array([17802.70841286,  7642.15709468,  5709.04965629, ...,\n",
       "       17851.23156488, 13312.02034515, 12069.22566329])"
      ]
     },
     "execution_count": 122,
     "metadata": {},
     "output_type": "execute_result"
    }
   ],
   "source": [
    "test_pred"
   ]
  },
  {
   "cell_type": "code",
   "execution_count": 123,
   "metadata": {
    "scrolled": true
   },
   "outputs": [
    {
     "data": {
      "image/png": "[encoded data removed]",
      "text/plain": [
       "<Figure size 432x288 with 1 Axes>"
      ]
     },
     "metadata": {
      "needs_background": "light"
     },
     "output_type": "display_data"
    }
   ],
   "source": [
    "# Create a scatter plot with train and test\n",
    "plt.scatter(y_train, train_pred, label='train')\n",
    "plt.scatter(y_test, test_pred, label='test')\n",
    "plt.legend()\n",
    "plt.show()"
   ]
  },
  {
   "cell_type": "markdown",
   "metadata": {},
   "source": [
    "# Artificial Neural Network ( Keras )"
   ]
  },
  {
   "cell_type": "code",
   "execution_count": 124,
   "metadata": {
    "scrolled": true
   },
   "outputs": [],
   "source": [
    "np.random.seed(1337)"
   ]
  },
  {
   "cell_type": "code",
   "execution_count": 125,
   "metadata": {
    "scrolled": true
   },
   "outputs": [],
   "source": [
    "model = Sequential()\n",
    "model.add(Dense(200,activation='relu',input_dim=231))\n",
    "model.add(Dropout(0.2))\n",
    "model.add(Dense(100,activation='relu'))\n",
    "model.add(Dropout(0.2))\n",
    "model.add(Dense(1,activation='linear'))"
   ]
  },
  {
   "cell_type": "code",
   "execution_count": 126,
   "metadata": {
    "scrolled": true
   },
   "outputs": [
    {
     "name": "stdout",
     "output_type": "stream",
     "text": [
      "Model: \"sequential_1\"\n",
      "_________________________________________________________________\n",
      "Layer (type)                 Output Shape              Param #   \n",
      "=================================================================\n",
      "dense_1 (Dense)              (None, 200)               46400     \n",
      "_________________________________________________________________\n",
      "dropout_1 (Dropout)          (None, 200)               0         \n",
      "_________________________________________________________________\n",
      "dense_2 (Dense)              (None, 100)               20100     \n",
      "_________________________________________________________________\n",
      "dropout_2 (Dropout)          (None, 100)               0         \n",
      "_________________________________________________________________\n",
      "dense_3 (Dense)              (None, 1)                 101       \n",
      "=================================================================\n",
      "Total params: 66,601\n",
      "Trainable params: 66,601\n",
      "Non-trainable params: 0\n",
      "_________________________________________________________________\n"
     ]
    }
   ],
   "source": [
    "model.summary()"
   ]
  },
  {
   "cell_type": "code",
   "execution_count": 127,
   "metadata": {
    "scrolled": true
   },
   "outputs": [],
   "source": [
    "\n",
    "model.compile(optimizer ='adam', loss='mse')"
   ]
  },
  {
   "cell_type": "code",
   "execution_count": 128,
   "metadata": {
    "scrolled": false
   },
   "outputs": [
    {
     "name": "stdout",
     "output_type": "stream",
     "text": [
      "Epoch 1/400\n",
      "4815/4815 [==============================] - 1s 255us/step - loss: 548464613.2494\n",
      "Epoch 2/400\n",
      "4815/4815 [==============================] - 1s 206us/step - loss: 315227089.8318\n",
      "Epoch 3/400\n",
      "4815/4815 [==============================] - 1s 176us/step - loss: 255597764.7576\n",
      "Epoch 4/400\n",
      "4815/4815 [==============================] - 1s 166us/step - loss: 212115483.8895\n",
      "Epoch 5/400\n",
      "4815/4815 [==============================] - 1s 197us/step - loss: 183937554.7556\n",
      "Epoch 6/400\n",
      "4815/4815 [==============================] - 1s 242us/step - loss: 169771030.7431\n",
      "Epoch 7/400\n",
      "4815/4815 [==============================] - ETA: 0s - loss: 158958823.130 - 1s 190us/step - loss: 156994750.0997\n",
      "Epoch 8/400\n",
      "4815/4815 [==============================] - 1s 214us/step - loss: 142294624.0174\n",
      "Epoch 9/400\n",
      "4815/4815 [==============================] - 1s 182us/step - loss: 130957159.8982\n",
      "Epoch 10/400\n",
      "4815/4815 [==============================] - 1s 170us/step - loss: 119392239.1402\n",
      "Epoch 11/400\n",
      "4815/4815 [==============================] - 1s 167us/step - loss: 109894247.3958\n",
      "Epoch 12/400\n",
      "4815/4815 [==============================] - 1s 164us/step - loss: 101067273.2137\n",
      "Epoch 13/400\n",
      "4815/4815 [==============================] - 1s 166us/step - loss: 92806022.4382\n",
      "Epoch 14/400\n",
      "4815/4815 [==============================] - 1s 165us/step - loss: 86870185.9892\n",
      "Epoch 15/400\n",
      "4815/4815 [==============================] - 1s 176us/step - loss: 76478456.8943\n",
      "Epoch 16/400\n",
      "4815/4815 [==============================] - 1s 196us/step - loss: 71921047.1830\n",
      "Epoch 17/400\n",
      "4815/4815 [==============================] - 1s 207us/step - loss: 69440343.2382\n",
      "Epoch 18/400\n",
      "4815/4815 [==============================] - 1s 215us/step - loss: 64229963.9381\n",
      "Epoch 19/400\n",
      "4815/4815 [==============================] - 1s 178us/step - loss: 59961631.0389\n",
      "Epoch 20/400\n",
      "4815/4815 [==============================] - 1s 177us/step - loss: 57951832.0457\n",
      "Epoch 21/400\n",
      "4815/4815 [==============================] - 1s 167us/step - loss: 55538418.4087\n",
      "Epoch 22/400\n",
      "4815/4815 [==============================] - 1s 168us/step - loss: 53208723.8846\n",
      "Epoch 23/400\n",
      "4815/4815 [==============================] - 1s 196us/step - loss: 50700832.6703\n",
      "Epoch 24/400\n",
      "4815/4815 [==============================] - 1s 165us/step - loss: 49146435.0723\n",
      "Epoch 25/400\n",
      "4815/4815 [==============================] - 1s 217us/step - loss: 45374014.5110\n",
      "Epoch 26/400\n",
      "4815/4815 [==============================] - 1s 217us/step - loss: 47813289.7158\n",
      "Epoch 27/400\n",
      "4815/4815 [==============================] - 1s 208us/step - loss: 47828627.8795\n",
      "Epoch 28/400\n",
      "4815/4815 [==============================] - 1s 219us/step - loss: 47570751.9728\n",
      "Epoch 29/400\n",
      "4815/4815 [==============================] - 1s 169us/step - loss: 43897009.4093\n",
      "Epoch 30/400\n",
      "4815/4815 [==============================] - 1s 166us/step - loss: 45411426.6786\n",
      "Epoch 31/400\n",
      "4815/4815 [==============================] - 1s 192us/step - loss: 44535376.3536\n",
      "Epoch 32/400\n",
      "4815/4815 [==============================] - 1s 216us/step - loss: 44928333.1864\n",
      "Epoch 33/400\n",
      "4815/4815 [==============================] - 1s 166us/step - loss: 43611501.9651\n",
      "Epoch 34/400\n",
      "4815/4815 [==============================] - 1s 167us/step - loss: 42403286.9846\n",
      "Epoch 35/400\n",
      "4815/4815 [==============================] - 1s 165us/step - loss: 39314547.6148\n",
      "Epoch 36/400\n",
      "4815/4815 [==============================] - 1s 167us/step - loss: 40852253.7302\n",
      "Epoch 37/400\n",
      "4815/4815 [==============================] - 1s 165us/step - loss: 41562807.2620\n",
      "Epoch 38/400\n",
      "4815/4815 [==============================] - 1s 168us/step - loss: 39439162.4641\n",
      "Epoch 39/400\n",
      "4815/4815 [==============================] - 1s 252us/step - loss: 40040155.4604\n",
      "Epoch 40/400\n",
      "4815/4815 [==============================] - 1s 226us/step - loss: 40118097.4949\n",
      "Epoch 41/400\n",
      "4815/4815 [==============================] - 1s 166us/step - loss: 39636698.1649\n",
      "Epoch 42/400\n",
      "4815/4815 [==============================] - 1s 194us/step - loss: 38507354.0963\n",
      "Epoch 43/400\n",
      "4815/4815 [==============================] - 1s 207us/step - loss: 40174287.8044\n",
      "Epoch 44/400\n",
      "4815/4815 [==============================] - 1s 227us/step - loss: 38134233.0686\n",
      "Epoch 45/400\n",
      "4815/4815 [==============================] - 1s 249us/step - loss: 39798343.6645\n",
      "Epoch 46/400\n",
      "4815/4815 [==============================] - 1s 195us/step - loss: 39345330.3742\n",
      "Epoch 47/400\n",
      "4815/4815 [==============================] - 1s 209us/step - loss: 39526722.1393\n",
      "Epoch 48/400\n",
      "4815/4815 [==============================] - 1s 227us/step - loss: 37899900.4583\n",
      "Epoch 49/400\n",
      "4815/4815 [==============================] - 1s 240us/step - loss: 38514443.2871\n",
      "Epoch 50/400\n",
      "4815/4815 [==============================] - 1s 219us/step - loss: 39257919.2183\n",
      "Epoch 51/400\n",
      "4815/4815 [==============================] - 1s 270us/step - loss: 35400850.1212\n",
      "Epoch 52/400\n",
      "4815/4815 [==============================] - 1s 242us/step - loss: 37434915.2251\n",
      "Epoch 53/400\n",
      "4815/4815 [==============================] - 1s 223us/step - loss: 39959462.7840\n",
      "Epoch 54/400\n",
      "4815/4815 [==============================] - 1s 238us/step - loss: 38068974.8498\n",
      "Epoch 55/400\n",
      "4815/4815 [==============================] - 1s 242us/step - loss: 38338298.9721\n",
      "Epoch 56/400\n",
      "4815/4815 [==============================] - 1s 170us/step - loss: 38112686.4736\n",
      "Epoch 57/400\n",
      "4815/4815 [==============================] - 1s 215us/step - loss: 37635147.1652\n",
      "Epoch 58/400\n",
      "4815/4815 [==============================] - 1s 279us/step - loss: 35794265.5888\n",
      "Epoch 59/400\n",
      "4815/4815 [==============================] - 1s 244us/step - loss: 35060930.2057\n",
      "Epoch 60/400\n",
      "4815/4815 [==============================] - 1s 200us/step - loss: 35962706.2656\n",
      "Epoch 61/400\n",
      "4815/4815 [==============================] - 1s 177us/step - loss: 37711010.3396\n",
      "Epoch 62/400\n",
      "4815/4815 [==============================] - 1s 166us/step - loss: 35191538.2582\n",
      "Epoch 63/400\n",
      "4815/4815 [==============================] - 1s 168us/step - loss: 34856071.8018\n",
      "Epoch 64/400\n",
      "4815/4815 [==============================] - 1s 166us/step - loss: 36218483.7496\n",
      "Epoch 65/400\n",
      "4815/4815 [==============================] - 1s 167us/step - loss: 34675000.5864\n",
      "Epoch 66/400\n",
      "4815/4815 [==============================] - 1s 164us/step - loss: 34760812.7231\n",
      "Epoch 67/400\n",
      "4815/4815 [==============================] - 1s 168us/step - loss: 35687810.7599\n",
      "Epoch 68/400\n",
      "4815/4815 [==============================] - 1s 166us/step - loss: 37482937.0214\n",
      "Epoch 69/400\n",
      "4815/4815 [==============================] - 1s 166us/step - loss: 36353426.6213\n",
      "Epoch 70/400\n",
      "4815/4815 [==============================] - 1s 168us/step - loss: 34732789.9399\n",
      "Epoch 71/400\n",
      "4815/4815 [==============================] - 1s 167us/step - loss: 37393379.9770\n",
      "Epoch 72/400\n",
      "4815/4815 [==============================] - 1s 168us/step - loss: 33874206.9392\n",
      "Epoch 73/400\n",
      "4815/4815 [==============================] - 1s 165us/step - loss: 35928031.7131\n",
      "Epoch 74/400\n",
      "4815/4815 [==============================] - 1s 166us/step - loss: 34835893.3559\n",
      "Epoch 75/400\n",
      "4815/4815 [==============================] - 1s 168us/step - loss: 35050144.2196\n",
      "Epoch 76/400\n",
      "4815/4815 [==============================] - 1s 166us/step - loss: 34747776.3463\n",
      "Epoch 77/400\n",
      "4815/4815 [==============================] - 1s 205us/step - loss: 31719769.6192\n",
      "Epoch 78/400\n",
      "4815/4815 [==============================] - 1s 176us/step - loss: 33499331.5613\n",
      "Epoch 79/400\n",
      "4815/4815 [==============================] - 1s 168us/step - loss: 36930735.4091\n",
      "Epoch 80/400\n",
      "4815/4815 [==============================] - 1s 167us/step - loss: 34914132.4986\n",
      "Epoch 81/400\n",
      "4815/4815 [==============================] - 1s 167us/step - loss: 33772997.5675\n",
      "Epoch 82/400\n",
      "4815/4815 [==============================] - 1s 166us/step - loss: 33177660.5138\n",
      "Epoch 83/400\n",
      "4815/4815 [==============================] - 1s 167us/step - loss: 34152113.0470\n",
      "Epoch 84/400\n",
      "4815/4815 [==============================] - 1s 165us/step - loss: 33344005.9422\n",
      "Epoch 85/400\n",
      "4815/4815 [==============================] - 1s 168us/step - loss: 32206310.2308\n",
      "Epoch 86/400\n",
      "4815/4815 [==============================] - 1s 166us/step - loss: 35042034.5661\n",
      "Epoch 87/400\n"
     ]
    },
    {
     "name": "stdout",
     "output_type": "stream",
     "text": [
      "4815/4815 [==============================] - 1s 177us/step - loss: 30927416.9291\n",
      "Epoch 88/400\n",
      "4815/4815 [==============================] - 1s 163us/step - loss: 34750971.6164\n",
      "Epoch 89/400\n",
      "4815/4815 [==============================] - 1s 177us/step - loss: 34718456.3708\n",
      "Epoch 90/400\n",
      "4815/4815 [==============================] - 1s 177us/step - loss: 31245564.6032\n",
      "Epoch 91/400\n",
      "4815/4815 [==============================] - 1s 164us/step - loss: 33488534.4645\n",
      "Epoch 92/400\n",
      "4815/4815 [==============================] - 1s 177us/step - loss: 35711899.1972\n",
      "Epoch 93/400\n",
      "4815/4815 [==============================] - 1s 177us/step - loss: 33431582.1208\n",
      "Epoch 94/400\n",
      "4815/4815 [==============================] - 1s 167us/step - loss: 33497113.8254\n",
      "Epoch 95/400\n",
      "4815/4815 [==============================] - 1s 164us/step - loss: 33685146.9335\n",
      "Epoch 96/400\n",
      "4815/4815 [==============================] - 1s 189us/step - loss: 33071418.5610\n",
      "Epoch 97/400\n",
      "4815/4815 [==============================] - 1s 190us/step - loss: 33522112.8664\n",
      "Epoch 98/400\n",
      "4815/4815 [==============================] - 1s 164us/step - loss: 34166183.8697\n",
      "Epoch 99/400\n",
      "4815/4815 [==============================] - 1s 166us/step - loss: 34484336.0407\n",
      "Epoch 100/400\n",
      "4815/4815 [==============================] - 1s 165us/step - loss: 34195027.6744\n",
      "Epoch 101/400\n",
      "4815/4815 [==============================] - 1s 165us/step - loss: 32172494.6840\n",
      "Epoch 102/400\n",
      "4815/4815 [==============================] - 1s 165us/step - loss: 32163684.3131\n",
      "Epoch 103/400\n",
      "4815/4815 [==============================] - 1s 165us/step - loss: 32483329.4463\n",
      "Epoch 104/400\n",
      "4815/4815 [==============================] - 1s 164us/step - loss: 33585491.4049\n",
      "Epoch 105/400\n",
      "4815/4815 [==============================] - 1s 165us/step - loss: 33027979.7077\n",
      "Epoch 106/400\n",
      "4815/4815 [==============================] - 1s 161us/step - loss: 31472971.4627\n",
      "Epoch 107/400\n",
      "4815/4815 [==============================] - 1s 167us/step - loss: 33353673.8676\n",
      "Epoch 108/400\n",
      "4815/4815 [==============================] - 1s 164us/step - loss: 33072544.0326\n",
      "Epoch 109/400\n",
      "4815/4815 [==============================] - 1s 165us/step - loss: 34422730.8911\n",
      "Epoch 110/400\n",
      "4815/4815 [==============================] - 1s 164us/step - loss: 32552709.2910\n",
      "Epoch 111/400\n",
      "4815/4815 [==============================] - 1s 165us/step - loss: 32153594.0051\n",
      "Epoch 112/400\n",
      "4815/4815 [==============================] - 1s 165us/step - loss: 32504281.3294\n",
      "Epoch 113/400\n",
      "4815/4815 [==============================] - 1s 164us/step - loss: 33703378.2088\n",
      "Epoch 114/400\n",
      "4815/4815 [==============================] - 1s 164us/step - loss: 33227541.2330\n",
      "Epoch 115/400\n",
      "4815/4815 [==============================] - 1s 164us/step - loss: 31946915.8447\n",
      "Epoch 116/400\n",
      "4815/4815 [==============================] - 1s 192us/step - loss: 32547190.4126\n",
      "Epoch 117/400\n",
      "4815/4815 [==============================] - 1s 188us/step - loss: 32327978.8829\n",
      "Epoch 118/400\n",
      "4815/4815 [==============================] - 1s 165us/step - loss: 30774115.3264\n",
      "Epoch 119/400\n",
      "4815/4815 [==============================] - 1s 163us/step - loss: 33967977.7499\n",
      "Epoch 120/400\n",
      "4815/4815 [==============================] - 1s 167us/step - loss: 32440594.4831\n",
      "Epoch 121/400\n",
      "4815/4815 [==============================] - 1s 168us/step - loss: 30599424.4730\n",
      "Epoch 122/400\n",
      "4815/4815 [==============================] - 1s 166us/step - loss: 31514098.1239\n",
      "Epoch 123/400\n",
      "4815/4815 [==============================] - 1s 166us/step - loss: 32353712.8144\n",
      "Epoch 124/400\n",
      "4815/4815 [==============================] - 1s 175us/step - loss: 29918885.0997\n",
      "Epoch 125/400\n",
      "4815/4815 [==============================] - 1s 181us/step - loss: 31916895.8001\n",
      "Epoch 126/400\n",
      "4815/4815 [==============================] - 1s 181us/step - loss: 32235546.6086\n",
      "Epoch 127/400\n",
      "4815/4815 [==============================] - 1s 193us/step - loss: 31249294.2269\n",
      "Epoch 128/400\n",
      "4815/4815 [==============================] - 1s 169us/step - loss: 32427783.6630\n",
      "Epoch 129/400\n",
      "4815/4815 [==============================] - 1s 191us/step - loss: 32324904.8733\n",
      "Epoch 130/400\n",
      "4815/4815 [==============================] - 1s 172us/step - loss: 29316206.9763\n",
      "Epoch 131/400\n",
      "4815/4815 [==============================] - 1s 164us/step - loss: 30940881.1735\n",
      "Epoch 132/400\n",
      "4815/4815 [==============================] - 1s 168us/step - loss: 30707835.3047\n",
      "Epoch 133/400\n",
      "4815/4815 [==============================] - 1s 166us/step - loss: 30719996.9856\n",
      "Epoch 134/400\n",
      "4815/4815 [==============================] - 1s 167us/step - loss: 30313511.7145\n",
      "Epoch 135/400\n",
      "4815/4815 [==============================] - 1s 189us/step - loss: 32386873.6796\n",
      "Epoch 136/400\n",
      "4815/4815 [==============================] - 1s 191us/step - loss: 31239083.8056\n",
      "Epoch 137/400\n",
      "4815/4815 [==============================] - 1s 166us/step - loss: 30779655.7803\n",
      "Epoch 138/400\n",
      "4815/4815 [==============================] - 1s 167us/step - loss: 30498376.3988\n",
      "Epoch 139/400\n",
      "4815/4815 [==============================] - 1s 166us/step - loss: 32009246.0796\n",
      "Epoch 140/400\n",
      "4815/4815 [==============================] - 1s 167us/step - loss: 31771812.5766\n",
      "Epoch 141/400\n",
      "4815/4815 [==============================] - 1s 166us/step - loss: 29902134.5026\n",
      "Epoch 142/400\n",
      "4815/4815 [==============================] - 1s 167us/step - loss: 31509021.8383\n",
      "Epoch 143/400\n",
      "4815/4815 [==============================] - 1s 166us/step - loss: 31881877.4463\n",
      "Epoch 144/400\n",
      "4815/4815 [==============================] - 1s 167us/step - loss: 30798928.5067\n",
      "Epoch 145/400\n",
      "4815/4815 [==============================] - 1s 165us/step - loss: 30283920.3019\n",
      "Epoch 146/400\n",
      "4815/4815 [==============================] - 1s 167us/step - loss: 30492127.8615\n",
      "Epoch 147/400\n",
      "4815/4815 [==============================] - 1s 165us/step - loss: 31006782.0016\n",
      "Epoch 148/400\n",
      "4815/4815 [==============================] - 1s 167us/step - loss: 31322865.0483\n",
      "Epoch 149/400\n",
      "4815/4815 [==============================] - 1s 166us/step - loss: 31310616.5019\n",
      "Epoch 150/400\n",
      "4815/4815 [==============================] - 1s 166us/step - loss: 29908216.7468\n",
      "Epoch 151/400\n",
      "4815/4815 [==============================] - 1s 166us/step - loss: 29140936.8501\n",
      "Epoch 152/400\n",
      "4815/4815 [==============================] - 1s 167us/step - loss: 30016231.1363\n",
      "Epoch 153/400\n",
      "4815/4815 [==============================] - 1s 167us/step - loss: 30241231.6875\n",
      "Epoch 154/400\n",
      "4815/4815 [==============================] - 1s 167us/step - loss: 31749181.3581\n",
      "Epoch 155/400\n",
      "4815/4815 [==============================] - 1s 204us/step - loss: 30859444.7962\n",
      "Epoch 156/400\n",
      "4815/4815 [==============================] - 1s 173us/step - loss: 31576627.7058\n",
      "Epoch 157/400\n",
      "4815/4815 [==============================] - 1s 166us/step - loss: 30634814.1877\n",
      "Epoch 158/400\n",
      "4815/4815 [==============================] - 1s 166us/step - loss: 30557828.1780\n",
      "Epoch 159/400\n",
      "4815/4815 [==============================] - 1s 168us/step - loss: 28744625.4012\n",
      "Epoch 160/400\n",
      "4815/4815 [==============================] - 1s 165us/step - loss: 33858600.6563\n",
      "Epoch 161/400\n",
      "4815/4815 [==============================] - 1s 168us/step - loss: 31020342.3024\n",
      "Epoch 162/400\n",
      "4815/4815 [==============================] - 1s 164us/step - loss: 30076792.1509\n",
      "Epoch 163/400\n",
      "4815/4815 [==============================] - 1s 167us/step - loss: 30280829.1549\n",
      "Epoch 164/400\n",
      "4815/4815 [==============================] - 1s 165us/step - loss: 31085329.3857\n",
      "Epoch 165/400\n",
      "4815/4815 [==============================] - 1s 166us/step - loss: 29672766.1120\n",
      "Epoch 166/400\n",
      "4815/4815 [==============================] - 1s 166us/step - loss: 31668357.6713\n",
      "Epoch 167/400\n",
      "4815/4815 [==============================] - 1s 168us/step - loss: 32262736.0642\n",
      "Epoch 168/400\n",
      "4815/4815 [==============================] - 1s 179us/step - loss: 30478572.4998\n",
      "Epoch 169/400\n",
      "4815/4815 [==============================] - 1s 168us/step - loss: 32144844.7073\n",
      "Epoch 170/400\n",
      "4815/4815 [==============================] - 1s 179us/step - loss: 29026586.2845\n",
      "Epoch 171/400\n",
      "4815/4815 [==============================] - 1s 180us/step - loss: 30901420.1795\n",
      "Epoch 172/400\n",
      "4815/4815 [==============================] - 1s 180us/step - loss: 31115638.0677\n",
      "Epoch 173/400\n"
     ]
    },
    {
     "name": "stdout",
     "output_type": "stream",
     "text": [
      "4815/4815 [==============================] - 1s 166us/step - loss: 27690973.6312\n",
      "Epoch 174/400\n",
      "4815/4815 [==============================] - 1s 200us/step - loss: 30729104.5952\n",
      "Epoch 175/400\n",
      "4815/4815 [==============================] - 1s 187us/step - loss: 32081132.9168\n",
      "Epoch 176/400\n",
      "4815/4815 [==============================] - 1s 166us/step - loss: 31317768.5090\n",
      "Epoch 177/400\n",
      "4815/4815 [==============================] - 1s 164us/step - loss: 30246362.0024\n",
      "Epoch 178/400\n",
      "4815/4815 [==============================] - 1s 166us/step - loss: 28396791.5539\n",
      "Epoch 179/400\n",
      "4815/4815 [==============================] - 1s 163us/step - loss: 31423299.1653\n",
      "Epoch 180/400\n",
      "4815/4815 [==============================] - 1s 167us/step - loss: 30113268.0467\n",
      "Epoch 181/400\n",
      "4815/4815 [==============================] - 1s 163us/step - loss: 29352794.0914\n",
      "Epoch 182/400\n",
      "4815/4815 [==============================] - 1s 166us/step - loss: 30231268.6697\n",
      "Epoch 183/400\n",
      "4815/4815 [==============================] - 1s 164us/step - loss: 28101890.3106\n",
      "Epoch 184/400\n",
      "4815/4815 [==============================] - 1s 203us/step - loss: 30671912.3739\n",
      "Epoch 185/400\n",
      "4815/4815 [==============================] - 1s 195us/step - loss: 29607964.0371\n",
      "Epoch 186/400\n",
      "4815/4815 [==============================] - 1s 164us/step - loss: 30960794.4214\n",
      "Epoch 187/400\n",
      "4815/4815 [==============================] - 1s 175us/step - loss: 32391758.4342\n",
      "Epoch 188/400\n",
      "4815/4815 [==============================] - 1s 197us/step - loss: 29869227.6046\n",
      "Epoch 189/400\n",
      "4815/4815 [==============================] - 1s 178us/step - loss: 28068706.3333\n",
      "Epoch 190/400\n",
      "4815/4815 [==============================] - 1s 166us/step - loss: 30254885.5170\n",
      "Epoch 191/400\n",
      "4815/4815 [==============================] - 1s 167us/step - loss: 29415040.8106\n",
      "Epoch 192/400\n",
      "4815/4815 [==============================] - 1s 165us/step - loss: 32027634.7444\n",
      "Epoch 193/400\n",
      "4815/4815 [==============================] - 1s 189us/step - loss: 28298384.0710\n",
      "Epoch 194/400\n",
      "4815/4815 [==============================] - 1s 191us/step - loss: 29093438.0797\n",
      "Epoch 195/400\n",
      "4815/4815 [==============================] - 1s 168us/step - loss: 30774331.9643\n",
      "Epoch 196/400\n",
      "4815/4815 [==============================] - 1s 169us/step - loss: 31141143.4880\n",
      "Epoch 197/400\n",
      "4815/4815 [==============================] - 1s 166us/step - loss: 31072834.9508\n",
      "Epoch 198/400\n",
      "4815/4815 [==============================] - 1s 164us/step - loss: 29308250.8631\n",
      "Epoch 199/400\n",
      "4815/4815 [==============================] - 1s 167us/step - loss: 29095415.5150\n",
      "Epoch 200/400\n",
      "4815/4815 [==============================] - 1s 165us/step - loss: 30144753.1780\n",
      "Epoch 201/400\n",
      "4815/4815 [==============================] - 1s 166us/step - loss: 28748565.3180\n",
      "Epoch 202/400\n",
      "4815/4815 [==============================] - 1s 168us/step - loss: 33321461.3919\n",
      "Epoch 203/400\n",
      "4815/4815 [==============================] - 1s 180us/step - loss: 28796640.5258\n",
      "Epoch 204/400\n",
      "4815/4815 [==============================] - 1s 184us/step - loss: 31193225.0691\n",
      "Epoch 205/400\n",
      "4815/4815 [==============================] - 1s 176us/step - loss: 31608482.1140\n",
      "Epoch 206/400\n",
      "4815/4815 [==============================] - 1s 176us/step - loss: 31821344.6175\n",
      "Epoch 207/400\n",
      "4815/4815 [==============================] - 1s 184us/step - loss: 31180005.6917\n",
      "Epoch 208/400\n",
      "4815/4815 [==============================] - 1s 183us/step - loss: 29958393.1393\n",
      "Epoch 209/400\n",
      "4815/4815 [==============================] - 1s 168us/step - loss: 27968860.9113\n",
      "Epoch 210/400\n",
      "4815/4815 [==============================] - 1s 166us/step - loss: 30457370.0305\n",
      "Epoch 211/400\n",
      "4815/4815 [==============================] - 1s 167us/step - loss: 30018854.4638\n",
      "Epoch 212/400\n",
      "4815/4815 [==============================] - 1s 183us/step - loss: 30925166.3105\n",
      "Epoch 213/400\n",
      "4815/4815 [==============================] - 1s 200us/step - loss: 29457584.0840\n",
      "Epoch 214/400\n",
      "4815/4815 [==============================] - 1s 168us/step - loss: 29450368.4403\n",
      "Epoch 215/400\n",
      "4815/4815 [==============================] - 1s 167us/step - loss: 29228902.0415\n",
      "Epoch 216/400\n",
      "4815/4815 [==============================] - 1s 167us/step - loss: 29080008.0491\n",
      "Epoch 217/400\n",
      "4815/4815 [==============================] - 1s 167us/step - loss: 30886586.5970\n",
      "Epoch 218/400\n",
      "4815/4815 [==============================] - 1s 170us/step - loss: 29207288.0491\n",
      "Epoch 219/400\n",
      "4815/4815 [==============================] - 1s 169us/step - loss: 29392709.2272\n",
      "Epoch 220/400\n",
      "4815/4815 [==============================] - 1s 164us/step - loss: 30375707.9211\n",
      "Epoch 221/400\n",
      "4815/4815 [==============================] - 1s 169us/step - loss: 29257102.7510\n",
      "Epoch 222/400\n",
      "4815/4815 [==============================] - 1s 166us/step - loss: 30823523.2941\n",
      "Epoch 223/400\n",
      "4815/4815 [==============================] - 1s 168us/step - loss: 29804709.8458\n",
      "Epoch 224/400\n",
      "4815/4815 [==============================] - 1s 167us/step - loss: 29186182.6594\n",
      "Epoch 225/400\n",
      "4815/4815 [==============================] - 1s 167us/step - loss: 31743565.6137\n",
      "Epoch 226/400\n",
      "4815/4815 [==============================] - 1s 167us/step - loss: 30228708.4922\n",
      "Epoch 227/400\n",
      "4815/4815 [==============================] - 1s 169us/step - loss: 29201239.6638\n",
      "Epoch 228/400\n",
      "4815/4815 [==============================] - 1s 168us/step - loss: 28865369.6845\n",
      "Epoch 229/400\n",
      "4815/4815 [==============================] - 1s 168us/step - loss: 29031535.2343\n",
      "Epoch 230/400\n",
      "4815/4815 [==============================] - 1s 166us/step - loss: 30310733.6781\n",
      "Epoch 231/400\n",
      "4815/4815 [==============================] - 1s 167us/step - loss: 31188739.8752\n",
      "Epoch 232/400\n",
      "4815/4815 [==============================] - 1s 203us/step - loss: 30581378.9377\n",
      "Epoch 233/400\n",
      "4815/4815 [==============================] - 1s 179us/step - loss: 29080240.0379\n",
      "Epoch 234/400\n",
      "4815/4815 [==============================] - 1s 168us/step - loss: 31497418.1256\n",
      "Epoch 235/400\n",
      "4815/4815 [==============================] - 1s 168us/step - loss: 31687436.7488\n",
      "Epoch 236/400\n",
      "4815/4815 [==============================] - 1s 167us/step - loss: 31466894.7185\n",
      "Epoch 237/400\n",
      "4815/4815 [==============================] - 1s 165us/step - loss: 30775762.4888\n",
      "Epoch 238/400\n",
      "4815/4815 [==============================] - 1s 170us/step - loss: 28476384.9382\n",
      "Epoch 239/400\n",
      "4815/4815 [==============================] - 1s 169us/step - loss: 33452771.7612\n",
      "Epoch 240/400\n",
      "4815/4815 [==============================] - 1s 163us/step - loss: 31155223.5718\n",
      "Epoch 241/400\n",
      "4815/4815 [==============================] - 1s 166us/step - loss: 30045919.5526\n",
      "Epoch 242/400\n",
      "4815/4815 [==============================] - 1s 166us/step - loss: 27952995.8887\n",
      "Epoch 243/400\n",
      "4815/4815 [==============================] - 1s 167us/step - loss: 31146008.2625\n",
      "Epoch 244/400\n",
      "4815/4815 [==============================] - 1s 167us/step - loss: 30222892.3989\n",
      "Epoch 245/400\n",
      "4815/4815 [==============================] - 1s 167us/step - loss: 29865733.5116\n",
      "Epoch 246/400\n",
      "4815/4815 [==============================] - 1s 168us/step - loss: 29188243.9986\n",
      "Epoch 247/400\n",
      "4815/4815 [==============================] - 1s 164us/step - loss: 28421187.5062\n",
      "Epoch 248/400\n",
      "4815/4815 [==============================] - 1s 184us/step - loss: 31050623.5664\n",
      "Epoch 249/400\n",
      "4815/4815 [==============================] - 1s 172us/step - loss: 29008515.3725\n",
      "Epoch 250/400\n",
      "4815/4815 [==============================] - 1s 176us/step - loss: 28222928.0015\n",
      "Epoch 251/400\n",
      "4815/4815 [==============================] - 1s 201us/step - loss: 29295614.9523\n",
      "Epoch 252/400\n",
      "4815/4815 [==============================] - 1s 206us/step - loss: 28394023.7227\n",
      "Epoch 253/400\n",
      "4815/4815 [==============================] - 1s 178us/step - loss: 27697312.7863\n",
      "Epoch 254/400\n",
      "4815/4815 [==============================] - 1s 169us/step - loss: 29606003.6741\n",
      "Epoch 255/400\n",
      "4815/4815 [==============================] - 1s 170us/step - loss: 30890167.5254\n",
      "Epoch 256/400\n",
      "4815/4815 [==============================] - 1s 168us/step - loss: 29748556.7425\n",
      "Epoch 257/400\n",
      "4815/4815 [==============================] - 1s 168us/step - loss: 29873288.9693\n",
      "Epoch 258/400\n",
      "4815/4815 [==============================] - 1s 167us/step - loss: 29248741.4917\n",
      "Epoch 259/400\n"
     ]
    },
    {
     "name": "stdout",
     "output_type": "stream",
     "text": [
      "4815/4815 [==============================] - 1s 168us/step - loss: 28775063.7508\n",
      "Epoch 260/400\n",
      "4815/4815 [==============================] - 1s 164us/step - loss: 29424976.9841\n",
      "Epoch 261/400\n",
      "4815/4815 [==============================] - 1s 167us/step - loss: 30123116.6325\n",
      "Epoch 262/400\n",
      "4815/4815 [==============================] - 1s 165us/step - loss: 28353498.9817\n",
      "Epoch 263/400\n",
      "4815/4815 [==============================] - 1s 165us/step - loss: 30287965.0006\n",
      "Epoch 264/400\n",
      "4815/4815 [==============================] - 1s 166us/step - loss: 30726382.5330\n",
      "Epoch 265/400\n",
      "4815/4815 [==============================] - 1s 167us/step - loss: 29491250.5054\n",
      "Epoch 266/400\n",
      "4815/4815 [==============================] - 1s 164us/step - loss: 29336794.9050\n",
      "Epoch 267/400\n",
      "4815/4815 [==============================] - 1s 166us/step - loss: 29086798.9420\n",
      "Epoch 268/400\n",
      "4815/4815 [==============================] - 1s 165us/step - loss: 28720079.6421\n",
      "Epoch 269/400\n",
      "4815/4815 [==============================] - 1s 165us/step - loss: 29302025.0701\n",
      "Epoch 270/400\n",
      "4815/4815 [==============================] - 1s 167us/step - loss: 30410798.8480\n",
      "Epoch 271/400\n",
      "4815/4815 [==============================] - 1s 212us/step - loss: 29016082.7315\n",
      "Epoch 272/400\n",
      "4815/4815 [==============================] - 1s 186us/step - loss: 31317060.7383\n",
      "Epoch 273/400\n",
      "4815/4815 [==============================] - 1s 166us/step - loss: 28679449.7775\n",
      "Epoch 274/400\n",
      "4815/4815 [==============================] - 1s 170us/step - loss: 29098044.5429\n",
      "Epoch 275/400\n",
      "4815/4815 [==============================] - 1s 169us/step - loss: 29647503.5180\n",
      "Epoch 276/400\n",
      "4815/4815 [==============================] - 1s 168us/step - loss: 31380604.4039\n",
      "Epoch 277/400\n",
      "4815/4815 [==============================] - 1s 201us/step - loss: 29340927.6581\n",
      "Epoch 278/400\n",
      "4815/4815 [==============================] - 1s 167us/step - loss: 28129014.4945\n",
      "Epoch 279/400\n",
      "4815/4815 [==============================] - 1s 168us/step - loss: 29897976.6278\n",
      "Epoch 280/400\n",
      "4815/4815 [==============================] - 1s 166us/step - loss: 28441248.2533\n",
      "Epoch 281/400\n",
      "4815/4815 [==============================] - 1s 167us/step - loss: 30318840.6832\n",
      "Epoch 282/400\n",
      "4815/4815 [==============================] - 1s 176us/step - loss: 29518827.2333\n",
      "Epoch 283/400\n",
      "4815/4815 [==============================] - 1s 178us/step - loss: 30607882.3143\n",
      "Epoch 284/400\n",
      "4815/4815 [==============================] - 1s 175us/step - loss: 29540278.0598\n",
      "Epoch 285/400\n",
      "4815/4815 [==============================] - 1s 178us/step - loss: 29207017.0967\n",
      "Epoch 286/400\n",
      "4815/4815 [==============================] - 1s 185us/step - loss: 26883824.6587\n",
      "Epoch 287/400\n",
      "4815/4815 [==============================] - 1s 184us/step - loss: 29396427.33320s - los\n",
      "Epoch 288/400\n",
      "4815/4815 [==============================] - 1s 173us/step - loss: 30142682.7100\n",
      "Epoch 289/400\n",
      "4815/4815 [==============================] - 1s 174us/step - loss: 29441236.0214\n",
      "Epoch 290/400\n",
      "4815/4815 [==============================] - 1s 207us/step - loss: 27082004.9223\n",
      "Epoch 291/400\n",
      "4815/4815 [==============================] - 1s 168us/step - loss: 28410857.9734\n",
      "Epoch 292/400\n",
      "4815/4815 [==============================] - 1s 167us/step - loss: 28160080.9606\n",
      "Epoch 293/400\n",
      "4815/4815 [==============================] - 1s 168us/step - loss: 31026248.6815\n",
      "Epoch 294/400\n",
      "4815/4815 [==============================] - 1s 165us/step - loss: 28930532.3727\n",
      "Epoch 295/400\n",
      "4815/4815 [==============================] - 1s 168us/step - loss: 28773016.0031\n",
      "Epoch 296/400\n",
      "4815/4815 [==============================] - 1s 165us/step - loss: 28480578.2609\n",
      "Epoch 297/400\n",
      "4815/4815 [==============================] - 1s 166us/step - loss: 27738932.8871\n",
      "Epoch 298/400\n",
      "4815/4815 [==============================] - 1s 167us/step - loss: 28092771.7883\n",
      "Epoch 299/400\n",
      "4815/4815 [==============================] - 1s 169us/step - loss: 27144866.7668\n",
      "Epoch 300/400\n",
      "4815/4815 [==============================] - 1s 166us/step - loss: 27470768.5513\n",
      "Epoch 301/400\n",
      "4815/4815 [==============================] - 1s 168us/step - loss: 29666639.6800\n",
      "Epoch 302/400\n",
      "4815/4815 [==============================] - 1s 167us/step - loss: 29529043.5325\n",
      "Epoch 303/400\n",
      "4815/4815 [==============================] - 1s 169us/step - loss: 28749610.9793\n",
      "Epoch 304/400\n",
      "4815/4815 [==============================] - 1s 167us/step - loss: 28095256.2250\n",
      "Epoch 305/400\n",
      "4815/4815 [==============================] - 1s 169us/step - loss: 29495513.4355\n",
      "Epoch 306/400\n",
      "4815/4815 [==============================] - 1s 168us/step - loss: 28140112.5852\n",
      "Epoch 307/400\n",
      "4815/4815 [==============================] - 1s 167us/step - loss: 27559509.7500\n",
      "Epoch 308/400\n",
      "4815/4815 [==============================] - 1s 167us/step - loss: 29951522.5001\n",
      "Epoch 309/400\n",
      "4815/4815 [==============================] - 1s 197us/step - loss: 30975216.3238\n",
      "Epoch 310/400\n",
      "4815/4815 [==============================] - 1s 184us/step - loss: 28001316.7646\n",
      "Epoch 311/400\n",
      "4815/4815 [==============================] - 1s 170us/step - loss: 27539543.4725\n",
      "Epoch 312/400\n",
      "4815/4815 [==============================] - 1s 166us/step - loss: 30787592.3334\n",
      "Epoch 313/400\n",
      "4815/4815 [==============================] - 1s 168us/step - loss: 29641322.6455\n",
      "Epoch 314/400\n",
      "4815/4815 [==============================] - 1s 167us/step - loss: 27966561.9671\n",
      "Epoch 315/400\n",
      "4815/4815 [==============================] - 1s 168us/step - loss: 27501690.9166\n",
      "Epoch 316/400\n",
      "4815/4815 [==============================] - 1s 169us/step - loss: 28748522.1674\n",
      "Epoch 317/400\n",
      "4815/4815 [==============================] - 1s 168us/step - loss: 28355797.1903\n",
      "Epoch 318/400\n",
      "4815/4815 [==============================] - 1s 167us/step - loss: 28163616.1258\n",
      "Epoch 319/400\n",
      "4815/4815 [==============================] - 1s 167us/step - loss: 28686674.9751\n",
      "Epoch 320/400\n",
      "4815/4815 [==============================] - 1s 168us/step - loss: 31422019.2615\n",
      "Epoch 321/400\n",
      "4815/4815 [==============================] - 1s 166us/step - loss: 27373356.9505\n",
      "Epoch 322/400\n",
      "4815/4815 [==============================] - 1s 169us/step - loss: 27631554.5815\n",
      "Epoch 323/400\n",
      "4815/4815 [==============================] - 1s 166us/step - loss: 29402609.5613\n",
      "Epoch 324/400\n",
      "4815/4815 [==============================] - 1s 169us/step - loss: 28862595.5191\n",
      "Epoch 325/400\n",
      "4815/4815 [==============================] - 1s 167us/step - loss: 27479687.5574\n",
      "Epoch 326/400\n",
      "4815/4815 [==============================] - 1s 168us/step - loss: 27939081.7198\n",
      "Epoch 327/400\n",
      "4815/4815 [==============================] - 1s 168us/step - loss: 26672570.4481\n",
      "Epoch 328/400\n",
      "4815/4815 [==============================] - 1s 187us/step - loss: 28550257.3022\n",
      "Epoch 329/400\n",
      "4815/4815 [==============================] - 1s 214us/step - loss: 27656684.6872\n",
      "Epoch 330/400\n",
      "4815/4815 [==============================] - 1s 170us/step - loss: 28982545.1210\n",
      "Epoch 331/400\n",
      "4815/4815 [==============================] - 1s 181us/step - loss: 26879804.8006\n",
      "Epoch 332/400\n",
      "4815/4815 [==============================] - 1s 179us/step - loss: 26962003.8335\n",
      "Epoch 333/400\n",
      "4815/4815 [==============================] - 1s 178us/step - loss: 29016834.1491\n",
      "Epoch 334/400\n",
      "4815/4815 [==============================] - 1s 168us/step - loss: 26784457.7440\n",
      "Epoch 335/400\n",
      "4815/4815 [==============================] - 1s 168us/step - loss: 27892024.2027\n",
      "Epoch 336/400\n",
      "4815/4815 [==============================] - 1s 166us/step - loss: 28604123.6513\n",
      "Epoch 337/400\n",
      "4815/4815 [==============================] - 1s 168us/step - loss: 29066093.5555\n",
      "Epoch 338/400\n",
      "4815/4815 [==============================] - 1s 164us/step - loss: 28332588.6636\n",
      "Epoch 339/400\n",
      "4815/4815 [==============================] - 1s 172us/step - loss: 28297269.4688\n",
      "Epoch 340/400\n",
      "4815/4815 [==============================] - 1s 168us/step - loss: 30019983.7624\n",
      "Epoch 341/400\n",
      "4815/4815 [==============================] - 1s 168us/step - loss: 28349530.0679\n",
      "Epoch 342/400\n",
      "4815/4815 [==============================] - 1s 169us/step - loss: 26964000.4292\n",
      "Epoch 343/400\n",
      "4815/4815 [==============================] - 1s 168us/step - loss: 28218044.3241\n",
      "Epoch 344/400\n",
      "4815/4815 [==============================] - 1s 169us/step - loss: 28734290.9624\n",
      "Epoch 345/400\n"
     ]
    },
    {
     "name": "stdout",
     "output_type": "stream",
     "text": [
      "4815/4815 [==============================] - 1s 167us/step - loss: 28797150.5563\n",
      "Epoch 346/400\n",
      "4815/4815 [==============================] - 1s 166us/step - loss: 26659772.2444\n",
      "Epoch 347/400\n",
      "4815/4815 [==============================] - 1s 166us/step - loss: 27442149.9109\n",
      "Epoch 348/400\n",
      "4815/4815 [==============================] - 1s 206us/step - loss: 28573155.9476\n",
      "Epoch 349/400\n",
      "4815/4815 [==============================] - 1s 170us/step - loss: 27297328.4431\n",
      "Epoch 350/400\n",
      "4815/4815 [==============================] - 1s 166us/step - loss: 28985779.4367\n",
      "Epoch 351/400\n",
      "4815/4815 [==============================] - 1s 167us/step - loss: 28296758.1835\n",
      "Epoch 352/400\n",
      "4815/4815 [==============================] - 1s 167us/step - loss: 28457527.3736\n",
      "Epoch 353/400\n",
      "4815/4815 [==============================] - 1s 180us/step - loss: 28129005.9798\n",
      "Epoch 354/400\n",
      "4815/4815 [==============================] - 1s 178us/step - loss: 28236987.9499\n",
      "Epoch 355/400\n",
      "4815/4815 [==============================] - 1s 188us/step - loss: 27975352.0284\n",
      "Epoch 356/400\n",
      "4815/4815 [==============================] - 1s 186us/step - loss: 30113224.3126\n",
      "Epoch 357/400\n",
      "4815/4815 [==============================] - 1s 165us/step - loss: 25804751.0063\n",
      "Epoch 358/400\n",
      "4815/4815 [==============================] - 1s 166us/step - loss: 27128069.4178\n",
      "Epoch 359/400\n",
      "4815/4815 [==============================] - 1s 164us/step - loss: 28246537.8843\n",
      "Epoch 360/400\n",
      "4815/4815 [==============================] - 1s 169us/step - loss: 28190699.5970\n",
      "Epoch 361/400\n",
      "4815/4815 [==============================] - 1s 179us/step - loss: 30609406.0975\n",
      "Epoch 362/400\n",
      "4815/4815 [==============================] - 1s 215us/step - loss: 29401748.7785\n",
      "Epoch 363/400\n",
      "4815/4815 [==============================] - 1s 206us/step - loss: 26775099.6016\n",
      "Epoch 364/400\n",
      "4815/4815 [==============================] - 1s 218us/step - loss: 27950107.1050\n",
      "Epoch 365/400\n",
      "4815/4815 [==============================] - 1s 183us/step - loss: 29197809.4160\n",
      "Epoch 366/400\n",
      "4815/4815 [==============================] - 1s 202us/step - loss: 27195970.5383\n",
      "Epoch 367/400\n",
      "4815/4815 [==============================] - 1s 186us/step - loss: 27369258.2295\n",
      "Epoch 368/400\n",
      "4815/4815 [==============================] - 1s 168us/step - loss: 27348376.5583\n",
      "Epoch 369/400\n",
      "4815/4815 [==============================] - 1s 168us/step - loss: 28571000.4781\n",
      "Epoch 370/400\n",
      "4815/4815 [==============================] - 1s 166us/step - loss: 27805062.6086\n",
      "Epoch 371/400\n",
      "4815/4815 [==============================] - 1s 166us/step - loss: 28117332.8926\n",
      "Epoch 372/400\n",
      "4815/4815 [==============================] - 1s 164us/step - loss: 28477199.1072\n",
      "Epoch 373/400\n",
      "4815/4815 [==============================] - 1s 166us/step - loss: 26590460.6967\n",
      "Epoch 374/400\n",
      "4815/4815 [==============================] - 1s 166us/step - loss: 26662359.9418\n",
      "Epoch 375/400\n",
      "4815/4815 [==============================] - 1s 164us/step - loss: 28086597.6610\n",
      "Epoch 376/400\n",
      "4815/4815 [==============================] - 1s 171us/step - loss: 27301404.1578\n",
      "Epoch 377/400\n",
      "4815/4815 [==============================] - 1s 167us/step - loss: 26411271.4857\n",
      "Epoch 378/400\n",
      "4815/4815 [==============================] - 1s 166us/step - loss: 30129998.4869\n",
      "Epoch 379/400\n",
      "4815/4815 [==============================] - 1s 167us/step - loss: 26649501.0708\n",
      "Epoch 380/400\n",
      "4815/4815 [==============================] - 1s 168us/step - loss: 27132741.7663\n",
      "Epoch 381/400\n",
      "4815/4815 [==============================] - 1s 166us/step - loss: 29429826.6493\n",
      "Epoch 382/400\n",
      "4815/4815 [==============================] - 1s 167us/step - loss: 27340941.6703\n",
      "Epoch 383/400\n",
      "4815/4815 [==============================] - 1s 168us/step - loss: 28286959.8740\n",
      "Epoch 384/400\n",
      "4815/4815 [==============================] - 1s 167us/step - loss: 28910884.3828\n",
      "Epoch 385/400\n",
      "4815/4815 [==============================] - 1s 169us/step - loss: 26194181.7558\n",
      "Epoch 386/400\n",
      "4815/4815 [==============================] - 1s 212us/step - loss: 28772835.9155\n",
      "Epoch 387/400\n",
      "4815/4815 [==============================] - 1s 170us/step - loss: 24987010.0752\n",
      "Epoch 388/400\n",
      "4815/4815 [==============================] - 1s 169us/step - loss: 28646547.8276\n",
      "Epoch 389/400\n",
      "4815/4815 [==============================] - 1s 168us/step - loss: 27692995.3617\n",
      "Epoch 390/400\n",
      "4815/4815 [==============================] - 1s 166us/step - loss: 27909047.3778\n",
      "Epoch 391/400\n",
      "4815/4815 [==============================] - 1s 167us/step - loss: 27221003.4299\n",
      "Epoch 392/400\n",
      "4815/4815 [==============================] - 1s 169us/step - loss: 27676237.3607\n",
      "Epoch 393/400\n",
      "4815/4815 [==============================] - 1s 166us/step - loss: 27426462.2490\n",
      "Epoch 394/400\n",
      "4815/4815 [==============================] - 1s 169us/step - loss: 29501358.1655\n",
      "Epoch 395/400\n",
      "4815/4815 [==============================] - 1s 168us/step - loss: 27229774.6582\n",
      "Epoch 396/400\n",
      "4815/4815 [==============================] - 1s 168us/step - loss: 27832416.2991\n",
      "Epoch 397/400\n",
      "4815/4815 [==============================] - 1s 167us/step - loss: 28437386.9517\n",
      "Epoch 398/400\n",
      "4815/4815 [==============================] - 1s 168us/step - loss: 28658714.7620\n",
      "Epoch 399/400\n",
      "4815/4815 [==============================] - 1s 167us/step - loss: 26631922.4387\n",
      "Epoch 400/400\n",
      "4815/4815 [==============================] - 1s 166us/step - loss: 27415309.0515\n"
     ]
    },
    {
     "data": {
      "text/plain": [
       "<keras.callbacks.callbacks.History at 0x1c1dd3b5f88>"
      ]
     },
     "execution_count": 128,
     "metadata": {},
     "output_type": "execute_result"
    }
   ],
   "source": [
    "\n",
    "model.fit(X_train, y_train, epochs=400,batch_size=8,shuffle=False)"
   ]
  },
  {
   "cell_type": "code",
   "execution_count": 129,
   "metadata": {
    "scrolled": true
   },
   "outputs": [],
   "source": [
    "test_pred = model.predict(X_test)\n",
    "train_pred= model.predict(X_train)"
   ]
  },
  {
   "cell_type": "code",
   "execution_count": 130,
   "metadata": {
    "scrolled": true
   },
   "outputs": [
    {
     "data": {
      "text/plain": [
       "5150    13227.65\n",
       "2164     7754.14\n",
       "1136     7115.57\n",
       "5641    15344.08\n",
       "1515    24594.31\n",
       "          ...   \n",
       "5899     9104.27\n",
       "4139    69604.83\n",
       "728     15508.28\n",
       "3619    11403.15\n",
       "3828     7060.83\n",
       "Name: Price, Length: 1204, dtype: float64"
      ]
     },
     "execution_count": 130,
     "metadata": {},
     "output_type": "execute_result"
    }
   ],
   "source": [
    "y_test "
   ]
  },
  {
   "cell_type": "code",
   "execution_count": 131,
   "metadata": {
    "scrolled": true
   },
   "outputs": [
    {
     "data": {
      "text/plain": [
       "array([[16496.94  ],\n",
       "       [ 6623.0625],\n",
       "       [ 6683.342 ],\n",
       "       ...,\n",
       "       [15008.195 ],\n",
       "       [10600.633 ],\n",
       "       [ 6025.574 ]], dtype=float32)"
      ]
     },
     "execution_count": 131,
     "metadata": {},
     "output_type": "execute_result"
    }
   ],
   "source": [
    "test_pred"
   ]
  },
  {
   "cell_type": "code",
   "execution_count": 132,
   "metadata": {
    "scrolled": true
   },
   "outputs": [
    {
     "data": {
      "text/plain": [
       "array([16496.94  ,  6623.0625,  6683.342 , ..., 15008.195 , 10600.633 ,\n",
       "        6025.574 ], dtype=float32)"
      ]
     },
     "execution_count": 132,
     "metadata": {},
     "output_type": "execute_result"
    }
   ],
   "source": [
    "test_u =test_pred.flatten()\n",
    "test_u"
   ]
  },
  {
   "cell_type": "code",
   "execution_count": 133,
   "metadata": {
    "scrolled": true
   },
   "outputs": [],
   "source": [
    "train_u = train_pred.flatten()"
   ]
  },
  {
   "cell_type": "code",
   "execution_count": 134,
   "metadata": {
    "scrolled": true
   },
   "outputs": [
    {
     "name": "stdout",
     "output_type": "stream",
     "text": [
      "Tree on train set MAE%: 11.9\n",
      "Tree on test set MAE%: 15.4\n"
     ]
    }
   ],
   "source": [
    "MAE_train=np.mean(abs(y_train-train_u))/np.mean(y_train)\n",
    "print(\"Tree on train set MAE%:\", round(MAE_train*100,1))\n",
    "\n",
    "MAE_test=np.mean(abs(y_test-test_u))/np.mean(y_test)\n",
    "print(\"Tree on test set MAE%:\", round(MAE_test*100,1))"
   ]
  },
  {
   "cell_type": "code",
   "execution_count": 137,
   "metadata": {
    "scrolled": true
   },
   "outputs": [
    {
     "name": "stdout",
     "output_type": "stream",
     "text": [
      "Accuracy for Test set: 0.91\n",
      "Accuracy for Training set:0.95\n"
     ]
    }
   ],
   "source": [
    "print(\"Accuracy for Test set: \"+\"{:.2f}\".format(r2_score(y_test,test_u)))\n",
    "print(\"Accuracy for Training set:\"+\"{:.2f}\".format(r2_score(y_train,train_u)))"
   ]
  },
  {
   "cell_type": "code",
   "execution_count": 138,
   "metadata": {
    "scrolled": true
   },
   "outputs": [
    {
     "data": {
      "text/plain": [
       "array([[12883.298 ],\n",
       "       [ 6567.916 ],\n",
       "       [ 1971.5538],\n",
       "       ...,\n",
       "       [11022.27  ],\n",
       "       [16329.557 ],\n",
       "       [ 7533.397 ]], dtype=float32)"
      ]
     },
     "execution_count": 138,
     "metadata": {},
     "output_type": "execute_result"
    }
   ],
   "source": [
    "train_pred"
   ]
  },
  {
   "cell_type": "code",
   "execution_count": 139,
   "metadata": {},
   "outputs": [
    {
     "data": {
      "image/png": "[encoded data removed]",
      "text/plain": [
       "<Figure size 432x288 with 1 Axes>"
      ]
     },
     "metadata": {
      "needs_background": "light"
     },
     "output_type": "display_data"
    }
   ],
   "source": [
    "# Create a scatter plot with train and test\n",
    "\n",
    "plt.scatter(y_train, train_u, label='train')\n",
    "plt.scatter(y_test, test_u, label='test')\n",
    "plt.legend()\n",
    "plt.show()"
   ]
  },
  {
   "cell_type": "markdown",
   "metadata": {},
   "source": [
    "# XGBoost Regressor Model with K=5"
   ]
  },
  {
   "cell_type": "code",
   "execution_count": 152,
   "metadata": {},
   "outputs": [],
   "source": [
    "# Parameter Tuning \n",
    "base_score=[0.25,0.5,0.75,1]\n",
    "booster=['gbtree','gblinear']\n",
    "n_estimators = [100, 500, 700, 1000, 1500]\n",
    "max_depth = [1,2, 3, 5, 9]\n",
    "learning_rate=[0.05,0.1,0.15,0.20]\n",
    "min_child_weight=[1,2,3,4,5]\n",
    "\n",
    "# Define the grid of hyperparameters to search\n",
    "parameter_grid = {\n",
    "    'base_score':base_score,\n",
    "    'n_estimators': n_estimators,\n",
    "    'max_depth':max_depth,\n",
    "    'learning_rate':learning_rate,\n",
    "    'min_child_weight':min_child_weight,\n",
    "    'booster':booster,\n",
    "    }"
   ]
  },
  {
   "cell_type": "code",
   "execution_count": 153,
   "metadata": {},
   "outputs": [],
   "source": [
    "regressor=xgboost.XGBRegressor()\n",
    "ran = RandomizedSearchCV(estimator=regressor,\n",
    "            param_distributions=parameter_grid,cv=5, n_iter=50,\n",
    "            scoring = 'neg_mean_absolute_error',n_jobs = 4,\n",
    "            verbose = 5,\n",
    "            return_train_score = True,\n",
    "            random_state=40)"
   ]
  },
  {
   "cell_type": "code",
   "execution_count": 154,
   "metadata": {},
   "outputs": [
    {
     "name": "stdout",
     "output_type": "stream",
     "text": [
      "Fitting 5 folds for each of 50 candidates, totalling 250 fits\n"
     ]
    },
    {
     "name": "stderr",
     "output_type": "stream",
     "text": [
      "[Parallel(n_jobs=4)]: Using backend LokyBackend with 4 concurrent workers.\n",
      "[Parallel(n_jobs=4)]: Done  10 tasks      | elapsed:   15.0s\n",
      "[Parallel(n_jobs=4)]: Done  64 tasks      | elapsed:  1.9min\n",
      "[Parallel(n_jobs=4)]: Done 154 tasks      | elapsed:  4.1min\n",
      "[Parallel(n_jobs=4)]: Done 250 out of 250 | elapsed: 10.1min finished\n",
      "C:\\Users\\amith\\Anaconda3\\lib\\site-packages\\xgboost\\core.py:587: FutureWarning: Series.base is deprecated and will be removed in a future version\n",
      "  if getattr(data, 'base', None) is not None and \\\n"
     ]
    },
    {
     "name": "stdout",
     "output_type": "stream",
     "text": [
      "[00:23:39] WARNING: src/objective/regression_obj.cu:152: reg:linear is now deprecated in favor of reg:squarederror.\n"
     ]
    },
    {
     "data": {
      "text/plain": [
       "RandomizedSearchCV(cv=5, error_score='raise-deprecating',\n",
       "                   estimator=XGBRegressor(base_score=0.5, booster='gbtree',\n",
       "                                          colsample_bylevel=1,\n",
       "                                          colsample_bynode=1,\n",
       "                                          colsample_bytree=1, gamma=0,\n",
       "                                          importance_type='gain',\n",
       "                                          learning_rate=0.1, max_delta_step=0,\n",
       "                                          max_depth=3, min_child_weight=1,\n",
       "                                          missing=None, n_estimators=100,\n",
       "                                          n_jobs=1, nthread=None,\n",
       "                                          objective='reg:linear',\n",
       "                                          random_st...\n",
       "                   iid='warn', n_iter=50, n_jobs=4,\n",
       "                   param_distributions={'base_score': [0.25, 0.5, 0.75, 1],\n",
       "                                        'booster': ['gbtree', 'gblinear'],\n",
       "                                        'learning_rate': [0.05, 0.1, 0.15, 0.2],\n",
       "                                        'max_depth': [1, 2, 3, 5, 9],\n",
       "                                        'min_child_weight': [1, 2, 3, 4, 5],\n",
       "                                        'n_estimators': [100, 500, 700, 1000,\n",
       "                                                         1500]},\n",
       "                   pre_dispatch='2*n_jobs', random_state=40, refit=True,\n",
       "                   return_train_score=True, scoring='neg_mean_absolute_error',\n",
       "                   verbose=5)"
      ]
     },
     "execution_count": 154,
     "metadata": {},
     "output_type": "execute_result"
    }
   ],
   "source": [
    "ran.fit(X_train,y_train)"
   ]
  },
  {
   "cell_type": "code",
   "execution_count": 155,
   "metadata": {},
   "outputs": [
    {
     "data": {
      "text/plain": [
       "XGBRegressor(base_score=1, booster='gbtree', colsample_bylevel=1,\n",
       "             colsample_bynode=1, colsample_bytree=1, gamma=0,\n",
       "             importance_type='gain', learning_rate=0.05, max_delta_step=0,\n",
       "             max_depth=5, min_child_weight=4, missing=None, n_estimators=1500,\n",
       "             n_jobs=1, nthread=None, objective='reg:linear', random_state=0,\n",
       "             reg_alpha=0, reg_lambda=1, scale_pos_weight=1, seed=None,\n",
       "             silent=None, subsample=1, verbosity=1)"
      ]
     },
     "execution_count": 155,
     "metadata": {},
     "output_type": "execute_result"
    }
   ],
   "source": [
    "ran.best_estimator_"
   ]
  },
  {
   "cell_type": "code",
   "execution_count": 156,
   "metadata": {},
   "outputs": [],
   "source": [
    "regressor=xgboost.XGBRegressor(base_score=1, booster='gbtree', colsample_bylevel=1,\n",
    "             colsample_bynode=1, colsample_bytree=1, gamma=0,\n",
    "             importance_type='gain', learning_rate=0.05, max_delta_step=0,\n",
    "             max_depth=5, min_child_weight=4, missing=None, n_estimators=1500,\n",
    "             n_jobs=1, nthread=None, objective='reg:linear', random_state=0,\n",
    "             reg_alpha=0, reg_lambda=1, scale_pos_weight=1, seed=None,\n",
    "             silent=None, subsample=1, verbosity=1)"
   ]
  },
  {
   "cell_type": "code",
   "execution_count": 157,
   "metadata": {},
   "outputs": [
    {
     "name": "stdout",
     "output_type": "stream",
     "text": [
      "[00:31:51] WARNING: src/objective/regression_obj.cu:152: reg:linear is now deprecated in favor of reg:squarederror.\n"
     ]
    },
    {
     "data": {
      "text/plain": [
       "XGBRegressor(base_score=1, booster='gbtree', colsample_bylevel=1,\n",
       "             colsample_bynode=1, colsample_bytree=1, gamma=0,\n",
       "             importance_type='gain', learning_rate=0.05, max_delta_step=0,\n",
       "             max_depth=5, min_child_weight=4, missing=None, n_estimators=1500,\n",
       "             n_jobs=1, nthread=None, objective='reg:linear', random_state=0,\n",
       "             reg_alpha=0, reg_lambda=1, scale_pos_weight=1, seed=None,\n",
       "             silent=None, subsample=1, verbosity=1)"
      ]
     },
     "execution_count": 157,
     "metadata": {},
     "output_type": "execute_result"
    }
   ],
   "source": [
    "regressor.fit(X_train,y_train)"
   ]
  },
  {
   "cell_type": "code",
   "execution_count": 158,
   "metadata": {},
   "outputs": [],
   "source": [
    "train_pred = regressor.predict(X_train)\n",
    "test_pred=regressor.predict(X_test)"
   ]
  },
  {
   "cell_type": "code",
   "execution_count": 159,
   "metadata": {},
   "outputs": [
    {
     "data": {
      "text/plain": [
       "5150    13227.65\n",
       "2164     7754.14\n",
       "1136     7115.57\n",
       "5641    15344.08\n",
       "1515    24594.31\n",
       "Name: Price, dtype: float64"
      ]
     },
     "execution_count": 159,
     "metadata": {},
     "output_type": "execute_result"
    }
   ],
   "source": [
    "y_test.head()"
   ]
  },
  {
   "cell_type": "code",
   "execution_count": 160,
   "metadata": {},
   "outputs": [
    {
     "name": "stdout",
     "output_type": "stream",
     "text": [
      "Accuracy for Test set: 0.89\n",
      "Accuracy for Training set: 0.99\n"
     ]
    }
   ],
   "source": [
    "print(\"Accuracy for Test set: \"+\"{:.2f}\".format(regressor.score(X_test,y_test)))\n",
    "print(\"Accuracy for Training set: \"+\"{:.2f}\".format(regressor.score(X_train,y_train)))"
   ]
  },
  {
   "cell_type": "code",
   "execution_count": 161,
   "metadata": {},
   "outputs": [
    {
     "name": "stdout",
     "output_type": "stream",
     "text": [
      "Tree on train set MAE%: 8.6\n",
      "Tree on test set MAE%: 15.8\n"
     ]
    }
   ],
   "source": [
    "MAE_train=np.mean(abs(y_train-train_pred))/np.mean(y_train)\n",
    "print(\"Tree on train set MAE%:\", round(MAE_train*100,1))\n",
    "\n",
    "MAE_test=np.mean(abs(y_test-test_pred))/np.mean(y_test)\n",
    "print(\"Tree on test set MAE%:\", round(MAE_test*100,1))"
   ]
  },
  {
   "cell_type": "code",
   "execution_count": 162,
   "metadata": {},
   "outputs": [
    {
     "data": {
      "text/plain": [
       "6580.266037157765"
      ]
     },
     "execution_count": 162,
     "metadata": {},
     "output_type": "execute_result"
    }
   ],
   "source": [
    "math.sqrt(mean_squared_error(y_test,test_pred))"
   ]
  },
  {
   "cell_type": "code",
   "execution_count": 151,
   "metadata": {},
   "outputs": [
    {
     "data": {
      "image/png": "[encoded data removed]",
      "text/plain": [
       "<Figure size 432x288 with 1 Axes>"
      ]
     },
     "metadata": {
      "needs_background": "light"
     },
     "output_type": "display_data"
    }
   ],
   "source": [
    "# Create a scatter plot with train and test\n",
    "\n",
    "plt.scatter(y_train, train_pred, label='train')\n",
    "plt.scatter(y_test, test_pred, label='test')\n",
    "plt.legend()\n",
    "plt.show()"
   ]
  },
  {
   "cell_type": "code",
   "execution_count": null,
   "metadata": {},
   "outputs": [],
   "source": []
  }
 ],
 "metadata": {
  "kernelspec": {
   "display_name": "Python 3",
   "language": "python",
   "name": "python3"
  },
  "language_info": {
   "codemirror_mode": {
    "name": "ipython",
    "version": 3
   },
   "file_extension": ".py",
   "mimetype": "text/x-python",
   "name": "python",
   "nbconvert_exporter": "python",
   "pygments_lexer": "ipython3",
   "version": "3.7.4"
  }
 },
 "nbformat": 4,
 "nbformat_minor": 2
}
