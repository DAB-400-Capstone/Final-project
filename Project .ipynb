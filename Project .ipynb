{
 "cells": [
  {
   "cell_type": "code",
   "execution_count": 1752,
   "metadata": {},
   "outputs": [],
   "source": [
    "# Import necessary libraries\n",
    "\n",
    "import pandas as pd\n",
    "import numpy as np\n",
    "import matplotlib.pyplot as plt\n",
    "import seaborn as sns\n",
    "import math\n",
    "from sklearn.metrics import mean_squared_error\n",
    "from sklearn.model_selection import train_test_split\n",
    "from sklearn.preprocessing import MinMaxScaler\n",
    "from sklearn.linear_model import LinearRegression  \n",
    "from sklearn.neighbors import KNeighborsRegressor\n",
    "from sklearn.tree import DecisionTreeRegressor\n",
    "from sklearn.ensemble import RandomForestRegressor\n",
    "from sklearn.ensemble import GradientBoostingRegressor\n",
    "from sklearn.linear_model import Ridge\n",
    "from sklearn import linear_model\n",
    "import numpy as np\n",
    "import keras\n",
    "from keras.models import Sequential\n",
    "from keras.layers import Dense, Dropout"
   ]
  },
  {
   "cell_type": "code",
   "execution_count": 1753,
   "metadata": {},
   "outputs": [],
   "source": [
    "# Load the dataset \n",
    "\n",
    "data= pd.read_csv(\"data.csv\")"
   ]
  },
  {
   "cell_type": "code",
   "execution_count": 1754,
   "metadata": {},
   "outputs": [
    {
     "data": {
      "text/html": [
       "<div>\n",
       "<style scoped>\n",
       "    .dataframe tbody tr th:only-of-type {\n",
       "        vertical-align: middle;\n",
       "    }\n",
       "\n",
       "    .dataframe tbody tr th {\n",
       "        vertical-align: top;\n",
       "    }\n",
       "\n",
       "    .dataframe thead th {\n",
       "        text-align: right;\n",
       "    }\n",
       "</style>\n",
       "<table border=\"1\" class=\"dataframe\">\n",
       "  <thead>\n",
       "    <tr style=\"text-align: right;\">\n",
       "      <th></th>\n",
       "      <th>Unnamed: 0</th>\n",
       "      <th>Name</th>\n",
       "      <th>Location</th>\n",
       "      <th>Year</th>\n",
       "      <th>Kilometers_Driven</th>\n",
       "      <th>Fuel_Type</th>\n",
       "      <th>Transmission</th>\n",
       "      <th>Owner_Type</th>\n",
       "      <th>Mileage</th>\n",
       "      <th>Engine</th>\n",
       "      <th>Power</th>\n",
       "      <th>Seats</th>\n",
       "      <th>New_Price</th>\n",
       "      <th>Price</th>\n",
       "    </tr>\n",
       "  </thead>\n",
       "  <tbody>\n",
       "    <tr>\n",
       "      <td>0</td>\n",
       "      <td>0</td>\n",
       "      <td>Maruti Wagon R LXI CNG</td>\n",
       "      <td>Mumbai</td>\n",
       "      <td>2010</td>\n",
       "      <td>72000</td>\n",
       "      <td>CNG</td>\n",
       "      <td>Manual</td>\n",
       "      <td>First</td>\n",
       "      <td>26.6 km/kg</td>\n",
       "      <td>998 CC</td>\n",
       "      <td>58.16 bhp</td>\n",
       "      <td>5.0</td>\n",
       "      <td>NaN</td>\n",
       "      <td>1.75</td>\n",
       "    </tr>\n",
       "    <tr>\n",
       "      <td>1</td>\n",
       "      <td>1</td>\n",
       "      <td>Hyundai Creta 1.6 CRDi SX Option</td>\n",
       "      <td>Pune</td>\n",
       "      <td>2015</td>\n",
       "      <td>41000</td>\n",
       "      <td>Diesel</td>\n",
       "      <td>Manual</td>\n",
       "      <td>First</td>\n",
       "      <td>19.67 kmpl</td>\n",
       "      <td>1582 CC</td>\n",
       "      <td>126.2 bhp</td>\n",
       "      <td>5.0</td>\n",
       "      <td>NaN</td>\n",
       "      <td>12.50</td>\n",
       "    </tr>\n",
       "    <tr>\n",
       "      <td>2</td>\n",
       "      <td>2</td>\n",
       "      <td>Honda Jazz V</td>\n",
       "      <td>Chennai</td>\n",
       "      <td>2011</td>\n",
       "      <td>46000</td>\n",
       "      <td>Petrol</td>\n",
       "      <td>Manual</td>\n",
       "      <td>First</td>\n",
       "      <td>18.2 kmpl</td>\n",
       "      <td>1199 CC</td>\n",
       "      <td>88.7 bhp</td>\n",
       "      <td>5.0</td>\n",
       "      <td>8.61 Lakh</td>\n",
       "      <td>4.50</td>\n",
       "    </tr>\n",
       "    <tr>\n",
       "      <td>3</td>\n",
       "      <td>3</td>\n",
       "      <td>Maruti Ertiga VDI</td>\n",
       "      <td>Chennai</td>\n",
       "      <td>2012</td>\n",
       "      <td>87000</td>\n",
       "      <td>Diesel</td>\n",
       "      <td>Manual</td>\n",
       "      <td>First</td>\n",
       "      <td>20.77 kmpl</td>\n",
       "      <td>1248 CC</td>\n",
       "      <td>88.76 bhp</td>\n",
       "      <td>7.0</td>\n",
       "      <td>NaN</td>\n",
       "      <td>6.00</td>\n",
       "    </tr>\n",
       "    <tr>\n",
       "      <td>4</td>\n",
       "      <td>4</td>\n",
       "      <td>Audi A4 New 2.0 TDI Multitronic</td>\n",
       "      <td>Coimbatore</td>\n",
       "      <td>2013</td>\n",
       "      <td>40670</td>\n",
       "      <td>Diesel</td>\n",
       "      <td>Automatic</td>\n",
       "      <td>Second</td>\n",
       "      <td>15.2 kmpl</td>\n",
       "      <td>1968 CC</td>\n",
       "      <td>140.8 bhp</td>\n",
       "      <td>5.0</td>\n",
       "      <td>NaN</td>\n",
       "      <td>17.74</td>\n",
       "    </tr>\n",
       "  </tbody>\n",
       "</table>\n",
       "</div>"
      ],
      "text/plain": [
       "   Unnamed: 0                              Name    Location  Year  \\\n",
       "0           0            Maruti Wagon R LXI CNG      Mumbai  2010   \n",
       "1           1  Hyundai Creta 1.6 CRDi SX Option        Pune  2015   \n",
       "2           2                      Honda Jazz V     Chennai  2011   \n",
       "3           3                 Maruti Ertiga VDI     Chennai  2012   \n",
       "4           4   Audi A4 New 2.0 TDI Multitronic  Coimbatore  2013   \n",
       "\n",
       "   Kilometers_Driven Fuel_Type Transmission Owner_Type     Mileage   Engine  \\\n",
       "0              72000       CNG       Manual      First  26.6 km/kg   998 CC   \n",
       "1              41000    Diesel       Manual      First  19.67 kmpl  1582 CC   \n",
       "2              46000    Petrol       Manual      First   18.2 kmpl  1199 CC   \n",
       "3              87000    Diesel       Manual      First  20.77 kmpl  1248 CC   \n",
       "4              40670    Diesel    Automatic     Second   15.2 kmpl  1968 CC   \n",
       "\n",
       "       Power  Seats  New_Price  Price  \n",
       "0  58.16 bhp    5.0        NaN   1.75  \n",
       "1  126.2 bhp    5.0        NaN  12.50  \n",
       "2   88.7 bhp    5.0  8.61 Lakh   4.50  \n",
       "3  88.76 bhp    7.0        NaN   6.00  \n",
       "4  140.8 bhp    5.0        NaN  17.74  "
      ]
     },
     "execution_count": 1754,
     "metadata": {},
     "output_type": "execute_result"
    }
   ],
   "source": [
    "# Look at the first 5 rows\n",
    "\n",
    "data.head()"
   ]
  },
  {
   "cell_type": "code",
   "execution_count": 1755,
   "metadata": {},
   "outputs": [
    {
     "data": {
      "text/html": [
       "<div>\n",
       "<style scoped>\n",
       "    .dataframe tbody tr th:only-of-type {\n",
       "        vertical-align: middle;\n",
       "    }\n",
       "\n",
       "    .dataframe tbody tr th {\n",
       "        vertical-align: top;\n",
       "    }\n",
       "\n",
       "    .dataframe thead th {\n",
       "        text-align: right;\n",
       "    }\n",
       "</style>\n",
       "<table border=\"1\" class=\"dataframe\">\n",
       "  <thead>\n",
       "    <tr style=\"text-align: right;\">\n",
       "      <th></th>\n",
       "      <th>Unnamed: 0</th>\n",
       "      <th>Name</th>\n",
       "      <th>Location</th>\n",
       "      <th>Year</th>\n",
       "      <th>Kilometers_Driven</th>\n",
       "      <th>Fuel_Type</th>\n",
       "      <th>Transmission</th>\n",
       "      <th>Owner_Type</th>\n",
       "      <th>Mileage</th>\n",
       "      <th>Engine</th>\n",
       "      <th>Power</th>\n",
       "      <th>Seats</th>\n",
       "      <th>New_Price</th>\n",
       "      <th>Price</th>\n",
       "    </tr>\n",
       "  </thead>\n",
       "  <tbody>\n",
       "    <tr>\n",
       "      <td>6014</td>\n",
       "      <td>6014</td>\n",
       "      <td>Maruti Swift VDI</td>\n",
       "      <td>Delhi</td>\n",
       "      <td>2014</td>\n",
       "      <td>27365</td>\n",
       "      <td>Diesel</td>\n",
       "      <td>Manual</td>\n",
       "      <td>First</td>\n",
       "      <td>28.4 kmpl</td>\n",
       "      <td>1248 CC</td>\n",
       "      <td>74 bhp</td>\n",
       "      <td>5.0</td>\n",
       "      <td>7.88 Lakh</td>\n",
       "      <td>4.75</td>\n",
       "    </tr>\n",
       "    <tr>\n",
       "      <td>6015</td>\n",
       "      <td>6015</td>\n",
       "      <td>Hyundai Xcent 1.1 CRDi S</td>\n",
       "      <td>Jaipur</td>\n",
       "      <td>2015</td>\n",
       "      <td>100000</td>\n",
       "      <td>Diesel</td>\n",
       "      <td>Manual</td>\n",
       "      <td>First</td>\n",
       "      <td>24.4 kmpl</td>\n",
       "      <td>1120 CC</td>\n",
       "      <td>71 bhp</td>\n",
       "      <td>5.0</td>\n",
       "      <td>NaN</td>\n",
       "      <td>4.00</td>\n",
       "    </tr>\n",
       "    <tr>\n",
       "      <td>6016</td>\n",
       "      <td>6016</td>\n",
       "      <td>Mahindra Xylo D4 BSIV</td>\n",
       "      <td>Jaipur</td>\n",
       "      <td>2012</td>\n",
       "      <td>55000</td>\n",
       "      <td>Diesel</td>\n",
       "      <td>Manual</td>\n",
       "      <td>Second</td>\n",
       "      <td>14.0 kmpl</td>\n",
       "      <td>2498 CC</td>\n",
       "      <td>112 bhp</td>\n",
       "      <td>8.0</td>\n",
       "      <td>NaN</td>\n",
       "      <td>2.90</td>\n",
       "    </tr>\n",
       "    <tr>\n",
       "      <td>6017</td>\n",
       "      <td>6017</td>\n",
       "      <td>Maruti Wagon R VXI</td>\n",
       "      <td>Kolkata</td>\n",
       "      <td>2013</td>\n",
       "      <td>46000</td>\n",
       "      <td>Petrol</td>\n",
       "      <td>Manual</td>\n",
       "      <td>First</td>\n",
       "      <td>18.9 kmpl</td>\n",
       "      <td>998 CC</td>\n",
       "      <td>67.1 bhp</td>\n",
       "      <td>5.0</td>\n",
       "      <td>NaN</td>\n",
       "      <td>2.65</td>\n",
       "    </tr>\n",
       "    <tr>\n",
       "      <td>6018</td>\n",
       "      <td>6018</td>\n",
       "      <td>Chevrolet Beat Diesel</td>\n",
       "      <td>Hyderabad</td>\n",
       "      <td>2011</td>\n",
       "      <td>47000</td>\n",
       "      <td>Diesel</td>\n",
       "      <td>Manual</td>\n",
       "      <td>First</td>\n",
       "      <td>25.44 kmpl</td>\n",
       "      <td>936 CC</td>\n",
       "      <td>57.6 bhp</td>\n",
       "      <td>5.0</td>\n",
       "      <td>NaN</td>\n",
       "      <td>2.50</td>\n",
       "    </tr>\n",
       "  </tbody>\n",
       "</table>\n",
       "</div>"
      ],
      "text/plain": [
       "      Unnamed: 0                      Name   Location  Year  \\\n",
       "6014        6014          Maruti Swift VDI      Delhi  2014   \n",
       "6015        6015  Hyundai Xcent 1.1 CRDi S     Jaipur  2015   \n",
       "6016        6016     Mahindra Xylo D4 BSIV     Jaipur  2012   \n",
       "6017        6017        Maruti Wagon R VXI    Kolkata  2013   \n",
       "6018        6018     Chevrolet Beat Diesel  Hyderabad  2011   \n",
       "\n",
       "      Kilometers_Driven Fuel_Type Transmission Owner_Type     Mileage  \\\n",
       "6014              27365    Diesel       Manual      First   28.4 kmpl   \n",
       "6015             100000    Diesel       Manual      First   24.4 kmpl   \n",
       "6016              55000    Diesel       Manual     Second   14.0 kmpl   \n",
       "6017              46000    Petrol       Manual      First   18.9 kmpl   \n",
       "6018              47000    Diesel       Manual      First  25.44 kmpl   \n",
       "\n",
       "       Engine     Power  Seats  New_Price  Price  \n",
       "6014  1248 CC    74 bhp    5.0  7.88 Lakh   4.75  \n",
       "6015  1120 CC    71 bhp    5.0        NaN   4.00  \n",
       "6016  2498 CC   112 bhp    8.0        NaN   2.90  \n",
       "6017   998 CC  67.1 bhp    5.0        NaN   2.65  \n",
       "6018   936 CC  57.6 bhp    5.0        NaN   2.50  "
      ]
     },
     "execution_count": 1755,
     "metadata": {},
     "output_type": "execute_result"
    }
   ],
   "source": [
    "# Look at the last 5 rows\n",
    "\n",
    "data.tail()"
   ]
  },
  {
   "cell_type": "code",
   "execution_count": 1756,
   "metadata": {},
   "outputs": [
    {
     "data": {
      "text/plain": [
       "(6019, 14)"
      ]
     },
     "execution_count": 1756,
     "metadata": {},
     "output_type": "execute_result"
    }
   ],
   "source": [
    "# Check out the number of rows and columns.\n",
    "data.shape"
   ]
  },
  {
   "cell_type": "code",
   "execution_count": 1757,
   "metadata": {},
   "outputs": [
    {
     "name": "stdout",
     "output_type": "stream",
     "text": [
      "<class 'pandas.core.frame.DataFrame'>\n",
      "RangeIndex: 6019 entries, 0 to 6018\n",
      "Data columns (total 14 columns):\n",
      "Unnamed: 0           6019 non-null int64\n",
      "Name                 6019 non-null object\n",
      "Location             6019 non-null object\n",
      "Year                 6019 non-null int64\n",
      "Kilometers_Driven    6019 non-null int64\n",
      "Fuel_Type            6019 non-null object\n",
      "Transmission         6019 non-null object\n",
      "Owner_Type           6019 non-null object\n",
      "Mileage              6017 non-null object\n",
      "Engine               5983 non-null object\n",
      "Power                5983 non-null object\n",
      "Seats                5977 non-null float64\n",
      "New_Price            824 non-null object\n",
      "Price                6019 non-null float64\n",
      "dtypes: float64(2), int64(3), object(9)\n",
      "memory usage: 658.5+ KB\n"
     ]
    }
   ],
   "source": [
    "# Look at the information of all the features\n",
    "\n",
    "data.info()"
   ]
  },
  {
   "cell_type": "code",
   "execution_count": 1758,
   "metadata": {},
   "outputs": [
    {
     "data": {
      "text/html": [
       "<div>\n",
       "<style scoped>\n",
       "    .dataframe tbody tr th:only-of-type {\n",
       "        vertical-align: middle;\n",
       "    }\n",
       "\n",
       "    .dataframe tbody tr th {\n",
       "        vertical-align: top;\n",
       "    }\n",
       "\n",
       "    .dataframe thead th {\n",
       "        text-align: right;\n",
       "    }\n",
       "</style>\n",
       "<table border=\"1\" class=\"dataframe\">\n",
       "  <thead>\n",
       "    <tr style=\"text-align: right;\">\n",
       "      <th></th>\n",
       "      <th>Unnamed: 0</th>\n",
       "      <th>Year</th>\n",
       "      <th>Kilometers_Driven</th>\n",
       "      <th>Seats</th>\n",
       "      <th>Price</th>\n",
       "    </tr>\n",
       "  </thead>\n",
       "  <tbody>\n",
       "    <tr>\n",
       "      <td>count</td>\n",
       "      <td>6019.000000</td>\n",
       "      <td>6019.000000</td>\n",
       "      <td>6.019000e+03</td>\n",
       "      <td>5977.000000</td>\n",
       "      <td>6019.000000</td>\n",
       "    </tr>\n",
       "    <tr>\n",
       "      <td>mean</td>\n",
       "      <td>3009.000000</td>\n",
       "      <td>2013.358199</td>\n",
       "      <td>5.873838e+04</td>\n",
       "      <td>5.278735</td>\n",
       "      <td>9.479468</td>\n",
       "    </tr>\n",
       "    <tr>\n",
       "      <td>std</td>\n",
       "      <td>1737.679967</td>\n",
       "      <td>3.269742</td>\n",
       "      <td>9.126884e+04</td>\n",
       "      <td>0.808840</td>\n",
       "      <td>11.187917</td>\n",
       "    </tr>\n",
       "    <tr>\n",
       "      <td>min</td>\n",
       "      <td>0.000000</td>\n",
       "      <td>1998.000000</td>\n",
       "      <td>1.710000e+02</td>\n",
       "      <td>0.000000</td>\n",
       "      <td>0.440000</td>\n",
       "    </tr>\n",
       "    <tr>\n",
       "      <td>25%</td>\n",
       "      <td>1504.500000</td>\n",
       "      <td>2011.000000</td>\n",
       "      <td>3.400000e+04</td>\n",
       "      <td>5.000000</td>\n",
       "      <td>3.500000</td>\n",
       "    </tr>\n",
       "    <tr>\n",
       "      <td>50%</td>\n",
       "      <td>3009.000000</td>\n",
       "      <td>2014.000000</td>\n",
       "      <td>5.300000e+04</td>\n",
       "      <td>5.000000</td>\n",
       "      <td>5.640000</td>\n",
       "    </tr>\n",
       "    <tr>\n",
       "      <td>75%</td>\n",
       "      <td>4513.500000</td>\n",
       "      <td>2016.000000</td>\n",
       "      <td>7.300000e+04</td>\n",
       "      <td>5.000000</td>\n",
       "      <td>9.950000</td>\n",
       "    </tr>\n",
       "    <tr>\n",
       "      <td>max</td>\n",
       "      <td>6018.000000</td>\n",
       "      <td>2019.000000</td>\n",
       "      <td>6.500000e+06</td>\n",
       "      <td>10.000000</td>\n",
       "      <td>160.000000</td>\n",
       "    </tr>\n",
       "  </tbody>\n",
       "</table>\n",
       "</div>"
      ],
      "text/plain": [
       "        Unnamed: 0         Year  Kilometers_Driven        Seats        Price\n",
       "count  6019.000000  6019.000000       6.019000e+03  5977.000000  6019.000000\n",
       "mean   3009.000000  2013.358199       5.873838e+04     5.278735     9.479468\n",
       "std    1737.679967     3.269742       9.126884e+04     0.808840    11.187917\n",
       "min       0.000000  1998.000000       1.710000e+02     0.000000     0.440000\n",
       "25%    1504.500000  2011.000000       3.400000e+04     5.000000     3.500000\n",
       "50%    3009.000000  2014.000000       5.300000e+04     5.000000     5.640000\n",
       "75%    4513.500000  2016.000000       7.300000e+04     5.000000     9.950000\n",
       "max    6018.000000  2019.000000       6.500000e+06    10.000000   160.000000"
      ]
     },
     "execution_count": 1758,
     "metadata": {},
     "output_type": "execute_result"
    }
   ],
   "source": [
    "# Check out the Dataset\n",
    "data.describe()"
   ]
  },
  {
   "cell_type": "code",
   "execution_count": 1759,
   "metadata": {},
   "outputs": [
    {
     "data": {
      "text/plain": [
       "1876"
      ]
     },
     "execution_count": 1759,
     "metadata": {},
     "output_type": "execute_result"
    }
   ],
   "source": [
    "# Check how many unique \"Name\" are there?\n",
    "\n",
    "data['Name'].nunique()"
   ]
  },
  {
   "cell_type": "code",
   "execution_count": 1760,
   "metadata": {},
   "outputs": [],
   "source": [
    "# Split the data in \"Engine\", \"Mileage\" and \"Power\" column.\n",
    "\n",
    "eng = data[\"Engine\"].str.split(\" \", expand = True)\n",
    "mil = data[\"Mileage\"].str.split(\" \", expand = True)\n",
    "pov = data[\"Power\"].str.split(\" \", expand = True)\n"
   ]
  },
  {
   "cell_type": "code",
   "execution_count": 1761,
   "metadata": {},
   "outputs": [],
   "source": [
    "# Impute the above values into the column.\n",
    "\n",
    "data['Engine']=eng\n",
    "data['Mileage']=mil\n",
    "data['Power']= pov"
   ]
  },
  {
   "cell_type": "code",
   "execution_count": 1762,
   "metadata": {},
   "outputs": [
    {
     "data": {
      "text/html": [
       "<div>\n",
       "<style scoped>\n",
       "    .dataframe tbody tr th:only-of-type {\n",
       "        vertical-align: middle;\n",
       "    }\n",
       "\n",
       "    .dataframe tbody tr th {\n",
       "        vertical-align: top;\n",
       "    }\n",
       "\n",
       "    .dataframe thead th {\n",
       "        text-align: right;\n",
       "    }\n",
       "</style>\n",
       "<table border=\"1\" class=\"dataframe\">\n",
       "  <thead>\n",
       "    <tr style=\"text-align: right;\">\n",
       "      <th></th>\n",
       "      <th>Unnamed: 0</th>\n",
       "      <th>Name</th>\n",
       "      <th>Location</th>\n",
       "      <th>Year</th>\n",
       "      <th>Kilometers_Driven</th>\n",
       "      <th>Fuel_Type</th>\n",
       "      <th>Transmission</th>\n",
       "      <th>Owner_Type</th>\n",
       "      <th>Mileage</th>\n",
       "      <th>Engine</th>\n",
       "      <th>Power</th>\n",
       "      <th>Seats</th>\n",
       "      <th>New_Price</th>\n",
       "      <th>Price</th>\n",
       "    </tr>\n",
       "  </thead>\n",
       "  <tbody>\n",
       "    <tr>\n",
       "      <td>0</td>\n",
       "      <td>0</td>\n",
       "      <td>Maruti Wagon R LXI CNG</td>\n",
       "      <td>Mumbai</td>\n",
       "      <td>2010</td>\n",
       "      <td>72000</td>\n",
       "      <td>CNG</td>\n",
       "      <td>Manual</td>\n",
       "      <td>First</td>\n",
       "      <td>26.6</td>\n",
       "      <td>998</td>\n",
       "      <td>58.16</td>\n",
       "      <td>5.0</td>\n",
       "      <td>NaN</td>\n",
       "      <td>1.75</td>\n",
       "    </tr>\n",
       "    <tr>\n",
       "      <td>1</td>\n",
       "      <td>1</td>\n",
       "      <td>Hyundai Creta 1.6 CRDi SX Option</td>\n",
       "      <td>Pune</td>\n",
       "      <td>2015</td>\n",
       "      <td>41000</td>\n",
       "      <td>Diesel</td>\n",
       "      <td>Manual</td>\n",
       "      <td>First</td>\n",
       "      <td>19.67</td>\n",
       "      <td>1582</td>\n",
       "      <td>126.2</td>\n",
       "      <td>5.0</td>\n",
       "      <td>NaN</td>\n",
       "      <td>12.50</td>\n",
       "    </tr>\n",
       "    <tr>\n",
       "      <td>2</td>\n",
       "      <td>2</td>\n",
       "      <td>Honda Jazz V</td>\n",
       "      <td>Chennai</td>\n",
       "      <td>2011</td>\n",
       "      <td>46000</td>\n",
       "      <td>Petrol</td>\n",
       "      <td>Manual</td>\n",
       "      <td>First</td>\n",
       "      <td>18.2</td>\n",
       "      <td>1199</td>\n",
       "      <td>88.7</td>\n",
       "      <td>5.0</td>\n",
       "      <td>8.61 Lakh</td>\n",
       "      <td>4.50</td>\n",
       "    </tr>\n",
       "    <tr>\n",
       "      <td>3</td>\n",
       "      <td>3</td>\n",
       "      <td>Maruti Ertiga VDI</td>\n",
       "      <td>Chennai</td>\n",
       "      <td>2012</td>\n",
       "      <td>87000</td>\n",
       "      <td>Diesel</td>\n",
       "      <td>Manual</td>\n",
       "      <td>First</td>\n",
       "      <td>20.77</td>\n",
       "      <td>1248</td>\n",
       "      <td>88.76</td>\n",
       "      <td>7.0</td>\n",
       "      <td>NaN</td>\n",
       "      <td>6.00</td>\n",
       "    </tr>\n",
       "    <tr>\n",
       "      <td>4</td>\n",
       "      <td>4</td>\n",
       "      <td>Audi A4 New 2.0 TDI Multitronic</td>\n",
       "      <td>Coimbatore</td>\n",
       "      <td>2013</td>\n",
       "      <td>40670</td>\n",
       "      <td>Diesel</td>\n",
       "      <td>Automatic</td>\n",
       "      <td>Second</td>\n",
       "      <td>15.2</td>\n",
       "      <td>1968</td>\n",
       "      <td>140.8</td>\n",
       "      <td>5.0</td>\n",
       "      <td>NaN</td>\n",
       "      <td>17.74</td>\n",
       "    </tr>\n",
       "  </tbody>\n",
       "</table>\n",
       "</div>"
      ],
      "text/plain": [
       "   Unnamed: 0                              Name    Location  Year  \\\n",
       "0           0            Maruti Wagon R LXI CNG      Mumbai  2010   \n",
       "1           1  Hyundai Creta 1.6 CRDi SX Option        Pune  2015   \n",
       "2           2                      Honda Jazz V     Chennai  2011   \n",
       "3           3                 Maruti Ertiga VDI     Chennai  2012   \n",
       "4           4   Audi A4 New 2.0 TDI Multitronic  Coimbatore  2013   \n",
       "\n",
       "   Kilometers_Driven Fuel_Type Transmission Owner_Type Mileage Engine  Power  \\\n",
       "0              72000       CNG       Manual      First    26.6    998  58.16   \n",
       "1              41000    Diesel       Manual      First   19.67   1582  126.2   \n",
       "2              46000    Petrol       Manual      First    18.2   1199   88.7   \n",
       "3              87000    Diesel       Manual      First   20.77   1248  88.76   \n",
       "4              40670    Diesel    Automatic     Second    15.2   1968  140.8   \n",
       "\n",
       "   Seats  New_Price  Price  \n",
       "0    5.0        NaN   1.75  \n",
       "1    5.0        NaN  12.50  \n",
       "2    5.0  8.61 Lakh   4.50  \n",
       "3    7.0        NaN   6.00  \n",
       "4    5.0        NaN  17.74  "
      ]
     },
     "execution_count": 1762,
     "metadata": {},
     "output_type": "execute_result"
    }
   ],
   "source": [
    "# Now look at the first 5 rows\n",
    "\n",
    "data.head()"
   ]
  },
  {
   "cell_type": "code",
   "execution_count": 1763,
   "metadata": {},
   "outputs": [],
   "source": [
    "# Convert the datatype of following 4 rows from object to numeric.\n",
    "\n",
    "data[\"Mileage\"] = pd.to_numeric(data.Mileage, errors='coerce')\n",
    "data[\"Engine\"] = pd.to_numeric(data.Engine, errors='coerce')\n",
    "data[\"Power\"] = pd.to_numeric(data.Power, errors='coerce')\n",
    "data[\"Seats\"] = pd.to_numeric(data.Seats, errors='coerce')\n"
   ]
  },
  {
   "cell_type": "code",
   "execution_count": 1764,
   "metadata": {},
   "outputs": [
    {
     "name": "stdout",
     "output_type": "stream",
     "text": [
      "<class 'pandas.core.frame.DataFrame'>\n",
      "RangeIndex: 6019 entries, 0 to 6018\n",
      "Data columns (total 14 columns):\n",
      "Unnamed: 0           6019 non-null int64\n",
      "Name                 6019 non-null object\n",
      "Location             6019 non-null object\n",
      "Year                 6019 non-null int64\n",
      "Kilometers_Driven    6019 non-null int64\n",
      "Fuel_Type            6019 non-null object\n",
      "Transmission         6019 non-null object\n",
      "Owner_Type           6019 non-null object\n",
      "Mileage              6017 non-null float64\n",
      "Engine               5983 non-null float64\n",
      "Power                5876 non-null float64\n",
      "Seats                5977 non-null float64\n",
      "New_Price            824 non-null object\n",
      "Price                6019 non-null float64\n",
      "dtypes: float64(5), int64(3), object(6)\n",
      "memory usage: 658.5+ KB\n"
     ]
    }
   ],
   "source": [
    "# Now look at the information of all the features\n",
    "\n",
    "data.info()"
   ]
  },
  {
   "cell_type": "markdown",
   "metadata": {},
   "source": [
    "##### DATA CLEANING "
   ]
  },
  {
   "cell_type": "code",
   "execution_count": 1765,
   "metadata": {},
   "outputs": [
    {
     "data": {
      "text/plain": [
       "Unnamed: 0              0\n",
       "Name                    0\n",
       "Location                0\n",
       "Year                    0\n",
       "Kilometers_Driven       0\n",
       "Fuel_Type               0\n",
       "Transmission            0\n",
       "Owner_Type              0\n",
       "Mileage                 2\n",
       "Engine                 36\n",
       "Power                 143\n",
       "Seats                  42\n",
       "New_Price            5195\n",
       "Price                   0\n",
       "dtype: int64"
      ]
     },
     "execution_count": 1765,
     "metadata": {},
     "output_type": "execute_result"
    }
   ],
   "source": [
    "# Check for null Values\n",
    "\n",
    "data.isnull().sum()"
   ]
  },
  {
   "cell_type": "code",
   "execution_count": 1766,
   "metadata": {},
   "outputs": [],
   "source": [
    "# Imputing null values by taking the mean values.\n",
    "\n",
    "data[\"Engine\"].fillna(data[\"Engine\"].mean(), inplace = True)\n",
    "data[\"Power\"].fillna(data[\"Power\"].mean(), inplace = True)\n",
    "data[\"Seats\"].fillna(data[\"Seats\"].mean(), inplace = True)\n",
    "data[\"Mileage\"].fillna(data[\"Mileage\"].mean(), inplace = True)"
   ]
  },
  {
   "cell_type": "code",
   "execution_count": 1767,
   "metadata": {},
   "outputs": [
    {
     "name": "stdout",
     "output_type": "stream",
     "text": [
      "<class 'pandas.core.frame.DataFrame'>\n",
      "RangeIndex: 6019 entries, 0 to 6018\n",
      "Data columns (total 14 columns):\n",
      "Unnamed: 0           6019 non-null int64\n",
      "Name                 6019 non-null object\n",
      "Location             6019 non-null object\n",
      "Year                 6019 non-null int64\n",
      "Kilometers_Driven    6019 non-null int64\n",
      "Fuel_Type            6019 non-null object\n",
      "Transmission         6019 non-null object\n",
      "Owner_Type           6019 non-null object\n",
      "Mileage              6019 non-null float64\n",
      "Engine               6019 non-null float64\n",
      "Power                6019 non-null float64\n",
      "Seats                6019 non-null float64\n",
      "New_Price            824 non-null object\n",
      "Price                6019 non-null float64\n",
      "dtypes: float64(5), int64(3), object(6)\n",
      "memory usage: 658.5+ KB\n"
     ]
    }
   ],
   "source": [
    "# Now look at the information of all the features\n",
    "\n",
    "data.info()"
   ]
  },
  {
   "cell_type": "code",
   "execution_count": 1768,
   "metadata": {},
   "outputs": [
    {
     "data": {
      "text/html": [
       "<div>\n",
       "<style scoped>\n",
       "    .dataframe tbody tr th:only-of-type {\n",
       "        vertical-align: middle;\n",
       "    }\n",
       "\n",
       "    .dataframe tbody tr th {\n",
       "        vertical-align: top;\n",
       "    }\n",
       "\n",
       "    .dataframe thead th {\n",
       "        text-align: right;\n",
       "    }\n",
       "</style>\n",
       "<table border=\"1\" class=\"dataframe\">\n",
       "  <thead>\n",
       "    <tr style=\"text-align: right;\">\n",
       "      <th></th>\n",
       "      <th>Unnamed: 0</th>\n",
       "      <th>Year</th>\n",
       "      <th>Kilometers_Driven</th>\n",
       "      <th>Mileage</th>\n",
       "      <th>Engine</th>\n",
       "      <th>Power</th>\n",
       "      <th>Seats</th>\n",
       "      <th>Price</th>\n",
       "    </tr>\n",
       "  </thead>\n",
       "  <tbody>\n",
       "    <tr>\n",
       "      <td>count</td>\n",
       "      <td>6019.000000</td>\n",
       "      <td>6019.000000</td>\n",
       "      <td>6.019000e+03</td>\n",
       "      <td>6019.000000</td>\n",
       "      <td>6019.000000</td>\n",
       "      <td>6019.000000</td>\n",
       "      <td>6019.000000</td>\n",
       "      <td>6019.000000</td>\n",
       "    </tr>\n",
       "    <tr>\n",
       "      <td>mean</td>\n",
       "      <td>3009.000000</td>\n",
       "      <td>2013.358199</td>\n",
       "      <td>5.873838e+04</td>\n",
       "      <td>18.134961</td>\n",
       "      <td>1621.276450</td>\n",
       "      <td>113.253050</td>\n",
       "      <td>5.278735</td>\n",
       "      <td>9.479468</td>\n",
       "    </tr>\n",
       "    <tr>\n",
       "      <td>std</td>\n",
       "      <td>1737.679967</td>\n",
       "      <td>3.269742</td>\n",
       "      <td>9.126884e+04</td>\n",
       "      <td>4.581528</td>\n",
       "      <td>599.553865</td>\n",
       "      <td>53.231019</td>\n",
       "      <td>0.806012</td>\n",
       "      <td>11.187917</td>\n",
       "    </tr>\n",
       "    <tr>\n",
       "      <td>min</td>\n",
       "      <td>0.000000</td>\n",
       "      <td>1998.000000</td>\n",
       "      <td>1.710000e+02</td>\n",
       "      <td>0.000000</td>\n",
       "      <td>72.000000</td>\n",
       "      <td>34.200000</td>\n",
       "      <td>0.000000</td>\n",
       "      <td>0.440000</td>\n",
       "    </tr>\n",
       "    <tr>\n",
       "      <td>25%</td>\n",
       "      <td>1504.500000</td>\n",
       "      <td>2011.000000</td>\n",
       "      <td>3.400000e+04</td>\n",
       "      <td>15.170000</td>\n",
       "      <td>1198.000000</td>\n",
       "      <td>78.000000</td>\n",
       "      <td>5.000000</td>\n",
       "      <td>3.500000</td>\n",
       "    </tr>\n",
       "    <tr>\n",
       "      <td>50%</td>\n",
       "      <td>3009.000000</td>\n",
       "      <td>2014.000000</td>\n",
       "      <td>5.300000e+04</td>\n",
       "      <td>18.150000</td>\n",
       "      <td>1493.000000</td>\n",
       "      <td>98.600000</td>\n",
       "      <td>5.000000</td>\n",
       "      <td>5.640000</td>\n",
       "    </tr>\n",
       "    <tr>\n",
       "      <td>75%</td>\n",
       "      <td>4513.500000</td>\n",
       "      <td>2016.000000</td>\n",
       "      <td>7.300000e+04</td>\n",
       "      <td>21.100000</td>\n",
       "      <td>1969.000000</td>\n",
       "      <td>138.030000</td>\n",
       "      <td>5.000000</td>\n",
       "      <td>9.950000</td>\n",
       "    </tr>\n",
       "    <tr>\n",
       "      <td>max</td>\n",
       "      <td>6018.000000</td>\n",
       "      <td>2019.000000</td>\n",
       "      <td>6.500000e+06</td>\n",
       "      <td>33.540000</td>\n",
       "      <td>5998.000000</td>\n",
       "      <td>560.000000</td>\n",
       "      <td>10.000000</td>\n",
       "      <td>160.000000</td>\n",
       "    </tr>\n",
       "  </tbody>\n",
       "</table>\n",
       "</div>"
      ],
      "text/plain": [
       "        Unnamed: 0         Year  Kilometers_Driven      Mileage       Engine  \\\n",
       "count  6019.000000  6019.000000       6.019000e+03  6019.000000  6019.000000   \n",
       "mean   3009.000000  2013.358199       5.873838e+04    18.134961  1621.276450   \n",
       "std    1737.679967     3.269742       9.126884e+04     4.581528   599.553865   \n",
       "min       0.000000  1998.000000       1.710000e+02     0.000000    72.000000   \n",
       "25%    1504.500000  2011.000000       3.400000e+04    15.170000  1198.000000   \n",
       "50%    3009.000000  2014.000000       5.300000e+04    18.150000  1493.000000   \n",
       "75%    4513.500000  2016.000000       7.300000e+04    21.100000  1969.000000   \n",
       "max    6018.000000  2019.000000       6.500000e+06    33.540000  5998.000000   \n",
       "\n",
       "             Power        Seats        Price  \n",
       "count  6019.000000  6019.000000  6019.000000  \n",
       "mean    113.253050     5.278735     9.479468  \n",
       "std      53.231019     0.806012    11.187917  \n",
       "min      34.200000     0.000000     0.440000  \n",
       "25%      78.000000     5.000000     3.500000  \n",
       "50%      98.600000     5.000000     5.640000  \n",
       "75%     138.030000     5.000000     9.950000  \n",
       "max     560.000000    10.000000   160.000000  "
      ]
     },
     "execution_count": 1768,
     "metadata": {},
     "output_type": "execute_result"
    }
   ],
   "source": [
    "# Check out the Dataset\n",
    "data.describe()"
   ]
  },
  {
   "cell_type": "code",
   "execution_count": 1769,
   "metadata": {},
   "outputs": [],
   "source": [
    "# Drop the Columns \"New_Price\" and \"Unnamed: 0\"\n",
    "\n",
    "cars = data.drop(['New_Price','Unnamed: 0'],axis=1)"
   ]
  },
  {
   "cell_type": "code",
   "execution_count": 1770,
   "metadata": {},
   "outputs": [
    {
     "data": {
      "text/html": [
       "<div>\n",
       "<style scoped>\n",
       "    .dataframe tbody tr th:only-of-type {\n",
       "        vertical-align: middle;\n",
       "    }\n",
       "\n",
       "    .dataframe tbody tr th {\n",
       "        vertical-align: top;\n",
       "    }\n",
       "\n",
       "    .dataframe thead th {\n",
       "        text-align: right;\n",
       "    }\n",
       "</style>\n",
       "<table border=\"1\" class=\"dataframe\">\n",
       "  <thead>\n",
       "    <tr style=\"text-align: right;\">\n",
       "      <th></th>\n",
       "      <th>Name</th>\n",
       "      <th>Location</th>\n",
       "      <th>Year</th>\n",
       "      <th>Kilometers_Driven</th>\n",
       "      <th>Fuel_Type</th>\n",
       "      <th>Transmission</th>\n",
       "      <th>Owner_Type</th>\n",
       "      <th>Mileage</th>\n",
       "      <th>Engine</th>\n",
       "      <th>Power</th>\n",
       "      <th>Seats</th>\n",
       "      <th>Price</th>\n",
       "    </tr>\n",
       "  </thead>\n",
       "  <tbody>\n",
       "    <tr>\n",
       "      <td>0</td>\n",
       "      <td>Maruti Wagon R LXI CNG</td>\n",
       "      <td>Mumbai</td>\n",
       "      <td>2010</td>\n",
       "      <td>72000</td>\n",
       "      <td>CNG</td>\n",
       "      <td>Manual</td>\n",
       "      <td>First</td>\n",
       "      <td>26.60</td>\n",
       "      <td>998.0</td>\n",
       "      <td>58.16</td>\n",
       "      <td>5.0</td>\n",
       "      <td>1.75</td>\n",
       "    </tr>\n",
       "    <tr>\n",
       "      <td>1</td>\n",
       "      <td>Hyundai Creta 1.6 CRDi SX Option</td>\n",
       "      <td>Pune</td>\n",
       "      <td>2015</td>\n",
       "      <td>41000</td>\n",
       "      <td>Diesel</td>\n",
       "      <td>Manual</td>\n",
       "      <td>First</td>\n",
       "      <td>19.67</td>\n",
       "      <td>1582.0</td>\n",
       "      <td>126.20</td>\n",
       "      <td>5.0</td>\n",
       "      <td>12.50</td>\n",
       "    </tr>\n",
       "    <tr>\n",
       "      <td>2</td>\n",
       "      <td>Honda Jazz V</td>\n",
       "      <td>Chennai</td>\n",
       "      <td>2011</td>\n",
       "      <td>46000</td>\n",
       "      <td>Petrol</td>\n",
       "      <td>Manual</td>\n",
       "      <td>First</td>\n",
       "      <td>18.20</td>\n",
       "      <td>1199.0</td>\n",
       "      <td>88.70</td>\n",
       "      <td>5.0</td>\n",
       "      <td>4.50</td>\n",
       "    </tr>\n",
       "    <tr>\n",
       "      <td>3</td>\n",
       "      <td>Maruti Ertiga VDI</td>\n",
       "      <td>Chennai</td>\n",
       "      <td>2012</td>\n",
       "      <td>87000</td>\n",
       "      <td>Diesel</td>\n",
       "      <td>Manual</td>\n",
       "      <td>First</td>\n",
       "      <td>20.77</td>\n",
       "      <td>1248.0</td>\n",
       "      <td>88.76</td>\n",
       "      <td>7.0</td>\n",
       "      <td>6.00</td>\n",
       "    </tr>\n",
       "    <tr>\n",
       "      <td>4</td>\n",
       "      <td>Audi A4 New 2.0 TDI Multitronic</td>\n",
       "      <td>Coimbatore</td>\n",
       "      <td>2013</td>\n",
       "      <td>40670</td>\n",
       "      <td>Diesel</td>\n",
       "      <td>Automatic</td>\n",
       "      <td>Second</td>\n",
       "      <td>15.20</td>\n",
       "      <td>1968.0</td>\n",
       "      <td>140.80</td>\n",
       "      <td>5.0</td>\n",
       "      <td>17.74</td>\n",
       "    </tr>\n",
       "  </tbody>\n",
       "</table>\n",
       "</div>"
      ],
      "text/plain": [
       "                               Name    Location  Year  Kilometers_Driven  \\\n",
       "0            Maruti Wagon R LXI CNG      Mumbai  2010              72000   \n",
       "1  Hyundai Creta 1.6 CRDi SX Option        Pune  2015              41000   \n",
       "2                      Honda Jazz V     Chennai  2011              46000   \n",
       "3                 Maruti Ertiga VDI     Chennai  2012              87000   \n",
       "4   Audi A4 New 2.0 TDI Multitronic  Coimbatore  2013              40670   \n",
       "\n",
       "  Fuel_Type Transmission Owner_Type  Mileage  Engine   Power  Seats  Price  \n",
       "0       CNG       Manual      First    26.60   998.0   58.16    5.0   1.75  \n",
       "1    Diesel       Manual      First    19.67  1582.0  126.20    5.0  12.50  \n",
       "2    Petrol       Manual      First    18.20  1199.0   88.70    5.0   4.50  \n",
       "3    Diesel       Manual      First    20.77  1248.0   88.76    7.0   6.00  \n",
       "4    Diesel    Automatic     Second    15.20  1968.0  140.80    5.0  17.74  "
      ]
     },
     "execution_count": 1770,
     "metadata": {},
     "output_type": "execute_result"
    }
   ],
   "source": [
    "# Now look at top 5 rows.\n",
    "\n",
    "cars.head()"
   ]
  },
  {
   "cell_type": "code",
   "execution_count": 1771,
   "metadata": {},
   "outputs": [
    {
     "name": "stdout",
     "output_type": "stream",
     "text": [
      "<class 'pandas.core.frame.DataFrame'>\n",
      "RangeIndex: 6019 entries, 0 to 6018\n",
      "Data columns (total 12 columns):\n",
      "Name                 6019 non-null object\n",
      "Location             6019 non-null object\n",
      "Year                 6019 non-null int64\n",
      "Kilometers_Driven    6019 non-null int64\n",
      "Fuel_Type            6019 non-null object\n",
      "Transmission         6019 non-null object\n",
      "Owner_Type           6019 non-null object\n",
      "Mileage              6019 non-null float64\n",
      "Engine               6019 non-null float64\n",
      "Power                6019 non-null float64\n",
      "Seats                6019 non-null float64\n",
      "Price                6019 non-null float64\n",
      "dtypes: float64(5), int64(2), object(5)\n",
      "memory usage: 564.4+ KB\n"
     ]
    }
   ],
   "source": [
    "# Now look at the information for all the columns.\n",
    "\n",
    "cars.info()"
   ]
  },
  {
   "cell_type": "code",
   "execution_count": 1772,
   "metadata": {},
   "outputs": [],
   "source": [
    "# Create a new column showing the number of years. \n",
    "year = 2020\n",
    "cars['No_of_Years'] = cars['Year'].apply(lambda x :year - x)"
   ]
  },
  {
   "cell_type": "code",
   "execution_count": 1773,
   "metadata": {},
   "outputs": [
    {
     "data": {
      "text/html": [
       "<div>\n",
       "<style scoped>\n",
       "    .dataframe tbody tr th:only-of-type {\n",
       "        vertical-align: middle;\n",
       "    }\n",
       "\n",
       "    .dataframe tbody tr th {\n",
       "        vertical-align: top;\n",
       "    }\n",
       "\n",
       "    .dataframe thead th {\n",
       "        text-align: right;\n",
       "    }\n",
       "</style>\n",
       "<table border=\"1\" class=\"dataframe\">\n",
       "  <thead>\n",
       "    <tr style=\"text-align: right;\">\n",
       "      <th></th>\n",
       "      <th>Name</th>\n",
       "      <th>Location</th>\n",
       "      <th>Year</th>\n",
       "      <th>Kilometers_Driven</th>\n",
       "      <th>Fuel_Type</th>\n",
       "      <th>Transmission</th>\n",
       "      <th>Owner_Type</th>\n",
       "      <th>Mileage</th>\n",
       "      <th>Engine</th>\n",
       "      <th>Power</th>\n",
       "      <th>Seats</th>\n",
       "      <th>Price</th>\n",
       "      <th>No_of_Years</th>\n",
       "    </tr>\n",
       "  </thead>\n",
       "  <tbody>\n",
       "    <tr>\n",
       "      <td>0</td>\n",
       "      <td>Maruti Wagon R LXI CNG</td>\n",
       "      <td>Mumbai</td>\n",
       "      <td>2010</td>\n",
       "      <td>72000</td>\n",
       "      <td>CNG</td>\n",
       "      <td>Manual</td>\n",
       "      <td>First</td>\n",
       "      <td>26.60</td>\n",
       "      <td>998.0</td>\n",
       "      <td>58.16</td>\n",
       "      <td>5.0</td>\n",
       "      <td>1.75</td>\n",
       "      <td>10</td>\n",
       "    </tr>\n",
       "    <tr>\n",
       "      <td>1</td>\n",
       "      <td>Hyundai Creta 1.6 CRDi SX Option</td>\n",
       "      <td>Pune</td>\n",
       "      <td>2015</td>\n",
       "      <td>41000</td>\n",
       "      <td>Diesel</td>\n",
       "      <td>Manual</td>\n",
       "      <td>First</td>\n",
       "      <td>19.67</td>\n",
       "      <td>1582.0</td>\n",
       "      <td>126.20</td>\n",
       "      <td>5.0</td>\n",
       "      <td>12.50</td>\n",
       "      <td>5</td>\n",
       "    </tr>\n",
       "    <tr>\n",
       "      <td>2</td>\n",
       "      <td>Honda Jazz V</td>\n",
       "      <td>Chennai</td>\n",
       "      <td>2011</td>\n",
       "      <td>46000</td>\n",
       "      <td>Petrol</td>\n",
       "      <td>Manual</td>\n",
       "      <td>First</td>\n",
       "      <td>18.20</td>\n",
       "      <td>1199.0</td>\n",
       "      <td>88.70</td>\n",
       "      <td>5.0</td>\n",
       "      <td>4.50</td>\n",
       "      <td>9</td>\n",
       "    </tr>\n",
       "    <tr>\n",
       "      <td>3</td>\n",
       "      <td>Maruti Ertiga VDI</td>\n",
       "      <td>Chennai</td>\n",
       "      <td>2012</td>\n",
       "      <td>87000</td>\n",
       "      <td>Diesel</td>\n",
       "      <td>Manual</td>\n",
       "      <td>First</td>\n",
       "      <td>20.77</td>\n",
       "      <td>1248.0</td>\n",
       "      <td>88.76</td>\n",
       "      <td>7.0</td>\n",
       "      <td>6.00</td>\n",
       "      <td>8</td>\n",
       "    </tr>\n",
       "    <tr>\n",
       "      <td>4</td>\n",
       "      <td>Audi A4 New 2.0 TDI Multitronic</td>\n",
       "      <td>Coimbatore</td>\n",
       "      <td>2013</td>\n",
       "      <td>40670</td>\n",
       "      <td>Diesel</td>\n",
       "      <td>Automatic</td>\n",
       "      <td>Second</td>\n",
       "      <td>15.20</td>\n",
       "      <td>1968.0</td>\n",
       "      <td>140.80</td>\n",
       "      <td>5.0</td>\n",
       "      <td>17.74</td>\n",
       "      <td>7</td>\n",
       "    </tr>\n",
       "  </tbody>\n",
       "</table>\n",
       "</div>"
      ],
      "text/plain": [
       "                               Name    Location  Year  Kilometers_Driven  \\\n",
       "0            Maruti Wagon R LXI CNG      Mumbai  2010              72000   \n",
       "1  Hyundai Creta 1.6 CRDi SX Option        Pune  2015              41000   \n",
       "2                      Honda Jazz V     Chennai  2011              46000   \n",
       "3                 Maruti Ertiga VDI     Chennai  2012              87000   \n",
       "4   Audi A4 New 2.0 TDI Multitronic  Coimbatore  2013              40670   \n",
       "\n",
       "  Fuel_Type Transmission Owner_Type  Mileage  Engine   Power  Seats  Price  \\\n",
       "0       CNG       Manual      First    26.60   998.0   58.16    5.0   1.75   \n",
       "1    Diesel       Manual      First    19.67  1582.0  126.20    5.0  12.50   \n",
       "2    Petrol       Manual      First    18.20  1199.0   88.70    5.0   4.50   \n",
       "3    Diesel       Manual      First    20.77  1248.0   88.76    7.0   6.00   \n",
       "4    Diesel    Automatic     Second    15.20  1968.0  140.80    5.0  17.74   \n",
       "\n",
       "   No_of_Years  \n",
       "0           10  \n",
       "1            5  \n",
       "2            9  \n",
       "3            8  \n",
       "4            7  "
      ]
     },
     "execution_count": 1773,
     "metadata": {},
     "output_type": "execute_result"
    }
   ],
   "source": [
    "# Look at the first 5 rows\n",
    "\n",
    "cars.head()"
   ]
  },
  {
   "cell_type": "code",
   "execution_count": 1774,
   "metadata": {},
   "outputs": [],
   "source": [
    "# Converting Price in lakhs(Indian Curreny) to Canadian Dollars by using an exchange rate  .\n",
    "\n",
    "cars['Price']=(cars['Price']*1824.504).round(2)"
   ]
  },
  {
   "cell_type": "code",
   "execution_count": 1775,
   "metadata": {},
   "outputs": [
    {
     "data": {
      "text/html": [
       "<div>\n",
       "<style scoped>\n",
       "    .dataframe tbody tr th:only-of-type {\n",
       "        vertical-align: middle;\n",
       "    }\n",
       "\n",
       "    .dataframe tbody tr th {\n",
       "        vertical-align: top;\n",
       "    }\n",
       "\n",
       "    .dataframe thead th {\n",
       "        text-align: right;\n",
       "    }\n",
       "</style>\n",
       "<table border=\"1\" class=\"dataframe\">\n",
       "  <thead>\n",
       "    <tr style=\"text-align: right;\">\n",
       "      <th></th>\n",
       "      <th>Name</th>\n",
       "      <th>Location</th>\n",
       "      <th>Year</th>\n",
       "      <th>Kilometers_Driven</th>\n",
       "      <th>Fuel_Type</th>\n",
       "      <th>Transmission</th>\n",
       "      <th>Owner_Type</th>\n",
       "      <th>Mileage</th>\n",
       "      <th>Engine</th>\n",
       "      <th>Power</th>\n",
       "      <th>Seats</th>\n",
       "      <th>Price</th>\n",
       "      <th>No_of_Years</th>\n",
       "    </tr>\n",
       "  </thead>\n",
       "  <tbody>\n",
       "    <tr>\n",
       "      <td>0</td>\n",
       "      <td>Maruti Wagon R LXI CNG</td>\n",
       "      <td>Mumbai</td>\n",
       "      <td>2010</td>\n",
       "      <td>72000</td>\n",
       "      <td>CNG</td>\n",
       "      <td>Manual</td>\n",
       "      <td>First</td>\n",
       "      <td>26.60</td>\n",
       "      <td>998.0</td>\n",
       "      <td>58.16</td>\n",
       "      <td>5.0</td>\n",
       "      <td>3192.88</td>\n",
       "      <td>10</td>\n",
       "    </tr>\n",
       "    <tr>\n",
       "      <td>1</td>\n",
       "      <td>Hyundai Creta 1.6 CRDi SX Option</td>\n",
       "      <td>Pune</td>\n",
       "      <td>2015</td>\n",
       "      <td>41000</td>\n",
       "      <td>Diesel</td>\n",
       "      <td>Manual</td>\n",
       "      <td>First</td>\n",
       "      <td>19.67</td>\n",
       "      <td>1582.0</td>\n",
       "      <td>126.20</td>\n",
       "      <td>5.0</td>\n",
       "      <td>22806.30</td>\n",
       "      <td>5</td>\n",
       "    </tr>\n",
       "    <tr>\n",
       "      <td>2</td>\n",
       "      <td>Honda Jazz V</td>\n",
       "      <td>Chennai</td>\n",
       "      <td>2011</td>\n",
       "      <td>46000</td>\n",
       "      <td>Petrol</td>\n",
       "      <td>Manual</td>\n",
       "      <td>First</td>\n",
       "      <td>18.20</td>\n",
       "      <td>1199.0</td>\n",
       "      <td>88.70</td>\n",
       "      <td>5.0</td>\n",
       "      <td>8210.27</td>\n",
       "      <td>9</td>\n",
       "    </tr>\n",
       "    <tr>\n",
       "      <td>3</td>\n",
       "      <td>Maruti Ertiga VDI</td>\n",
       "      <td>Chennai</td>\n",
       "      <td>2012</td>\n",
       "      <td>87000</td>\n",
       "      <td>Diesel</td>\n",
       "      <td>Manual</td>\n",
       "      <td>First</td>\n",
       "      <td>20.77</td>\n",
       "      <td>1248.0</td>\n",
       "      <td>88.76</td>\n",
       "      <td>7.0</td>\n",
       "      <td>10947.02</td>\n",
       "      <td>8</td>\n",
       "    </tr>\n",
       "    <tr>\n",
       "      <td>4</td>\n",
       "      <td>Audi A4 New 2.0 TDI Multitronic</td>\n",
       "      <td>Coimbatore</td>\n",
       "      <td>2013</td>\n",
       "      <td>40670</td>\n",
       "      <td>Diesel</td>\n",
       "      <td>Automatic</td>\n",
       "      <td>Second</td>\n",
       "      <td>15.20</td>\n",
       "      <td>1968.0</td>\n",
       "      <td>140.80</td>\n",
       "      <td>5.0</td>\n",
       "      <td>32366.70</td>\n",
       "      <td>7</td>\n",
       "    </tr>\n",
       "  </tbody>\n",
       "</table>\n",
       "</div>"
      ],
      "text/plain": [
       "                               Name    Location  Year  Kilometers_Driven  \\\n",
       "0            Maruti Wagon R LXI CNG      Mumbai  2010              72000   \n",
       "1  Hyundai Creta 1.6 CRDi SX Option        Pune  2015              41000   \n",
       "2                      Honda Jazz V     Chennai  2011              46000   \n",
       "3                 Maruti Ertiga VDI     Chennai  2012              87000   \n",
       "4   Audi A4 New 2.0 TDI Multitronic  Coimbatore  2013              40670   \n",
       "\n",
       "  Fuel_Type Transmission Owner_Type  Mileage  Engine   Power  Seats     Price  \\\n",
       "0       CNG       Manual      First    26.60   998.0   58.16    5.0   3192.88   \n",
       "1    Diesel       Manual      First    19.67  1582.0  126.20    5.0  22806.30   \n",
       "2    Petrol       Manual      First    18.20  1199.0   88.70    5.0   8210.27   \n",
       "3    Diesel       Manual      First    20.77  1248.0   88.76    7.0  10947.02   \n",
       "4    Diesel    Automatic     Second    15.20  1968.0  140.80    5.0  32366.70   \n",
       "\n",
       "   No_of_Years  \n",
       "0           10  \n",
       "1            5  \n",
       "2            9  \n",
       "3            8  \n",
       "4            7  "
      ]
     },
     "execution_count": 1775,
     "metadata": {},
     "output_type": "execute_result"
    }
   ],
   "source": [
    "# Look at the top 5 rows .\n",
    "\n",
    "cars.head()"
   ]
  },
  {
   "cell_type": "code",
   "execution_count": 1776,
   "metadata": {},
   "outputs": [],
   "source": [
    "# Split the \"Name\" column.\n",
    "\n",
    "Nam = data[\"Name\"].str.split(\" \", expand = True)"
   ]
  },
  {
   "cell_type": "code",
   "execution_count": 1777,
   "metadata": {},
   "outputs": [],
   "source": [
    "# Create 2 columns which shows the Manufacturer name and Car name.\n",
    "\n",
    "cars['Manufacture_Name']=Nam[0]\n",
    "cars['Car_Name']=cars['Manufacture_Name'].str.cat(Nam[1],sep=' ')"
   ]
  },
  {
   "cell_type": "code",
   "execution_count": 1778,
   "metadata": {},
   "outputs": [
    {
     "data": {
      "text/html": [
       "<div>\n",
       "<style scoped>\n",
       "    .dataframe tbody tr th:only-of-type {\n",
       "        vertical-align: middle;\n",
       "    }\n",
       "\n",
       "    .dataframe tbody tr th {\n",
       "        vertical-align: top;\n",
       "    }\n",
       "\n",
       "    .dataframe thead th {\n",
       "        text-align: right;\n",
       "    }\n",
       "</style>\n",
       "<table border=\"1\" class=\"dataframe\">\n",
       "  <thead>\n",
       "    <tr style=\"text-align: right;\">\n",
       "      <th></th>\n",
       "      <th>Name</th>\n",
       "      <th>Location</th>\n",
       "      <th>Year</th>\n",
       "      <th>Kilometers_Driven</th>\n",
       "      <th>Fuel_Type</th>\n",
       "      <th>Transmission</th>\n",
       "      <th>Owner_Type</th>\n",
       "      <th>Mileage</th>\n",
       "      <th>Engine</th>\n",
       "      <th>Power</th>\n",
       "      <th>Seats</th>\n",
       "      <th>Price</th>\n",
       "      <th>No_of_Years</th>\n",
       "      <th>Manufacture_Name</th>\n",
       "      <th>Car_Name</th>\n",
       "    </tr>\n",
       "  </thead>\n",
       "  <tbody>\n",
       "    <tr>\n",
       "      <td>0</td>\n",
       "      <td>Maruti Wagon R LXI CNG</td>\n",
       "      <td>Mumbai</td>\n",
       "      <td>2010</td>\n",
       "      <td>72000</td>\n",
       "      <td>CNG</td>\n",
       "      <td>Manual</td>\n",
       "      <td>First</td>\n",
       "      <td>26.60</td>\n",
       "      <td>998.0</td>\n",
       "      <td>58.16</td>\n",
       "      <td>5.0</td>\n",
       "      <td>3192.88</td>\n",
       "      <td>10</td>\n",
       "      <td>Maruti</td>\n",
       "      <td>Maruti Wagon</td>\n",
       "    </tr>\n",
       "    <tr>\n",
       "      <td>1</td>\n",
       "      <td>Hyundai Creta 1.6 CRDi SX Option</td>\n",
       "      <td>Pune</td>\n",
       "      <td>2015</td>\n",
       "      <td>41000</td>\n",
       "      <td>Diesel</td>\n",
       "      <td>Manual</td>\n",
       "      <td>First</td>\n",
       "      <td>19.67</td>\n",
       "      <td>1582.0</td>\n",
       "      <td>126.20</td>\n",
       "      <td>5.0</td>\n",
       "      <td>22806.30</td>\n",
       "      <td>5</td>\n",
       "      <td>Hyundai</td>\n",
       "      <td>Hyundai Creta</td>\n",
       "    </tr>\n",
       "    <tr>\n",
       "      <td>2</td>\n",
       "      <td>Honda Jazz V</td>\n",
       "      <td>Chennai</td>\n",
       "      <td>2011</td>\n",
       "      <td>46000</td>\n",
       "      <td>Petrol</td>\n",
       "      <td>Manual</td>\n",
       "      <td>First</td>\n",
       "      <td>18.20</td>\n",
       "      <td>1199.0</td>\n",
       "      <td>88.70</td>\n",
       "      <td>5.0</td>\n",
       "      <td>8210.27</td>\n",
       "      <td>9</td>\n",
       "      <td>Honda</td>\n",
       "      <td>Honda Jazz</td>\n",
       "    </tr>\n",
       "    <tr>\n",
       "      <td>3</td>\n",
       "      <td>Maruti Ertiga VDI</td>\n",
       "      <td>Chennai</td>\n",
       "      <td>2012</td>\n",
       "      <td>87000</td>\n",
       "      <td>Diesel</td>\n",
       "      <td>Manual</td>\n",
       "      <td>First</td>\n",
       "      <td>20.77</td>\n",
       "      <td>1248.0</td>\n",
       "      <td>88.76</td>\n",
       "      <td>7.0</td>\n",
       "      <td>10947.02</td>\n",
       "      <td>8</td>\n",
       "      <td>Maruti</td>\n",
       "      <td>Maruti Ertiga</td>\n",
       "    </tr>\n",
       "    <tr>\n",
       "      <td>4</td>\n",
       "      <td>Audi A4 New 2.0 TDI Multitronic</td>\n",
       "      <td>Coimbatore</td>\n",
       "      <td>2013</td>\n",
       "      <td>40670</td>\n",
       "      <td>Diesel</td>\n",
       "      <td>Automatic</td>\n",
       "      <td>Second</td>\n",
       "      <td>15.20</td>\n",
       "      <td>1968.0</td>\n",
       "      <td>140.80</td>\n",
       "      <td>5.0</td>\n",
       "      <td>32366.70</td>\n",
       "      <td>7</td>\n",
       "      <td>Audi</td>\n",
       "      <td>Audi A4</td>\n",
       "    </tr>\n",
       "  </tbody>\n",
       "</table>\n",
       "</div>"
      ],
      "text/plain": [
       "                               Name    Location  Year  Kilometers_Driven  \\\n",
       "0            Maruti Wagon R LXI CNG      Mumbai  2010              72000   \n",
       "1  Hyundai Creta 1.6 CRDi SX Option        Pune  2015              41000   \n",
       "2                      Honda Jazz V     Chennai  2011              46000   \n",
       "3                 Maruti Ertiga VDI     Chennai  2012              87000   \n",
       "4   Audi A4 New 2.0 TDI Multitronic  Coimbatore  2013              40670   \n",
       "\n",
       "  Fuel_Type Transmission Owner_Type  Mileage  Engine   Power  Seats     Price  \\\n",
       "0       CNG       Manual      First    26.60   998.0   58.16    5.0   3192.88   \n",
       "1    Diesel       Manual      First    19.67  1582.0  126.20    5.0  22806.30   \n",
       "2    Petrol       Manual      First    18.20  1199.0   88.70    5.0   8210.27   \n",
       "3    Diesel       Manual      First    20.77  1248.0   88.76    7.0  10947.02   \n",
       "4    Diesel    Automatic     Second    15.20  1968.0  140.80    5.0  32366.70   \n",
       "\n",
       "   No_of_Years Manufacture_Name       Car_Name  \n",
       "0           10           Maruti   Maruti Wagon  \n",
       "1            5          Hyundai  Hyundai Creta  \n",
       "2            9            Honda     Honda Jazz  \n",
       "3            8           Maruti  Maruti Ertiga  \n",
       "4            7             Audi        Audi A4  "
      ]
     },
     "execution_count": 1778,
     "metadata": {},
     "output_type": "execute_result"
    }
   ],
   "source": [
    "# Look at the top 5 rows.\n",
    "\n",
    "cars.head()\n"
   ]
  },
  {
   "cell_type": "code",
   "execution_count": 1779,
   "metadata": {},
   "outputs": [
    {
     "data": {
      "text/plain": [
       "31"
      ]
     },
     "execution_count": 1779,
     "metadata": {},
     "output_type": "execute_result"
    }
   ],
   "source": [
    "# Find the number of unique Manufacturers.\n",
    "\n",
    "cars['Manufacture_Name'].nunique()"
   ]
  },
  {
   "cell_type": "code",
   "execution_count": 1780,
   "metadata": {},
   "outputs": [
    {
     "data": {
      "text/plain": [
       "218"
      ]
     },
     "execution_count": 1780,
     "metadata": {},
     "output_type": "execute_result"
    }
   ],
   "source": [
    "# Find the number of unique Car name\n",
    "cars['Car_Name'].nunique()"
   ]
  },
  {
   "cell_type": "markdown",
   "metadata": {},
   "source": [
    "##### DATA VISUALIZATIONS"
   ]
  },
  {
   "cell_type": "code",
   "execution_count": 1781,
   "metadata": {},
   "outputs": [
    {
     "data": {
      "text/plain": [
       "(array([0, 1, 2, 3, 4]), <a list of 5 Text xticklabel objects>)"
      ]
     },
     "execution_count": 1781,
     "metadata": {},
     "output_type": "execute_result"
    },
    {
     "data": {
      "image/png": "[encoded data removed]",
      "text/plain": [
       "<Figure size 864x576 with 1 Axes>"
      ]
     },
     "metadata": {
      "needs_background": "light"
     },
     "output_type": "display_data"
    }
   ],
   "source": [
    "# Histogram for fuel type. \n",
    "\n",
    "plt.figure(figsize = (12, 8))\n",
    "plot = sns.countplot(x = cars['Fuel_Type'], data = cars,order = cars['Fuel_Type'].value_counts(ascending=False).index)\n",
    "plt.xticks(rotation = 90)"
   ]
  },
  {
   "cell_type": "code",
   "execution_count": 1782,
   "metadata": {},
   "outputs": [
    {
     "name": "stderr",
     "output_type": "stream",
     "text": [
      "C:\\Users\\amith\\Anaconda3\\lib\\site-packages\\IPython\\core\\displayhook.py:276: UserWarning: Output cache limit (currently 1000 entries) hit.\n",
      "Flushing oldest 200 entries.\n",
      "  'Flushing oldest {cull_count} entries.'.format(sz=sz, cull_count=cull_count))\n"
     ]
    },
    {
     "data": {
      "text/plain": [
       "(array([0, 1]), <a list of 2 Text xticklabel objects>)"
      ]
     },
     "execution_count": 1782,
     "metadata": {},
     "output_type": "execute_result"
    },
    {
     "data": {
      "image/png": "[encoded data removed]",
      "text/plain": [
       "<Figure size 864x576 with 1 Axes>"
      ]
     },
     "metadata": {
      "needs_background": "light"
     },
     "output_type": "display_data"
    }
   ],
   "source": [
    "# Histogram showing different Transmission types\n",
    "\n",
    "plt.figure(figsize = (12, 8))\n",
    "plot = sns.countplot(x = cars['Transmission'], data = cars)\n",
    "plt.xticks(rotation = 90)"
   ]
  },
  {
   "cell_type": "code",
   "execution_count": 1783,
   "metadata": {},
   "outputs": [
    {
     "data": {
      "text/plain": [
       "(array([0, 1, 2, 3]), <a list of 4 Text xticklabel objects>)"
      ]
     },
     "execution_count": 1783,
     "metadata": {},
     "output_type": "execute_result"
    },
    {
     "data": {
      "image/png": "[encoded data removed]",
      "text/plain": [
       "<Figure size 864x576 with 1 Axes>"
      ]
     },
     "metadata": {
      "needs_background": "light"
     },
     "output_type": "display_data"
    }
   ],
   "source": [
    "#  Histogram showing different Owner types\n",
    "\n",
    "plt.figure(figsize = (12, 8))\n",
    "plot = sns.countplot(x = cars['Owner_Type'], data = cars, order = cars['Owner_Type'].value_counts(ascending=False).index)\n",
    "plt.xticks(rotation = 90)"
   ]
  },
  {
   "cell_type": "code",
   "execution_count": 1784,
   "metadata": {},
   "outputs": [
    {
     "data": {
      "text/plain": [
       "(array([ 0,  1,  2,  3,  4,  5,  6,  7,  8,  9, 10, 11, 12, 13, 14, 15, 16,\n",
       "        17, 18, 19, 20, 21, 22, 23, 24, 25, 26, 27, 28, 29, 30]),\n",
       " <a list of 31 Text xticklabel objects>)"
      ]
     },
     "execution_count": 1784,
     "metadata": {},
     "output_type": "execute_result"
    },
    {
     "data": {
      "image/png": "[encoded data removed]",
      "text/plain": [
       "<Figure size 864x576 with 1 Axes>"
      ]
     },
     "metadata": {
      "needs_background": "light"
     },
     "output_type": "display_data"
    }
   ],
   "source": [
    "#  Histogram showing different Manufacture Names.\n",
    "plt.figure(figsize = (12, 8))\n",
    "plot = sns.countplot(x = cars['Manufacture_Name'], data = cars, order = cars['Manufacture_Name'].value_counts(ascending=False).index)\n",
    "plt.xticks(rotation = 90)"
   ]
  },
  {
   "cell_type": "code",
   "execution_count": 1785,
   "metadata": {},
   "outputs": [
    {
     "name": "stdout",
     "output_type": "stream",
     "text": [
      "Manufacture Names:  ['Maruti' 'Hyundai' 'Honda' 'Audi' 'Nissan' 'Toyota' 'Volkswagen' 'Tata'\n",
      " 'Land-Rover' 'Mitsubishi' 'Renault' 'Mercedes-Benz' 'BMW' 'Mahindra'\n",
      " 'Ford' 'Porsche' 'Datsun' 'Jaguar' 'Volvo' 'Chevrolet' 'Skoda' 'Mini'\n",
      " 'Fiat' 'Jeep' 'Smart' 'Ambassador' 'Isuzu' 'ISUZU' 'Force' 'Bentley'\n",
      " 'Lamborghini']\n"
     ]
    }
   ],
   "source": [
    "# Unique Manufacture names.\n",
    "print(\"Manufacture Names: \" , cars['Manufacture_Name'].unique())"
   ]
  },
  {
   "cell_type": "code",
   "execution_count": 1786,
   "metadata": {},
   "outputs": [
    {
     "data": {
      "text/plain": [
       "Maruti           1211\n",
       "Hyundai          1107\n",
       "Honda             608\n",
       "Toyota            411\n",
       "Mercedes-Benz     318\n",
       "Volkswagen        315\n",
       "Ford              300\n",
       "Mahindra          272\n",
       "BMW               267\n",
       "Audi              236\n",
       "Tata              186\n",
       "Skoda             173\n",
       "Renault           145\n",
       "Chevrolet         121\n",
       "Nissan             91\n",
       "Land-Rover         60\n",
       "Jaguar             40\n",
       "Fiat               28\n",
       "Mitsubishi         27\n",
       "Mini               26\n",
       "Volvo              21\n",
       "Porsche            18\n",
       "Jeep               15\n",
       "Datsun             13\n",
       "Force               3\n",
       "ISUZU               2\n",
       "Isuzu               1\n",
       "Lamborghini         1\n",
       "Ambassador          1\n",
       "Bentley             1\n",
       "Smart               1\n",
       "Name: Manufacture_Name, dtype: int64"
      ]
     },
     "execution_count": 1786,
     "metadata": {},
     "output_type": "execute_result"
    }
   ],
   "source": [
    "cars['Manufacture_Name'].value_counts()"
   ]
  },
  {
   "cell_type": "code",
   "execution_count": 1787,
   "metadata": {},
   "outputs": [],
   "source": [
    "# Replace \"Isuzu\" with \"ISUZU\"\n",
    "\n",
    "cars['Manufacture_Name'].replace(to_replace =[\"Isuzu\"],  \n",
    "                            value =\"ISUZU\",inplace=True) "
   ]
  },
  {
   "cell_type": "code",
   "execution_count": 1788,
   "metadata": {},
   "outputs": [
    {
     "name": "stdout",
     "output_type": "stream",
     "text": [
      "Manufacture Names:  ['Maruti Wagon' 'Hyundai Creta' 'Honda Jazz' 'Maruti Ertiga' 'Audi A4'\n",
      " 'Hyundai EON' 'Nissan Micra' 'Toyota Innova' 'Volkswagen Vento'\n",
      " 'Tata Indica' 'Maruti Ciaz' 'Honda City' 'Maruti Swift'\n",
      " 'Land-Rover Range' 'Land-Rover Freelander' 'Mitsubishi Pajero'\n",
      " 'Honda Amaze' 'Renault Duster' 'Mercedes-Benz New' 'BMW 3' 'Maruti S'\n",
      " 'Audi A6' 'Hyundai i20' 'Maruti Alto' 'Honda WRV' 'Toyota Corolla'\n",
      " 'Mahindra Ssangyong' 'Maruti Vitara' 'Mahindra KUV'\n",
      " 'Mercedes-Benz M-Class' 'Volkswagen Polo' 'Tata Nano' 'Hyundai Elantra'\n",
      " 'Hyundai Xcent' 'Mahindra Thar' 'Hyundai Grand' 'Renault KWID'\n",
      " 'Hyundai i10' 'Nissan X-Trail' 'Maruti Zen' 'Ford Figo'\n",
      " 'Mercedes-Benz C-Class' 'Porsche Cayenne' 'Mahindra XUV500'\n",
      " 'Nissan Terrano' 'Honda Brio' 'Ford Fiesta' 'Hyundai Santro' 'Tata Zest'\n",
      " 'Maruti Ritz' 'BMW 5' 'Toyota Fortuner' 'Ford Ecosport' 'Hyundai Verna'\n",
      " 'Datsun GO' 'Maruti Omni' 'Toyota Etios' 'Jaguar XF' 'Maruti Eeco'\n",
      " 'Honda Civic' 'Volvo V40' 'Mercedes-Benz B' 'Mahindra Scorpio'\n",
      " 'Honda CR-V' 'Mercedes-Benz SLC' 'BMW 1' 'Chevrolet Beat' 'Skoda Rapid'\n",
      " 'Audi RS5' 'Mercedes-Benz S' 'Skoda Superb' 'BMW X5' 'Mercedes-Benz GLC'\n",
      " 'Mini Countryman' 'Chevrolet Optra' 'Renault Lodgy'\n",
      " 'Mercedes-Benz E-Class' 'Maruti Baleno' 'Skoda Laura'\n",
      " 'Mahindra NuvoSport' 'Skoda Fabia' 'Tata Indigo' 'Audi Q3'\n",
      " 'Skoda Octavia' 'Audi A8' 'Mahindra Verito' 'Mini Cooper' 'Hyundai Santa'\n",
      " 'BMW X1' 'Hyundai Accent' 'Hyundai Tucson' 'Mercedes-Benz GLE'\n",
      " 'Maruti A-Star' 'Fiat Grande' 'BMW X3' 'Ford EcoSport' 'Audi Q7'\n",
      " 'Volkswagen Jetta' 'Mercedes-Benz GLA' 'Maruti Celerio' 'Tata Sumo'\n",
      " 'Honda Accord' 'BMW 6' 'Tata Manza' 'Chevrolet Spark' 'Mini Clubman'\n",
      " 'Nissan Teana' 'Maruti 800' 'Honda BRV' 'Jaguar XE' 'Tata Xenon'\n",
      " 'Audi A3' 'Mercedes-Benz GL-Class' 'Honda BR-V' 'Volvo S80'\n",
      " 'Renault Captur' 'Chevrolet Enjoy' 'Mahindra Bolero' 'Audi Q5'\n",
      " 'Mitsubishi Cedia' 'Maruti S-Cross' 'Skoda Yeti' 'Ford Endeavour'\n",
      " 'Mercedes-Benz GLS' 'Mercedes-Benz A' 'Maruti SX4' 'Toyota Camry'\n",
      " 'Honda Mobilio' 'Fiat Linea' 'Audi TT' 'Mahindra Renault' 'Jeep Compass'\n",
      " 'Ford Ikon' 'Chevrolet Sail' 'Mahindra Quanto' 'Chevrolet Aveo'\n",
      " 'Mahindra Xylo' 'Maruti Esteem' 'Tata Safari' 'Maruti Ignis' 'Jaguar XJ'\n",
      " 'Nissan Sunny' 'Mercedes-Benz SLK-Class' 'Volkswagen Passat'\n",
      " 'Maruti Dzire' 'Chevrolet Cruze' 'Renault Koleos' 'Toyota Qualis'\n",
      " 'Volkswagen Ameo' 'Maruti Grand' 'Datsun redi-GO' 'Smart Fortwo'\n",
      " 'Mitsubishi Outlander' 'Porsche Cayman' 'Mercedes-Benz CLA' 'Volvo XC60'\n",
      " 'Tata New' 'Porsche Boxster' 'Mahindra XUV300' 'Tata Hexa' 'Tata Tiago'\n",
      " 'BMW 7' 'Fiat Avventura' 'Tata Tigor' 'Volvo S60' 'Ambassador Classic'\n",
      " 'Land-Rover Discovery' 'Volkswagen Beetle' 'Fiat Petra' 'Hyundai Getz'\n",
      " 'Audi A7' 'Hyundai Elite' 'Ford Aspire' 'Volkswagen Tiguan'\n",
      " 'Chevrolet Captiva' 'Fiat Punto' 'Mahindra TUV' 'BMW X6' 'Tata Bolt'\n",
      " 'Nissan Evalia' 'Renault Scala' 'Mahindra Jeep' 'Hyundai Sonata'\n",
      " 'Ford Freestyle' 'Mahindra Logan' 'Chevrolet Tavera' 'Maruti Estilo'\n",
      " 'Volvo XC90' 'Renault Pulse' 'Mitsubishi Montero' 'Porsche Panamera'\n",
      " 'Volkswagen CrossPolo' 'Renault Fluence' 'Tata Venture' 'Tata Nexon'\n",
      " 'Isuzu MUX' 'Toyota Platinum' 'Mercedes-Benz R-Class'\n",
      " 'Mercedes-Benz CLS-Class' 'ISUZU D-MAX' 'Mercedes-Benz S-Class'\n",
      " 'Mitsubishi Lancer' 'Ford Classic' 'Datsun Redi' 'Mahindra E'\n",
      " 'Ford Mustang' 'Ford Fusion' 'Fiat Siena' 'Maruti 1000'\n",
      " 'Mercedes-Benz SL-Class' 'BMW Z4' 'Toyota Prius' 'Force One'\n",
      " 'Maruti Versa' 'Honda WR-V' 'Bentley Continental' 'Lamborghini Gallardo'\n",
      " 'Jaguar F']\n"
     ]
    }
   ],
   "source": [
    "# Print out the Values.\n",
    "\n",
    "print(\"Manufacture Names: \" , cars['Car_Name'].unique())"
   ]
  },
  {
   "cell_type": "code",
   "execution_count": 1789,
   "metadata": {},
   "outputs": [
    {
     "name": "stdout",
     "output_type": "stream",
     "text": [
      " Count of Unique Manufacture Names:  30\n"
     ]
    }
   ],
   "source": [
    "# Count of Unique Manufacture names.\n",
    "print(\" Count of Unique Manufacture Names: \" , cars['Manufacture_Name'].nunique())"
   ]
  },
  {
   "cell_type": "code",
   "execution_count": 1790,
   "metadata": {},
   "outputs": [
    {
     "data": {
      "text/plain": [
       "Maruti           1211\n",
       "Hyundai          1107\n",
       "Honda             608\n",
       "Toyota            411\n",
       "Mercedes-Benz     318\n",
       "Volkswagen        315\n",
       "Ford              300\n",
       "Mahindra          272\n",
       "BMW               267\n",
       "Audi              236\n",
       "Tata              186\n",
       "Skoda             173\n",
       "Renault           145\n",
       "Chevrolet         121\n",
       "Nissan             91\n",
       "Land-Rover         60\n",
       "Jaguar             40\n",
       "Fiat               28\n",
       "Mitsubishi         27\n",
       "Mini               26\n",
       "Volvo              21\n",
       "Porsche            18\n",
       "Jeep               15\n",
       "Datsun             13\n",
       "ISUZU               3\n",
       "Force               3\n",
       "Lamborghini         1\n",
       "Ambassador          1\n",
       "Bentley             1\n",
       "Smart               1\n",
       "Name: Manufacture_Name, dtype: int64"
      ]
     },
     "execution_count": 1790,
     "metadata": {},
     "output_type": "execute_result"
    }
   ],
   "source": [
    "cars['Manufacture_Name'].value_counts()"
   ]
  },
  {
   "cell_type": "code",
   "execution_count": 1791,
   "metadata": {},
   "outputs": [],
   "source": [
    "cars['Car_Name']=cars['Manufacture_Name'].str.cat(Nam[1],sep=' ')"
   ]
  },
  {
   "cell_type": "code",
   "execution_count": 1792,
   "metadata": {},
   "outputs": [
    {
     "data": {
      "text/html": [
       "<div>\n",
       "<style scoped>\n",
       "    .dataframe tbody tr th:only-of-type {\n",
       "        vertical-align: middle;\n",
       "    }\n",
       "\n",
       "    .dataframe tbody tr th {\n",
       "        vertical-align: top;\n",
       "    }\n",
       "\n",
       "    .dataframe thead th {\n",
       "        text-align: right;\n",
       "    }\n",
       "</style>\n",
       "<table border=\"1\" class=\"dataframe\">\n",
       "  <thead>\n",
       "    <tr style=\"text-align: right;\">\n",
       "      <th></th>\n",
       "      <th>Name</th>\n",
       "      <th>Location</th>\n",
       "      <th>Year</th>\n",
       "      <th>Kilometers_Driven</th>\n",
       "      <th>Fuel_Type</th>\n",
       "      <th>Transmission</th>\n",
       "      <th>Owner_Type</th>\n",
       "      <th>Mileage</th>\n",
       "      <th>Engine</th>\n",
       "      <th>Power</th>\n",
       "      <th>Seats</th>\n",
       "      <th>Price</th>\n",
       "      <th>No_of_Years</th>\n",
       "      <th>Manufacture_Name</th>\n",
       "      <th>Car_Name</th>\n",
       "    </tr>\n",
       "  </thead>\n",
       "  <tbody>\n",
       "    <tr>\n",
       "      <td>0</td>\n",
       "      <td>Maruti Wagon R LXI CNG</td>\n",
       "      <td>Mumbai</td>\n",
       "      <td>2010</td>\n",
       "      <td>72000</td>\n",
       "      <td>CNG</td>\n",
       "      <td>Manual</td>\n",
       "      <td>First</td>\n",
       "      <td>26.60</td>\n",
       "      <td>998.0</td>\n",
       "      <td>58.16</td>\n",
       "      <td>5.0</td>\n",
       "      <td>3192.88</td>\n",
       "      <td>10</td>\n",
       "      <td>Maruti</td>\n",
       "      <td>Maruti Wagon</td>\n",
       "    </tr>\n",
       "    <tr>\n",
       "      <td>1</td>\n",
       "      <td>Hyundai Creta 1.6 CRDi SX Option</td>\n",
       "      <td>Pune</td>\n",
       "      <td>2015</td>\n",
       "      <td>41000</td>\n",
       "      <td>Diesel</td>\n",
       "      <td>Manual</td>\n",
       "      <td>First</td>\n",
       "      <td>19.67</td>\n",
       "      <td>1582.0</td>\n",
       "      <td>126.20</td>\n",
       "      <td>5.0</td>\n",
       "      <td>22806.30</td>\n",
       "      <td>5</td>\n",
       "      <td>Hyundai</td>\n",
       "      <td>Hyundai Creta</td>\n",
       "    </tr>\n",
       "    <tr>\n",
       "      <td>2</td>\n",
       "      <td>Honda Jazz V</td>\n",
       "      <td>Chennai</td>\n",
       "      <td>2011</td>\n",
       "      <td>46000</td>\n",
       "      <td>Petrol</td>\n",
       "      <td>Manual</td>\n",
       "      <td>First</td>\n",
       "      <td>18.20</td>\n",
       "      <td>1199.0</td>\n",
       "      <td>88.70</td>\n",
       "      <td>5.0</td>\n",
       "      <td>8210.27</td>\n",
       "      <td>9</td>\n",
       "      <td>Honda</td>\n",
       "      <td>Honda Jazz</td>\n",
       "    </tr>\n",
       "    <tr>\n",
       "      <td>3</td>\n",
       "      <td>Maruti Ertiga VDI</td>\n",
       "      <td>Chennai</td>\n",
       "      <td>2012</td>\n",
       "      <td>87000</td>\n",
       "      <td>Diesel</td>\n",
       "      <td>Manual</td>\n",
       "      <td>First</td>\n",
       "      <td>20.77</td>\n",
       "      <td>1248.0</td>\n",
       "      <td>88.76</td>\n",
       "      <td>7.0</td>\n",
       "      <td>10947.02</td>\n",
       "      <td>8</td>\n",
       "      <td>Maruti</td>\n",
       "      <td>Maruti Ertiga</td>\n",
       "    </tr>\n",
       "    <tr>\n",
       "      <td>4</td>\n",
       "      <td>Audi A4 New 2.0 TDI Multitronic</td>\n",
       "      <td>Coimbatore</td>\n",
       "      <td>2013</td>\n",
       "      <td>40670</td>\n",
       "      <td>Diesel</td>\n",
       "      <td>Automatic</td>\n",
       "      <td>Second</td>\n",
       "      <td>15.20</td>\n",
       "      <td>1968.0</td>\n",
       "      <td>140.80</td>\n",
       "      <td>5.0</td>\n",
       "      <td>32366.70</td>\n",
       "      <td>7</td>\n",
       "      <td>Audi</td>\n",
       "      <td>Audi A4</td>\n",
       "    </tr>\n",
       "  </tbody>\n",
       "</table>\n",
       "</div>"
      ],
      "text/plain": [
       "                               Name    Location  Year  Kilometers_Driven  \\\n",
       "0            Maruti Wagon R LXI CNG      Mumbai  2010              72000   \n",
       "1  Hyundai Creta 1.6 CRDi SX Option        Pune  2015              41000   \n",
       "2                      Honda Jazz V     Chennai  2011              46000   \n",
       "3                 Maruti Ertiga VDI     Chennai  2012              87000   \n",
       "4   Audi A4 New 2.0 TDI Multitronic  Coimbatore  2013              40670   \n",
       "\n",
       "  Fuel_Type Transmission Owner_Type  Mileage  Engine   Power  Seats     Price  \\\n",
       "0       CNG       Manual      First    26.60   998.0   58.16    5.0   3192.88   \n",
       "1    Diesel       Manual      First    19.67  1582.0  126.20    5.0  22806.30   \n",
       "2    Petrol       Manual      First    18.20  1199.0   88.70    5.0   8210.27   \n",
       "3    Diesel       Manual      First    20.77  1248.0   88.76    7.0  10947.02   \n",
       "4    Diesel    Automatic     Second    15.20  1968.0  140.80    5.0  32366.70   \n",
       "\n",
       "   No_of_Years Manufacture_Name       Car_Name  \n",
       "0           10           Maruti   Maruti Wagon  \n",
       "1            5          Hyundai  Hyundai Creta  \n",
       "2            9            Honda     Honda Jazz  \n",
       "3            8           Maruti  Maruti Ertiga  \n",
       "4            7             Audi        Audi A4  "
      ]
     },
     "execution_count": 1792,
     "metadata": {},
     "output_type": "execute_result"
    }
   ],
   "source": [
    "cars.head()"
   ]
  },
  {
   "cell_type": "code",
   "execution_count": 1793,
   "metadata": {},
   "outputs": [
    {
     "name": "stdout",
     "output_type": "stream",
     "text": [
      " Count of Unique Car Names:  218\n"
     ]
    }
   ],
   "source": [
    "# Count of Unique Car names.\n",
    "print(\" Count of Unique Car Names: \" , cars['Car_Name'].nunique())"
   ]
  },
  {
   "cell_type": "code",
   "execution_count": 1794,
   "metadata": {},
   "outputs": [
    {
     "data": {
      "text/plain": [
       "(array([ 0,  1,  2,  3,  4,  5,  6,  7,  8,  9, 10, 11, 12, 13, 14, 15, 16,\n",
       "        17, 18, 19, 20, 21, 22, 23, 24, 25, 26, 27, 28, 29]),\n",
       " <a list of 30 Text xticklabel objects>)"
      ]
     },
     "execution_count": 1794,
     "metadata": {},
     "output_type": "execute_result"
    },
    {
     "data": {
      "image/png": "[encoded data removed]",
      "text/plain": [
       "<Figure size 864x576 with 1 Axes>"
      ]
     },
     "metadata": {
      "needs_background": "light"
     },
     "output_type": "display_data"
    }
   ],
   "source": [
    "#  Histogram showing different Manufacture Names\n",
    "plt.figure(figsize = (12, 8))\n",
    "plot = sns.countplot(x = cars['Manufacture_Name'], data = cars, order = cars['Manufacture_Name'].value_counts().index)\n",
    "plt.xticks(rotation = 90)"
   ]
  },
  {
   "cell_type": "code",
   "execution_count": 1795,
   "metadata": {},
   "outputs": [
    {
     "name": "stdout",
     "output_type": "stream",
     "text": [
      "count      6019.000000\n",
      "mean      17295.327868\n",
      "std       20412.399578\n",
      "min         802.780000\n",
      "25%        6385.760000\n",
      "50%       10290.200000\n",
      "75%       18153.810000\n",
      "80%       22806.300000\n",
      "90%       41051.340000\n",
      "100%     291920.640000\n",
      "max      291920.640000\n",
      "Name: Price, dtype: float64\n"
     ]
    }
   ],
   "source": [
    "# Description about the Price Column\n",
    "print(cars['Price'].describe(percentiles = [0.25,0.50,0.75,0.80,0.90,1]))"
   ]
  },
  {
   "cell_type": "code",
   "execution_count": 1796,
   "metadata": {},
   "outputs": [
    {
     "data": {
      "text/plain": [
       "<matplotlib.axes._subplots.AxesSubplot at 0x105e29f67c8>"
      ]
     },
     "execution_count": 1796,
     "metadata": {},
     "output_type": "execute_result"
    },
    {
     "data": {
      "image/png": "[encoded data removed]",
      "text/plain": [
       "<Figure size 1440x720 with 1 Axes>"
      ]
     },
     "metadata": {
      "needs_background": "light"
     },
     "output_type": "display_data"
    }
   ],
   "source": [
    "# Box Plot For Price feature\n",
    "plt.figure(figsize=(20,10))\n",
    "plt.ylim()\n",
    "sns.boxplot(y=cars['Price'])"
   ]
  },
  {
   "cell_type": "code",
   "execution_count": 1797,
   "metadata": {},
   "outputs": [
    {
     "data": {
      "text/plain": [
       "<matplotlib.axes._subplots.AxesSubplot at 0x105cfd007c8>"
      ]
     },
     "execution_count": 1797,
     "metadata": {},
     "output_type": "execute_result"
    },
    {
     "data": {
      "image/png": "[encoded data removed]",
      "text/plain": [
       "<Figure size 1440x720 with 1 Axes>"
      ]
     },
     "metadata": {
      "needs_background": "light"
     },
     "output_type": "display_data"
    }
   ],
   "source": [
    "# Box Plot For Price feature with y axis range 0 to 100000\n",
    "plt.figure(figsize=(20,10))\n",
    "plt.ylim(0,100000)\n",
    "sns.boxplot(y=cars['Price'])"
   ]
  },
  {
   "cell_type": "code",
   "execution_count": 1798,
   "metadata": {},
   "outputs": [
    {
     "data": {
      "text/html": [
       "<div>\n",
       "<style scoped>\n",
       "    .dataframe tbody tr th:only-of-type {\n",
       "        vertical-align: middle;\n",
       "    }\n",
       "\n",
       "    .dataframe tbody tr th {\n",
       "        vertical-align: top;\n",
       "    }\n",
       "\n",
       "    .dataframe thead th {\n",
       "        text-align: right;\n",
       "    }\n",
       "</style>\n",
       "<table border=\"1\" class=\"dataframe\">\n",
       "  <thead>\n",
       "    <tr style=\"text-align: right;\">\n",
       "      <th></th>\n",
       "      <th>Name</th>\n",
       "      <th>Location</th>\n",
       "      <th>Year</th>\n",
       "      <th>Kilometers_Driven</th>\n",
       "      <th>Fuel_Type</th>\n",
       "      <th>Transmission</th>\n",
       "      <th>Owner_Type</th>\n",
       "      <th>Mileage</th>\n",
       "      <th>Engine</th>\n",
       "      <th>Power</th>\n",
       "      <th>Seats</th>\n",
       "      <th>Price</th>\n",
       "      <th>No_of_Years</th>\n",
       "      <th>Manufacture_Name</th>\n",
       "      <th>Car_Name</th>\n",
       "    </tr>\n",
       "  </thead>\n",
       "  <tbody>\n",
       "    <tr>\n",
       "      <td>0</td>\n",
       "      <td>Maruti Wagon R LXI CNG</td>\n",
       "      <td>Mumbai</td>\n",
       "      <td>2010</td>\n",
       "      <td>72000</td>\n",
       "      <td>CNG</td>\n",
       "      <td>Manual</td>\n",
       "      <td>First</td>\n",
       "      <td>26.60</td>\n",
       "      <td>998.0</td>\n",
       "      <td>58.16</td>\n",
       "      <td>5.0</td>\n",
       "      <td>3192.88</td>\n",
       "      <td>10</td>\n",
       "      <td>Maruti</td>\n",
       "      <td>Maruti Wagon</td>\n",
       "    </tr>\n",
       "    <tr>\n",
       "      <td>1</td>\n",
       "      <td>Hyundai Creta 1.6 CRDi SX Option</td>\n",
       "      <td>Pune</td>\n",
       "      <td>2015</td>\n",
       "      <td>41000</td>\n",
       "      <td>Diesel</td>\n",
       "      <td>Manual</td>\n",
       "      <td>First</td>\n",
       "      <td>19.67</td>\n",
       "      <td>1582.0</td>\n",
       "      <td>126.20</td>\n",
       "      <td>5.0</td>\n",
       "      <td>22806.30</td>\n",
       "      <td>5</td>\n",
       "      <td>Hyundai</td>\n",
       "      <td>Hyundai Creta</td>\n",
       "    </tr>\n",
       "    <tr>\n",
       "      <td>2</td>\n",
       "      <td>Honda Jazz V</td>\n",
       "      <td>Chennai</td>\n",
       "      <td>2011</td>\n",
       "      <td>46000</td>\n",
       "      <td>Petrol</td>\n",
       "      <td>Manual</td>\n",
       "      <td>First</td>\n",
       "      <td>18.20</td>\n",
       "      <td>1199.0</td>\n",
       "      <td>88.70</td>\n",
       "      <td>5.0</td>\n",
       "      <td>8210.27</td>\n",
       "      <td>9</td>\n",
       "      <td>Honda</td>\n",
       "      <td>Honda Jazz</td>\n",
       "    </tr>\n",
       "    <tr>\n",
       "      <td>3</td>\n",
       "      <td>Maruti Ertiga VDI</td>\n",
       "      <td>Chennai</td>\n",
       "      <td>2012</td>\n",
       "      <td>87000</td>\n",
       "      <td>Diesel</td>\n",
       "      <td>Manual</td>\n",
       "      <td>First</td>\n",
       "      <td>20.77</td>\n",
       "      <td>1248.0</td>\n",
       "      <td>88.76</td>\n",
       "      <td>7.0</td>\n",
       "      <td>10947.02</td>\n",
       "      <td>8</td>\n",
       "      <td>Maruti</td>\n",
       "      <td>Maruti Ertiga</td>\n",
       "    </tr>\n",
       "    <tr>\n",
       "      <td>4</td>\n",
       "      <td>Audi A4 New 2.0 TDI Multitronic</td>\n",
       "      <td>Coimbatore</td>\n",
       "      <td>2013</td>\n",
       "      <td>40670</td>\n",
       "      <td>Diesel</td>\n",
       "      <td>Automatic</td>\n",
       "      <td>Second</td>\n",
       "      <td>15.20</td>\n",
       "      <td>1968.0</td>\n",
       "      <td>140.80</td>\n",
       "      <td>5.0</td>\n",
       "      <td>32366.70</td>\n",
       "      <td>7</td>\n",
       "      <td>Audi</td>\n",
       "      <td>Audi A4</td>\n",
       "    </tr>\n",
       "  </tbody>\n",
       "</table>\n",
       "</div>"
      ],
      "text/plain": [
       "                               Name    Location  Year  Kilometers_Driven  \\\n",
       "0            Maruti Wagon R LXI CNG      Mumbai  2010              72000   \n",
       "1  Hyundai Creta 1.6 CRDi SX Option        Pune  2015              41000   \n",
       "2                      Honda Jazz V     Chennai  2011              46000   \n",
       "3                 Maruti Ertiga VDI     Chennai  2012              87000   \n",
       "4   Audi A4 New 2.0 TDI Multitronic  Coimbatore  2013              40670   \n",
       "\n",
       "  Fuel_Type Transmission Owner_Type  Mileage  Engine   Power  Seats     Price  \\\n",
       "0       CNG       Manual      First    26.60   998.0   58.16    5.0   3192.88   \n",
       "1    Diesel       Manual      First    19.67  1582.0  126.20    5.0  22806.30   \n",
       "2    Petrol       Manual      First    18.20  1199.0   88.70    5.0   8210.27   \n",
       "3    Diesel       Manual      First    20.77  1248.0   88.76    7.0  10947.02   \n",
       "4    Diesel    Automatic     Second    15.20  1968.0  140.80    5.0  32366.70   \n",
       "\n",
       "   No_of_Years Manufacture_Name       Car_Name  \n",
       "0           10           Maruti   Maruti Wagon  \n",
       "1            5          Hyundai  Hyundai Creta  \n",
       "2            9            Honda     Honda Jazz  \n",
       "3            8           Maruti  Maruti Ertiga  \n",
       "4            7             Audi        Audi A4  "
      ]
     },
     "execution_count": 1798,
     "metadata": {},
     "output_type": "execute_result"
    }
   ],
   "source": [
    "# Look at the top 5 rows\n",
    "cars.head()"
   ]
  },
  {
   "cell_type": "code",
   "execution_count": 1799,
   "metadata": {},
   "outputs": [
    {
     "data": {
      "image/png": "[encoded data removed]",
      "text/plain": [
       "<Figure size 2160x1800 with 2 Axes>"
      ]
     },
     "metadata": {
      "needs_background": "light"
     },
     "output_type": "display_data"
    }
   ],
   "source": [
    "# Correlation Heat map\n",
    "plt.figure(figsize = (30, 25))\n",
    "sns.heatmap(cars.corr(), annot = True, cmap=\"YlGnBu\")\n",
    "plt.show()"
   ]
  },
  {
   "cell_type": "code",
   "execution_count": 1800,
   "metadata": {},
   "outputs": [
    {
     "data": {
      "text/html": [
       "<div>\n",
       "<style scoped>\n",
       "    .dataframe tbody tr th:only-of-type {\n",
       "        vertical-align: middle;\n",
       "    }\n",
       "\n",
       "    .dataframe tbody tr th {\n",
       "        vertical-align: top;\n",
       "    }\n",
       "\n",
       "    .dataframe thead th {\n",
       "        text-align: right;\n",
       "    }\n",
       "</style>\n",
       "<table border=\"1\" class=\"dataframe\">\n",
       "  <thead>\n",
       "    <tr style=\"text-align: right;\">\n",
       "      <th></th>\n",
       "      <th>Year</th>\n",
       "      <th>Kilometers_Driven</th>\n",
       "      <th>Mileage</th>\n",
       "      <th>Engine</th>\n",
       "      <th>Power</th>\n",
       "      <th>Seats</th>\n",
       "      <th>Price</th>\n",
       "      <th>No_of_Years</th>\n",
       "    </tr>\n",
       "  </thead>\n",
       "  <tbody>\n",
       "    <tr>\n",
       "      <td>Year</td>\n",
       "      <td>1.000000</td>\n",
       "      <td>-0.173048</td>\n",
       "      <td>0.321534</td>\n",
       "      <td>-0.051712</td>\n",
       "      <td>0.013895</td>\n",
       "      <td>0.012204</td>\n",
       "      <td>0.305327</td>\n",
       "      <td>-1.000000</td>\n",
       "    </tr>\n",
       "    <tr>\n",
       "      <td>Kilometers_Driven</td>\n",
       "      <td>-0.173048</td>\n",
       "      <td>1.000000</td>\n",
       "      <td>-0.065253</td>\n",
       "      <td>0.091029</td>\n",
       "      <td>0.033419</td>\n",
       "      <td>0.083072</td>\n",
       "      <td>-0.011493</td>\n",
       "      <td>0.173048</td>\n",
       "    </tr>\n",
       "    <tr>\n",
       "      <td>Mileage</td>\n",
       "      <td>0.321534</td>\n",
       "      <td>-0.065253</td>\n",
       "      <td>1.000000</td>\n",
       "      <td>-0.588354</td>\n",
       "      <td>-0.506801</td>\n",
       "      <td>-0.303086</td>\n",
       "      <td>-0.306588</td>\n",
       "      <td>-0.321534</td>\n",
       "    </tr>\n",
       "    <tr>\n",
       "      <td>Engine</td>\n",
       "      <td>-0.051712</td>\n",
       "      <td>0.091029</td>\n",
       "      <td>-0.588354</td>\n",
       "      <td>1.000000</td>\n",
       "      <td>0.859020</td>\n",
       "      <td>0.393087</td>\n",
       "      <td>0.657118</td>\n",
       "      <td>0.051712</td>\n",
       "    </tr>\n",
       "    <tr>\n",
       "      <td>Power</td>\n",
       "      <td>0.013895</td>\n",
       "      <td>0.033419</td>\n",
       "      <td>-0.506801</td>\n",
       "      <td>0.859020</td>\n",
       "      <td>1.000000</td>\n",
       "      <td>0.100200</td>\n",
       "      <td>0.767331</td>\n",
       "      <td>-0.013895</td>\n",
       "    </tr>\n",
       "    <tr>\n",
       "      <td>Seats</td>\n",
       "      <td>0.012204</td>\n",
       "      <td>0.083072</td>\n",
       "      <td>-0.303086</td>\n",
       "      <td>0.393087</td>\n",
       "      <td>0.100200</td>\n",
       "      <td>1.000000</td>\n",
       "      <td>0.052118</td>\n",
       "      <td>-0.012204</td>\n",
       "    </tr>\n",
       "    <tr>\n",
       "      <td>Price</td>\n",
       "      <td>0.305327</td>\n",
       "      <td>-0.011493</td>\n",
       "      <td>-0.306588</td>\n",
       "      <td>0.657118</td>\n",
       "      <td>0.767331</td>\n",
       "      <td>0.052118</td>\n",
       "      <td>1.000000</td>\n",
       "      <td>-0.305327</td>\n",
       "    </tr>\n",
       "    <tr>\n",
       "      <td>No_of_Years</td>\n",
       "      <td>-1.000000</td>\n",
       "      <td>0.173048</td>\n",
       "      <td>-0.321534</td>\n",
       "      <td>0.051712</td>\n",
       "      <td>-0.013895</td>\n",
       "      <td>-0.012204</td>\n",
       "      <td>-0.305327</td>\n",
       "      <td>1.000000</td>\n",
       "    </tr>\n",
       "  </tbody>\n",
       "</table>\n",
       "</div>"
      ],
      "text/plain": [
       "                       Year  Kilometers_Driven   Mileage    Engine     Power  \\\n",
       "Year               1.000000          -0.173048  0.321534 -0.051712  0.013895   \n",
       "Kilometers_Driven -0.173048           1.000000 -0.065253  0.091029  0.033419   \n",
       "Mileage            0.321534          -0.065253  1.000000 -0.588354 -0.506801   \n",
       "Engine            -0.051712           0.091029 -0.588354  1.000000  0.859020   \n",
       "Power              0.013895           0.033419 -0.506801  0.859020  1.000000   \n",
       "Seats              0.012204           0.083072 -0.303086  0.393087  0.100200   \n",
       "Price              0.305327          -0.011493 -0.306588  0.657118  0.767331   \n",
       "No_of_Years       -1.000000           0.173048 -0.321534  0.051712 -0.013895   \n",
       "\n",
       "                      Seats     Price  No_of_Years  \n",
       "Year               0.012204  0.305327    -1.000000  \n",
       "Kilometers_Driven  0.083072 -0.011493     0.173048  \n",
       "Mileage           -0.303086 -0.306588    -0.321534  \n",
       "Engine             0.393087  0.657118     0.051712  \n",
       "Power              0.100200  0.767331    -0.013895  \n",
       "Seats              1.000000  0.052118    -0.012204  \n",
       "Price              0.052118  1.000000    -0.305327  \n",
       "No_of_Years       -0.012204 -0.305327     1.000000  "
      ]
     },
     "execution_count": 1800,
     "metadata": {},
     "output_type": "execute_result"
    }
   ],
   "source": [
    "# Correlation values.\n",
    "cars.corr()"
   ]
  },
  {
   "cell_type": "code",
   "execution_count": 1801,
   "metadata": {},
   "outputs": [
    {
     "data": {
      "text/plain": [
       "Price                1.000000\n",
       "Power                0.767331\n",
       "Engine               0.657118\n",
       "Mileage              0.306588\n",
       "No_of_Years          0.305327\n",
       "Year                 0.305327\n",
       "Seats                0.052118\n",
       "Kilometers_Driven    0.011493\n",
       "Name: Price, dtype: float64"
      ]
     },
     "execution_count": 1801,
     "metadata": {},
     "output_type": "execute_result"
    }
   ],
   "source": [
    "# Showing the features that best correlates to the price column.\n",
    "cars.corr().loc[:,'Price'].abs().sort_values(ascending=False)"
   ]
  },
  {
   "cell_type": "code",
   "execution_count": 1802,
   "metadata": {},
   "outputs": [],
   "source": [
    "# Drop columns which are of least importance.\n",
    "cars_new = cars.drop(['Name','Location','Year','Manufacture_Name'],axis=1)"
   ]
  },
  {
   "cell_type": "code",
   "execution_count": 1803,
   "metadata": {},
   "outputs": [
    {
     "data": {
      "text/plain": [
       "(6019, 11)"
      ]
     },
     "execution_count": 1803,
     "metadata": {},
     "output_type": "execute_result"
    }
   ],
   "source": [
    "cars_new.shape"
   ]
  },
  {
   "cell_type": "code",
   "execution_count": 1804,
   "metadata": {},
   "outputs": [],
   "source": [
    "# Convert the categorical values into dummies using the get_dummies function  \n",
    "df=pd.get_dummies(cars_new['Fuel_Type'])\n",
    "cars_new=pd.concat([cars_new,df.iloc[:,:-1]],axis=1)\n",
    "cars_new.drop(['Fuel_Type'],axis=1,inplace=True)\n",
    "df=pd.get_dummies(cars_new['Transmission'])\n",
    "cars_new=pd.concat([cars_new,df.iloc[:,:-1]],axis=1)\n",
    "cars_new.drop(['Transmission'],axis=1,inplace=True)\n",
    "df=pd.get_dummies(cars_new['Owner_Type'])\n",
    "cars_new=pd.concat([cars_new,df.iloc[:,:-1]],axis=1)\n",
    "cars_new.drop(['Owner_Type'],axis=1,inplace=True)\n",
    "df=pd.get_dummies(cars_new['Car_Name'])\n",
    "cars_new=pd.concat([cars_new,df.iloc[:,:-1]],axis=1)\n",
    "cars_new.drop(['Car_Name'],axis=1,inplace=True)"
   ]
  },
  {
   "cell_type": "code",
   "execution_count": 1805,
   "metadata": {},
   "outputs": [
    {
     "data": {
      "text/plain": [
       "(6019, 232)"
      ]
     },
     "execution_count": 1805,
     "metadata": {},
     "output_type": "execute_result"
    }
   ],
   "source": [
    "cars_new.shape"
   ]
  },
  {
   "cell_type": "markdown",
   "metadata": {},
   "source": [
    "# Model Building \n"
   ]
  },
  {
   "cell_type": "code",
   "execution_count": 1806,
   "metadata": {},
   "outputs": [
    {
     "data": {
      "text/html": [
       "<div>\n",
       "<style scoped>\n",
       "    .dataframe tbody tr th:only-of-type {\n",
       "        vertical-align: middle;\n",
       "    }\n",
       "\n",
       "    .dataframe tbody tr th {\n",
       "        vertical-align: top;\n",
       "    }\n",
       "\n",
       "    .dataframe thead th {\n",
       "        text-align: right;\n",
       "    }\n",
       "</style>\n",
       "<table border=\"1\" class=\"dataframe\">\n",
       "  <thead>\n",
       "    <tr style=\"text-align: right;\">\n",
       "      <th></th>\n",
       "      <th>Kilometers_Driven</th>\n",
       "      <th>Mileage</th>\n",
       "      <th>Engine</th>\n",
       "      <th>Power</th>\n",
       "      <th>Seats</th>\n",
       "      <th>Price</th>\n",
       "      <th>No_of_Years</th>\n",
       "      <th>CNG</th>\n",
       "      <th>Diesel</th>\n",
       "      <th>Electric</th>\n",
       "      <th>...</th>\n",
       "      <th>Volkswagen CrossPolo</th>\n",
       "      <th>Volkswagen Jetta</th>\n",
       "      <th>Volkswagen Passat</th>\n",
       "      <th>Volkswagen Polo</th>\n",
       "      <th>Volkswagen Tiguan</th>\n",
       "      <th>Volkswagen Vento</th>\n",
       "      <th>Volvo S60</th>\n",
       "      <th>Volvo S80</th>\n",
       "      <th>Volvo V40</th>\n",
       "      <th>Volvo XC60</th>\n",
       "    </tr>\n",
       "  </thead>\n",
       "  <tbody>\n",
       "    <tr>\n",
       "      <td>0</td>\n",
       "      <td>72000</td>\n",
       "      <td>26.60</td>\n",
       "      <td>998.0</td>\n",
       "      <td>58.16</td>\n",
       "      <td>5.0</td>\n",
       "      <td>3192.88</td>\n",
       "      <td>10</td>\n",
       "      <td>1</td>\n",
       "      <td>0</td>\n",
       "      <td>0</td>\n",
       "      <td>...</td>\n",
       "      <td>0</td>\n",
       "      <td>0</td>\n",
       "      <td>0</td>\n",
       "      <td>0</td>\n",
       "      <td>0</td>\n",
       "      <td>0</td>\n",
       "      <td>0</td>\n",
       "      <td>0</td>\n",
       "      <td>0</td>\n",
       "      <td>0</td>\n",
       "    </tr>\n",
       "    <tr>\n",
       "      <td>1</td>\n",
       "      <td>41000</td>\n",
       "      <td>19.67</td>\n",
       "      <td>1582.0</td>\n",
       "      <td>126.20</td>\n",
       "      <td>5.0</td>\n",
       "      <td>22806.30</td>\n",
       "      <td>5</td>\n",
       "      <td>0</td>\n",
       "      <td>1</td>\n",
       "      <td>0</td>\n",
       "      <td>...</td>\n",
       "      <td>0</td>\n",
       "      <td>0</td>\n",
       "      <td>0</td>\n",
       "      <td>0</td>\n",
       "      <td>0</td>\n",
       "      <td>0</td>\n",
       "      <td>0</td>\n",
       "      <td>0</td>\n",
       "      <td>0</td>\n",
       "      <td>0</td>\n",
       "    </tr>\n",
       "    <tr>\n",
       "      <td>2</td>\n",
       "      <td>46000</td>\n",
       "      <td>18.20</td>\n",
       "      <td>1199.0</td>\n",
       "      <td>88.70</td>\n",
       "      <td>5.0</td>\n",
       "      <td>8210.27</td>\n",
       "      <td>9</td>\n",
       "      <td>0</td>\n",
       "      <td>0</td>\n",
       "      <td>0</td>\n",
       "      <td>...</td>\n",
       "      <td>0</td>\n",
       "      <td>0</td>\n",
       "      <td>0</td>\n",
       "      <td>0</td>\n",
       "      <td>0</td>\n",
       "      <td>0</td>\n",
       "      <td>0</td>\n",
       "      <td>0</td>\n",
       "      <td>0</td>\n",
       "      <td>0</td>\n",
       "    </tr>\n",
       "    <tr>\n",
       "      <td>3</td>\n",
       "      <td>87000</td>\n",
       "      <td>20.77</td>\n",
       "      <td>1248.0</td>\n",
       "      <td>88.76</td>\n",
       "      <td>7.0</td>\n",
       "      <td>10947.02</td>\n",
       "      <td>8</td>\n",
       "      <td>0</td>\n",
       "      <td>1</td>\n",
       "      <td>0</td>\n",
       "      <td>...</td>\n",
       "      <td>0</td>\n",
       "      <td>0</td>\n",
       "      <td>0</td>\n",
       "      <td>0</td>\n",
       "      <td>0</td>\n",
       "      <td>0</td>\n",
       "      <td>0</td>\n",
       "      <td>0</td>\n",
       "      <td>0</td>\n",
       "      <td>0</td>\n",
       "    </tr>\n",
       "    <tr>\n",
       "      <td>4</td>\n",
       "      <td>40670</td>\n",
       "      <td>15.20</td>\n",
       "      <td>1968.0</td>\n",
       "      <td>140.80</td>\n",
       "      <td>5.0</td>\n",
       "      <td>32366.70</td>\n",
       "      <td>7</td>\n",
       "      <td>0</td>\n",
       "      <td>1</td>\n",
       "      <td>0</td>\n",
       "      <td>...</td>\n",
       "      <td>0</td>\n",
       "      <td>0</td>\n",
       "      <td>0</td>\n",
       "      <td>0</td>\n",
       "      <td>0</td>\n",
       "      <td>0</td>\n",
       "      <td>0</td>\n",
       "      <td>0</td>\n",
       "      <td>0</td>\n",
       "      <td>0</td>\n",
       "    </tr>\n",
       "    <tr>\n",
       "      <td>...</td>\n",
       "      <td>...</td>\n",
       "      <td>...</td>\n",
       "      <td>...</td>\n",
       "      <td>...</td>\n",
       "      <td>...</td>\n",
       "      <td>...</td>\n",
       "      <td>...</td>\n",
       "      <td>...</td>\n",
       "      <td>...</td>\n",
       "      <td>...</td>\n",
       "      <td>...</td>\n",
       "      <td>...</td>\n",
       "      <td>...</td>\n",
       "      <td>...</td>\n",
       "      <td>...</td>\n",
       "      <td>...</td>\n",
       "      <td>...</td>\n",
       "      <td>...</td>\n",
       "      <td>...</td>\n",
       "      <td>...</td>\n",
       "      <td>...</td>\n",
       "    </tr>\n",
       "    <tr>\n",
       "      <td>6014</td>\n",
       "      <td>27365</td>\n",
       "      <td>28.40</td>\n",
       "      <td>1248.0</td>\n",
       "      <td>74.00</td>\n",
       "      <td>5.0</td>\n",
       "      <td>8666.39</td>\n",
       "      <td>6</td>\n",
       "      <td>0</td>\n",
       "      <td>1</td>\n",
       "      <td>0</td>\n",
       "      <td>...</td>\n",
       "      <td>0</td>\n",
       "      <td>0</td>\n",
       "      <td>0</td>\n",
       "      <td>0</td>\n",
       "      <td>0</td>\n",
       "      <td>0</td>\n",
       "      <td>0</td>\n",
       "      <td>0</td>\n",
       "      <td>0</td>\n",
       "      <td>0</td>\n",
       "    </tr>\n",
       "    <tr>\n",
       "      <td>6015</td>\n",
       "      <td>100000</td>\n",
       "      <td>24.40</td>\n",
       "      <td>1120.0</td>\n",
       "      <td>71.00</td>\n",
       "      <td>5.0</td>\n",
       "      <td>7298.02</td>\n",
       "      <td>5</td>\n",
       "      <td>0</td>\n",
       "      <td>1</td>\n",
       "      <td>0</td>\n",
       "      <td>...</td>\n",
       "      <td>0</td>\n",
       "      <td>0</td>\n",
       "      <td>0</td>\n",
       "      <td>0</td>\n",
       "      <td>0</td>\n",
       "      <td>0</td>\n",
       "      <td>0</td>\n",
       "      <td>0</td>\n",
       "      <td>0</td>\n",
       "      <td>0</td>\n",
       "    </tr>\n",
       "    <tr>\n",
       "      <td>6016</td>\n",
       "      <td>55000</td>\n",
       "      <td>14.00</td>\n",
       "      <td>2498.0</td>\n",
       "      <td>112.00</td>\n",
       "      <td>8.0</td>\n",
       "      <td>5291.06</td>\n",
       "      <td>8</td>\n",
       "      <td>0</td>\n",
       "      <td>1</td>\n",
       "      <td>0</td>\n",
       "      <td>...</td>\n",
       "      <td>0</td>\n",
       "      <td>0</td>\n",
       "      <td>0</td>\n",
       "      <td>0</td>\n",
       "      <td>0</td>\n",
       "      <td>0</td>\n",
       "      <td>0</td>\n",
       "      <td>0</td>\n",
       "      <td>0</td>\n",
       "      <td>0</td>\n",
       "    </tr>\n",
       "    <tr>\n",
       "      <td>6017</td>\n",
       "      <td>46000</td>\n",
       "      <td>18.90</td>\n",
       "      <td>998.0</td>\n",
       "      <td>67.10</td>\n",
       "      <td>5.0</td>\n",
       "      <td>4834.94</td>\n",
       "      <td>7</td>\n",
       "      <td>0</td>\n",
       "      <td>0</td>\n",
       "      <td>0</td>\n",
       "      <td>...</td>\n",
       "      <td>0</td>\n",
       "      <td>0</td>\n",
       "      <td>0</td>\n",
       "      <td>0</td>\n",
       "      <td>0</td>\n",
       "      <td>0</td>\n",
       "      <td>0</td>\n",
       "      <td>0</td>\n",
       "      <td>0</td>\n",
       "      <td>0</td>\n",
       "    </tr>\n",
       "    <tr>\n",
       "      <td>6018</td>\n",
       "      <td>47000</td>\n",
       "      <td>25.44</td>\n",
       "      <td>936.0</td>\n",
       "      <td>57.60</td>\n",
       "      <td>5.0</td>\n",
       "      <td>4561.26</td>\n",
       "      <td>9</td>\n",
       "      <td>0</td>\n",
       "      <td>1</td>\n",
       "      <td>0</td>\n",
       "      <td>...</td>\n",
       "      <td>0</td>\n",
       "      <td>0</td>\n",
       "      <td>0</td>\n",
       "      <td>0</td>\n",
       "      <td>0</td>\n",
       "      <td>0</td>\n",
       "      <td>0</td>\n",
       "      <td>0</td>\n",
       "      <td>0</td>\n",
       "      <td>0</td>\n",
       "    </tr>\n",
       "  </tbody>\n",
       "</table>\n",
       "<p>6019 rows × 232 columns</p>\n",
       "</div>"
      ],
      "text/plain": [
       "      Kilometers_Driven  Mileage  Engine   Power  Seats     Price  \\\n",
       "0                 72000    26.60   998.0   58.16    5.0   3192.88   \n",
       "1                 41000    19.67  1582.0  126.20    5.0  22806.30   \n",
       "2                 46000    18.20  1199.0   88.70    5.0   8210.27   \n",
       "3                 87000    20.77  1248.0   88.76    7.0  10947.02   \n",
       "4                 40670    15.20  1968.0  140.80    5.0  32366.70   \n",
       "...                 ...      ...     ...     ...    ...       ...   \n",
       "6014              27365    28.40  1248.0   74.00    5.0   8666.39   \n",
       "6015             100000    24.40  1120.0   71.00    5.0   7298.02   \n",
       "6016              55000    14.00  2498.0  112.00    8.0   5291.06   \n",
       "6017              46000    18.90   998.0   67.10    5.0   4834.94   \n",
       "6018              47000    25.44   936.0   57.60    5.0   4561.26   \n",
       "\n",
       "      No_of_Years  CNG  Diesel  Electric  ...  Volkswagen CrossPolo  \\\n",
       "0              10    1       0         0  ...                     0   \n",
       "1               5    0       1         0  ...                     0   \n",
       "2               9    0       0         0  ...                     0   \n",
       "3               8    0       1         0  ...                     0   \n",
       "4               7    0       1         0  ...                     0   \n",
       "...           ...  ...     ...       ...  ...                   ...   \n",
       "6014            6    0       1         0  ...                     0   \n",
       "6015            5    0       1         0  ...                     0   \n",
       "6016            8    0       1         0  ...                     0   \n",
       "6017            7    0       0         0  ...                     0   \n",
       "6018            9    0       1         0  ...                     0   \n",
       "\n",
       "      Volkswagen Jetta  Volkswagen Passat  Volkswagen Polo  Volkswagen Tiguan  \\\n",
       "0                    0                  0                0                  0   \n",
       "1                    0                  0                0                  0   \n",
       "2                    0                  0                0                  0   \n",
       "3                    0                  0                0                  0   \n",
       "4                    0                  0                0                  0   \n",
       "...                ...                ...              ...                ...   \n",
       "6014                 0                  0                0                  0   \n",
       "6015                 0                  0                0                  0   \n",
       "6016                 0                  0                0                  0   \n",
       "6017                 0                  0                0                  0   \n",
       "6018                 0                  0                0                  0   \n",
       "\n",
       "      Volkswagen Vento  Volvo S60  Volvo S80  Volvo V40  Volvo XC60  \n",
       "0                    0          0          0          0           0  \n",
       "1                    0          0          0          0           0  \n",
       "2                    0          0          0          0           0  \n",
       "3                    0          0          0          0           0  \n",
       "4                    0          0          0          0           0  \n",
       "...                ...        ...        ...        ...         ...  \n",
       "6014                 0          0          0          0           0  \n",
       "6015                 0          0          0          0           0  \n",
       "6016                 0          0          0          0           0  \n",
       "6017                 0          0          0          0           0  \n",
       "6018                 0          0          0          0           0  \n",
       "\n",
       "[6019 rows x 232 columns]"
      ]
     },
     "execution_count": 1806,
     "metadata": {},
     "output_type": "execute_result"
    }
   ],
   "source": [
    "# Look at the data\n",
    "cars_new"
   ]
  },
  {
   "cell_type": "code",
   "execution_count": 1807,
   "metadata": {},
   "outputs": [
    {
     "data": {
      "text/plain": [
       "Index(['Kilometers_Driven', 'Mileage', 'Engine', 'Power', 'Seats', 'Price',\n",
       "       'No_of_Years', 'CNG', 'Diesel', 'Electric',\n",
       "       ...\n",
       "       'Volkswagen CrossPolo', 'Volkswagen Jetta', 'Volkswagen Passat',\n",
       "       'Volkswagen Polo', 'Volkswagen Tiguan', 'Volkswagen Vento', 'Volvo S60',\n",
       "       'Volvo S80', 'Volvo V40', 'Volvo XC60'],\n",
       "      dtype='object', length=232)"
      ]
     },
     "execution_count": 1807,
     "metadata": {},
     "output_type": "execute_result"
    }
   ],
   "source": [
    "cars_new.columns"
   ]
  },
  {
   "cell_type": "code",
   "execution_count": 1808,
   "metadata": {},
   "outputs": [],
   "source": [
    "X = cars_new.drop('Price',axis=1)\n",
    "Y = cars_new['Price']\n"
   ]
  },
  {
   "cell_type": "code",
   "execution_count": 1809,
   "metadata": {},
   "outputs": [
    {
     "data": {
      "text/html": [
       "<div>\n",
       "<style scoped>\n",
       "    .dataframe tbody tr th:only-of-type {\n",
       "        vertical-align: middle;\n",
       "    }\n",
       "\n",
       "    .dataframe tbody tr th {\n",
       "        vertical-align: top;\n",
       "    }\n",
       "\n",
       "    .dataframe thead th {\n",
       "        text-align: right;\n",
       "    }\n",
       "</style>\n",
       "<table border=\"1\" class=\"dataframe\">\n",
       "  <thead>\n",
       "    <tr style=\"text-align: right;\">\n",
       "      <th></th>\n",
       "      <th>Kilometers_Driven</th>\n",
       "      <th>Mileage</th>\n",
       "      <th>Engine</th>\n",
       "      <th>Power</th>\n",
       "      <th>Seats</th>\n",
       "      <th>No_of_Years</th>\n",
       "      <th>CNG</th>\n",
       "      <th>Diesel</th>\n",
       "      <th>Electric</th>\n",
       "      <th>LPG</th>\n",
       "      <th>...</th>\n",
       "      <th>Volkswagen CrossPolo</th>\n",
       "      <th>Volkswagen Jetta</th>\n",
       "      <th>Volkswagen Passat</th>\n",
       "      <th>Volkswagen Polo</th>\n",
       "      <th>Volkswagen Tiguan</th>\n",
       "      <th>Volkswagen Vento</th>\n",
       "      <th>Volvo S60</th>\n",
       "      <th>Volvo S80</th>\n",
       "      <th>Volvo V40</th>\n",
       "      <th>Volvo XC60</th>\n",
       "    </tr>\n",
       "  </thead>\n",
       "  <tbody>\n",
       "    <tr>\n",
       "      <td>0</td>\n",
       "      <td>72000</td>\n",
       "      <td>26.60</td>\n",
       "      <td>998.0</td>\n",
       "      <td>58.16</td>\n",
       "      <td>5.0</td>\n",
       "      <td>10</td>\n",
       "      <td>1</td>\n",
       "      <td>0</td>\n",
       "      <td>0</td>\n",
       "      <td>0</td>\n",
       "      <td>...</td>\n",
       "      <td>0</td>\n",
       "      <td>0</td>\n",
       "      <td>0</td>\n",
       "      <td>0</td>\n",
       "      <td>0</td>\n",
       "      <td>0</td>\n",
       "      <td>0</td>\n",
       "      <td>0</td>\n",
       "      <td>0</td>\n",
       "      <td>0</td>\n",
       "    </tr>\n",
       "    <tr>\n",
       "      <td>1</td>\n",
       "      <td>41000</td>\n",
       "      <td>19.67</td>\n",
       "      <td>1582.0</td>\n",
       "      <td>126.20</td>\n",
       "      <td>5.0</td>\n",
       "      <td>5</td>\n",
       "      <td>0</td>\n",
       "      <td>1</td>\n",
       "      <td>0</td>\n",
       "      <td>0</td>\n",
       "      <td>...</td>\n",
       "      <td>0</td>\n",
       "      <td>0</td>\n",
       "      <td>0</td>\n",
       "      <td>0</td>\n",
       "      <td>0</td>\n",
       "      <td>0</td>\n",
       "      <td>0</td>\n",
       "      <td>0</td>\n",
       "      <td>0</td>\n",
       "      <td>0</td>\n",
       "    </tr>\n",
       "    <tr>\n",
       "      <td>2</td>\n",
       "      <td>46000</td>\n",
       "      <td>18.20</td>\n",
       "      <td>1199.0</td>\n",
       "      <td>88.70</td>\n",
       "      <td>5.0</td>\n",
       "      <td>9</td>\n",
       "      <td>0</td>\n",
       "      <td>0</td>\n",
       "      <td>0</td>\n",
       "      <td>0</td>\n",
       "      <td>...</td>\n",
       "      <td>0</td>\n",
       "      <td>0</td>\n",
       "      <td>0</td>\n",
       "      <td>0</td>\n",
       "      <td>0</td>\n",
       "      <td>0</td>\n",
       "      <td>0</td>\n",
       "      <td>0</td>\n",
       "      <td>0</td>\n",
       "      <td>0</td>\n",
       "    </tr>\n",
       "    <tr>\n",
       "      <td>3</td>\n",
       "      <td>87000</td>\n",
       "      <td>20.77</td>\n",
       "      <td>1248.0</td>\n",
       "      <td>88.76</td>\n",
       "      <td>7.0</td>\n",
       "      <td>8</td>\n",
       "      <td>0</td>\n",
       "      <td>1</td>\n",
       "      <td>0</td>\n",
       "      <td>0</td>\n",
       "      <td>...</td>\n",
       "      <td>0</td>\n",
       "      <td>0</td>\n",
       "      <td>0</td>\n",
       "      <td>0</td>\n",
       "      <td>0</td>\n",
       "      <td>0</td>\n",
       "      <td>0</td>\n",
       "      <td>0</td>\n",
       "      <td>0</td>\n",
       "      <td>0</td>\n",
       "    </tr>\n",
       "    <tr>\n",
       "      <td>4</td>\n",
       "      <td>40670</td>\n",
       "      <td>15.20</td>\n",
       "      <td>1968.0</td>\n",
       "      <td>140.80</td>\n",
       "      <td>5.0</td>\n",
       "      <td>7</td>\n",
       "      <td>0</td>\n",
       "      <td>1</td>\n",
       "      <td>0</td>\n",
       "      <td>0</td>\n",
       "      <td>...</td>\n",
       "      <td>0</td>\n",
       "      <td>0</td>\n",
       "      <td>0</td>\n",
       "      <td>0</td>\n",
       "      <td>0</td>\n",
       "      <td>0</td>\n",
       "      <td>0</td>\n",
       "      <td>0</td>\n",
       "      <td>0</td>\n",
       "      <td>0</td>\n",
       "    </tr>\n",
       "  </tbody>\n",
       "</table>\n",
       "<p>5 rows × 231 columns</p>\n",
       "</div>"
      ],
      "text/plain": [
       "   Kilometers_Driven  Mileage  Engine   Power  Seats  No_of_Years  CNG  \\\n",
       "0              72000    26.60   998.0   58.16    5.0           10    1   \n",
       "1              41000    19.67  1582.0  126.20    5.0            5    0   \n",
       "2              46000    18.20  1199.0   88.70    5.0            9    0   \n",
       "3              87000    20.77  1248.0   88.76    7.0            8    0   \n",
       "4              40670    15.20  1968.0  140.80    5.0            7    0   \n",
       "\n",
       "   Diesel  Electric  LPG  ...  Volkswagen CrossPolo  Volkswagen Jetta  \\\n",
       "0       0         0    0  ...                     0                 0   \n",
       "1       1         0    0  ...                     0                 0   \n",
       "2       0         0    0  ...                     0                 0   \n",
       "3       1         0    0  ...                     0                 0   \n",
       "4       1         0    0  ...                     0                 0   \n",
       "\n",
       "   Volkswagen Passat  Volkswagen Polo  Volkswagen Tiguan  Volkswagen Vento  \\\n",
       "0                  0                0                  0                 0   \n",
       "1                  0                0                  0                 0   \n",
       "2                  0                0                  0                 0   \n",
       "3                  0                0                  0                 0   \n",
       "4                  0                0                  0                 0   \n",
       "\n",
       "   Volvo S60  Volvo S80  Volvo V40  Volvo XC60  \n",
       "0          0          0          0           0  \n",
       "1          0          0          0           0  \n",
       "2          0          0          0           0  \n",
       "3          0          0          0           0  \n",
       "4          0          0          0           0  \n",
       "\n",
       "[5 rows x 231 columns]"
      ]
     },
     "execution_count": 1809,
     "metadata": {},
     "output_type": "execute_result"
    }
   ],
   "source": [
    "X.head()"
   ]
  },
  {
   "cell_type": "code",
   "execution_count": 1810,
   "metadata": {},
   "outputs": [
    {
     "data": {
      "text/plain": [
       "0     3192.88\n",
       "1    22806.30\n",
       "2     8210.27\n",
       "3    10947.02\n",
       "4    32366.70\n",
       "Name: Price, dtype: float64"
      ]
     },
     "execution_count": 1810,
     "metadata": {},
     "output_type": "execute_result"
    }
   ],
   "source": [
    "Y.head()"
   ]
  },
  {
   "cell_type": "markdown",
   "metadata": {},
   "source": [
    "# Splitting the data with a test size of 0.2"
   ]
  },
  {
   "cell_type": "code",
   "execution_count": 1811,
   "metadata": {},
   "outputs": [],
   "source": [
    "X_train,X_test,y_train,y_test = train_test_split(X,Y,test_size=0.2, random_state = 0)"
   ]
  },
  {
   "cell_type": "code",
   "execution_count": 1812,
   "metadata": {},
   "outputs": [],
   "source": [
    "minma = MinMaxScaler()\n",
    "minma.fit(X_train)\n",
    "X_train = minma.transform(X_train)\n",
    "X_test = minma.transform(X_test)"
   ]
  },
  {
   "cell_type": "code",
   "execution_count": 1813,
   "metadata": {},
   "outputs": [
    {
     "data": {
      "text/plain": [
       "array([[0.00368964, 0.67203339, 0.15960306, ..., 0.        , 0.        ,\n",
       "        0.        ],\n",
       "       [0.00535845, 0.51311866, 0.17965681, ..., 0.        , 0.        ,\n",
       "        0.        ],\n",
       "       [0.01412791, 0.48002385, 0.16146372, ..., 0.        , 0.        ,\n",
       "        0.        ],\n",
       "       ...,\n",
       "       [0.0095124 , 0.35927251, 0.32148026, ..., 0.        , 0.        ,\n",
       "        0.        ],\n",
       "       [0.0076662 , 0.65593321, 0.19805665, ..., 0.        , 0.        ,\n",
       "        0.        ],\n",
       "       [0.01274326, 0.69767442, 0.12900558, ..., 0.        , 0.        ,\n",
       "        0.        ]])"
      ]
     },
     "execution_count": 1813,
     "metadata": {},
     "output_type": "execute_result"
    }
   ],
   "source": [
    "X_train"
   ]
  },
  {
   "cell_type": "code",
   "execution_count": 1814,
   "metadata": {},
   "outputs": [
    {
     "data": {
      "text/plain": [
       "3509    16748.95\n",
       "3332     6367.52\n",
       "5383     2006.95\n",
       "1891     6841.89\n",
       "5757    30925.34\n",
       "          ...   \n",
       "4931    11494.38\n",
       "3264     9031.29\n",
       "1653    11403.15\n",
       "2607    20981.80\n",
       "2732     7845.37\n",
       "Name: Price, Length: 4815, dtype: float64"
      ]
     },
     "execution_count": 1814,
     "metadata": {},
     "output_type": "execute_result"
    }
   ],
   "source": [
    "y_train"
   ]
  },
  {
   "cell_type": "code",
   "execution_count": 1815,
   "metadata": {
    "scrolled": true
   },
   "outputs": [
    {
     "data": {
      "text/plain": [
       "array([[0.0095124 , 0.45020871, 0.32148026, ..., 0.        , 0.        ,\n",
       "        0.        ],\n",
       "       [0.01328389, 0.5307096 , 0.12900558, ..., 0.        , 0.        ,\n",
       "        0.        ],\n",
       "       [0.01031243, 0.4484198 , 0.20136448, ..., 0.        , 0.        ,\n",
       "        0.        ],\n",
       "       ...,\n",
       "       [0.0048969 , 0.44722719, 0.12900558, ..., 0.        , 0.        ,\n",
       "        0.        ],\n",
       "       [0.00832114, 0.51878354, 0.18048377, ..., 0.        , 0.        ,\n",
       "        0.        ],\n",
       "       [0.00770159, 0.56350626, 0.07732065, ..., 0.        , 0.        ,\n",
       "        0.        ]])"
      ]
     },
     "execution_count": 1815,
     "metadata": {},
     "output_type": "execute_result"
    }
   ],
   "source": [
    "X_test"
   ]
  },
  {
   "cell_type": "code",
   "execution_count": 1816,
   "metadata": {},
   "outputs": [
    {
     "data": {
      "text/plain": [
       "5150    13227.65\n",
       "2164     7754.14\n",
       "1136     7115.57\n",
       "5641    15344.08\n",
       "1515    24594.31\n",
       "          ...   \n",
       "5899     9104.27\n",
       "4139    69604.83\n",
       "728     15508.28\n",
       "3619    11403.15\n",
       "3828     7060.83\n",
       "Name: Price, Length: 1204, dtype: float64"
      ]
     },
     "execution_count": 1816,
     "metadata": {},
     "output_type": "execute_result"
    }
   ],
   "source": [
    "y_test"
   ]
  },
  {
   "cell_type": "markdown",
   "metadata": {},
   "source": [
    "# Linear Regression Model "
   ]
  },
  {
   "cell_type": "code",
   "execution_count": 1817,
   "metadata": {},
   "outputs": [],
   "source": [
    "reg = LinearRegression()\n",
    "reg = reg.fit(X_train,y_train)\n",
    "train_prediction = reg.predict(X_train)\n",
    "test_prediction = reg.predict(X_test)"
   ]
  },
  {
   "cell_type": "code",
   "execution_count": 1818,
   "metadata": {},
   "outputs": [
    {
     "name": "stdout",
     "output_type": "stream",
     "text": [
      "Accuracy for Test set -2.9701485078325015e+20\n",
      "Accuracy for Training set 0.8562058173136032\n"
     ]
    }
   ],
   "source": [
    "print(\"Accuracy for Test set\",reg.score(X_test,y_test))\n",
    "print(\"Accuracy for Training set\",reg.score(X_train,y_train))"
   ]
  },
  {
   "cell_type": "code",
   "execution_count": 1819,
   "metadata": {},
   "outputs": [
    {
     "data": {
      "text/plain": [
       "344274944359645.56"
      ]
     },
     "execution_count": 1819,
     "metadata": {},
     "output_type": "execute_result"
    }
   ],
   "source": [
    "math.sqrt(mean_squared_error(y_test,test_prediction))"
   ]
  },
  {
   "cell_type": "code",
   "execution_count": 1820,
   "metadata": {},
   "outputs": [
    {
     "name": "stdout",
     "output_type": "stream",
     "text": [
      "Tree on train set MAE%: 24.6\n",
      "Tree on test set MAE%: 95713942573.9\n"
     ]
    }
   ],
   "source": [
    "MAE_train=np.mean(abs(y_train-train_prediction))/np.mean(y_train)\n",
    "print(\"Tree on train set MAE%:\", round(MAE_train*100,1))\n",
    "\n",
    "MAE_test=np.mean(abs(y_test-test_prediction))/np.mean(y_test)\n",
    "print(\"Tree on test set MAE%:\", round(MAE_test*100,1))"
   ]
  },
  {
   "cell_type": "code",
   "execution_count": 1821,
   "metadata": {},
   "outputs": [
    {
     "data": {
      "text/plain": [
       "5150    13227.65\n",
       "2164     7754.14\n",
       "1136     7115.57\n",
       "5641    15344.08\n",
       "1515    24594.31\n",
       "          ...   \n",
       "5899     9104.27\n",
       "4139    69604.83\n",
       "728     15508.28\n",
       "3619    11403.15\n",
       "3828     7060.83\n",
       "Name: Price, Length: 1204, dtype: float64"
      ]
     },
     "execution_count": 1821,
     "metadata": {},
     "output_type": "execute_result"
    }
   ],
   "source": [
    "y_test"
   ]
  },
  {
   "cell_type": "code",
   "execution_count": 1822,
   "metadata": {},
   "outputs": [
    {
     "data": {
      "text/plain": [
       "array([17752.03200742,  6559.95711014,  5777.95743299, ...,\n",
       "       17216.41633345, 13332.39654878, 12280.34801188])"
      ]
     },
     "execution_count": 1822,
     "metadata": {},
     "output_type": "execute_result"
    }
   ],
   "source": [
    "test_prediction"
   ]
  },
  {
   "cell_type": "code",
   "execution_count": 1823,
   "metadata": {},
   "outputs": [
    {
     "data": {
      "image/png": "[encoded data removed]",
      "text/plain": [
       "<Figure size 432x288 with 1 Axes>"
      ]
     },
     "metadata": {
      "needs_background": "light"
     },
     "output_type": "display_data"
    }
   ],
   "source": [
    "# Create a scatter plot with train and test\n",
    "\n",
    "plt.scatter(y_train, train_prediction, label='train')\n",
    "plt.scatter(y_test, test_prediction, label='test')\n",
    "plt.legend()\n",
    "plt.show()"
   ]
  },
  {
   "cell_type": "markdown",
   "metadata": {},
   "source": [
    "# K-Neighbors Regression Model"
   ]
  },
  {
   "cell_type": "code",
   "execution_count": 1824,
   "metadata": {},
   "outputs": [
    {
     "name": "stdout",
     "output_type": "stream",
     "text": [
      "Accuracy for Test set 0.8670923449976052\n",
      "Accuracy for Training set 0.9053746676725184\n"
     ]
    }
   ],
   "source": [
    "k_reg=KNeighborsRegressor()\n",
    "k_reg = k_reg.fit(X_train,y_train)\n",
    "train_prediction = k_reg.predict(X_train)\n",
    "test_prediction=k_reg.predict(X_test)\n",
    "print(\"Accuracy for Test set\",k_reg.score(X_test,y_test))\n",
    "print(\"Accuracy for Training set\",k_reg.score(X_train,y_train))"
   ]
  },
  {
   "cell_type": "code",
   "execution_count": 1825,
   "metadata": {},
   "outputs": [
    {
     "data": {
      "text/plain": [
       "7282.681754886401"
      ]
     },
     "execution_count": 1825,
     "metadata": {},
     "output_type": "execute_result"
    }
   ],
   "source": [
    "math.sqrt(mean_squared_error(y_test,test_prediction))"
   ]
  },
  {
   "cell_type": "code",
   "execution_count": 1826,
   "metadata": {},
   "outputs": [
    {
     "name": "stdout",
     "output_type": "stream",
     "text": [
      "Tree on train set MAE%: 14.9\n",
      "Tree on test set MAE%: 18.6\n"
     ]
    }
   ],
   "source": [
    "MAE_train=np.mean(abs(y_train-train_prediction))/np.mean(y_train)\n",
    "print(\"Tree on train set MAE%:\", round(MAE_train*100,1))\n",
    "\n",
    "MAE_test=np.mean(abs(y_test-test_prediction))/np.mean(y_test)\n",
    "print(\"Tree on test set MAE%:\", round(MAE_test*100,1))"
   ]
  },
  {
   "cell_type": "code",
   "execution_count": 1827,
   "metadata": {},
   "outputs": [
    {
     "data": {
      "text/plain": [
       "5150    13227.65\n",
       "2164     7754.14\n",
       "1136     7115.57\n",
       "5641    15344.08\n",
       "1515    24594.31\n",
       "          ...   \n",
       "5899     9104.27\n",
       "4139    69604.83\n",
       "728     15508.28\n",
       "3619    11403.15\n",
       "3828     7060.83\n",
       "Name: Price, Length: 1204, dtype: float64"
      ]
     },
     "execution_count": 1827,
     "metadata": {},
     "output_type": "execute_result"
    }
   ],
   "source": [
    "y_test"
   ]
  },
  {
   "cell_type": "code",
   "execution_count": 1828,
   "metadata": {},
   "outputs": [
    {
     "data": {
      "text/plain": [
       "array([15387.868,  6294.538,  6104.792, ..., 13410.106, 10731.732,\n",
       "        7006.094])"
      ]
     },
     "execution_count": 1828,
     "metadata": {},
     "output_type": "execute_result"
    }
   ],
   "source": [
    "test_prediction"
   ]
  },
  {
   "cell_type": "code",
   "execution_count": 1829,
   "metadata": {},
   "outputs": [
    {
     "data": {
      "image/png": "[encoded data removed]",
      "text/plain": [
       "<Figure size 432x288 with 1 Axes>"
      ]
     },
     "metadata": {
      "needs_background": "light"
     },
     "output_type": "display_data"
    }
   ],
   "source": [
    "# Create a scatter plot with train and test \n",
    "\n",
    "plt.scatter(y_train, train_prediction, label='train')\n",
    "plt.scatter(y_test, test_prediction, label='test')\n",
    "plt.legend()\n",
    "plt.show()"
   ]
  },
  {
   "cell_type": "markdown",
   "metadata": {},
   "source": [
    "# Decision Tree Regression Model"
   ]
  },
  {
   "cell_type": "code",
   "execution_count": 1830,
   "metadata": {},
   "outputs": [
    {
     "name": "stdout",
     "output_type": "stream",
     "text": [
      "Accuracy for Test set 0.8269678167341212\n",
      "Accuracy for Training set 0.9999500027167028\n"
     ]
    }
   ],
   "source": [
    "dec_reg = DecisionTreeRegressor()\n",
    "dec_reg.fit(X_train,y_train)\n",
    "train_prediction = dec_reg.predict(X_train)\n",
    "test_prediction=dec_reg.predict(X_test)\n",
    "print(\"Accuracy for Test set\",dec_reg.score(X_test,y_test))\n",
    "print(\"Accuracy for Training set\",dec_reg.score(X_train,y_train))"
   ]
  },
  {
   "cell_type": "code",
   "execution_count": 1831,
   "metadata": {},
   "outputs": [
    {
     "data": {
      "text/plain": [
       "8309.59348774537"
      ]
     },
     "execution_count": 1831,
     "metadata": {},
     "output_type": "execute_result"
    }
   ],
   "source": [
    "math.sqrt(mean_squared_error(y_test,test_prediction))"
   ]
  },
  {
   "cell_type": "code",
   "execution_count": 1832,
   "metadata": {},
   "outputs": [
    {
     "name": "stdout",
     "output_type": "stream",
     "text": [
      "Tree on train set MAE%: 0.0\n",
      "Tree on test set MAE%: 20.7\n"
     ]
    }
   ],
   "source": [
    "MAE_train=np.mean(abs(y_train-train_prediction))/np.mean(y_train)\n",
    "print(\"Tree on train set MAE%:\", round(MAE_train*100,1))\n",
    "\n",
    "MAE_test=np.mean(abs(y_test-test_prediction))/np.mean(y_test)\n",
    "print(\"Tree on test set MAE%:\", round(MAE_test*100,1))"
   ]
  },
  {
   "cell_type": "code",
   "execution_count": 1833,
   "metadata": {},
   "outputs": [
    {
     "data": {
      "text/plain": [
       "5150    13227.65\n",
       "2164     7754.14\n",
       "1136     7115.57\n",
       "5641    15344.08\n",
       "1515    24594.31\n",
       "          ...   \n",
       "5899     9104.27\n",
       "4139    69604.83\n",
       "728     15508.28\n",
       "3619    11403.15\n",
       "3828     7060.83\n",
       "Name: Price, Length: 1204, dtype: float64"
      ]
     },
     "execution_count": 1833,
     "metadata": {},
     "output_type": "execute_result"
    }
   ],
   "source": [
    "y_test"
   ]
  },
  {
   "cell_type": "code",
   "execution_count": 1834,
   "metadata": {},
   "outputs": [
    {
     "data": {
      "text/plain": [
       "array([14176.4 ,  6294.54,  6933.12, ..., 15052.16, 10034.77,  7845.37])"
      ]
     },
     "execution_count": 1834,
     "metadata": {},
     "output_type": "execute_result"
    }
   ],
   "source": [
    "test_prediction"
   ]
  },
  {
   "cell_type": "code",
   "execution_count": 1835,
   "metadata": {},
   "outputs": [
    {
     "data": {
      "image/png": "[encoded data removed]",
      "text/plain": [
       "<Figure size 432x288 with 1 Axes>"
      ]
     },
     "metadata": {
      "needs_background": "light"
     },
     "output_type": "display_data"
    }
   ],
   "source": [
    "# Create a scatter plot with train and test \n",
    "plt.scatter(y_train, train_prediction, label='train')\n",
    "plt.scatter(y_test, test_prediction, label='test')\n",
    "plt.legend()\n",
    "plt.show()"
   ]
  },
  {
   "cell_type": "markdown",
   "metadata": {},
   "source": [
    "# Random Forest Model"
   ]
  },
  {
   "cell_type": "code",
   "execution_count": 1836,
   "metadata": {},
   "outputs": [
    {
     "name": "stdout",
     "output_type": "stream",
     "text": [
      "Accuracy for Test set 0.9163732811539614\n",
      "Accuracy for Training set 0.9852236094361772\n"
     ]
    }
   ],
   "source": [
    "rf_reg = RandomForestRegressor(n_estimators=200)\n",
    "rf_reg.fit(X_train,y_train)\n",
    "train_prediction = rf_reg.predict(X_train)\n",
    "test_prediction=rf_reg.predict(X_test)\n",
    "print(\"Accuracy for Test set\",rf_reg.score(X_test,y_test))\n",
    "print(\"Accuracy for Training set\",rf_reg.score(X_train,y_train))"
   ]
  },
  {
   "cell_type": "code",
   "execution_count": 1837,
   "metadata": {},
   "outputs": [
    {
     "data": {
      "text/plain": [
       "5776.820366036193"
      ]
     },
     "execution_count": 1837,
     "metadata": {},
     "output_type": "execute_result"
    }
   ],
   "source": [
    "math.sqrt(mean_squared_error(y_test,test_prediction))"
   ]
  },
  {
   "cell_type": "code",
   "execution_count": 1838,
   "metadata": {},
   "outputs": [
    {
     "name": "stdout",
     "output_type": "stream",
     "text": [
      "Tree on train set MAE%: 6.0\n",
      "Tree on test set MAE%: 15.8\n"
     ]
    }
   ],
   "source": [
    "MAE_train=np.mean(abs(y_train-train_prediction))/np.mean(y_train)\n",
    "print(\"Tree on train set MAE%:\", round(MAE_train*100,1))\n",
    "\n",
    "MAE_test=np.mean(abs(y_test-test_prediction))/np.mean(y_test)\n",
    "print(\"Tree on test set MAE%:\", round(MAE_test*100,1))"
   ]
  },
  {
   "cell_type": "code",
   "execution_count": 1839,
   "metadata": {},
   "outputs": [
    {
     "data": {
      "text/plain": [
       "5150    13227.65\n",
       "2164     7754.14\n",
       "1136     7115.57\n",
       "5641    15344.08\n",
       "1515    24594.31\n",
       "          ...   \n",
       "5899     9104.27\n",
       "4139    69604.83\n",
       "728     15508.28\n",
       "3619    11403.15\n",
       "3828     7060.83\n",
       "Name: Price, Length: 1204, dtype: float64"
      ]
     },
     "execution_count": 1839,
     "metadata": {},
     "output_type": "execute_result"
    }
   ],
   "source": [
    "y_test"
   ]
  },
  {
   "cell_type": "code",
   "execution_count": 1840,
   "metadata": {},
   "outputs": [
    {
     "data": {
      "text/plain": [
       "array([14640.81256786,  5872.1659    ,  7392.80125   , ...,\n",
       "       14256.94905   , 10475.30577583,  6653.78305   ])"
      ]
     },
     "execution_count": 1840,
     "metadata": {},
     "output_type": "execute_result"
    }
   ],
   "source": [
    "test_prediction"
   ]
  },
  {
   "cell_type": "code",
   "execution_count": 1841,
   "metadata": {},
   "outputs": [
    {
     "data": {
      "image/png": "[encoded data removed]",
      "text/plain": [
       "<Figure size 432x288 with 1 Axes>"
      ]
     },
     "metadata": {
      "needs_background": "light"
     },
     "output_type": "display_data"
    }
   ],
   "source": [
    "# Create a scatter plot with train and test \n",
    "plt.scatter(y_train, train_prediction, label='train')\n",
    "plt.scatter(y_test, test_prediction, label='test')\n",
    "plt.legend()\n",
    "plt.show()"
   ]
  },
  {
   "cell_type": "markdown",
   "metadata": {},
   "source": [
    "#  Gradient Boosted Regression Model "
   ]
  },
  {
   "cell_type": "code",
   "execution_count": 1842,
   "metadata": {},
   "outputs": [
    {
     "name": "stdout",
     "output_type": "stream",
     "text": [
      "Accuracy for Test set 0.3844456833114962\n",
      "Accuracy for Training set 0.38015920829114513\n"
     ]
    }
   ],
   "source": [
    "gb_reg = GradientBoostingRegressor(max_features=5,\n",
    "                                learning_rate=0.01,\n",
    "                                n_estimators=200,\n",
    "                                random_state=99)\n",
    "gb_reg.fit(X_train,y_train)\n",
    "train_prediction = gb_reg.predict(X_train)\n",
    "test_prediction=gb_reg.predict(X_test)\n",
    "print(\"Accuracy for Test set\",gb_reg.score(X_test,y_test))\n",
    "print(\"Accuracy for Training set\",gb_reg.score(X_train,y_train))"
   ]
  },
  {
   "cell_type": "code",
   "execution_count": 1843,
   "metadata": {},
   "outputs": [
    {
     "data": {
      "text/plain": [
       "15672.905862615633"
      ]
     },
     "execution_count": 1843,
     "metadata": {},
     "output_type": "execute_result"
    }
   ],
   "source": [
    "math.sqrt(mean_squared_error(y_test,test_prediction))"
   ]
  },
  {
   "cell_type": "code",
   "execution_count": 1844,
   "metadata": {},
   "outputs": [
    {
     "name": "stdout",
     "output_type": "stream",
     "text": [
      "Tree on train set MAE%: 55.7\n",
      "Tree on test set MAE%: 54.3\n"
     ]
    }
   ],
   "source": [
    "MAE_train=np.mean(abs(y_train-train_prediction))/np.mean(y_train)\n",
    "print(\"Tree on train set MAE%:\", round(MAE_train*100,1))\n",
    "\n",
    "MAE_test=np.mean(abs(y_test-test_prediction))/np.mean(y_test)\n",
    "print(\"Tree on test set MAE%:\", round(MAE_test*100,1))"
   ]
  },
  {
   "cell_type": "code",
   "execution_count": 1845,
   "metadata": {},
   "outputs": [
    {
     "data": {
      "text/plain": [
       "5150    13227.65\n",
       "2164     7754.14\n",
       "1136     7115.57\n",
       "5641    15344.08\n",
       "1515    24594.31\n",
       "          ...   \n",
       "5899     9104.27\n",
       "4139    69604.83\n",
       "728     15508.28\n",
       "3619    11403.15\n",
       "3828     7060.83\n",
       "Name: Price, Length: 1204, dtype: float64"
      ]
     },
     "execution_count": 1845,
     "metadata": {},
     "output_type": "execute_result"
    }
   ],
   "source": [
    "y_test"
   ]
  },
  {
   "cell_type": "code",
   "execution_count": 1846,
   "metadata": {},
   "outputs": [
    {
     "data": {
      "text/plain": [
       "array([16957.11155751, 13275.92638788, 13147.7337995 , ...,\n",
       "       15939.77752713, 13697.73009758, 14182.79827094])"
      ]
     },
     "execution_count": 1846,
     "metadata": {},
     "output_type": "execute_result"
    }
   ],
   "source": [
    "test_prediction"
   ]
  },
  {
   "cell_type": "code",
   "execution_count": 1847,
   "metadata": {},
   "outputs": [
    {
     "data": {
      "image/png": "[encoded data removed]",
      "text/plain": [
       "<Figure size 432x288 with 1 Axes>"
      ]
     },
     "metadata": {
      "needs_background": "light"
     },
     "output_type": "display_data"
    }
   ],
   "source": [
    "# Create a scatter plot with train and test\n",
    "plt.scatter(y_train, train_prediction, label='train')\n",
    "plt.scatter(y_test, test_prediction, label='test')\n",
    "plt.legend()\n",
    "plt.show()"
   ]
  },
  {
   "cell_type": "markdown",
   "metadata": {},
   "source": [
    "# Ridge Regression Model"
   ]
  },
  {
   "cell_type": "code",
   "execution_count": 1848,
   "metadata": {},
   "outputs": [
    {
     "name": "stdout",
     "output_type": "stream",
     "text": [
      "Accuracy for Test set 0.8293719740556954\n",
      "Accuracy for Training set 0.8429062713836131\n"
     ]
    }
   ],
   "source": [
    "clf = Ridge(alpha=1.0)\n",
    "clf.fit(X_train,y_train)\n",
    "train_prediction = clf.predict(X_train)\n",
    "test_prediction=clf.predict(X_test)\n",
    "print(\"Accuracy for Test set\",clf.score(X_test,y_test))\n",
    "print(\"Accuracy for Training set\",clf.score(X_train,y_train))"
   ]
  },
  {
   "cell_type": "code",
   "execution_count": 1849,
   "metadata": {},
   "outputs": [
    {
     "data": {
      "text/plain": [
       "8251.66365805136"
      ]
     },
     "execution_count": 1849,
     "metadata": {},
     "output_type": "execute_result"
    }
   ],
   "source": [
    "math.sqrt(mean_squared_error(y_test,test_prediction))"
   ]
  },
  {
   "cell_type": "code",
   "execution_count": 1850,
   "metadata": {},
   "outputs": [
    {
     "name": "stdout",
     "output_type": "stream",
     "text": [
      "Tree on train set MAE%: 26.1\n",
      "Tree on test set MAE%: 26.1\n"
     ]
    }
   ],
   "source": [
    "MAE_train=np.mean(abs(y_train-train_prediction))/np.mean(y_train)\n",
    "print(\"Tree on train set MAE%:\", round(MAE_train*100,1))\n",
    "\n",
    "MAE_test=np.mean(abs(y_test-test_prediction))/np.mean(y_test)\n",
    "print(\"Tree on test set MAE%:\", round(MAE_test*100,1))"
   ]
  },
  {
   "cell_type": "code",
   "execution_count": 1851,
   "metadata": {},
   "outputs": [
    {
     "data": {
      "text/plain": [
       "5150    13227.65\n",
       "2164     7754.14\n",
       "1136     7115.57\n",
       "5641    15344.08\n",
       "1515    24594.31\n",
       "          ...   \n",
       "5899     9104.27\n",
       "4139    69604.83\n",
       "728     15508.28\n",
       "3619    11403.15\n",
       "3828     7060.83\n",
       "Name: Price, Length: 1204, dtype: float64"
      ]
     },
     "execution_count": 1851,
     "metadata": {},
     "output_type": "execute_result"
    }
   ],
   "source": [
    "y_test"
   ]
  },
  {
   "cell_type": "code",
   "execution_count": 1852,
   "metadata": {},
   "outputs": [
    {
     "data": {
      "text/plain": [
       "array([17803.00606443,  8466.32828303,  5620.10879534, ...,\n",
       "       17377.99266827, 13347.00279863, 12092.61279368])"
      ]
     },
     "execution_count": 1852,
     "metadata": {},
     "output_type": "execute_result"
    }
   ],
   "source": [
    "test_prediction"
   ]
  },
  {
   "cell_type": "code",
   "execution_count": 1853,
   "metadata": {},
   "outputs": [
    {
     "data": {
      "image/png": "[encoded data removed]",
      "text/plain": [
       "<Figure size 432x288 with 1 Axes>"
      ]
     },
     "metadata": {
      "needs_background": "light"
     },
     "output_type": "display_data"
    }
   ],
   "source": [
    "# Create a scatter plot with train and test \n",
    "plt.scatter(y_train, train_prediction, label='train')\n",
    "plt.scatter(y_test, test_prediction, label='test')\n",
    "plt.legend()\n",
    "plt.show()"
   ]
  },
  {
   "cell_type": "markdown",
   "metadata": {},
   "source": [
    "# Lasso Regression Model"
   ]
  },
  {
   "cell_type": "code",
   "execution_count": 1854,
   "metadata": {},
   "outputs": [
    {
     "name": "stdout",
     "output_type": "stream",
     "text": [
      "Accuracy for Test set 0.8214211702161283\n",
      "Accuracy for Training set 0.8548392829479963\n"
     ]
    }
   ],
   "source": [
    "las = linear_model.Lasso(alpha=1)\n",
    "las.fit(X_train,y_train)\n",
    "train_prediction = las.predict(X_train)\n",
    "test_prediction=las.predict(X_test)\n",
    "print(\"Accuracy for Test set\",las.score(X_test,y_test))\n",
    "print(\"Accuracy for Training set\",las.score(X_train,y_train))"
   ]
  },
  {
   "cell_type": "code",
   "execution_count": 1855,
   "metadata": {},
   "outputs": [
    {
     "data": {
      "text/plain": [
       "8441.727341620983"
      ]
     },
     "execution_count": 1855,
     "metadata": {},
     "output_type": "execute_result"
    }
   ],
   "source": [
    "math.sqrt(mean_squared_error(y_test,test_prediction))"
   ]
  },
  {
   "cell_type": "code",
   "execution_count": 1856,
   "metadata": {},
   "outputs": [
    {
     "name": "stdout",
     "output_type": "stream",
     "text": [
      "Tree on train set MAE%: 24.8\n",
      "Tree on test set MAE%: 25.9\n"
     ]
    }
   ],
   "source": [
    "MAE_train=np.mean(abs(y_train-train_prediction))/np.mean(y_train)\n",
    "print(\"Tree on train set MAE%:\", round(MAE_train*100,1))\n",
    "\n",
    "MAE_test=np.mean(abs(y_test-test_prediction))/np.mean(y_test)\n",
    "print(\"Tree on test set MAE%:\", round(MAE_test*100,1))"
   ]
  },
  {
   "cell_type": "code",
   "execution_count": 1857,
   "metadata": {},
   "outputs": [
    {
     "data": {
      "text/plain": [
       "5150    13227.65\n",
       "2164     7754.14\n",
       "1136     7115.57\n",
       "5641    15344.08\n",
       "1515    24594.31\n",
       "          ...   \n",
       "5899     9104.27\n",
       "4139    69604.83\n",
       "728     15508.28\n",
       "3619    11403.15\n",
       "3828     7060.83\n",
       "Name: Price, Length: 1204, dtype: float64"
      ]
     },
     "execution_count": 1857,
     "metadata": {},
     "output_type": "execute_result"
    }
   ],
   "source": [
    "y_test"
   ]
  },
  {
   "cell_type": "code",
   "execution_count": 1858,
   "metadata": {},
   "outputs": [
    {
     "data": {
      "text/plain": [
       "array([17802.87658238,  7636.33400081,  5709.89846492, ...,\n",
       "       17845.96716353, 13310.86034216, 12070.01270706])"
      ]
     },
     "execution_count": 1858,
     "metadata": {},
     "output_type": "execute_result"
    }
   ],
   "source": [
    "test_prediction"
   ]
  },
  {
   "cell_type": "code",
   "execution_count": 1859,
   "metadata": {},
   "outputs": [
    {
     "data": {
      "image/png": "[encoded data removed]",
      "text/plain": [
       "<Figure size 432x288 with 1 Axes>"
      ]
     },
     "metadata": {
      "needs_background": "light"
     },
     "output_type": "display_data"
    }
   ],
   "source": [
    "# Create a scatter plot with train and test\n",
    "plt.scatter(y_train, train_prediction, label='train')\n",
    "plt.scatter(y_test, test_prediction, label='test')\n",
    "plt.legend()\n",
    "plt.show()"
   ]
  },
  {
   "cell_type": "markdown",
   "metadata": {},
   "source": [
    "# Artificial Neural Network ( Keras )"
   ]
  },
  {
   "cell_type": "code",
   "execution_count": 1860,
   "metadata": {},
   "outputs": [],
   "source": [
    "np.random.seed(1337)"
   ]
  },
  {
   "cell_type": "code",
   "execution_count": 1861,
   "metadata": {},
   "outputs": [],
   "source": [
    "model = Sequential()\n",
    "model.add(Dense(200,activation='relu',input_dim=231))\n",
    "model.add(Dropout(0.2))\n",
    "model.add(Dense(100,activation='relu'))\n",
    "model.add(Dropout(0.2))\n",
    "model.add(Dense(1,activation='linear'))"
   ]
  },
  {
   "cell_type": "code",
   "execution_count": 1862,
   "metadata": {},
   "outputs": [
    {
     "name": "stdout",
     "output_type": "stream",
     "text": [
      "Model: \"sequential_58\"\n",
      "_________________________________________________________________\n",
      "Layer (type)                 Output Shape              Param #   \n",
      "=================================================================\n",
      "dense_156 (Dense)            (None, 200)               46400     \n",
      "_________________________________________________________________\n",
      "dropout_48 (Dropout)         (None, 200)               0         \n",
      "_________________________________________________________________\n",
      "dense_157 (Dense)            (None, 100)               20100     \n",
      "_________________________________________________________________\n",
      "dropout_49 (Dropout)         (None, 100)               0         \n",
      "_________________________________________________________________\n",
      "dense_158 (Dense)            (None, 1)                 101       \n",
      "=================================================================\n",
      "Total params: 66,601\n",
      "Trainable params: 66,601\n",
      "Non-trainable params: 0\n",
      "_________________________________________________________________\n"
     ]
    }
   ],
   "source": [
    "model.summary()"
   ]
  },
  {
   "cell_type": "code",
   "execution_count": 1863,
   "metadata": {},
   "outputs": [],
   "source": [
    "\n",
    "model.compile(optimizer ='adam', loss='mse')"
   ]
  },
  {
   "cell_type": "code",
   "execution_count": 1864,
   "metadata": {},
   "outputs": [
    {
     "name": "stdout",
     "output_type": "stream",
     "text": [
      "Epoch 1/250\n",
      "4815/4815 [==============================] - 2s 327us/step - loss: 544506248.2542\n",
      "Epoch 2/250\n",
      "4815/4815 [==============================] - 1s 308us/step - loss: 313009352.6945\n",
      "Epoch 3/250\n",
      "4815/4815 [==============================] - 1s 307us/step - loss: 252333967.3711\n",
      "Epoch 4/250\n",
      "4815/4815 [==============================] - 1s 304us/step - loss: 210127632.6727\n",
      "Epoch 5/250\n",
      "4815/4815 [==============================] - 1s 299us/step - loss: 184521685.0883\n",
      "Epoch 6/250\n",
      "4815/4815 [==============================] - 2s 341us/step - loss: 167347196.8785\n",
      "Epoch 7/250\n",
      "4815/4815 [==============================] - 1s 303us/step - loss: 156992186.9595\n",
      "Epoch 8/250\n",
      "4815/4815 [==============================] - 2s 314us/step - loss: 141874053.1477\n",
      "Epoch 9/250\n",
      "4815/4815 [==============================] - 1s 308us/step - loss: 130473826.9067\n",
      "Epoch 10/250\n",
      "4815/4815 [==============================] - 1s 304us/step - loss: 120971908.7421\n",
      "Epoch 11/250\n",
      "4815/4815 [==============================] - 2s 328us/step - loss: 110174571.4966\n",
      "Epoch 12/250\n",
      "4815/4815 [==============================] - 2s 348us/step - loss: 99729662.5242\n",
      "Epoch 13/250\n",
      "4815/4815 [==============================] - 2s 335us/step - loss: 93191341.2633\n",
      "Epoch 14/250\n",
      "4815/4815 [==============================] - 2s 327us/step - loss: 83212461.5261\n",
      "Epoch 15/250\n",
      "4815/4815 [==============================] - 2s 314us/step - loss: 77580106.6263\n",
      "Epoch 16/250\n",
      "4815/4815 [==============================] - 2s 348us/step - loss: 70994112.1216\n",
      "Epoch 17/250\n",
      "4815/4815 [==============================] - 1s 310us/step - loss: 68689665.9478\n",
      "Epoch 18/250\n",
      "4815/4815 [==============================] - 2s 313us/step - loss: 63538669.6544\n",
      "Epoch 19/250\n",
      "4815/4815 [==============================] - 1s 311us/step - loss: 59601159.4143\n",
      "Epoch 20/250\n",
      "4815/4815 [==============================] - 2s 314us/step - loss: 58302882.3518\n",
      "Epoch 21/250\n",
      "4815/4815 [==============================] - 2s 330us/step - loss: 54012409.4367\n",
      "Epoch 22/250\n",
      "4815/4815 [==============================] - 2s 355us/step - loss: 52313345.2776\n",
      "Epoch 23/250\n",
      "4815/4815 [==============================] - 2s 389us/step - loss: 50277784.9420\n",
      "Epoch 24/250\n",
      "4815/4815 [==============================] - 2s 440us/step - loss: 47429190.6700\n",
      "Epoch 25/250\n",
      "4815/4815 [==============================] - 2s 410us/step - loss: 46109779.1156\n",
      "Epoch 26/250\n",
      "4815/4815 [==============================] - 2s 445us/step - loss: 46335511.6340\n",
      "Epoch 27/250\n",
      "4815/4815 [==============================] - 2s 364us/step - loss: 45660829.1633\n",
      "Epoch 28/250\n",
      "4815/4815 [==============================] - 2s 313us/step - loss: 46466820.1804\n",
      "Epoch 29/250\n",
      "4815/4815 [==============================] - 2s 330us/step - loss: 43572128.9291\n",
      "Epoch 30/250\n",
      "4815/4815 [==============================] - 2s 316us/step - loss: 46222304.8789\n",
      "Epoch 31/250\n",
      "4815/4815 [==============================] - 1s 311us/step - loss: 43112575.3765\n",
      "Epoch 32/250\n",
      "4815/4815 [==============================] - 2s 317us/step - loss: 44506661.6825\n",
      "Epoch 33/250\n",
      "4815/4815 [==============================] - 2s 315us/step - loss: 43192082.9056\n",
      "Epoch 34/250\n",
      "4815/4815 [==============================] - 2s 312us/step - loss: 41366677.6908\n",
      "Epoch 35/250\n",
      "4815/4815 [==============================] - 2s 333us/step - loss: 39574431.0442\n",
      "Epoch 36/250\n",
      "4815/4815 [==============================] - 2s 331us/step - loss: 41897707.7044\n",
      "Epoch 37/250\n",
      "4815/4815 [==============================] - 2s 315us/step - loss: 42058689.9178\n",
      "Epoch 38/250\n",
      "4815/4815 [==============================] - 2s 313us/step - loss: 38747727.4651\n",
      "Epoch 39/250\n",
      "4815/4815 [==============================] - 2s 313us/step - loss: 39541108.8156\n",
      "Epoch 40/250\n",
      "4815/4815 [==============================] - 2s 318us/step - loss: 41005388.3539\n",
      "Epoch 41/250\n",
      "4815/4815 [==============================] - 2s 317us/step - loss: 39658068.4920\n",
      "Epoch 42/250\n",
      "4815/4815 [==============================] - 2s 312us/step - loss: 39126973.4676\n",
      "Epoch 43/250\n",
      "4815/4815 [==============================] - 1s 310us/step - loss: 37723200.2697\n",
      "Epoch 44/250\n",
      "4815/4815 [==============================] - 2s 315us/step - loss: 37407809.7688\n",
      "Epoch 45/250\n",
      "4815/4815 [==============================] - 2s 314us/step - loss: 38880605.7542\n",
      "Epoch 46/250\n",
      "4815/4815 [==============================] - 2s 351us/step - loss: 38950316.1078\n",
      "Epoch 47/250\n",
      "4815/4815 [==============================] - 2s 313us/step - loss: 39555395.3181\n",
      "Epoch 48/250\n",
      "4815/4815 [==============================] - 2s 316us/step - loss: 38266903.1943\n",
      "Epoch 49/250\n",
      "4815/4815 [==============================] - 2s 319us/step - loss: 37538731.1529\n",
      "Epoch 50/250\n",
      "4815/4815 [==============================] - 2s 316us/step - loss: 36665263.5746\n",
      "Epoch 51/250\n",
      "4815/4815 [==============================] - 2s 315us/step - loss: 35417660.3148\n",
      "Epoch 52/250\n",
      "4815/4815 [==============================] - 2s 331us/step - loss: 38174446.3895\n",
      "Epoch 53/250\n",
      "4815/4815 [==============================] - 2s 337us/step - loss: 39091191.8668\n",
      "Epoch 54/250\n",
      "4815/4815 [==============================] - 2s 351us/step - loss: 36044284.8526\n",
      "Epoch 55/250\n",
      "4815/4815 [==============================] - 2s 334us/step - loss: 37593669.4667\n",
      "Epoch 56/250\n",
      "4815/4815 [==============================] - 2s 356us/step - loss: 36389337.8331\n",
      "Epoch 57/250\n",
      "4815/4815 [==============================] - 1s 309us/step - loss: 35457917.9823\n",
      "Epoch 58/250\n",
      "4815/4815 [==============================] - 2s 318us/step - loss: 36290165.9965\n",
      "Epoch 59/250\n",
      "4815/4815 [==============================] - 2s 317us/step - loss: 35750060.8430\n",
      "Epoch 60/250\n",
      "4815/4815 [==============================] - 1s 310us/step - loss: 35052064.9836\n",
      "Epoch 61/250\n",
      "4815/4815 [==============================] - 1s 311us/step - loss: 39008542.2884\n",
      "Epoch 62/250\n",
      "4815/4815 [==============================] - 2s 312us/step - loss: 35003222.8605\n",
      "Epoch 63/250\n",
      "4815/4815 [==============================] - 2s 312us/step - loss: 34882847.1054\n",
      "Epoch 64/250\n",
      "4815/4815 [==============================] - 1s 310us/step - loss: 36248734.3002\n",
      "Epoch 65/250\n",
      "4815/4815 [==============================] - 1s 311us/step - loss: 34754111.2258\n",
      "Epoch 66/250\n",
      "4815/4815 [==============================] - 2s 329us/step - loss: 34738531.2873\n",
      "Epoch 67/250\n",
      "4815/4815 [==============================] - 2s 442us/step - loss: 33915441.7665\n",
      "Epoch 68/250\n",
      "4815/4815 [==============================] - 2s 375us/step - loss: 36243761.0043\n",
      "Epoch 69/250\n",
      "4815/4815 [==============================] - 2s 338us/step - loss: 35235356.4228\n",
      "Epoch 70/250\n",
      "4815/4815 [==============================] - 2s 371us/step - loss: 34543156.3132\n",
      "Epoch 71/250\n",
      "4815/4815 [==============================] - 2s 349us/step - loss: 34504799.4263\n",
      "Epoch 72/250\n",
      "4815/4815 [==============================] - 2s 328us/step - loss: 34056676.7261\n",
      "Epoch 73/250\n",
      "4815/4815 [==============================] - 2s 317us/step - loss: 35561657.6439\n",
      "Epoch 74/250\n",
      "4815/4815 [==============================] - 2s 334us/step - loss: 33502182.3421\n",
      "Epoch 75/250\n",
      "4815/4815 [==============================] - 2s 375us/step - loss: 33617987.4357\n",
      "Epoch 76/250\n",
      "4815/4815 [==============================] - 2s 351us/step - loss: 34489707.2303\n",
      "Epoch 77/250\n",
      "4815/4815 [==============================] - 2s 323us/step - loss: 33747546.5408\n",
      "Epoch 78/250\n",
      "4815/4815 [==============================] - 2s 389us/step - loss: 32438405.9294\n",
      "Epoch 79/250\n",
      "4815/4815 [==============================] - 2s 439us/step - loss: 35763999.4669\n",
      "Epoch 80/250\n",
      "4815/4815 [==============================] - 2s 343us/step - loss: 34405140.6565\n",
      "Epoch 81/250\n",
      "4815/4815 [==============================] - 2s 330us/step - loss: 34334063.0656\n",
      "Epoch 82/250\n",
      "4815/4815 [==============================] - 2s 363us/step - loss: 31784230.9642\n",
      "Epoch 83/250\n",
      "4815/4815 [==============================] - 2s 373us/step - loss: 32917247.2855\n",
      "Epoch 84/250\n",
      "4815/4815 [==============================] - 2s 372us/step - loss: 34621736.6972\n",
      "Epoch 85/250\n",
      "4815/4815 [==============================] - 2s 408us/step - loss: 32214658.0362\n",
      "Epoch 86/250\n",
      "4815/4815 [==============================] - 2s 411us/step - loss: 34545199.7391\n",
      "Epoch 87/250\n",
      "4815/4815 [==============================] - 2s 383us/step - loss: 30962269.7021\n",
      "Epoch 88/250\n"
     ]
    },
    {
     "name": "stdout",
     "output_type": "stream",
     "text": [
      "4815/4815 [==============================] - 2s 374us/step - loss: 32948149.3800\n",
      "Epoch 89/250\n",
      "4815/4815 [==============================] - 2s 434us/step - loss: 35155515.9983\n",
      "Epoch 90/250\n",
      "4815/4815 [==============================] - 2s 326us/step - loss: 33067710.1922\n",
      "Epoch 91/250\n",
      "4815/4815 [==============================] - 2s 388us/step - loss: 32671912.3648\n",
      "Epoch 92/250\n",
      "4815/4815 [==============================] - 2s 428us/step - loss: 33603505.9355\n",
      "Epoch 93/250\n",
      "4815/4815 [==============================] - 2s 417us/step - loss: 32924733.7070\n",
      "Epoch 94/250\n",
      "4815/4815 [==============================] - 2s 322us/step - loss: 32990928.4459\n",
      "Epoch 95/250\n",
      "4815/4815 [==============================] - 2s 455us/step - loss: 33417070.1046\n",
      "Epoch 96/250\n",
      "4815/4815 [==============================] - 2s 371us/step - loss: 33202271.0155\n",
      "Epoch 97/250\n",
      "4815/4815 [==============================] - 2s 336us/step - loss: 32089709.3487\n",
      "Epoch 98/250\n",
      "4815/4815 [==============================] - 2s 377us/step - loss: 32974931.6729\n",
      "Epoch 99/250\n",
      "4815/4815 [==============================] - 2s 360us/step - loss: 32897921.9447\n",
      "Epoch 100/250\n",
      "4815/4815 [==============================] - 2s 402us/step - loss: 31983942.7115\n",
      "Epoch 101/250\n",
      "4815/4815 [==============================] - 2s 363us/step - loss: 32137452.7798\n",
      "Epoch 102/250\n",
      "4815/4815 [==============================] - 2s 435us/step - loss: 31778813.3648\n",
      "Epoch 103/250\n",
      "4815/4815 [==============================] - 2s 441us/step - loss: 32614551.5812\n",
      "Epoch 104/250\n",
      "4815/4815 [==============================] - 2s 453us/step - loss: 31928216.1136\n",
      "Epoch 105/250\n",
      "4815/4815 [==============================] - 2s 453us/step - loss: 32769370.9151\n",
      "Epoch 106/250\n",
      "4815/4815 [==============================] - 2s 445us/step - loss: 32216394.4619\n",
      "Epoch 107/250\n",
      "4815/4815 [==============================] - 2s 326us/step - loss: 30751100.7118\n",
      "Epoch 108/250\n",
      "4815/4815 [==============================] - 2s 313us/step - loss: 33166797.2171\n",
      "Epoch 109/250\n",
      "4815/4815 [==============================] - 1s 307us/step - loss: 31757311.8664\n",
      "Epoch 110/250\n",
      "4815/4815 [==============================] - 2s 317us/step - loss: 32904859.6495\n",
      "Epoch 111/250\n",
      "4815/4815 [==============================] - 2s 338us/step - loss: 30225306.8953\n",
      "Epoch 112/250\n",
      "4815/4815 [==============================] - 1s 309us/step - loss: 32113729.5084\n",
      "Epoch 113/250\n",
      "4815/4815 [==============================] - 2s 315us/step - loss: 33368113.2936\n",
      "Epoch 114/250\n",
      "4815/4815 [==============================] - 2s 318us/step - loss: 32143598.2671\n",
      "Epoch 115/250\n",
      "4815/4815 [==============================] - 1s 311us/step - loss: 31036340.5498\n",
      "Epoch 116/250\n",
      "4815/4815 [==============================] - 2s 384us/step - loss: 31828971.7343\n",
      "Epoch 117/250\n",
      "4815/4815 [==============================] - 2s 383us/step - loss: 32891258.6286\n",
      "Epoch 118/250\n",
      "4815/4815 [==============================] - 2s 399us/step - loss: 31119869.5048\n",
      "Epoch 119/250\n",
      "4815/4815 [==============================] - 2s 364us/step - loss: 33087274.4958\n",
      "Epoch 120/250\n",
      "4815/4815 [==============================] - 2s 366us/step - loss: 32940534.4855\n",
      "Epoch 121/250\n",
      "4815/4815 [==============================] - 2s 316us/step - loss: 30306587.4464\n",
      "Epoch 122/250\n",
      "4815/4815 [==============================] - 2s 318us/step - loss: 31009908.8151\n",
      "Epoch 123/250\n",
      "4815/4815 [==============================] - 2s 319us/step - loss: 31489140.3776\n",
      "Epoch 124/250\n",
      "4815/4815 [==============================] - 2s 315us/step - loss: 29552871.2292\n",
      "Epoch 125/250\n",
      "4815/4815 [==============================] - 2s 319us/step - loss: 30507587.1469\n",
      "Epoch 126/250\n",
      "4815/4815 [==============================] - 2s 314us/step - loss: 31629819.1053\n",
      "Epoch 127/250\n",
      "4815/4815 [==============================] - 2s 315us/step - loss: 30282672.4437\n",
      "Epoch 128/250\n",
      "4815/4815 [==============================] - 2s 331us/step - loss: 31494356.2994\n",
      "Epoch 129/250\n",
      "4815/4815 [==============================] - 2s 349us/step - loss: 30858546.1333\n",
      "Epoch 130/250\n",
      "4815/4815 [==============================] - 2s 365us/step - loss: 29739791.4876\n",
      "Epoch 131/250\n",
      "4815/4815 [==============================] - 2s 354us/step - loss: 31383359.7855\n",
      "Epoch 132/250\n",
      "4815/4815 [==============================] - 2s 342us/step - loss: 30567479.8464\n",
      "Epoch 133/250\n",
      "4815/4815 [==============================] - 2s 328us/step - loss: 30823687.5247\n",
      "Epoch 134/250\n",
      "4815/4815 [==============================] - 2s 369us/step - loss: 29773906.8734\n",
      "Epoch 135/250\n",
      "4815/4815 [==============================] - 2s 361us/step - loss: 33630115.5952\n",
      "Epoch 136/250\n",
      "4815/4815 [==============================] - 2s 319us/step - loss: 30443419.4903\n",
      "Epoch 137/250\n",
      "4815/4815 [==============================] - 2s 318us/step - loss: 29695355.3288\n",
      "Epoch 138/250\n",
      "4815/4815 [==============================] - 2s 326us/step - loss: 30526253.1487\n",
      "Epoch 139/250\n",
      "4815/4815 [==============================] - 2s 322us/step - loss: 30725162.3158\n",
      "Epoch 140/250\n",
      "4815/4815 [==============================] - 2s 358us/step - loss: 31120982.0596\n",
      "Epoch 141/250\n",
      "4815/4815 [==============================] - 2s 321us/step - loss: 29815964.5276\n",
      "Epoch 142/250\n",
      "4815/4815 [==============================] - 2s 325us/step - loss: 30483543.7919\n",
      "Epoch 143/250\n",
      "4815/4815 [==============================] - 2s 319us/step - loss: 31163707.7675\n",
      "Epoch 144/250\n",
      "4815/4815 [==============================] - 2s 329us/step - loss: 28558240.6698\n",
      "Epoch 145/250\n",
      "4815/4815 [==============================] - 2s 321us/step - loss: 30543247.6814\n",
      "Epoch 146/250\n",
      "4815/4815 [==============================] - 2s 325us/step - loss: 30635831.8518\n",
      "Epoch 147/250\n",
      "4815/4815 [==============================] - 2s 320us/step - loss: 32347970.2530\n",
      "Epoch 148/250\n",
      "4815/4815 [==============================] - 2s 319us/step - loss: 29613580.8826\n",
      "Epoch 149/250\n",
      "4815/4815 [==============================] - 2s 323us/step - loss: 30878348.7675\n",
      "Epoch 150/250\n",
      "4815/4815 [==============================] - 2s 348us/step - loss: 30171337.9538\n",
      "Epoch 151/250\n",
      "4815/4815 [==============================] - 2s 331us/step - loss: 28631741.8559\n",
      "Epoch 152/250\n",
      "4815/4815 [==============================] - 2s 323us/step - loss: 28733623.4467\n",
      "Epoch 153/250\n",
      "4815/4815 [==============================] - 2s 322us/step - loss: 30023754.9775\n",
      "Epoch 154/250\n",
      "4815/4815 [==============================] - 2s 321us/step - loss: 31452215.0796\n",
      "Epoch 155/250\n",
      "4815/4815 [==============================] - 2s 319us/step - loss: 30671713.3736\n",
      "Epoch 156/250\n",
      "4815/4815 [==============================] - 2s 324us/step - loss: 30783694.0463\n",
      "Epoch 157/250\n",
      "4815/4815 [==============================] - 2s 319us/step - loss: 30896150.9265\n",
      "Epoch 158/250\n",
      "4815/4815 [==============================] - 2s 316us/step - loss: 30111143.2036\n",
      "Epoch 159/250\n",
      "4815/4815 [==============================] - 2s 320us/step - loss: 29383172.3119\n",
      "Epoch 160/250\n",
      "4815/4815 [==============================] - 2s 332us/step - loss: 31175667.6887\n",
      "Epoch 161/250\n",
      "4815/4815 [==============================] - 2s 403us/step - loss: 30045796.5660\n",
      "Epoch 162/250\n",
      "4815/4815 [==============================] - 2s 377us/step - loss: 28951537.9449\n",
      "Epoch 163/250\n",
      "4815/4815 [==============================] - 2s 358us/step - loss: 30232865.3295\n",
      "Epoch 164/250\n",
      "4815/4815 [==============================] - 2s 319us/step - loss: 30231160.9869\n",
      "Epoch 165/250\n",
      "4815/4815 [==============================] - 2s 319us/step - loss: 28629092.4320\n",
      "Epoch 166/250\n",
      "4815/4815 [==============================] - 2s 333us/step - loss: 31028589.1558\n",
      "Epoch 167/250\n",
      "4815/4815 [==============================] - 2s 381us/step - loss: 29548465.1980\n",
      "Epoch 168/250\n",
      "4815/4815 [==============================] - 2s 343us/step - loss: 29585275.8104\n",
      "Epoch 169/250\n",
      "4815/4815 [==============================] - 2s 346us/step - loss: 32395882.7940\n",
      "Epoch 170/250\n",
      "4815/4815 [==============================] - 2s 376us/step - loss: 29471623.9709\n",
      "Epoch 171/250\n",
      "4815/4815 [==============================] - 2s 339us/step - loss: 30027223.7773\n",
      "Epoch 172/250\n",
      "4815/4815 [==============================] - 2s 336us/step - loss: 30255852.5915\n",
      "Epoch 173/250\n",
      "4815/4815 [==============================] - 2s 334us/step - loss: 27908237.0826\n",
      "Epoch 174/250\n"
     ]
    },
    {
     "name": "stdout",
     "output_type": "stream",
     "text": [
      "4815/4815 [==============================] - 2s 331us/step - loss: 29162557.4679\n",
      "Epoch 175/250\n",
      "4815/4815 [==============================] - 2s 313us/step - loss: 30763656.9967\n",
      "Epoch 176/250\n",
      "4815/4815 [==============================] - 1s 308us/step - loss: 30426462.2673\n",
      "Epoch 177/250\n",
      "4815/4815 [==============================] - 2s 317us/step - loss: 28839598.2029\n",
      "Epoch 178/250\n",
      "4815/4815 [==============================] - 2s 356us/step - loss: 28436933.0342\n",
      "Epoch 179/250\n",
      "4815/4815 [==============================] - 2s 356us/step - loss: 29534311.9117\n",
      "Epoch 180/250\n",
      "4815/4815 [==============================] - 2s 349us/step - loss: 29530346.0477\n",
      "Epoch 181/250\n",
      "4815/4815 [==============================] - 2s 313us/step - loss: 28673385.5832\n",
      "Epoch 182/250\n",
      "4815/4815 [==============================] - 1s 310us/step - loss: 29456463.8296\n",
      "Epoch 183/250\n",
      "4815/4815 [==============================] - 1s 309us/step - loss: 27771584.9744\n",
      "Epoch 184/250\n",
      "4815/4815 [==============================] - 1s 308us/step - loss: 29127116.3182\n",
      "Epoch 185/250\n",
      "4815/4815 [==============================] - 1s 308us/step - loss: 29468963.5758\n",
      "Epoch 186/250\n",
      "4815/4815 [==============================] - 2s 312us/step - loss: 28526616.3625\n",
      "Epoch 187/250\n",
      "4815/4815 [==============================] - 2s 357us/step - loss: 32264288.2948\n",
      "Epoch 188/250\n",
      "4815/4815 [==============================] - 2s 367us/step - loss: 30578002.8851\n",
      "Epoch 189/250\n",
      "4815/4815 [==============================] - 2s 351us/step - loss: 27639549.2817\n",
      "Epoch 190/250\n",
      "4815/4815 [==============================] - 2s 379us/step - loss: 28564894.6795\n",
      "Epoch 191/250\n",
      "4815/4815 [==============================] - 2s 366us/step - loss: 29153606.2656\n",
      "Epoch 192/250\n",
      "4815/4815 [==============================] - 1s 309us/step - loss: 29338460.9620\n",
      "Epoch 193/250\n",
      "4815/4815 [==============================] - 1s 309us/step - loss: 27653722.6542\n",
      "Epoch 194/250\n",
      "4815/4815 [==============================] - 2s 316us/step - loss: 29833553.1617\n",
      "Epoch 195/250\n",
      "4815/4815 [==============================] - 2s 314us/step - loss: 29898117.3063\n",
      "Epoch 196/250\n",
      "4815/4815 [==============================] - 2s 312us/step - loss: 30019990.5286\n",
      "Epoch 197/250\n",
      "4815/4815 [==============================] - 2s 314us/step - loss: 29535961.8206\n",
      "Epoch 198/250\n",
      "4815/4815 [==============================] - 2s 313us/step - loss: 29425942.0777\n",
      "Epoch 199/250\n",
      "4815/4815 [==============================] - 2s 314us/step - loss: 30003718.3097\n",
      "Epoch 200/250\n",
      "4815/4815 [==============================] - 2s 351us/step - loss: 30022856.2871\n",
      "Epoch 201/250\n",
      "4815/4815 [==============================] - 2s 323us/step - loss: 28237329.9517\n",
      "Epoch 202/250\n",
      "4815/4815 [==============================] - 2s 318us/step - loss: 32883930.8646\n",
      "Epoch 203/250\n",
      "4815/4815 [==============================] - 2s 315us/step - loss: 29197015.7683\n",
      "Epoch 204/250\n",
      "4815/4815 [==============================] - 2s 319us/step - loss: 30706519.1745\n",
      "Epoch 205/250\n",
      "4815/4815 [==============================] - 1s 308us/step - loss: 30963088.7702\n",
      "Epoch 206/250\n",
      "4815/4815 [==============================] - 2s 316us/step - loss: 31467337.6290\n",
      "Epoch 207/250\n",
      "4815/4815 [==============================] - 2s 318us/step - loss: 30181274.5771\n",
      "Epoch 208/250\n",
      "4815/4815 [==============================] - 2s 386us/step - loss: 28888025.4796\n",
      "Epoch 209/250\n",
      "4815/4815 [==============================] - 2s 373us/step - loss: 28391823.0029\n",
      "Epoch 210/250\n",
      "4815/4815 [==============================] - 2s 371us/step - loss: 29792659.8530\n",
      "Epoch 211/250\n",
      "4815/4815 [==============================] - 2s 343us/step - loss: 31215243.8951\n",
      "Epoch 212/250\n",
      "4815/4815 [==============================] - 2s 334us/step - loss: 28146334.7813\n",
      "Epoch 213/250\n",
      "4815/4815 [==============================] - 2s 333us/step - loss: 29198534.3342\n",
      "Epoch 214/250\n",
      "4815/4815 [==============================] - 2s 362us/step - loss: 28552537.4474\n",
      "Epoch 215/250\n",
      "4815/4815 [==============================] - 2s 387us/step - loss: 28228371.5349\n",
      "Epoch 216/250\n",
      "4815/4815 [==============================] - 2s 361us/step - loss: 28258183.6644\n",
      "Epoch 217/250\n",
      "4815/4815 [==============================] - 2s 315us/step - loss: 30960628.2132\n",
      "Epoch 218/250\n",
      "4815/4815 [==============================] - 2s 320us/step - loss: 29522101.6600\n",
      "Epoch 219/250\n",
      "4815/4815 [==============================] - 2s 315us/step - loss: 28283658.0029\n",
      "Epoch 220/250\n",
      "4815/4815 [==============================] - 2s 359us/step - loss: 29567380.5241\n",
      "Epoch 221/250\n",
      "4815/4815 [==============================] - 2s 317us/step - loss: 28418470.7408\n",
      "Epoch 222/250\n",
      "4815/4815 [==============================] - 2s 315us/step - loss: 29508286.9943\n",
      "Epoch 223/250\n",
      "4815/4815 [==============================] - 2s 317us/step - loss: 29738593.5046\n",
      "Epoch 224/250\n",
      "4815/4815 [==============================] - 2s 316us/step - loss: 29478079.9987\n",
      "Epoch 225/250\n",
      "4815/4815 [==============================] - 2s 316us/step - loss: 30857269.9559\n",
      "Epoch 226/250\n",
      "4815/4815 [==============================] - 2s 361us/step - loss: 29751091.5664\n",
      "Epoch 227/250\n",
      "4815/4815 [==============================] - 2s 349us/step - loss: 28400996.2417\n",
      "Epoch 228/250\n",
      "4815/4815 [==============================] - 2s 315us/step - loss: 28667327.5851\n",
      "Epoch 229/250\n",
      "4815/4815 [==============================] - 2s 316us/step - loss: 28568772.8327\n",
      "Epoch 230/250\n",
      "4815/4815 [==============================] - 2s 352us/step - loss: 29283159.9632\n",
      "Epoch 231/250\n",
      "4815/4815 [==============================] - 2s 375us/step - loss: 30397210.5238\n",
      "Epoch 232/250\n",
      "4815/4815 [==============================] - 2s 378us/step - loss: 30290387.6506\n",
      "Epoch 233/250\n",
      "4815/4815 [==============================] - 2s 352us/step - loss: 28599529.3849\n",
      "Epoch 234/250\n",
      "4815/4815 [==============================] - 2s 317us/step - loss: 30291023.8844\n",
      "Epoch 235/250\n",
      "4815/4815 [==============================] - 2s 313us/step - loss: 31759028.9347\n",
      "Epoch 236/250\n",
      "4815/4815 [==============================] - 2s 316us/step - loss: 29619900.9216\n",
      "Epoch 237/250\n",
      "4815/4815 [==============================] - 2s 327us/step - loss: 31008513.3304\n",
      "Epoch 238/250\n",
      "4815/4815 [==============================] - 2s 382us/step - loss: 29572581.8978\n",
      "Epoch 239/250\n",
      "4815/4815 [==============================] - 2s 352us/step - loss: 30697223.3693\n",
      "Epoch 240/250\n",
      "4815/4815 [==============================] - 2s 359us/step - loss: 29993795.3608\n",
      "Epoch 241/250\n",
      "4815/4815 [==============================] - 2s 320us/step - loss: 29752233.3029\n",
      "Epoch 242/250\n",
      "4815/4815 [==============================] - 2s 380us/step - loss: 28291125.8472\n",
      "Epoch 243/250\n",
      "4815/4815 [==============================] - 2s 374us/step - loss: 30290794.4087\n",
      "Epoch 244/250\n",
      "4815/4815 [==============================] - 2s 344us/step - loss: 28854991.4727\n",
      "Epoch 245/250\n",
      "4815/4815 [==============================] - 2s 316us/step - loss: 28767314.5990\n",
      "Epoch 246/250\n",
      "4815/4815 [==============================] - 2s 380us/step - loss: 28387324.0374\n",
      "Epoch 247/250\n",
      "4815/4815 [==============================] - 2s 334us/step - loss: 28685812.9987\n",
      "Epoch 248/250\n",
      "4815/4815 [==============================] - 2s 326us/step - loss: 29145919.6572\n",
      "Epoch 249/250\n",
      "4815/4815 [==============================] - 2s 362us/step - loss: 28803746.1319\n",
      "Epoch 250/250\n",
      "4815/4815 [==============================] - 2s 396us/step - loss: 27324700.2756\n"
     ]
    },
    {
     "data": {
      "text/plain": [
       "<keras.callbacks.callbacks.History at 0x10626433348>"
      ]
     },
     "execution_count": 1864,
     "metadata": {},
     "output_type": "execute_result"
    }
   ],
   "source": [
    "\n",
    "model.fit(X_train, y_train, epochs=250,batch_size=8,shuffle=False)"
   ]
  },
  {
   "cell_type": "code",
   "execution_count": 1865,
   "metadata": {},
   "outputs": [],
   "source": [
    "test_pred = model.predict(X_test)\n",
    "train_pred= model.predict(X_train)"
   ]
  },
  {
   "cell_type": "code",
   "execution_count": 1866,
   "metadata": {},
   "outputs": [
    {
     "data": {
      "text/plain": [
       "5150    13227.65\n",
       "2164     7754.14\n",
       "1136     7115.57\n",
       "5641    15344.08\n",
       "1515    24594.31\n",
       "          ...   \n",
       "5899     9104.27\n",
       "4139    69604.83\n",
       "728     15508.28\n",
       "3619    11403.15\n",
       "3828     7060.83\n",
       "Name: Price, Length: 1204, dtype: float64"
      ]
     },
     "execution_count": 1866,
     "metadata": {},
     "output_type": "execute_result"
    }
   ],
   "source": [
    "y_test "
   ]
  },
  {
   "cell_type": "code",
   "execution_count": 1867,
   "metadata": {},
   "outputs": [
    {
     "data": {
      "text/plain": [
       "array([[15966.087 ],\n",
       "       [ 6572.9297],\n",
       "       [ 6638.075 ],\n",
       "       ...,\n",
       "       [14196.8545],\n",
       "       [10574.74  ],\n",
       "       [ 6195.861 ]], dtype=float32)"
      ]
     },
     "execution_count": 1867,
     "metadata": {},
     "output_type": "execute_result"
    }
   ],
   "source": [
    "test_pred"
   ]
  },
  {
   "cell_type": "code",
   "execution_count": 1868,
   "metadata": {},
   "outputs": [
    {
     "data": {
      "text/plain": [
       "array([15966.087 ,  6572.9297,  6638.075 , ..., 14196.8545, 10574.74  ,\n",
       "        6195.861 ], dtype=float32)"
      ]
     },
     "execution_count": 1868,
     "metadata": {},
     "output_type": "execute_result"
    }
   ],
   "source": [
    "test_u =test_pred.flatten()\n",
    "test_u"
   ]
  },
  {
   "cell_type": "code",
   "execution_count": 1869,
   "metadata": {},
   "outputs": [],
   "source": [
    "train_u = train_pred.flatten()"
   ]
  },
  {
   "cell_type": "code",
   "execution_count": 1870,
   "metadata": {},
   "outputs": [
    {
     "name": "stdout",
     "output_type": "stream",
     "text": [
      "Tree on train set MAE%: 12.3\n",
      "Tree on test set MAE%: 15.3\n"
     ]
    }
   ],
   "source": [
    "MAE_train=np.mean(abs(y_train-train_u))/np.mean(y_train)\n",
    "print(\"Tree on train set MAE%:\", round(MAE_train*100,1))\n",
    "\n",
    "MAE_test=np.mean(abs(y_test-test_u))/np.mean(y_test)\n",
    "print(\"Tree on test set MAE%:\", round(MAE_test*100,1))"
   ]
  },
  {
   "cell_type": "code",
   "execution_count": 1871,
   "metadata": {},
   "outputs": [
    {
     "name": "stdout",
     "output_type": "stream",
     "text": [
      "Accuracy for Test set 0.907991610236776\n",
      "Accuracy for Training set 0.9433513625577761\n"
     ]
    }
   ],
   "source": [
    "print(\"Accuracy for Test set\",r2_score(y_test,test_u))\n",
    "print(\"Accuracy for Training set\",r2_score(y_train,train_u))"
   ]
  },
  {
   "cell_type": "code",
   "execution_count": 1872,
   "metadata": {},
   "outputs": [
    {
     "data": {
      "text/plain": [
       "array([[12648.543 ],\n",
       "       [ 6617.9043],\n",
       "       [ 1883.5035],\n",
       "       ...,\n",
       "       [10956.988 ],\n",
       "       [16401.816 ],\n",
       "       [ 7350.668 ]], dtype=float32)"
      ]
     },
     "execution_count": 1872,
     "metadata": {},
     "output_type": "execute_result"
    }
   ],
   "source": [
    "train_pred"
   ]
  },
  {
   "cell_type": "markdown",
   "metadata": {},
   "source": [
    "# Splitting data with a test size of 0.25"
   ]
  },
  {
   "cell_type": "code",
   "execution_count": 1873,
   "metadata": {},
   "outputs": [],
   "source": [
    "X_train1,X_test1,y_train1,y_test1 = train_test_split(X,Y,test_size=0.25, random_state = 0)"
   ]
  },
  {
   "cell_type": "code",
   "execution_count": 1874,
   "metadata": {},
   "outputs": [],
   "source": [
    "minma = MinMaxScaler()\n",
    "minma.fit(X_train1)\n",
    "X_train1 = minma.transform(X_train1)\n",
    "X_test1 = minma.transform(X_test1)"
   ]
  },
  {
   "cell_type": "markdown",
   "metadata": {},
   "source": [
    "# Linear Regression Model "
   ]
  },
  {
   "cell_type": "code",
   "execution_count": 1875,
   "metadata": {},
   "outputs": [],
   "source": [
    "reg = LinearRegression()\n",
    "reg = reg.fit(X_train1,y_train1)\n",
    "train_prediction1 = reg.predict(X_train1)\n",
    "test_prediction1 = reg.predict(X_test1)"
   ]
  },
  {
   "cell_type": "code",
   "execution_count": 1876,
   "metadata": {},
   "outputs": [
    {
     "name": "stdout",
     "output_type": "stream",
     "text": [
      "Accuracy for Test set -1.5902013716065776e+20\n",
      "Accuracy for Training set 0.8512009162115972\n"
     ]
    }
   ],
   "source": [
    "print(\"Accuracy for Test set\",reg.score(X_test1,y_test1))\n",
    "print(\"Accuracy for Training set\",reg.score(X_train1,y_train1))"
   ]
  },
  {
   "cell_type": "code",
   "execution_count": 1877,
   "metadata": {},
   "outputs": [
    {
     "data": {
      "text/plain": [
       "257217380023557.47"
      ]
     },
     "execution_count": 1877,
     "metadata": {},
     "output_type": "execute_result"
    }
   ],
   "source": [
    "math.sqrt(mean_squared_error(y_test1,test_prediction1))"
   ]
  },
  {
   "cell_type": "code",
   "execution_count": 1878,
   "metadata": {},
   "outputs": [
    {
     "name": "stdout",
     "output_type": "stream",
     "text": [
      "Tree on train set MAE%: 24.8\n",
      "Tree on test set MAE%: 45298849531.3\n"
     ]
    }
   ],
   "source": [
    "MAE_train=np.mean(abs(y_train1-train_prediction1))/np.mean(y_train1)\n",
    "print(\"Tree on train set MAE%:\", round(MAE_train*100,1))\n",
    "\n",
    "MAE_test=np.mean(abs(y_test1-test_prediction1))/np.mean(y_test1)\n",
    "print(\"Tree on test set MAE%:\", round(MAE_test*100,1))"
   ]
  },
  {
   "cell_type": "code",
   "execution_count": 1879,
   "metadata": {},
   "outputs": [
    {
     "data": {
      "text/plain": [
       "5150    13227.65\n",
       "2164     7754.14\n",
       "1136     7115.57\n",
       "5641    15344.08\n",
       "1515    24594.31\n",
       "          ...   \n",
       "817      9578.65\n",
       "3325    12315.40\n",
       "1875    18427.49\n",
       "2861    11676.83\n",
       "2315     8483.94\n",
       "Name: Price, Length: 1505, dtype: float64"
      ]
     },
     "execution_count": 1879,
     "metadata": {},
     "output_type": "execute_result"
    }
   ],
   "source": [
    "y_test1"
   ]
  },
  {
   "cell_type": "code",
   "execution_count": 1880,
   "metadata": {},
   "outputs": [
    {
     "data": {
      "text/plain": [
       "array([17897.32174332,  6533.57102296,  5967.07372149, ...,\n",
       "       20804.86106139,  9303.25189379, 13837.22082587])"
      ]
     },
     "execution_count": 1880,
     "metadata": {},
     "output_type": "execute_result"
    }
   ],
   "source": [
    "test_prediction1"
   ]
  },
  {
   "cell_type": "code",
   "execution_count": 1881,
   "metadata": {},
   "outputs": [
    {
     "data": {
      "image/png": "[encoded data removed]",
      "text/plain": [
       "<Figure size 432x288 with 1 Axes>"
      ]
     },
     "metadata": {
      "needs_background": "light"
     },
     "output_type": "display_data"
    }
   ],
   "source": [
    "# Create a scatter plot with train and test\n",
    "\n",
    "plt.scatter(y_train1, train_prediction1, label='train')\n",
    "plt.scatter(y_test1, test_prediction1, label='test')\n",
    "plt.legend()\n",
    "plt.show()"
   ]
  },
  {
   "cell_type": "markdown",
   "metadata": {},
   "source": [
    "# K Neighbor Regressor Model "
   ]
  },
  {
   "cell_type": "code",
   "execution_count": 1882,
   "metadata": {},
   "outputs": [
    {
     "name": "stdout",
     "output_type": "stream",
     "text": [
      "Accuracy for Test set 0.8451688898131513\n",
      "Accuracy for Training set 0.9100521438575283\n"
     ]
    }
   ],
   "source": [
    "k_reg=KNeighborsRegressor()\n",
    "k_reg = k_reg.fit(X_train1,y_train1)\n",
    "train_prediction1 = k_reg.predict(X_train1)\n",
    "test_prediction1=k_reg.predict(X_test1)\n",
    "print(\"Accuracy for Test set\",k_reg.score(X_test1,y_test1))\n",
    "print(\"Accuracy for Training set\",k_reg.score(X_train1,y_train1))"
   ]
  },
  {
   "cell_type": "code",
   "execution_count": 1883,
   "metadata": {},
   "outputs": [
    {
     "data": {
      "text/plain": [
       "8026.077746514663"
      ]
     },
     "execution_count": 1883,
     "metadata": {},
     "output_type": "execute_result"
    }
   ],
   "source": [
    "math.sqrt(mean_squared_error(y_test1,test_prediction1))"
   ]
  },
  {
   "cell_type": "code",
   "execution_count": 1884,
   "metadata": {},
   "outputs": [
    {
     "name": "stdout",
     "output_type": "stream",
     "text": [
      "Tree on train set MAE%: 15.0\n",
      "Tree on test set MAE%: 19.2\n"
     ]
    }
   ],
   "source": [
    "MAE_train=np.mean(abs(y_train1-train_prediction1))/np.mean(y_train1)\n",
    "print(\"Tree on train set MAE%:\", round(MAE_train*100,1))\n",
    "\n",
    "MAE_test=np.mean(abs(y_test1-test_prediction1))/np.mean(y_test1)\n",
    "print(\"Tree on test set MAE%:\", round(MAE_test*100,1))"
   ]
  },
  {
   "cell_type": "code",
   "execution_count": 1885,
   "metadata": {},
   "outputs": [
    {
     "data": {
      "text/plain": [
       "5150    13227.65\n",
       "2164     7754.14\n",
       "1136     7115.57\n",
       "5641    15344.08\n",
       "1515    24594.31\n",
       "          ...   \n",
       "817      9578.65\n",
       "3325    12315.40\n",
       "1875    18427.49\n",
       "2861    11676.83\n",
       "2315     8483.94\n",
       "Name: Price, Length: 1505, dtype: float64"
      ]
     },
     "execution_count": 1885,
     "metadata": {},
     "output_type": "execute_result"
    }
   ],
   "source": [
    "y_test1"
   ]
  },
  {
   "cell_type": "code",
   "execution_count": 1886,
   "metadata": {},
   "outputs": [
    {
     "data": {
      "text/plain": [
       "array([15387.868,  6199.664,  6104.792, ..., 22368.42 ,  9746.5  ,\n",
       "       10914.182])"
      ]
     },
     "execution_count": 1886,
     "metadata": {},
     "output_type": "execute_result"
    }
   ],
   "source": [
    "test_prediction1"
   ]
  },
  {
   "cell_type": "code",
   "execution_count": 1887,
   "metadata": {},
   "outputs": [
    {
     "data": {
      "image/png": "[encoded data removed]",
      "text/plain": [
       "<Figure size 432x288 with 1 Axes>"
      ]
     },
     "metadata": {
      "needs_background": "light"
     },
     "output_type": "display_data"
    }
   ],
   "source": [
    "# Create a scatter plot with train and test\n",
    "\n",
    "plt.scatter(y_train1, train_prediction1, label='train')\n",
    "plt.scatter(y_test1, test_prediction1, label='test')\n",
    "plt.legend()\n",
    "plt.show()"
   ]
  },
  {
   "cell_type": "markdown",
   "metadata": {},
   "source": [
    "# Decision Tree Regressor Model "
   ]
  },
  {
   "cell_type": "code",
   "execution_count": 1888,
   "metadata": {},
   "outputs": [
    {
     "name": "stdout",
     "output_type": "stream",
     "text": [
      "Accuracy for Test set 0.8068296265010406\n",
      "Accuracy for Training set 0.9999490744116821\n"
     ]
    }
   ],
   "source": [
    "dec_reg = DecisionTreeRegressor()\n",
    "dec_reg.fit(X_train1,y_train1)\n",
    "train_prediction1 = dec_reg.predict(X_train1)\n",
    "test_prediction1=dec_reg.predict(X_test1)\n",
    "print(\"Accuracy for Test set\",dec_reg.score(X_test1,y_test1))\n",
    "print(\"Accuracy for Training set\",dec_reg.score(X_train1,y_train1))"
   ]
  },
  {
   "cell_type": "code",
   "execution_count": 1889,
   "metadata": {},
   "outputs": [
    {
     "data": {
      "text/plain": [
       "8964.880567826467"
      ]
     },
     "execution_count": 1889,
     "metadata": {},
     "output_type": "execute_result"
    }
   ],
   "source": [
    "math.sqrt(mean_squared_error(y_test1,test_prediction1))"
   ]
  },
  {
   "cell_type": "code",
   "execution_count": 1890,
   "metadata": {},
   "outputs": [
    {
     "name": "stdout",
     "output_type": "stream",
     "text": [
      "Tree on train set MAE%: 0.0\n",
      "Tree on test set MAE%: 21.0\n"
     ]
    }
   ],
   "source": [
    "MAE_train=np.mean(abs(y_train1-train_prediction1))/np.mean(y_train1)\n",
    "print(\"Tree on train set MAE%:\", round(MAE_train*100,1))\n",
    "\n",
    "MAE_test=np.mean(abs(y_test1-test_prediction1))/np.mean(y_test1)\n",
    "print(\"Tree on test set MAE%:\", round(MAE_test*100,1))"
   ]
  },
  {
   "cell_type": "code",
   "execution_count": 1891,
   "metadata": {},
   "outputs": [
    {
     "data": {
      "text/plain": [
       "5150    13227.65\n",
       "2164     7754.14\n",
       "1136     7115.57\n",
       "5641    15344.08\n",
       "1515    24594.31\n",
       "          ...   \n",
       "817      9578.65\n",
       "3325    12315.40\n",
       "1875    18427.49\n",
       "2861    11676.83\n",
       "2315     8483.94\n",
       "Name: Price, Length: 1505, dtype: float64"
      ]
     },
     "execution_count": 1891,
     "metadata": {},
     "output_type": "execute_result"
    }
   ],
   "source": [
    "y_test1"
   ]
  },
  {
   "cell_type": "code",
   "execution_count": 1892,
   "metadata": {},
   "outputs": [
    {
     "data": {
      "text/plain": [
       "array([14176.4 ,  5382.29,  6933.12, ..., 19613.42, 10290.2 , 10126.  ])"
      ]
     },
     "execution_count": 1892,
     "metadata": {},
     "output_type": "execute_result"
    }
   ],
   "source": [
    "test_prediction1"
   ]
  },
  {
   "cell_type": "code",
   "execution_count": 1893,
   "metadata": {},
   "outputs": [
    {
     "data": {
      "image/png": "[encoded data removed]",
      "text/plain": [
       "<Figure size 432x288 with 1 Axes>"
      ]
     },
     "metadata": {
      "needs_background": "light"
     },
     "output_type": "display_data"
    }
   ],
   "source": [
    "# Create a scatter plot with train and test\n",
    "\n",
    "plt.scatter(y_train1, train_prediction1, label='train')\n",
    "plt.scatter(y_test1, test_prediction1, label='test')\n",
    "plt.legend()\n",
    "plt.show()"
   ]
  },
  {
   "cell_type": "markdown",
   "metadata": {},
   "source": [
    "# Random Forest Regressor Model "
   ]
  },
  {
   "cell_type": "code",
   "execution_count": 1894,
   "metadata": {},
   "outputs": [
    {
     "name": "stdout",
     "output_type": "stream",
     "text": [
      "The test set accuracy is  0.8910429520899154\n",
      "The training set accuracy is 0.9863110701880946\n"
     ]
    }
   ],
   "source": [
    "rf_reg = RandomForestRegressor(n_estimators=200)\n",
    "rf_reg.fit(X_train1,y_train1)\n",
    "train_prediction1 = rf_reg.predict(X_train1)\n",
    "test_prediction1=rf_reg.predict(X_test1)\n",
    "print(\"The test set accuracy is \",rf_reg.score(X_test1,y_test1))\n",
    "print(\"The training set accuracy is\",rf_reg.score(X_train1,y_train1))"
   ]
  },
  {
   "cell_type": "code",
   "execution_count": 1895,
   "metadata": {},
   "outputs": [
    {
     "data": {
      "text/plain": [
       "6732.896096029492"
      ]
     },
     "execution_count": 1895,
     "metadata": {},
     "output_type": "execute_result"
    }
   ],
   "source": [
    "math.sqrt(mean_squared_error(y_test1,test_prediction1))"
   ]
  },
  {
   "cell_type": "code",
   "execution_count": 1896,
   "metadata": {},
   "outputs": [
    {
     "name": "stdout",
     "output_type": "stream",
     "text": [
      "Tree on train set MAE%: 6.1\n",
      "Tree on test set MAE%: 16.0\n"
     ]
    }
   ],
   "source": [
    "MAE_train=np.mean(abs(y_train1-train_prediction1))/np.mean(y_train1)\n",
    "print(\"Tree on train set MAE%:\", round(MAE_train*100,1))\n",
    "\n",
    "MAE_test=np.mean(abs(y_test1-test_prediction1))/np.mean(y_test1)\n",
    "print(\"Tree on test set MAE%:\", round(MAE_test*100,1))"
   ]
  },
  {
   "cell_type": "code",
   "execution_count": 1897,
   "metadata": {},
   "outputs": [
    {
     "data": {
      "text/plain": [
       "5150    13227.65\n",
       "2164     7754.14\n",
       "1136     7115.57\n",
       "5641    15344.08\n",
       "1515    24594.31\n",
       "          ...   \n",
       "817      9578.65\n",
       "3325    12315.40\n",
       "1875    18427.49\n",
       "2861    11676.83\n",
       "2315     8483.94\n",
       "Name: Price, Length: 1505, dtype: float64"
      ]
     },
     "execution_count": 1897,
     "metadata": {},
     "output_type": "execute_result"
    }
   ],
   "source": [
    "y_test1"
   ]
  },
  {
   "cell_type": "code",
   "execution_count": 1898,
   "metadata": {},
   "outputs": [
    {
     "data": {
      "text/plain": [
       "array([14313.14515,  5804.0209 ,  7441.97125, ..., 20163.96355,\n",
       "        8769.4775 , 10741.12795])"
      ]
     },
     "execution_count": 1898,
     "metadata": {},
     "output_type": "execute_result"
    }
   ],
   "source": [
    "test_prediction1"
   ]
  },
  {
   "cell_type": "code",
   "execution_count": 1899,
   "metadata": {},
   "outputs": [
    {
     "data": {
      "image/png": "[encoded data removed]",
      "text/plain": [
       "<Figure size 432x288 with 1 Axes>"
      ]
     },
     "metadata": {
      "needs_background": "light"
     },
     "output_type": "display_data"
    }
   ],
   "source": [
    "# Create a scatter plot with train and test\n",
    "\n",
    "plt.scatter(y_train1, train_prediction1, label='train')\n",
    "plt.scatter(y_test1, test_prediction1, label='test')\n",
    "plt.legend()\n",
    "plt.show()"
   ]
  },
  {
   "cell_type": "markdown",
   "metadata": {},
   "source": [
    "# Gradient Boosting Regressor Model  "
   ]
  },
  {
   "cell_type": "code",
   "execution_count": 1900,
   "metadata": {},
   "outputs": [
    {
     "name": "stdout",
     "output_type": "stream",
     "text": [
      "Accuracy for Test set 0.3676606056363152\n",
      "Accuracy for Training set 0.3742765392190528\n"
     ]
    }
   ],
   "source": [
    "gb_reg = GradientBoostingRegressor(max_features=5,\n",
    "                                learning_rate=0.01,\n",
    "                                n_estimators=200,\n",
    "                                random_state=99)\n",
    "gb_reg.fit(X_train1,y_train1)\n",
    "train_prediction1 = gb_reg.predict(X_train1)\n",
    "test_prediction1=gb_reg.predict(X_test1)\n",
    "print(\"Accuracy for Test set\",gb_reg.score(X_test1,y_test1))\n",
    "print(\"Accuracy for Training set\",gb_reg.score(X_train1,y_train1))"
   ]
  },
  {
   "cell_type": "code",
   "execution_count": 1901,
   "metadata": {},
   "outputs": [
    {
     "data": {
      "text/plain": [
       "16219.944650363259"
      ]
     },
     "execution_count": 1901,
     "metadata": {},
     "output_type": "execute_result"
    }
   ],
   "source": [
    "math.sqrt(mean_squared_error(y_test1,test_prediction1))"
   ]
  },
  {
   "cell_type": "code",
   "execution_count": 1902,
   "metadata": {},
   "outputs": [
    {
     "name": "stdout",
     "output_type": "stream",
     "text": [
      "Tree on train set MAE%: 55.9\n",
      "Tree on test set MAE%: 54.7\n"
     ]
    }
   ],
   "source": [
    "MAE_train=np.mean(abs(y_train1-train_prediction1))/np.mean(y_train1)\n",
    "print(\"Tree on train set MAE%:\", round(MAE_train*100,1))\n",
    "\n",
    "MAE_test=np.mean(abs(y_test1-test_prediction1))/np.mean(y_test1)\n",
    "print(\"Tree on test set MAE%:\", round(MAE_test*100,1))"
   ]
  },
  {
   "cell_type": "code",
   "execution_count": 1903,
   "metadata": {},
   "outputs": [
    {
     "data": {
      "text/plain": [
       "5150    13227.65\n",
       "2164     7754.14\n",
       "1136     7115.57\n",
       "5641    15344.08\n",
       "1515    24594.31\n",
       "          ...   \n",
       "817      9578.65\n",
       "3325    12315.40\n",
       "1875    18427.49\n",
       "2861    11676.83\n",
       "2315     8483.94\n",
       "Name: Price, Length: 1505, dtype: float64"
      ]
     },
     "execution_count": 1903,
     "metadata": {},
     "output_type": "execute_result"
    }
   ],
   "source": [
    "y_test1"
   ]
  },
  {
   "cell_type": "code",
   "execution_count": 1904,
   "metadata": {},
   "outputs": [
    {
     "data": {
      "text/plain": [
       "array([16743.40551104, 13130.90829656, 13059.39602676, ...,\n",
       "       17510.86083576, 14186.61830639, 14586.63883261])"
      ]
     },
     "execution_count": 1904,
     "metadata": {},
     "output_type": "execute_result"
    }
   ],
   "source": [
    "test_prediction1"
   ]
  },
  {
   "cell_type": "code",
   "execution_count": 1905,
   "metadata": {},
   "outputs": [
    {
     "data": {
      "image/png": "[encoded data removed]",
      "text/plain": [
       "<Figure size 432x288 with 1 Axes>"
      ]
     },
     "metadata": {
      "needs_background": "light"
     },
     "output_type": "display_data"
    }
   ],
   "source": [
    "# Create a scatter plot with train and test\n",
    "\n",
    "plt.scatter(y_train1, train_prediction1, label='train')\n",
    "plt.scatter(y_test1, test_prediction1, label='test')\n",
    "plt.legend()\n",
    "plt.show()"
   ]
  },
  {
   "cell_type": "markdown",
   "metadata": {},
   "source": [
    "# Ridge Regression Model "
   ]
  },
  {
   "cell_type": "code",
   "execution_count": 1906,
   "metadata": {},
   "outputs": [
    {
     "name": "stdout",
     "output_type": "stream",
     "text": [
      "Accuracy for Test set 0.8266747327522245\n",
      "Accuracy for Training set 0.839776577928753\n"
     ]
    }
   ],
   "source": [
    "clf = Ridge(alpha=1.0)\n",
    "clf.fit(X_train1,y_train1)\n",
    "train_prediction1 = clf.predict(X_train1)\n",
    "test_prediction1=clf.predict(X_test1)\n",
    "print(\"Accuracy for Test set\",clf.score(X_test1,y_test1))\n",
    "print(\"Accuracy for Training set\",clf.score(X_train1,y_train1))"
   ]
  },
  {
   "cell_type": "code",
   "execution_count": 1907,
   "metadata": {},
   "outputs": [
    {
     "data": {
      "text/plain": [
       "8491.906185701608"
      ]
     },
     "execution_count": 1907,
     "metadata": {},
     "output_type": "execute_result"
    }
   ],
   "source": [
    "math.sqrt(mean_squared_error(y_test1,test_prediction1))"
   ]
  },
  {
   "cell_type": "code",
   "execution_count": 1908,
   "metadata": {},
   "outputs": [
    {
     "name": "stdout",
     "output_type": "stream",
     "text": [
      "Tree on train set MAE%: 26.2\n",
      "Tree on test set MAE%: 25.8\n"
     ]
    }
   ],
   "source": [
    "MAE_train=np.mean(abs(y_train1-train_prediction1))/np.mean(y_train1)\n",
    "print(\"Tree on train set MAE%:\", round(MAE_train*100,1))\n",
    "\n",
    "MAE_test=np.mean(abs(y_test1-test_prediction1))/np.mean(y_test1)\n",
    "print(\"Tree on test set MAE%:\", round(MAE_test*100,1))"
   ]
  },
  {
   "cell_type": "code",
   "execution_count": 1909,
   "metadata": {},
   "outputs": [
    {
     "data": {
      "text/plain": [
       "5150    13227.65\n",
       "2164     7754.14\n",
       "1136     7115.57\n",
       "5641    15344.08\n",
       "1515    24594.31\n",
       "          ...   \n",
       "817      9578.65\n",
       "3325    12315.40\n",
       "1875    18427.49\n",
       "2861    11676.83\n",
       "2315     8483.94\n",
       "Name: Price, Length: 1505, dtype: float64"
      ]
     },
     "execution_count": 1909,
     "metadata": {},
     "output_type": "execute_result"
    }
   ],
   "source": [
    "y_test1"
   ]
  },
  {
   "cell_type": "code",
   "execution_count": 1910,
   "metadata": {},
   "outputs": [
    {
     "data": {
      "text/plain": [
       "array([17966.28207735,  8472.34882576,  5771.77397404, ...,\n",
       "       21435.18034238,  9227.96640878, 13282.88068514])"
      ]
     },
     "execution_count": 1910,
     "metadata": {},
     "output_type": "execute_result"
    }
   ],
   "source": [
    "test_prediction1"
   ]
  },
  {
   "cell_type": "code",
   "execution_count": 1911,
   "metadata": {},
   "outputs": [
    {
     "data": {
      "image/png": "[encoded data removed]",
      "text/plain": [
       "<Figure size 432x288 with 1 Axes>"
      ]
     },
     "metadata": {
      "needs_background": "light"
     },
     "output_type": "display_data"
    }
   ],
   "source": [
    "# Create a scatter plot with train and test\n",
    "\n",
    "plt.scatter(y_train1, train_prediction1, label='train')\n",
    "plt.scatter(y_test1, test_prediction1, label='test')\n",
    "plt.legend()\n",
    "plt.show()"
   ]
  },
  {
   "cell_type": "markdown",
   "metadata": {},
   "source": [
    "# Lasso Regression Model"
   ]
  },
  {
   "cell_type": "code",
   "execution_count": 1912,
   "metadata": {},
   "outputs": [
    {
     "name": "stdout",
     "output_type": "stream",
     "text": [
      "Accuracy for Test set 0.8073005568270766\n",
      "Accuracy for Training set 0.8499148125024638\n"
     ]
    }
   ],
   "source": [
    "las = linear_model.Lasso(alpha=1)\n",
    "las.fit(X_train1,y_train1)\n",
    "train_prediction1 = las.predict(X_train1)\n",
    "test_prediction1=las.predict(X_test1)\n",
    "print(\"Accuracy for Test set\",las.score(X_test1,y_test1))\n",
    "print(\"Accuracy for Training set\",las.score(X_train1,y_train1))"
   ]
  },
  {
   "cell_type": "code",
   "execution_count": 1913,
   "metadata": {},
   "outputs": [
    {
     "data": {
      "text/plain": [
       "8953.94615201187"
      ]
     },
     "execution_count": 1913,
     "metadata": {},
     "output_type": "execute_result"
    }
   ],
   "source": [
    "math.sqrt(mean_squared_error(y_test1,test_prediction1))"
   ]
  },
  {
   "cell_type": "code",
   "execution_count": 1914,
   "metadata": {},
   "outputs": [
    {
     "name": "stdout",
     "output_type": "stream",
     "text": [
      "Tree on train set MAE%: 25.0\n",
      "Tree on test set MAE%: 25.6\n"
     ]
    }
   ],
   "source": [
    "MAE_train=np.mean(abs(y_train1-train_prediction1))/np.mean(y_train1)\n",
    "print(\"Tree on train set MAE%:\", round(MAE_train*100,1))\n",
    "\n",
    "MAE_test=np.mean(abs(y_test1-test_prediction1))/np.mean(y_test1)\n",
    "print(\"Tree on test set MAE%:\", round(MAE_test*100,1))"
   ]
  },
  {
   "cell_type": "code",
   "execution_count": 1915,
   "metadata": {},
   "outputs": [
    {
     "data": {
      "text/plain": [
       "5150    13227.65\n",
       "2164     7754.14\n",
       "1136     7115.57\n",
       "5641    15344.08\n",
       "1515    24594.31\n",
       "          ...   \n",
       "817      9578.65\n",
       "3325    12315.40\n",
       "1875    18427.49\n",
       "2861    11676.83\n",
       "2315     8483.94\n",
       "Name: Price, Length: 1505, dtype: float64"
      ]
     },
     "execution_count": 1915,
     "metadata": {},
     "output_type": "execute_result"
    }
   ],
   "source": [
    "y_test1"
   ]
  },
  {
   "cell_type": "code",
   "execution_count": 1916,
   "metadata": {},
   "outputs": [
    {
     "data": {
      "text/plain": [
       "array([17951.53809821,  7590.96490914,  5901.08033619, ...,\n",
       "       21026.70894575,  9270.03355629, 13548.81295991])"
      ]
     },
     "execution_count": 1916,
     "metadata": {},
     "output_type": "execute_result"
    }
   ],
   "source": [
    "test_prediction1"
   ]
  },
  {
   "cell_type": "code",
   "execution_count": 1917,
   "metadata": {},
   "outputs": [
    {
     "data": {
      "image/png": "[encoded data removed]",
      "text/plain": [
       "<Figure size 432x288 with 1 Axes>"
      ]
     },
     "metadata": {
      "needs_background": "light"
     },
     "output_type": "display_data"
    }
   ],
   "source": [
    "# Create a scatter plot with train and test\n",
    "\n",
    "plt.scatter(y_train1, train_prediction1, label='train')\n",
    "plt.scatter(y_test1, test_prediction1, label='test')\n",
    "plt.legend()\n",
    "plt.show()"
   ]
  },
  {
   "cell_type": "markdown",
   "metadata": {},
   "source": [
    "# Artificial Neural Network (Keras)"
   ]
  },
  {
   "cell_type": "code",
   "execution_count": 1918,
   "metadata": {},
   "outputs": [],
   "source": [
    "model = Sequential()\n",
    "model.add(Dense(200,activation='relu',input_dim=231))\n",
    "model.add(Dropout(0.2))\n",
    "model.add(Dense(100,activation='relu'))\n",
    "model.add(Dropout(0.2))\n",
    "model.add(Dense(1,activation='linear'))"
   ]
  },
  {
   "cell_type": "code",
   "execution_count": 1919,
   "metadata": {
    "scrolled": false
   },
   "outputs": [
    {
     "name": "stdout",
     "output_type": "stream",
     "text": [
      "Epoch 1/250\n",
      "4514/4514 [==============================] - 2s 351us/step - loss: 560542684.5361\n",
      "Epoch 2/250\n",
      "4514/4514 [==============================] - 2s 364us/step - loss: 316769425.9123\n",
      "Epoch 3/250\n",
      "4514/4514 [==============================] - 2s 399us/step - loss: 261512643.1316\n",
      "Epoch 4/250\n",
      "4514/4514 [==============================] - 2s 408us/step - loss: 215363317.8059\n",
      "Epoch 5/250\n",
      "4514/4514 [==============================] - 2s 394us/step - loss: 186778220.8268\n",
      "Epoch 6/250\n",
      "4514/4514 [==============================] - 1s 318us/step - loss: 172817852.1232\n",
      "Epoch 7/250\n",
      "4514/4514 [==============================] - 1s 317us/step - loss: 155645328.7767\n",
      "Epoch 8/250\n",
      "4514/4514 [==============================] - 1s 314us/step - loss: 147509941.2486\n",
      "Epoch 9/250\n",
      "4514/4514 [==============================] - 1s 315us/step - loss: 133698387.0811\n",
      "Epoch 10/250\n",
      "4514/4514 [==============================] - 1s 311us/step - loss: 124658816.5498\n",
      "Epoch 11/250\n",
      "4514/4514 [==============================] - 1s 314us/step - loss: 116497886.4023\n",
      "Epoch 12/250\n",
      "4514/4514 [==============================] - 1s 311us/step - loss: 109741253.7909\n",
      "Epoch 13/250\n",
      "4514/4514 [==============================] - 1s 320us/step - loss: 101051512.9934\n",
      "Epoch 14/250\n",
      "4514/4514 [==============================] - 1s 321us/step - loss: 90087919.7062\n",
      "Epoch 15/250\n",
      "4514/4514 [==============================] - 1s 311us/step - loss: 85240753.0671\n",
      "Epoch 16/250\n",
      "4514/4514 [==============================] - 2s 337us/step - loss: 81004957.4608\n",
      "Epoch 17/250\n",
      "4514/4514 [==============================] - 1s 327us/step - loss: 73610894.3058\n",
      "Epoch 18/250\n",
      "4514/4514 [==============================] - 1s 310us/step - loss: 66703864.9284\n",
      "Epoch 19/250\n",
      "4514/4514 [==============================] - 1s 321us/step - loss: 61745463.4464\n",
      "Epoch 20/250\n",
      "4514/4514 [==============================] - 1s 323us/step - loss: 58139324.1221\n",
      "Epoch 21/250\n",
      "4514/4514 [==============================] - 1s 318us/step - loss: 59170904.1796\n",
      "Epoch 22/250\n",
      "4514/4514 [==============================] - 1s 327us/step - loss: 54810541.3219\n",
      "Epoch 23/250\n",
      "4514/4514 [==============================] - 1s 329us/step - loss: 56058423.1698\n",
      "Epoch 24/250\n",
      "4514/4514 [==============================] - 1s 321us/step - loss: 52359148.0325\n",
      "Epoch 25/250\n",
      "4514/4514 [==============================] - 1s 321us/step - loss: 48254290.0219\n",
      "Epoch 26/250\n",
      "4514/4514 [==============================] - 1s 322us/step - loss: 48354293.7946\n",
      "Epoch 27/250\n",
      "4514/4514 [==============================] - 2s 341us/step - loss: 49506901.0632\n",
      "Epoch 28/250\n",
      "4514/4514 [==============================] - 2s 341us/step - loss: 46052644.2358\n",
      "Epoch 29/250\n",
      "4514/4514 [==============================] - 1s 331us/step - loss: 45215860.6574\n",
      "Epoch 30/250\n",
      "4514/4514 [==============================] - 2s 345us/step - loss: 44946262.9579\n",
      "Epoch 31/250\n",
      "4514/4514 [==============================] - 2s 338us/step - loss: 45904146.0739\n",
      "Epoch 32/250\n",
      "4514/4514 [==============================] - 2s 340us/step - loss: 46685653.6323\n",
      "Epoch 33/250\n",
      "4514/4514 [==============================] - 2s 368us/step - loss: 41450576.4851\n",
      "Epoch 34/250\n",
      "4514/4514 [==============================] - 2s 356us/step - loss: 42776904.1757\n",
      "Epoch 35/250\n",
      "4514/4514 [==============================] - 1s 331us/step - loss: 40104643.5216\n",
      "Epoch 36/250\n",
      "4514/4514 [==============================] - 2s 345us/step - loss: 42014314.1491\n",
      "Epoch 37/250\n",
      "4514/4514 [==============================] - 1s 326us/step - loss: 42091743.6693\n",
      "Epoch 38/250\n",
      "4514/4514 [==============================] - 2s 357us/step - loss: 38981420.9214\n",
      "Epoch 39/250\n",
      "4514/4514 [==============================] - 1s 328us/step - loss: 40174402.6098\n",
      "Epoch 40/250\n",
      "4514/4514 [==============================] - 2s 334us/step - loss: 41527641.0823\n",
      "Epoch 41/250\n",
      "4514/4514 [==============================] - 1s 321us/step - loss: 37810374.0160\n",
      "Epoch 42/250\n",
      "4514/4514 [==============================] - 1s 324us/step - loss: 39965500.4742\n",
      "Epoch 43/250\n",
      "4514/4514 [==============================] - 1s 326us/step - loss: 36532546.6561\n",
      "Epoch 44/250\n",
      "4514/4514 [==============================] - 1s 317us/step - loss: 40081665.9608\n",
      "Epoch 45/250\n",
      "4514/4514 [==============================] - 1s 327us/step - loss: 40943450.0068\n",
      "Epoch 46/250\n",
      "4514/4514 [==============================] - 1s 322us/step - loss: 39273874.6811\n",
      "Epoch 47/250\n",
      "4514/4514 [==============================] - 1s 315us/step - loss: 37184416.6879\n",
      "Epoch 48/250\n",
      "4514/4514 [==============================] - 2s 346us/step - loss: 39728629.5898\n",
      "Epoch 49/250\n",
      "4514/4514 [==============================] - 2s 344us/step - loss: 36876033.5474\n",
      "Epoch 50/250\n",
      "4514/4514 [==============================] - 1s 316us/step - loss: 35454370.1243\n",
      "Epoch 51/250\n",
      "4514/4514 [==============================] - 1s 322us/step - loss: 38707026.1719\n",
      "Epoch 52/250\n",
      "4514/4514 [==============================] - 1s 325us/step - loss: 36950662.5362\n",
      "Epoch 53/250\n",
      "4514/4514 [==============================] - 1s 326us/step - loss: 37547863.9881\n",
      "Epoch 54/250\n",
      "4514/4514 [==============================] - 1s 322us/step - loss: 35790642.5629\n",
      "Epoch 55/250\n",
      "4514/4514 [==============================] - 1s 326us/step - loss: 38167232.7634\n",
      "Epoch 56/250\n",
      "4514/4514 [==============================] - 1s 328us/step - loss: 38432120.3523\n",
      "Epoch 57/250\n",
      "4514/4514 [==============================] - 2s 382us/step - loss: 38370642.8497\n",
      "Epoch 58/250\n",
      "4514/4514 [==============================] - 2s 339us/step - loss: 37041122.6207\n",
      "Epoch 59/250\n",
      "4514/4514 [==============================] - 2s 363us/step - loss: 35563221.1803\n",
      "Epoch 60/250\n",
      "4514/4514 [==============================] - 1s 326us/step - loss: 36527448.9284\n",
      "Epoch 61/250\n",
      "4514/4514 [==============================] - 1s 324us/step - loss: 38168460.9663\n",
      "Epoch 62/250\n",
      "4514/4514 [==============================] - 1s 326us/step - loss: 34982710.9102\n",
      "Epoch 63/250\n",
      "4514/4514 [==============================] - 2s 348us/step - loss: 37690140.4341\n",
      "Epoch 64/250\n",
      "4514/4514 [==============================] - 1s 332us/step - loss: 37394903.3694\n",
      "Epoch 65/250\n",
      "4514/4514 [==============================] - 2s 353us/step - loss: 37146904.8614\n",
      "Epoch 66/250\n",
      "4514/4514 [==============================] - 2s 490us/step - loss: 35142337.3309\n",
      "Epoch 67/250\n",
      "4514/4514 [==============================] - 2s 509us/step - loss: 37670827.9761\n",
      "Epoch 68/250\n",
      "4514/4514 [==============================] - 2s 490us/step - loss: 34989691.4985\n",
      "Epoch 69/250\n",
      "4514/4514 [==============================] - 2s 487us/step - loss: 35356752.1069\n",
      "Epoch 70/250\n",
      "4514/4514 [==============================] - 2s 464us/step - loss: 34526070.2508\n",
      "Epoch 71/250\n",
      "4514/4514 [==============================] - 2s 440us/step - loss: 33756791.1071\n",
      "Epoch 72/250\n",
      "4514/4514 [==============================] - 2s 492us/step - loss: 35784779.0251\n",
      "Epoch 73/250\n",
      "4514/4514 [==============================] - 2s 404us/step - loss: 36155184.0732\n",
      "Epoch 74/250\n",
      "4514/4514 [==============================] - 2s 441us/step - loss: 34712181.0553\n",
      "Epoch 75/250\n",
      "4514/4514 [==============================] - 2s 450us/step - loss: 36060510.7041\n",
      "Epoch 76/250\n",
      "4514/4514 [==============================] - 2s 454us/step - loss: 35215810.5840\n",
      "Epoch 77/250\n",
      "4514/4514 [==============================] - 2s 494us/step - loss: 32537118.2772\n",
      "Epoch 78/250\n",
      "4514/4514 [==============================] - 2s 353us/step - loss: 35973093.0379\n",
      "Epoch 79/250\n",
      "4514/4514 [==============================] - 2s 350us/step - loss: 34819859.5582\n",
      "Epoch 80/250\n",
      "4514/4514 [==============================] - 2s 437us/step - loss: 35767353.0301\n",
      "Epoch 81/250\n",
      "4514/4514 [==============================] - 2s 394us/step - loss: 33264442.6582\n",
      "Epoch 82/250\n",
      "4514/4514 [==============================] - 2s 473us/step - loss: 35078569.6423\n",
      "Epoch 83/250\n",
      "4514/4514 [==============================] - 2s 400us/step - loss: 35273641.3522\n",
      "Epoch 84/250\n",
      "4514/4514 [==============================] - 2s 376us/step - loss: 36644684.8315\n",
      "Epoch 85/250\n",
      "4514/4514 [==============================] - 2s 506us/step - loss: 33474288.2516\n",
      "Epoch 86/250\n",
      "4514/4514 [==============================] - 2s 485us/step - loss: 32607276.4589\n",
      "Epoch 87/250\n",
      "4514/4514 [==============================] - 2s 500us/step - loss: 36495655.7986\n",
      "Epoch 88/250\n"
     ]
    },
    {
     "name": "stdout",
     "output_type": "stream",
     "text": [
      "4514/4514 [==============================] - 2s 507us/step - loss: 34176182.4740\n",
      "Epoch 89/250\n",
      "4514/4514 [==============================] - 2s 403us/step - loss: 33572316.6145\n",
      "Epoch 90/250\n",
      "4514/4514 [==============================] - 2s 352us/step - loss: 32413676.0606\n",
      "Epoch 91/250\n",
      "4514/4514 [==============================] - 2s 459us/step - loss: 34294307.8805\n",
      "Epoch 92/250\n",
      "4514/4514 [==============================] - 2s 513us/step - loss: 34019994.3941\n",
      "Epoch 93/250\n",
      "4514/4514 [==============================] - 2s 471us/step - loss: 33763386.3293\n",
      "Epoch 94/250\n",
      "4514/4514 [==============================] - 2s 413us/step - loss: 33434918.1822\n",
      "Epoch 95/250\n",
      "4514/4514 [==============================] - 2s 426us/step - loss: 33305993.4216\n",
      "Epoch 96/250\n",
      "4514/4514 [==============================] - 2s 351us/step - loss: 33031442.8121\n",
      "Epoch 97/250\n",
      "4514/4514 [==============================] - 2s 345us/step - loss: 34321665.8089\n",
      "Epoch 98/250\n",
      "4514/4514 [==============================] - 2s 354us/step - loss: 34535086.2035\n",
      "Epoch 99/250\n",
      "4514/4514 [==============================] - 2s 369us/step - loss: 33287163.6080\n",
      "Epoch 100/250\n",
      "4514/4514 [==============================] - 2s 356us/step - loss: 33786820.3365\n",
      "Epoch 101/250\n",
      "4514/4514 [==============================] - 2s 434us/step - loss: 34439734.3766\n",
      "Epoch 102/250\n",
      "4514/4514 [==============================] - 2s 390us/step - loss: 32897539.2986\n",
      "Epoch 103/250\n",
      "4514/4514 [==============================] - 2s 363us/step - loss: 32574402.9329\n",
      "Epoch 104/250\n",
      "4514/4514 [==============================] - 2s 403us/step - loss: 35703568.4187\n",
      "Epoch 105/250\n",
      "4514/4514 [==============================] - 2s 394us/step - loss: 34648937.9550\n",
      "Epoch 106/250\n",
      "4514/4514 [==============================] - 2s 390us/step - loss: 32161595.8950\n",
      "Epoch 107/250\n",
      "4514/4514 [==============================] - 2s 398us/step - loss: 34002886.5487\n",
      "Epoch 108/250\n",
      "4514/4514 [==============================] - 2s 415us/step - loss: 34565854.4581\n",
      "Epoch 109/250\n",
      "4514/4514 [==============================] - 2s 391us/step - loss: 32006012.4999\n",
      "Epoch 110/250\n",
      "4514/4514 [==============================] - 2s 396us/step - loss: 33913087.6292\n",
      "Epoch 111/250\n",
      "4514/4514 [==============================] - 2s 363us/step - loss: 36650099.3118\n",
      "Epoch 112/250\n",
      "4514/4514 [==============================] - 2s 344us/step - loss: 32813266.0809\n",
      "Epoch 113/250\n",
      "4514/4514 [==============================] - 2s 339us/step - loss: 34927583.8219\n",
      "Epoch 114/250\n",
      "4514/4514 [==============================] - 2s 342us/step - loss: 32980660.0745\n",
      "Epoch 115/250\n",
      "4514/4514 [==============================] - 2s 334us/step - loss: 33913808.2651\n",
      "Epoch 116/250\n",
      "4514/4514 [==============================] - 2s 340us/step - loss: 32936456.0631\n",
      "Epoch 117/250\n",
      "4514/4514 [==============================] - 2s 335us/step - loss: 32404037.1206\n",
      "Epoch 118/250\n",
      "4514/4514 [==============================] - 1s 332us/step - loss: 31514470.2707\n",
      "Epoch 119/250\n",
      "4514/4514 [==============================] - 2s 345us/step - loss: 31404285.1808\n",
      "Epoch 120/250\n",
      "4514/4514 [==============================] - 2s 347us/step - loss: 33152036.3111\n",
      "Epoch 121/250\n",
      "4514/4514 [==============================] - 2s 369us/step - loss: 34276434.8669\n",
      "Epoch 122/250\n",
      "4514/4514 [==============================] - 2s 338us/step - loss: 33347627.0752\n",
      "Epoch 123/250\n",
      "4514/4514 [==============================] - 2s 340us/step - loss: 33293055.1556\n",
      "Epoch 124/250\n",
      "4514/4514 [==============================] - 2s 336us/step - loss: 32812361.5677\n",
      "Epoch 125/250\n",
      "4514/4514 [==============================] - 2s 337us/step - loss: 34025490.6198\n",
      "Epoch 126/250\n",
      "4514/4514 [==============================] - 2s 339us/step - loss: 32839923.1912\n",
      "Epoch 127/250\n",
      "4514/4514 [==============================] - 2s 339us/step - loss: 33461409.6503\n",
      "Epoch 128/250\n",
      "4514/4514 [==============================] - 2s 338us/step - loss: 31584365.5805\n",
      "Epoch 129/250\n",
      "4514/4514 [==============================] - 2s 359us/step - loss: 33099613.4672\n",
      "Epoch 130/250\n",
      "4514/4514 [==============================] - 2s 349us/step - loss: 31806320.0431\n",
      "Epoch 131/250\n",
      "4514/4514 [==============================] - 2s 372us/step - loss: 32866178.5412\n",
      "Epoch 132/250\n",
      "4514/4514 [==============================] - 2s 341us/step - loss: 33528544.0238\n",
      "Epoch 133/250\n",
      "4514/4514 [==============================] - 1s 330us/step - loss: 30466414.5596\n",
      "Epoch 134/250\n",
      "4514/4514 [==============================] - 2s 341us/step - loss: 32818256.4568\n",
      "Epoch 135/250\n",
      "4514/4514 [==============================] - 1s 329us/step - loss: 32442366.1374\n",
      "Epoch 136/250\n",
      "4514/4514 [==============================] - 2s 336us/step - loss: 32628907.7250\n",
      "Epoch 137/250\n",
      "4514/4514 [==============================] - 2s 343us/step - loss: 34589283.9669\n",
      "Epoch 138/250\n",
      "4514/4514 [==============================] - 2s 383us/step - loss: 32032172.2894\n",
      "Epoch 139/250\n",
      "4514/4514 [==============================] - 2s 405us/step - loss: 32456954.9866\n",
      "Epoch 140/250\n",
      "4514/4514 [==============================] - 2s 337us/step - loss: 32498917.5523\n",
      "Epoch 141/250\n",
      "4514/4514 [==============================] - 2s 368us/step - loss: 34399696.5247\n",
      "Epoch 142/250\n",
      "4514/4514 [==============================] - 2s 372us/step - loss: 33192735.4075\n",
      "Epoch 143/250\n",
      "4514/4514 [==============================] - 2s 382us/step - loss: 32501239.2514\n",
      "Epoch 144/250\n",
      "4514/4514 [==============================] - 2s 451us/step - loss: 33919906.7743\n",
      "Epoch 145/250\n",
      "4514/4514 [==============================] - 2s 378us/step - loss: 32125027.4427\n",
      "Epoch 146/250\n",
      "4514/4514 [==============================] - 2s 366us/step - loss: 30348329.4144\n",
      "Epoch 147/250\n",
      "4514/4514 [==============================] - 2s 400us/step - loss: 29615414.8267\n",
      "Epoch 148/250\n",
      "4514/4514 [==============================] - 2s 352us/step - loss: 31274951.5975\n",
      "Epoch 149/250\n",
      "4514/4514 [==============================] - 2s 347us/step - loss: 33885587.6536\n",
      "Epoch 150/250\n",
      "4514/4514 [==============================] - 2s 406us/step - loss: 33060250.6421\n",
      "Epoch 151/250\n",
      "4514/4514 [==============================] - 2s 377us/step - loss: 32500761.8365\n",
      "Epoch 152/250\n",
      "4514/4514 [==============================] - 2s 380us/step - loss: 31161043.2252\n",
      "Epoch 153/250\n",
      "4514/4514 [==============================] - 2s 382us/step - loss: 31634640.1959\n",
      "Epoch 154/250\n",
      "4514/4514 [==============================] - 2s 366us/step - loss: 32141880.4525\n",
      "Epoch 155/250\n",
      "4514/4514 [==============================] - 2s 359us/step - loss: 32025477.3718\n",
      "Epoch 156/250\n",
      "4514/4514 [==============================] - 2s 338us/step - loss: 33437548.6788\n",
      "Epoch 157/250\n",
      "4514/4514 [==============================] - 2s 364us/step - loss: 33410188.8883\n",
      "Epoch 158/250\n",
      "4514/4514 [==============================] - 2s 381us/step - loss: 30674111.3065\n",
      "Epoch 159/250\n",
      "4514/4514 [==============================] - 2s 385us/step - loss: 32519294.0959\n",
      "Epoch 160/250\n",
      "4514/4514 [==============================] - 2s 411us/step - loss: 34462708.2081\n",
      "Epoch 161/250\n",
      "4514/4514 [==============================] - 2s 340us/step - loss: 32499571.3577\n",
      "Epoch 162/250\n",
      "4514/4514 [==============================] - 2s 340us/step - loss: 32286114.8469\n",
      "Epoch 163/250\n",
      "4514/4514 [==============================] - 2s 380us/step - loss: 34404884.9767\n",
      "Epoch 164/250\n",
      "4514/4514 [==============================] - 2s 372us/step - loss: 30690735.7555\n",
      "Epoch 165/250\n",
      "4514/4514 [==============================] - 2s 389us/step - loss: 32868039.4236\n",
      "Epoch 166/250\n",
      "4514/4514 [==============================] - 1s 329us/step - loss: 31739853.3192\n",
      "Epoch 167/250\n",
      "4514/4514 [==============================] - 1s 327us/step - loss: 33459362.3987\n",
      "Epoch 168/250\n",
      "4514/4514 [==============================] - 1s 330us/step - loss: 33308802.0570\n",
      "Epoch 169/250\n",
      "4514/4514 [==============================] - 2s 339us/step - loss: 32783511.5971\n",
      "Epoch 170/250\n",
      "4514/4514 [==============================] - 2s 373us/step - loss: 31422151.2366\n",
      "Epoch 171/250\n",
      "4514/4514 [==============================] - 2s 391us/step - loss: 31245684.6103\n",
      "Epoch 172/250\n",
      "4514/4514 [==============================] - 2s 401us/step - loss: 31280998.4066\n",
      "Epoch 173/250\n",
      "4514/4514 [==============================] - 2s 353us/step - loss: 32462102.6748\n",
      "Epoch 174/250\n"
     ]
    },
    {
     "name": "stdout",
     "output_type": "stream",
     "text": [
      "4514/4514 [==============================] - 2s 338us/step - loss: 32075158.7119\n",
      "Epoch 175/250\n",
      "4514/4514 [==============================] - 2s 368us/step - loss: 29820524.2236\n",
      "Epoch 176/250\n",
      "4514/4514 [==============================] - 1s 329us/step - loss: 31019851.4032\n",
      "Epoch 177/250\n",
      "4514/4514 [==============================] - 2s 379us/step - loss: 33060179.1687\n",
      "Epoch 178/250\n",
      "4514/4514 [==============================] - 2s 346us/step - loss: 34044631.1203\n",
      "Epoch 179/250\n",
      "4514/4514 [==============================] - 2s 383us/step - loss: 33389056.8880\n",
      "Epoch 180/250\n",
      "4514/4514 [==============================] - 2s 391us/step - loss: 31331277.9629\n",
      "Epoch 181/250\n",
      "4514/4514 [==============================] - 2s 391us/step - loss: 32632439.8898\n",
      "Epoch 182/250\n",
      "4514/4514 [==============================] - 2s 354us/step - loss: 31369867.1271\n",
      "Epoch 183/250\n",
      "4514/4514 [==============================] - 1s 327us/step - loss: 32132338.0715\n",
      "Epoch 184/250\n",
      "4514/4514 [==============================] - 2s 365us/step - loss: 31668874.0470\n",
      "Epoch 185/250\n",
      "4514/4514 [==============================] - 2s 349us/step - loss: 31020823.4544\n",
      "Epoch 186/250\n",
      "4514/4514 [==============================] - 2s 333us/step - loss: 32677269.1496\n",
      "Epoch 187/250\n",
      "4514/4514 [==============================] - 2s 344us/step - loss: 33246383.2049\n",
      "Epoch 188/250\n",
      "4514/4514 [==============================] - 1s 319us/step - loss: 33791116.1458\n",
      "Epoch 189/250\n",
      "4514/4514 [==============================] - 2s 377us/step - loss: 32565398.6118\n",
      "Epoch 190/250\n",
      "4514/4514 [==============================] - 2s 337us/step - loss: 30324873.3175\n",
      "Epoch 191/250\n",
      "4514/4514 [==============================] - 1s 329us/step - loss: 34053546.2430\n",
      "Epoch 192/250\n",
      "4514/4514 [==============================] - 2s 350us/step - loss: 32589501.1209\n",
      "Epoch 193/250\n",
      "4514/4514 [==============================] - 2s 375us/step - loss: 32033900.0541\n",
      "Epoch 194/250\n",
      "4514/4514 [==============================] - 2s 339us/step - loss: 32269482.9700\n",
      "Epoch 195/250\n",
      "4514/4514 [==============================] - 2s 370us/step - loss: 30794951.3719\n",
      "Epoch 196/250\n",
      "4514/4514 [==============================] - 1s 332us/step - loss: 30669501.6277\n",
      "Epoch 197/250\n",
      "4514/4514 [==============================] - 2s 345us/step - loss: 31775700.8005\n",
      "Epoch 198/250\n",
      "4514/4514 [==============================] - 2s 341us/step - loss: 29810726.1260\n",
      "Epoch 199/250\n",
      "4514/4514 [==============================] - 2s 342us/step - loss: 31687771.5803\n",
      "Epoch 200/250\n",
      "4514/4514 [==============================] - 2s 360us/step - loss: 34350169.9412\n",
      "Epoch 201/250\n",
      "4514/4514 [==============================] - 1s 330us/step - loss: 30617458.0639\n",
      "Epoch 202/250\n",
      "4514/4514 [==============================] - 1s 311us/step - loss: 31260273.6894\n",
      "Epoch 203/250\n",
      "4514/4514 [==============================] - 2s 359us/step - loss: 33392337.8026\n",
      "Epoch 204/250\n",
      "4514/4514 [==============================] - 2s 407us/step - loss: 30382503.7057\n",
      "Epoch 205/250\n",
      "4514/4514 [==============================] - 2s 339us/step - loss: 33833216.9488\n",
      "Epoch 206/250\n",
      "4514/4514 [==============================] - 2s 345us/step - loss: 31501019.7367\n",
      "Epoch 207/250\n",
      "4514/4514 [==============================] - 2s 361us/step - loss: 30112327.7583\n",
      "Epoch 208/250\n",
      "4514/4514 [==============================] - 2s 421us/step - loss: 31496459.7259\n",
      "Epoch 209/250\n",
      "4514/4514 [==============================] - 2s 414us/step - loss: 31285041.2422\n",
      "Epoch 210/250\n",
      "4514/4514 [==============================] - 2s 361us/step - loss: 32803200.9903\n",
      "Epoch 211/250\n",
      "4514/4514 [==============================] - 2s 333us/step - loss: 30897969.4186\n",
      "Epoch 212/250\n",
      "4514/4514 [==============================] - 1s 329us/step - loss: 30703874.8055\n",
      "Epoch 213/250\n",
      "4514/4514 [==============================] - 1s 327us/step - loss: 31150842.3874\n",
      "Epoch 214/250\n",
      "4514/4514 [==============================] - 2s 335us/step - loss: 31093817.8306\n",
      "Epoch 215/250\n",
      "4514/4514 [==============================] - 2s 338us/step - loss: 32018715.7556\n",
      "Epoch 216/250\n",
      "4514/4514 [==============================] - 1s 328us/step - loss: 31288283.9054\n",
      "Epoch 217/250\n",
      "4514/4514 [==============================] - 1s 327us/step - loss: 32636555.6424\n",
      "Epoch 218/250\n",
      "4514/4514 [==============================] - 2s 335us/step - loss: 31349393.6570\n",
      "Epoch 219/250\n",
      "4514/4514 [==============================] - 2s 334us/step - loss: 31638255.4712\n",
      "Epoch 220/250\n",
      "4514/4514 [==============================] - 2s 371us/step - loss: 31058143.0683\n",
      "Epoch 221/250\n",
      "4514/4514 [==============================] - 2s 338us/step - loss: 30995445.0189\n",
      "Epoch 222/250\n",
      "4514/4514 [==============================] - 2s 336us/step - loss: 29894686.0982\n",
      "Epoch 223/250\n",
      "4514/4514 [==============================] - 1s 330us/step - loss: 28737273.9996\n",
      "Epoch 224/250\n",
      "4514/4514 [==============================] - 2s 335us/step - loss: 31877912.9625\n",
      "Epoch 225/250\n",
      "4514/4514 [==============================] - 2s 333us/step - loss: 29971200.8477\n",
      "Epoch 226/250\n",
      "4514/4514 [==============================] - 2s 336us/step - loss: 31249416.6738\n",
      "Epoch 227/250\n",
      "4514/4514 [==============================] - 2s 359us/step - loss: 32105502.1967\n",
      "Epoch 228/250\n",
      "4514/4514 [==============================] - 2s 355us/step - loss: 31219691.9467\n",
      "Epoch 229/250\n",
      "4514/4514 [==============================] - 2s 349us/step - loss: 31359684.7615\n",
      "Epoch 230/250\n",
      "4514/4514 [==============================] - 2s 379us/step - loss: 31044266.8459\n",
      "Epoch 231/250\n",
      "4514/4514 [==============================] - 1s 326us/step - loss: 31824526.0321\n",
      "Epoch 232/250\n",
      "4514/4514 [==============================] - 2s 334us/step - loss: 30230084.2155\n",
      "Epoch 233/250\n",
      "4514/4514 [==============================] - 2s 345us/step - loss: 29982823.7808\n",
      "Epoch 234/250\n",
      "4514/4514 [==============================] - 1s 332us/step - loss: 32088954.9335\n",
      "Epoch 235/250\n",
      "4514/4514 [==============================] - 2s 343us/step - loss: 31058786.7008\n",
      "Epoch 236/250\n",
      "4514/4514 [==============================] - 2s 355us/step - loss: 30710050.4561\n",
      "Epoch 237/250\n",
      "4514/4514 [==============================] - 2s 335us/step - loss: 33308031.6369\n",
      "Epoch 238/250\n",
      "4514/4514 [==============================] - 1s 328us/step - loss: 29896443.7174\n",
      "Epoch 239/250\n",
      "4514/4514 [==============================] - 2s 336us/step - loss: 31561877.3237\n",
      "Epoch 240/250\n",
      "4514/4514 [==============================] - 2s 346us/step - loss: 30529985.4269\n",
      "Epoch 241/250\n",
      "4514/4514 [==============================] - 2s 353us/step - loss: 31570865.2342\n",
      "Epoch 242/250\n",
      "4514/4514 [==============================] - 1s 329us/step - loss: 30409499.8068\n",
      "Epoch 243/250\n",
      "4514/4514 [==============================] - 1s 327us/step - loss: 31374144.9881\n",
      "Epoch 244/250\n",
      "4514/4514 [==============================] - 2s 341us/step - loss: 28659838.7838\n",
      "Epoch 245/250\n",
      "4514/4514 [==============================] - 2s 334us/step - loss: 29119463.3238\n",
      "Epoch 246/250\n",
      "4514/4514 [==============================] - 2s 335us/step - loss: 29534342.0036\n",
      "Epoch 247/250\n",
      "4514/4514 [==============================] - 2s 338us/step - loss: 30544635.5548\n",
      "Epoch 248/250\n",
      "4514/4514 [==============================] - 2s 334us/step - loss: 29925632.3653\n",
      "Epoch 249/250\n",
      "4514/4514 [==============================] - 2s 340us/step - loss: 31213171.0634\n",
      "Epoch 250/250\n",
      "4514/4514 [==============================] - 2s 339us/step - loss: 30232297.9730\n"
     ]
    },
    {
     "data": {
      "text/plain": [
       "<keras.callbacks.callbacks.History at 0x10634214d08>"
      ]
     },
     "execution_count": 1919,
     "metadata": {},
     "output_type": "execute_result"
    }
   ],
   "source": [
    "\n",
    "model.compile(optimizer ='adam', loss='mse')\n",
    "model.fit(X_train1, y_train1, epochs=250,batch_size=8,shuffle=False)"
   ]
  },
  {
   "cell_type": "code",
   "execution_count": 1920,
   "metadata": {},
   "outputs": [],
   "source": [
    "test_pred1 = model.predict(X_test1)\n",
    "train_pred1= model.predict(X_train1)"
   ]
  },
  {
   "cell_type": "code",
   "execution_count": 1921,
   "metadata": {},
   "outputs": [
    {
     "data": {
      "text/plain": [
       "array([[0.0095124 , 0.45020871, 0.32148026, ..., 0.        , 0.        ,\n",
       "        0.        ],\n",
       "       [0.01328389, 0.5307096 , 0.12900558, ..., 0.        , 0.        ,\n",
       "        0.        ],\n",
       "       [0.01031243, 0.4484198 , 0.20136448, ..., 0.        , 0.        ,\n",
       "        0.        ],\n",
       "       ...,\n",
       "       [0.01573072, 0.38729875, 0.38660327, ..., 0.        , 0.        ,\n",
       "        0.        ],\n",
       "       [0.00944748, 0.56350626, 0.11846186, ..., 0.        , 0.        ,\n",
       "        0.        ],\n",
       "       [0.00197374, 0.60822898, 0.11846186, ..., 0.        , 0.        ,\n",
       "        0.        ]])"
      ]
     },
     "execution_count": 1921,
     "metadata": {},
     "output_type": "execute_result"
    }
   ],
   "source": [
    "X_test1"
   ]
  },
  {
   "cell_type": "code",
   "execution_count": 1922,
   "metadata": {},
   "outputs": [
    {
     "data": {
      "text/plain": [
       "array([[16212.683 ],\n",
       "       [ 6540.917 ],\n",
       "       [ 7003.3726],\n",
       "       ...,\n",
       "       [20755.568 ],\n",
       "       [ 8973.007 ],\n",
       "       [10453.547 ]], dtype=float32)"
      ]
     },
     "execution_count": 1922,
     "metadata": {},
     "output_type": "execute_result"
    }
   ],
   "source": [
    "test_pred1"
   ]
  },
  {
   "cell_type": "code",
   "execution_count": 1923,
   "metadata": {},
   "outputs": [],
   "source": [
    "yu =test_pred1.flatten()\n",
    "yu\n",
    "train_u = train_pred1.flatten()"
   ]
  },
  {
   "cell_type": "code",
   "execution_count": 1924,
   "metadata": {},
   "outputs": [
    {
     "name": "stdout",
     "output_type": "stream",
     "text": [
      "Accuracy for Test set 0.8885824365296517\n",
      "Accuracy for Training set 0.9399649950312069\n"
     ]
    }
   ],
   "source": [
    "print(\"Accuracy for Test set\",r2_score(y_test1,yu))\n",
    "print(\"Accuracy for Training set\",r2_score(y_train1,train_u))"
   ]
  },
  {
   "cell_type": "code",
   "execution_count": 1925,
   "metadata": {},
   "outputs": [
    {
     "name": "stdout",
     "output_type": "stream",
     "text": [
      "Tree on train set MAE%: 12.5\n",
      "Tree on test set MAE%: 15.2\n"
     ]
    }
   ],
   "source": [
    "MAE_train=np.mean(abs(y_train1-train_u))/np.mean(y_train1)\n",
    "print(\"Tree on train set MAE%:\", round(MAE_train*100,1))\n",
    "MAE_test=np.mean(abs(y_test1-yu))/np.mean(y_test1)\n",
    "print(\"Tree on test set MAE%:\", round(MAE_test*100,1))"
   ]
  }
 ],
 "metadata": {
  "kernelspec": {
   "display_name": "Python 3",
   "language": "python",
   "name": "python3"
  },
  "language_info": {
   "codemirror_mode": {
    "name": "ipython",
    "version": 3
   },
   "file_extension": ".py",
   "mimetype": "text/x-python",
   "name": "python",
   "nbconvert_exporter": "python",
   "pygments_lexer": "ipython3",
   "version": "3.7.4"
  }
 },
 "nbformat": 4,
 "nbformat_minor": 2
}
